{
 "cells": [
  {
   "cell_type": "markdown",
   "metadata": {},
   "source": [
    "# Auto Insurance claim prediction"
   ]
  },
  {
   "cell_type": "markdown",
   "metadata": {},
   "source": [
    "## Data preprocessing\n",
    "\n",
    "The large size of the original datasets will fail to upload to GitHub later.  Therefore, data preprocessing has been performed in a separated notebook, and the cleaned DataFrame is saved as 'df.csv' ready for use.\n",
    "\n",
    "### 3 original datasets:\n",
    "- Traffic Crashes - Crashes\n",
    "- Traffic Crashes - Vehicles\n",
    "- Traffic Crashes - People\n",
    "\n",
    "### Preview and inspect all 3 datasets:\n",
    "- Inspecting the datasets.\n",
    "- Based on project assumptions, adjust the DataFrames:\n",
    "    - From df_crash, select ‘INJURIES_TOTAL’ = ‘0’\n",
    "    - From df_people, select ‘PERSON_TYPE’ = ‘DRIVER’\n",
    "    - From df_vehicle, select ‘UNIT_TYPE’ = ‘DRIVER’\n",
    "    - From df_vehicle, select ‘VEHICLE_USE’ = ‘PERSONAL’\n",
    "\n",
    "- Explore each column and decide what to keep.\n",
    "- Merge all 3 DataFrames on column 'CRASH_RECORD_ID' and drop all null.\n",
    "- Convert column 'AGE' and 'VEHICLE_YEAR' Dtype from float64 to int for for smaller data size.\n",
    "- Save the cleaned DataFrame as 'df.csv'>\n"
   ]
  },
  {
   "cell_type": "markdown",
   "metadata": {},
   "source": [
    "## Import libraries and load the cleaned DataFarame"
   ]
  },
  {
   "cell_type": "code",
   "execution_count": 1,
   "metadata": {
    "ExecuteTime": {
     "end_time": "2023-01-01T07:31:16.804432Z",
     "start_time": "2023-01-01T07:31:13.709158Z"
    }
   },
   "outputs": [],
   "source": [
    "# import libraries\n",
    "\n",
    "import pandas as pd\n",
    "import numpy as np\n",
    "from matplotlib import pyplot as plt\n",
    "import seaborn as sns\n",
    "\n",
    "from sklearn.model_selection import train_test_split, GridSearchCV, cross_val_score\n",
    "from sklearn.pipeline import Pipeline\n",
    "from sklearn.preprocessing import StandardScaler, OneHotEncoder, FunctionTransformer\n",
    "from sklearn.impute import SimpleImputer\n",
    "from sklearn.compose import ColumnTransformer,  make_column_selector as selector\n",
    "from sklearn.linear_model import LogisticRegression\n",
    "from sklearn.ensemble import RandomForestClassifier, GradientBoostingClassifier\n",
    "from sklearn.metrics import plot_confusion_matrix, recall_score,\\\n",
    "    accuracy_score, precision_score, f1_score\n",
    "\n",
    "from imblearn.over_sampling import SMOTE\n",
    "from imblearn.pipeline import Pipeline as ImPipeline\n",
    "\n",
    "from sklearn.dummy import DummyClassifier\n",
    "from sklearn.tree import DecisionTreeClassifier"
   ]
  },
  {
   "cell_type": "markdown",
   "metadata": {},
   "source": [
    "## Inspect and adjust DataFrame"
   ]
  },
  {
   "cell_type": "code",
   "execution_count": 11,
   "metadata": {
    "ExecuteTime": {
     "end_time": "2023-01-01T07:34:30.211365Z",
     "start_time": "2023-01-01T07:34:29.728499Z"
    }
   },
   "outputs": [
    {
     "data": {
      "text/html": [
       "<div>\n",
       "<style scoped>\n",
       "    .dataframe tbody tr th:only-of-type {\n",
       "        vertical-align: middle;\n",
       "    }\n",
       "\n",
       "    .dataframe tbody tr th {\n",
       "        vertical-align: top;\n",
       "    }\n",
       "\n",
       "    .dataframe thead th {\n",
       "        text-align: right;\n",
       "    }\n",
       "</style>\n",
       "<table border=\"1\" class=\"dataframe\">\n",
       "  <thead>\n",
       "    <tr style=\"text-align: right;\">\n",
       "      <th></th>\n",
       "      <th>Unnamed: 0</th>\n",
       "      <th>CRASH_DATE</th>\n",
       "      <th>DAMAGE</th>\n",
       "      <th>ZIPCODE</th>\n",
       "      <th>SEX</th>\n",
       "      <th>AGE</th>\n",
       "      <th>MAKE</th>\n",
       "      <th>MODEL</th>\n",
       "      <th>VEHICLE_YEAR</th>\n",
       "    </tr>\n",
       "  </thead>\n",
       "  <tbody>\n",
       "    <tr>\n",
       "      <th>0</th>\n",
       "      <td>0</td>\n",
       "      <td>09/05/2018 08:40:00 AM</td>\n",
       "      <td>OVER $1,500</td>\n",
       "      <td>60634</td>\n",
       "      <td>F</td>\n",
       "      <td>39</td>\n",
       "      <td>TOYOTA MOTOR COMPANY, LTD.</td>\n",
       "      <td>4RUNNER</td>\n",
       "      <td>2002</td>\n",
       "    </tr>\n",
       "    <tr>\n",
       "      <th>1</th>\n",
       "      <td>1</td>\n",
       "      <td>09/05/2018 08:40:00 AM</td>\n",
       "      <td>OVER $1,500</td>\n",
       "      <td>60634</td>\n",
       "      <td>F</td>\n",
       "      <td>39</td>\n",
       "      <td>TOYOTA MOTOR COMPANY, LTD.</td>\n",
       "      <td>CAMRY</td>\n",
       "      <td>2014</td>\n",
       "    </tr>\n",
       "    <tr>\n",
       "      <th>2</th>\n",
       "      <td>2</td>\n",
       "      <td>09/05/2018 08:40:00 AM</td>\n",
       "      <td>OVER $1,500</td>\n",
       "      <td>60625</td>\n",
       "      <td>M</td>\n",
       "      <td>32</td>\n",
       "      <td>TOYOTA MOTOR COMPANY, LTD.</td>\n",
       "      <td>4RUNNER</td>\n",
       "      <td>2002</td>\n",
       "    </tr>\n",
       "    <tr>\n",
       "      <th>3</th>\n",
       "      <td>3</td>\n",
       "      <td>09/05/2018 08:40:00 AM</td>\n",
       "      <td>OVER $1,500</td>\n",
       "      <td>60625</td>\n",
       "      <td>M</td>\n",
       "      <td>32</td>\n",
       "      <td>TOYOTA MOTOR COMPANY, LTD.</td>\n",
       "      <td>CAMRY</td>\n",
       "      <td>2014</td>\n",
       "    </tr>\n",
       "    <tr>\n",
       "      <th>4</th>\n",
       "      <td>4</td>\n",
       "      <td>08/29/2022 11:30:00 AM</td>\n",
       "      <td>$501 - $1,500</td>\n",
       "      <td>60620</td>\n",
       "      <td>F</td>\n",
       "      <td>40</td>\n",
       "      <td>NISSAN</td>\n",
       "      <td>ALTIMA</td>\n",
       "      <td>2017</td>\n",
       "    </tr>\n",
       "  </tbody>\n",
       "</table>\n",
       "</div>"
      ],
      "text/plain": [
       "   Unnamed: 0              CRASH_DATE         DAMAGE  ZIPCODE SEX  AGE  \\\n",
       "0           0  09/05/2018 08:40:00 AM    OVER $1,500    60634   F   39   \n",
       "1           1  09/05/2018 08:40:00 AM    OVER $1,500    60634   F   39   \n",
       "2           2  09/05/2018 08:40:00 AM    OVER $1,500    60625   M   32   \n",
       "3           3  09/05/2018 08:40:00 AM    OVER $1,500    60625   M   32   \n",
       "4           4  08/29/2022 11:30:00 AM  $501 - $1,500    60620   F   40   \n",
       "\n",
       "                         MAKE    MODEL  VEHICLE_YEAR  \n",
       "0  TOYOTA MOTOR COMPANY, LTD.  4RUNNER          2002  \n",
       "1  TOYOTA MOTOR COMPANY, LTD.    CAMRY          2014  \n",
       "2  TOYOTA MOTOR COMPANY, LTD.  4RUNNER          2002  \n",
       "3  TOYOTA MOTOR COMPANY, LTD.    CAMRY          2014  \n",
       "4                      NISSAN   ALTIMA          2017  "
      ]
     },
     "execution_count": 11,
     "metadata": {},
     "output_type": "execute_result"
    }
   ],
   "source": [
    "df = pd.read_csv('df_clean.csv')\n",
    "df.head()"
   ]
  },
  {
   "cell_type": "code",
   "execution_count": 12,
   "metadata": {
    "ExecuteTime": {
     "end_time": "2023-01-01T07:34:31.539602Z",
     "start_time": "2023-01-01T07:34:31.442850Z"
    }
   },
   "outputs": [
    {
     "name": "stdout",
     "output_type": "stream",
     "text": [
      "<class 'pandas.core.frame.DataFrame'>\n",
      "RangeIndex: 421414 entries, 0 to 421413\n",
      "Data columns (total 8 columns):\n",
      " #   Column        Non-Null Count   Dtype \n",
      "---  ------        --------------   ----- \n",
      " 0   CRASH_DATE    421414 non-null  object\n",
      " 1   DAMAGE        421414 non-null  object\n",
      " 2   ZIPCODE       421414 non-null  int64 \n",
      " 3   SEX           421414 non-null  object\n",
      " 4   AGE           421414 non-null  int64 \n",
      " 5   MAKE          421414 non-null  object\n",
      " 6   MODEL         421414 non-null  object\n",
      " 7   VEHICLE_YEAR  421414 non-null  int64 \n",
      "dtypes: int64(3), object(5)\n",
      "memory usage: 25.7+ MB\n"
     ]
    }
   ],
   "source": [
    "df = df.drop('Unnamed: 0', axis=1)\n",
    "df.info()"
   ]
  },
  {
   "cell_type": "code",
   "execution_count": 13,
   "metadata": {
    "ExecuteTime": {
     "end_time": "2023-01-01T07:34:32.532470Z",
     "start_time": "2023-01-01T07:34:32.490348Z"
    }
   },
   "outputs": [
    {
     "data": {
      "text/plain": [
       "OVER $1,500      0.636035\n",
       "$501 - $1,500    0.279431\n",
       "$500 OR LESS     0.084534\n",
       "Name: DAMAGE, dtype: float64"
      ]
     },
     "execution_count": 13,
     "metadata": {},
     "output_type": "execute_result"
    }
   ],
   "source": [
    "df['DAMAGE'].value_counts(normalize=True)"
   ]
  },
  {
   "cell_type": "markdown",
   "metadata": {},
   "source": [
    "### Reset target df['DAMAGE'] from 3 outcomes to 2 outcomes\n",
    "\n",
    "- OVER 1,500 = 1\n",
    "- 501 - 1,500 = 1\n",
    "- 500 OR LESS = 0"
   ]
  },
  {
   "cell_type": "code",
   "execution_count": 106,
   "metadata": {
    "ExecuteTime": {
     "end_time": "2023-01-01T15:15:04.238423Z",
     "start_time": "2023-01-01T15:15:04.086954Z"
    }
   },
   "outputs": [],
   "source": [
    "# In df['DAMAGE'], replace '$501 - $1,500' and 'OVER $1,500' with 'Over $500':\n",
    "df_main = df.copy()\n",
    "df_main['DAMAGE'] = df_main['DAMAGE'].replace(['$501 - $1,500', 'OVER $1,500'], 1)\n",
    "df_main['DAMAGE'] = df_main['DAMAGE'].replace(['$500 OR LESS'], 0)"
   ]
  },
  {
   "cell_type": "code",
   "execution_count": 107,
   "metadata": {
    "ExecuteTime": {
     "end_time": "2023-01-01T15:15:05.774837Z",
     "start_time": "2023-01-01T15:15:05.751923Z"
    }
   },
   "outputs": [
    {
     "data": {
      "text/plain": [
       "1    0.915466\n",
       "0    0.084534\n",
       "Name: DAMAGE, dtype: float64"
      ]
     },
     "execution_count": 107,
     "metadata": {},
     "output_type": "execute_result"
    }
   ],
   "source": [
    "df_main['DAMAGE'].value_counts(normalize=True)"
   ]
  },
  {
   "cell_type": "markdown",
   "metadata": {},
   "source": [
    "### Reset date range for smaller size and drop 'CRASH_DATE' and 'ZIPCODE'"
   ]
  },
  {
   "cell_type": "code",
   "execution_count": 37,
   "metadata": {
    "ExecuteTime": {
     "end_time": "2023-01-01T07:39:03.664101Z",
     "start_time": "2023-01-01T07:39:03.608366Z"
    }
   },
   "outputs": [],
   "source": [
    "# Select date range starting from 12/15/2021:\n",
    "\n",
    "df_main =df_main[df_main['CRASH_DATE'] >= '12/15/2021']"
   ]
  },
  {
   "cell_type": "code",
   "execution_count": 108,
   "metadata": {
    "ExecuteTime": {
     "end_time": "2023-01-01T15:15:15.541470Z",
     "start_time": "2023-01-01T15:15:15.439760Z"
    }
   },
   "outputs": [
    {
     "name": "stdout",
     "output_type": "stream",
     "text": [
      "<class 'pandas.core.frame.DataFrame'>\n",
      "RangeIndex: 421414 entries, 0 to 421413\n",
      "Data columns (total 6 columns):\n",
      " #   Column        Non-Null Count   Dtype \n",
      "---  ------        --------------   ----- \n",
      " 0   DAMAGE        421414 non-null  int64 \n",
      " 1   SEX           421414 non-null  object\n",
      " 2   AGE           421414 non-null  int64 \n",
      " 3   MAKE          421414 non-null  object\n",
      " 4   MODEL         421414 non-null  object\n",
      " 5   VEHICLE_YEAR  421414 non-null  int64 \n",
      "dtypes: int64(3), object(3)\n",
      "memory usage: 19.3+ MB\n"
     ]
    }
   ],
   "source": [
    "# Take out 'ZIPCODE' and re-run the models\n",
    "\n",
    "df_main = df_main.drop(['CRASH_DATE', 'ZIPCODE'], axis=1)\n",
    "df_main.info()"
   ]
  },
  {
   "cell_type": "code",
   "execution_count": 39,
   "metadata": {
    "ExecuteTime": {
     "end_time": "2023-01-01T07:39:11.914672Z",
     "start_time": "2023-01-01T07:39:11.897688Z"
    }
   },
   "outputs": [
    {
     "data": {
      "text/plain": [
       "DAMAGE          0\n",
       "SEX             0\n",
       "AGE             0\n",
       "MAKE            0\n",
       "MODEL           0\n",
       "VEHICLE_YEAR    0\n",
       "dtype: int64"
      ]
     },
     "execution_count": 39,
     "metadata": {},
     "output_type": "execute_result"
    }
   ],
   "source": [
    "# Checking Null:\n",
    "\n",
    "df_main.isna().sum()"
   ]
  },
  {
   "cell_type": "code",
   "execution_count": 40,
   "metadata": {
    "ExecuteTime": {
     "end_time": "2023-01-01T07:39:14.567429Z",
     "start_time": "2023-01-01T07:39:14.545459Z"
    }
   },
   "outputs": [
    {
     "data": {
      "text/plain": [
       "Index            246688\n",
       "DAMAGE          1911832\n",
       "SEX             1911832\n",
       "AGE              246688\n",
       "MAKE            2026046\n",
       "MODEL           2026169\n",
       "VEHICLE_YEAR     246688\n",
       "dtype: int64"
      ]
     },
     "execution_count": 40,
     "metadata": {},
     "output_type": "execute_result"
    }
   ],
   "source": [
    "# Checking memory usage:\n",
    "\n",
    "df_main.memory_usage(deep=True)"
   ]
  },
  {
   "cell_type": "markdown",
   "metadata": {},
   "source": [
    "## Prepare for modeling\n",
    "\n",
    "### Define X and y, perform train_test_split"
   ]
  },
  {
   "cell_type": "code",
   "execution_count": 41,
   "metadata": {
    "ExecuteTime": {
     "end_time": "2023-01-01T07:39:26.608438Z",
     "start_time": "2023-01-01T07:39:26.593197Z"
    }
   },
   "outputs": [],
   "source": [
    "# define X and y:\n",
    "\n",
    "X = df_main.drop('DAMAGE', axis=1)\n",
    "y = df_main['DAMAGE']\n",
    "\n",
    "# train_test_split:\n",
    "\n",
    "X_train, X_test, y_train, y_test = train_test_split(X, y, random_state=42)"
   ]
  },
  {
   "cell_type": "markdown",
   "metadata": {},
   "source": [
    "### Using Pipeline and FunctionTransformer"
   ]
  },
  {
   "cell_type": "code",
   "execution_count": 43,
   "metadata": {
    "ExecuteTime": {
     "end_time": "2023-01-01T07:39:50.386011Z",
     "start_time": "2023-01-01T07:39:50.377011Z"
    }
   },
   "outputs": [],
   "source": [
    "def grab_numeric(df):\n",
    "    return df.select_dtypes(include=['float', 'int64'])"
   ]
  },
  {
   "cell_type": "code",
   "execution_count": 44,
   "metadata": {
    "ExecuteTime": {
     "end_time": "2023-01-01T07:39:51.314965Z",
     "start_time": "2023-01-01T07:39:51.297011Z"
    }
   },
   "outputs": [],
   "source": [
    "# The FunctionTransformer will turn my function into a transformer:\n",
    "\n",
    "GrabNumeric = FunctionTransformer(grab_numeric)"
   ]
  },
  {
   "cell_type": "code",
   "execution_count": 45,
   "metadata": {
    "ExecuteTime": {
     "end_time": "2023-01-01T07:39:54.651539Z",
     "start_time": "2023-01-01T07:39:54.624774Z"
    }
   },
   "outputs": [],
   "source": [
    "# Pipe:\n",
    "\n",
    "pipe = Pipeline([\n",
    "    ('num', GrabNumeric),\n",
    "    ('ss', StandardScaler())\n",
    "])"
   ]
  },
  {
   "cell_type": "code",
   "execution_count": 46,
   "metadata": {
    "ExecuteTime": {
     "end_time": "2023-01-01T07:40:00.061557Z",
     "start_time": "2023-01-01T07:40:00.048561Z"
    }
   },
   "outputs": [
    {
     "data": {
      "text/plain": [
       "array([[-0.78805163, -0.13444896],\n",
       "       [-0.72157583,  1.87908587],\n",
       "       [-0.32272106,  0.20114018],\n",
       "       ...,\n",
       "       [ 1.40564962,  1.87908587],\n",
       "       [ 0.40851269, -0.97342181],\n",
       "       [-1.38633379, -0.13444896]])"
      ]
     },
     "execution_count": 46,
     "metadata": {},
     "output_type": "execute_result"
    }
   ],
   "source": [
    "# checking the resualt:\n",
    "\n",
    "pipe.fit_transform(X_train)"
   ]
  },
  {
   "cell_type": "markdown",
   "metadata": {},
   "source": [
    "### Using Pipeline and ColumnTransformer\n",
    "\n",
    "\n",
    "#### We'll throw these mini-pipelines into our ColumnTransformer: numeric and categorical\n",
    "\n",
    "- numbers (AGE, VEHICLE_YEAR)\n",
    " - scale, impute\n",
    "\n",
    "- categorical (all other columuns)\n",
    " - OHE, impute"
   ]
  },
  {
   "cell_type": "code",
   "execution_count": 47,
   "metadata": {
    "ExecuteTime": {
     "end_time": "2023-01-01T07:40:03.347206Z",
     "start_time": "2023-01-01T07:40:03.329324Z"
    }
   },
   "outputs": [],
   "source": [
    "# Numeric pipeline:\n",
    "\n",
    "num_pipe = Pipeline([\n",
    "    ('num_impute', SimpleImputer(strategy='mean')),\n",
    "    ('ss', StandardScaler())\n",
    "])"
   ]
  },
  {
   "cell_type": "code",
   "execution_count": 48,
   "metadata": {
    "ExecuteTime": {
     "end_time": "2023-01-01T07:40:04.182828Z",
     "start_time": "2023-01-01T07:40:04.161975Z"
    }
   },
   "outputs": [],
   "source": [
    "# Categorical pipeline:\n",
    "\n",
    "cat_pipe = Pipeline([\n",
    "    ('cat_impute', SimpleImputer(strategy='most_frequent')),\n",
    "    ('ohe', OneHotEncoder(sparse=False, handle_unknown='ignore'))\n",
    "])"
   ]
  },
  {
   "cell_type": "markdown",
   "metadata": {},
   "source": [
    "### Selector and ColumnTransformer\n",
    "This will return a callable list of columns"
   ]
  },
  {
   "cell_type": "code",
   "execution_count": 49,
   "metadata": {
    "ExecuteTime": {
     "end_time": "2023-01-01T07:40:06.409143Z",
     "start_time": "2023-01-01T07:40:06.385020Z"
    }
   },
   "outputs": [],
   "source": [
    "# The \"remainder='passthrough\" tells the compiler to leave the other df columns unchanged.\n",
    "# The `ColumnTransformer` will take care of our preprocessing, so now we can add our model at the end of the pipeline:\n",
    "\n",
    "CT = ColumnTransformer(transformers=[\n",
    "    ('num_trans', num_pipe, selector(dtype_include='int64')),\n",
    "    ('cat_trans', cat_pipe, selector(dtype_include=object))\n",
    "], remainder='passthrough')"
   ]
  },
  {
   "cell_type": "code",
   "execution_count": 50,
   "metadata": {
    "ExecuteTime": {
     "end_time": "2023-01-01T07:40:07.320652Z",
     "start_time": "2023-01-01T07:40:07.297589Z"
    }
   },
   "outputs": [
    {
     "data": {
      "text/plain": [
       "['AGE', 'VEHICLE_YEAR']"
      ]
     },
     "execution_count": 50,
     "metadata": {},
     "output_type": "execute_result"
    }
   ],
   "source": [
    "# testing Selector:\n",
    "\n",
    "test = selector(dtype_include='int64')\n",
    "test(X_train)"
   ]
  },
  {
   "cell_type": "markdown",
   "metadata": {},
   "source": [
    "## Bringing in Our Modeling Class from before"
   ]
  },
  {
   "cell_type": "code",
   "execution_count": 51,
   "metadata": {
    "ExecuteTime": {
     "end_time": "2023-01-01T07:40:11.775125Z",
     "start_time": "2023-01-01T07:40:11.759376Z"
    }
   },
   "outputs": [],
   "source": [
    "class ModelWithCV():\n",
    "    '''Structure to save the model and more easily see its crossvalidation'''\n",
    "    \n",
    "    def __init__(self, model, model_name, X, y, cv_now=True):\n",
    "        self.model = model\n",
    "        self.name = model_name\n",
    "        self.X = X\n",
    "        self.y = y\n",
    "        \n",
    "        # For CV results\n",
    "        self.cv_results = None\n",
    "        self.cv_mean = None\n",
    "        self.cv_median = None\n",
    "        self.cv_std = None\n",
    "        #\n",
    "        if cv_now:\n",
    "            self.cross_validate()\n",
    "        \n",
    "    def cross_validate(self, X=None, y=None, kfolds=10):\n",
    "        '''\n",
    "        Perform cross-validation and return results.\n",
    "        \n",
    "        Args: \n",
    "          X:\n",
    "            Optional; Training data to perform CV on. Otherwise use X from object\n",
    "          y:\n",
    "            Optional; Training data to perform CV on. Otherwise use y from object\n",
    "          kfolds:\n",
    "            Optional; Number of folds for CV (default is 10)  \n",
    "        '''\n",
    "        \n",
    "        cv_X = X if X else self.X\n",
    "        cv_y = y if y else self.y\n",
    "\n",
    "        self.cv_results = cross_val_score(self.model, cv_X, cv_y, cv=kfolds)\n",
    "        self.cv_mean = np.mean(self.cv_results)\n",
    "        self.cv_median = np.median(self.cv_results)\n",
    "        self.cv_std = np.std(self.cv_results)\n",
    "        \n",
    "        # Validate score on test data\n",
    "        self.cv_results_test = cross_val_score(self.model, X_test, y_test, cv=kfolds)\n",
    "        self.cv_test_mean = np.mean(self.cv_results_test)\n",
    "        \n",
    "    def print_cv_summary(self):\n",
    "        cv_summary = self.cv_mean\n",
    "        return cv_summary\n",
    "        \n",
    "#         cv_summary = (\n",
    "#         f'''CV Results for `{self.name}` model:\n",
    "#             {self.cv_mean:.5f} ± {self.cv_std:.5f} accuracy\n",
    "#         ''')\n",
    "#         print(cv_summary)\n",
    "\n",
    "\n",
    "    def print_cv_test_summary(self):\n",
    "        cv_test_summary = self.cv_test_mean\n",
    "        return cv_test_summary\n",
    "\n",
    "\n",
    "    def plot_cv(self, ax):\n",
    "        '''\n",
    "        Plot the cross-validation values using the array of results and given \n",
    "        Axis for plotting.\n",
    "        '''\n",
    "        ax.set_title(f'CV Results for `{self.name}` Model')\n",
    "        \n",
    "        # Thinner violinplot with higher bw\n",
    "        sns.violinplot(y=self.cv_results, ax=ax, bw=.4)\n",
    "        sns.swarmplot(\n",
    "                y=self.cv_results,\n",
    "                color='orange',\n",
    "                size=10,\n",
    "                alpha= 0.8,\n",
    "                ax=ax\n",
    "        )\n",
    "\n",
    "        return ax"
   ]
  },
  {
   "cell_type": "markdown",
   "metadata": {},
   "source": [
    "## Models\n",
    "\n",
    "### Model 1: Create Baseline Model - Dummy Classifier Model"
   ]
  },
  {
   "cell_type": "code",
   "execution_count": 52,
   "metadata": {
    "ExecuteTime": {
     "end_time": "2023-01-01T07:40:13.401148Z",
     "start_time": "2023-01-01T07:40:13.393010Z"
    }
   },
   "outputs": [],
   "source": [
    "dummy_model = Pipeline([\n",
    "    ('ct', CT),\n",
    "    ('dummy', DummyClassifier(strategy='most_frequent'))\n",
    "])"
   ]
  },
  {
   "cell_type": "code",
   "execution_count": 53,
   "metadata": {
    "ExecuteTime": {
     "end_time": "2023-01-01T07:40:18.749819Z",
     "start_time": "2023-01-01T07:40:15.073034Z"
    }
   },
   "outputs": [],
   "source": [
    "# Use the class without dummy pipe:\n",
    "\n",
    "dummy_model_pipe =  ModelWithCV(dummy_model, model_name='dummy', X = X_train, y = y_train)"
   ]
  },
  {
   "cell_type": "code",
   "execution_count": 54,
   "metadata": {
    "ExecuteTime": {
     "end_time": "2023-01-01T07:40:20.125890Z",
     "start_time": "2023-01-01T07:40:20.104878Z"
    }
   },
   "outputs": [
    {
     "data": {
      "text/plain": [
       "0.9113590141175871"
      ]
     },
     "execution_count": 54,
     "metadata": {},
     "output_type": "execute_result"
    }
   ],
   "source": [
    "# Score on training data:\n",
    "\n",
    "dummy_score_train = dummy_model_pipe.print_cv_summary()\n",
    "dummy_score_train"
   ]
  },
  {
   "cell_type": "code",
   "execution_count": 55,
   "metadata": {
    "ExecuteTime": {
     "end_time": "2023-01-01T07:40:21.807342Z",
     "start_time": "2023-01-01T07:40:21.791680Z"
    }
   },
   "outputs": [
    {
     "data": {
      "text/plain": [
       "0.9050460693651354"
      ]
     },
     "execution_count": 55,
     "metadata": {},
     "output_type": "execute_result"
    }
   ],
   "source": [
    "# Validate with testing data:\n",
    "\n",
    "dummy_score_test = dummy_model_pipe.print_cv_test_summary()\n",
    "dummy_score_test"
   ]
  },
  {
   "cell_type": "code",
   "execution_count": 56,
   "metadata": {
    "ExecuteTime": {
     "end_time": "2023-01-01T07:40:46.172647Z",
     "start_time": "2023-01-01T07:40:45.875913Z"
    }
   },
   "outputs": [
    {
     "data": {
      "text/plain": [
       "<AxesSubplot:title={'center':'CV Results for `dummy` Model'}>"
      ]
     },
     "execution_count": 56,
     "metadata": {},
     "output_type": "execute_result"
    },
    {
     "data": {
      "image/png": "[encoded data removed]",
      "text/plain": [
       "<Figure size 432x288 with 1 Axes>"
      ]
     },
     "metadata": {
      "needs_background": "light"
     },
     "output_type": "display_data"
    }
   ],
   "source": [
    "fig,ax = plt.subplots()\n",
    "\n",
    "dummy_model_pipe.plot_cv(ax=ax)"
   ]
  },
  {
   "cell_type": "markdown",
   "metadata": {},
   "source": [
    "### Model 2: Create FSM (First Simple Model) - Logistic Regression Model"
   ]
  },
  {
   "cell_type": "code",
   "execution_count": 57,
   "metadata": {
    "ExecuteTime": {
     "end_time": "2023-01-01T07:40:49.222673Z",
     "start_time": "2023-01-01T07:40:49.211346Z"
    }
   },
   "outputs": [],
   "source": [
    "# Reset solver from 'lbfgs' to 'saga', and max_iter = 300\n",
    "\n",
    "logreg_fsm = Pipeline([\n",
    "    ('ct',CT),\n",
    "    ('logreg_fsm',LogisticRegression(random_state=42, solver='saga', max_iter=300))\n",
    "])"
   ]
  },
  {
   "cell_type": "code",
   "execution_count": 58,
   "metadata": {
    "ExecuteTime": {
     "end_time": "2023-01-01T07:43:12.108937Z",
     "start_time": "2023-01-01T07:40:52.520599Z"
    }
   },
   "outputs": [],
   "source": [
    "# Use the class with out logreg pipe\n",
    "\n",
    "fsm_model_pipe =  ModelWithCV(logreg_fsm, model_name='fsm',X=X_train, y=y_train)\n",
    "\n",
    "# Getting ConvergenceWarning. Go back to logreg_fsm above to reset the parameters."
   ]
  },
  {
   "cell_type": "code",
   "execution_count": 59,
   "metadata": {
    "ExecuteTime": {
     "end_time": "2023-01-01T07:43:20.710224Z",
     "start_time": "2023-01-01T07:43:20.690312Z"
    }
   },
   "outputs": [
    {
     "data": {
      "text/plain": [
       "0.9114887345034909"
      ]
     },
     "execution_count": 59,
     "metadata": {},
     "output_type": "execute_result"
    }
   ],
   "source": [
    "# Score on training data:\n",
    "\n",
    "logreg_score_train = fsm_model_pipe.print_cv_summary()\n",
    "logreg_score_train"
   ]
  },
  {
   "cell_type": "code",
   "execution_count": 60,
   "metadata": {
    "ExecuteTime": {
     "end_time": "2023-01-01T07:43:22.281960Z",
     "start_time": "2023-01-01T07:43:22.258157Z"
    }
   },
   "outputs": [
    {
     "data": {
      "text/plain": [
       "0.9050460693651354"
      ]
     },
     "execution_count": 60,
     "metadata": {},
     "output_type": "execute_result"
    }
   ],
   "source": [
    "# Validate with testing data:\n",
    "\n",
    "logreg_score_test = fsm_model_pipe.print_cv_test_summary()\n",
    "logreg_score_test"
   ]
  },
  {
   "cell_type": "code",
   "execution_count": 61,
   "metadata": {
    "ExecuteTime": {
     "end_time": "2023-01-01T07:43:36.800892Z",
     "start_time": "2023-01-01T07:43:36.650332Z"
    }
   },
   "outputs": [
    {
     "data": {
      "text/plain": [
       "<AxesSubplot:title={'center':'CV Results for `fsm` Model'}>"
      ]
     },
     "execution_count": 61,
     "metadata": {},
     "output_type": "execute_result"
    },
    {
     "data": {
      "image/png": "[encoded data removed]",
      "text/plain": [
       "<Figure size 432x288 with 1 Axes>"
      ]
     },
     "metadata": {
      "needs_background": "light"
     },
     "output_type": "display_data"
    }
   ],
   "source": [
    "fig,ax = plt.subplots()\n",
    "fsm_model_pipe.plot_cv(ax=ax)"
   ]
  },
  {
   "cell_type": "markdown",
   "metadata": {},
   "source": [
    "### Trying Other Models at the End of the Pipeline\n",
    "### Model 3: Random Forest"
   ]
  },
  {
   "cell_type": "code",
   "execution_count": 62,
   "metadata": {
    "ExecuteTime": {
     "end_time": "2023-01-01T07:46:25.843494Z",
     "start_time": "2023-01-01T07:43:40.306238Z"
    }
   },
   "outputs": [
    {
     "data": {
      "image/png": "[encoded data removed]",
      "text/plain": [
       "<Figure size 432x288 with 1 Axes>"
      ]
     },
     "metadata": {
      "needs_background": "light"
     },
     "output_type": "display_data"
    }
   ],
   "source": [
    "# rfc!\n",
    "rfc = RandomForestClassifier(random_state=42)\n",
    "\n",
    "rfc_model_pipe = Pipeline([('ct', CT), ('rfc', rfc)])\n",
    "\n",
    "forest_pipe = ModelWithCV(model=rfc_model_pipe,\n",
    "                          model_name='forest_pipe',\n",
    "                          X=X_train,\n",
    "                          y=y_train)\n",
    "\n",
    "fig, ax = plt.subplots()\n",
    "\n",
    "forest_pipe.plot_cv(ax=ax);"
   ]
  },
  {
   "cell_type": "code",
   "execution_count": 63,
   "metadata": {
    "ExecuteTime": {
     "end_time": "2023-01-01T07:47:07.385706Z",
     "start_time": "2023-01-01T07:47:07.361972Z"
    }
   },
   "outputs": [
    {
     "data": {
      "text/plain": [
       "0.8930252058097977"
      ]
     },
     "execution_count": 63,
     "metadata": {},
     "output_type": "execute_result"
    }
   ],
   "source": [
    "# Score on training data:\n",
    "\n",
    "rfc_score_train = forest_pipe.print_cv_summary()\n",
    "rfc_score_train"
   ]
  },
  {
   "cell_type": "code",
   "execution_count": 64,
   "metadata": {
    "ExecuteTime": {
     "end_time": "2023-01-01T07:47:18.117922Z",
     "start_time": "2023-01-01T07:47:18.100087Z"
    }
   },
   "outputs": [
    {
     "data": {
      "text/plain": [
       "0.8862359560024929"
      ]
     },
     "execution_count": 64,
     "metadata": {},
     "output_type": "execute_result"
    }
   ],
   "source": [
    "# Validate with testing data:\n",
    "\n",
    "rfc_score_test = forest_pipe.print_cv_test_summary()\n",
    "rfc_score_test"
   ]
  },
  {
   "cell_type": "markdown",
   "metadata": {},
   "source": [
    "### Model 4: Gradient Booster"
   ]
  },
  {
   "cell_type": "code",
   "execution_count": 65,
   "metadata": {
    "ExecuteTime": {
     "end_time": "2023-01-01T07:54:06.403704Z",
     "start_time": "2023-01-01T07:47:27.664018Z"
    }
   },
   "outputs": [
    {
     "data": {
      "image/png": "[encoded data removed]",
      "text/plain": [
       "<Figure size 432x288 with 1 Axes>"
      ]
     },
     "metadata": {
      "needs_background": "light"
     },
     "output_type": "display_data"
    }
   ],
   "source": [
    "# gbc!\n",
    "gbc_model_pipe = Pipeline([('ct', CT), ('gbc', GradientBoostingClassifier(random_state=42))])\n",
    "\n",
    "gbc_pipe = ModelWithCV(model=gbc_model_pipe,\n",
    "                          model_name='gbc_pipe',\n",
    "                          X=X_train,\n",
    "                          y=y_train)\n",
    "\n",
    "fig, ax = plt.subplots()\n",
    "\n",
    "gbc_pipe.plot_cv(ax=ax);"
   ]
  },
  {
   "cell_type": "code",
   "execution_count": 66,
   "metadata": {
    "ExecuteTime": {
     "end_time": "2023-01-01T07:54:14.304148Z",
     "start_time": "2023-01-01T07:54:14.282233Z"
    }
   },
   "outputs": [
    {
     "data": {
      "text/plain": [
       "0.9115319870986465"
      ]
     },
     "execution_count": 66,
     "metadata": {},
     "output_type": "execute_result"
    }
   ],
   "source": [
    "# Score on training data:\n",
    "\n",
    "gbc_score_train = gbc_pipe.print_cv_summary()\n",
    "gbc_score_train"
   ]
  },
  {
   "cell_type": "code",
   "execution_count": 67,
   "metadata": {
    "ExecuteTime": {
     "end_time": "2023-01-01T07:54:15.802347Z",
     "start_time": "2023-01-01T07:54:15.778499Z"
    }
   },
   "outputs": [
    {
     "data": {
      "text/plain": [
       "0.9027111021274445"
      ]
     },
     "execution_count": 67,
     "metadata": {},
     "output_type": "execute_result"
    }
   ],
   "source": [
    "# Validate with testing data:\n",
    "\n",
    "gbc_score_test = gbc_pipe.print_cv_test_summary()\n",
    "gbc_score_test"
   ]
  },
  {
   "cell_type": "markdown",
   "metadata": {},
   "source": [
    "## Take out column 'ZIPCODE' and re-run the models\n",
    "It took 1h 32mins to excute Gradient Booster model.\n",
    "Decided to take out Column 'ZIPCODE' since this dataset is collected in Chicago. Different 'ZIPCODE' might not impact the target much.\n",
    "\n",
    "Before taking out ‘ZIPCODE’:\n",
    "- CV Results for `dummy` model:  0.63879 ± 0.00009 accuracy\n",
    "- CV Results for `forest_pipe` model:  0.62870 ± 0.00595 accuracy\n",
    "- CV Results for `gbc_pipe` model:  0.63943 ± 0.00072 accuracy\n"
   ]
  },
  {
   "cell_type": "markdown",
   "metadata": {},
   "source": [
    "### Model 5: Decision Tree"
   ]
  },
  {
   "cell_type": "code",
   "execution_count": 68,
   "metadata": {
    "ExecuteTime": {
     "end_time": "2023-01-01T07:55:56.335999Z",
     "start_time": "2023-01-01T07:55:06.003649Z"
    }
   },
   "outputs": [
    {
     "data": {
      "image/png": "[encoded data removed]",
      "text/plain": [
       "<Figure size 432x288 with 1 Axes>"
      ]
     },
     "metadata": {
      "needs_background": "light"
     },
     "output_type": "display_data"
    }
   ],
   "source": [
    "dtc_model_pipe = Pipeline([('ct', CT), ('dtc', DecisionTreeClassifier(random_state=42))])\n",
    "\n",
    "dtc_pipe = ModelWithCV(model=dtc_model_pipe,\n",
    "                          model_name='dtc_pipe',\n",
    "                          X=X_train,\n",
    "                          y=y_train)\n",
    "\n",
    "fig, ax = plt.subplots()\n",
    "\n",
    "dtc_pipe.plot_cv(ax=ax);"
   ]
  },
  {
   "cell_type": "code",
   "execution_count": 69,
   "metadata": {
    "ExecuteTime": {
     "end_time": "2023-01-01T07:56:05.974664Z",
     "start_time": "2023-01-01T07:56:05.962540Z"
    }
   },
   "outputs": [
    {
     "data": {
      "text/plain": [
       "0.8358629089081273"
      ]
     },
     "execution_count": 69,
     "metadata": {},
     "output_type": "execute_result"
    }
   ],
   "source": [
    "# Score on training data:\n",
    "\n",
    "dtc_score_train = dtc_pipe.print_cv_summary()\n",
    "dtc_score_train"
   ]
  },
  {
   "cell_type": "code",
   "execution_count": 70,
   "metadata": {
    "ExecuteTime": {
     "end_time": "2023-01-01T07:56:07.942005Z",
     "start_time": "2023-01-01T07:56:07.930672Z"
    }
   },
   "outputs": [
    {
     "data": {
      "text/plain": [
       "0.8277329155928378"
      ]
     },
     "execution_count": 70,
     "metadata": {},
     "output_type": "execute_result"
    }
   ],
   "source": [
    "# Validate with testing data:\n",
    "\n",
    "dtc_score_test = dtc_pipe.print_cv_test_summary()\n",
    "dtc_score_test"
   ]
  },
  {
   "cell_type": "markdown",
   "metadata": {},
   "source": [
    "### Model 6: Tuning and Cross-Validating - Logistic Regression Model\n",
    "\n",
    "As a result, Logistic Regression Model has the best accuracy. Tune the Logreg Model and perform GridSearch:"
   ]
  },
  {
   "cell_type": "code",
   "execution_count": 86,
   "metadata": {
    "ExecuteTime": {
     "end_time": "2023-01-01T08:06:02.600876Z",
     "start_time": "2023-01-01T08:06:02.487528Z"
    }
   },
   "outputs": [
    {
     "data": {
      "text/plain": [
       "Pipeline(steps=[('ct',\n",
       "                 ColumnTransformer(remainder='passthrough',\n",
       "                                   transformers=[('num_trans',\n",
       "                                                  Pipeline(steps=[('num_impute',\n",
       "                                                                   SimpleImputer()),\n",
       "                                                                  ('ss',\n",
       "                                                                   StandardScaler())]),\n",
       "                                                  <sklearn.compose._column_transformer.make_column_selector object at 0x0000012791B8A220>),\n",
       "                                                 ('cat_trans',\n",
       "                                                  Pipeline(steps=[('cat_impute',\n",
       "                                                                   SimpleImputer(strategy='most_frequent')),\n",
       "                                                                  ('ohe',\n",
       "                                                                   OneHotEncoder(handle_unknown='ignore',\n",
       "                                                                                 sparse=False))]),\n",
       "                                                  <sklearn.compose._column_transformer.make_column_selector object at 0x0000012791B8A2B0>)])),\n",
       "                ('logreg_fsm',\n",
       "                 LogisticRegression(max_iter=300, random_state=42,\n",
       "                                    solver='saga'))])"
      ]
     },
     "execution_count": 86,
     "metadata": {},
     "output_type": "execute_result"
    }
   ],
   "source": [
    "# Checking logreg Pipeline:\n",
    "\n",
    "logreg_fsm"
   ]
  },
  {
   "cell_type": "code",
   "execution_count": 87,
   "metadata": {
    "ExecuteTime": {
     "end_time": "2023-01-01T08:18:51.513028Z",
     "start_time": "2023-01-01T08:06:06.890657Z"
    }
   },
   "outputs": [
    {
     "name": "stdout",
     "output_type": "stream",
     "text": [
      "Fitting 10 folds for each of 8 candidates, totalling 80 fits\n",
      "[CV] ct__num_trans__num_impute__strategy=mean, logreg_fsm__class_weight=None, logreg_fsm__max_iter=500 \n"
     ]
    },
    {
     "name": "stderr",
     "output_type": "stream",
     "text": [
      "[Parallel(n_jobs=1)]: Using backend SequentialBackend with 1 concurrent workers.\n"
     ]
    },
    {
     "name": "stdout",
     "output_type": "stream",
     "text": [
      "[CV]  ct__num_trans__num_impute__strategy=mean, logreg_fsm__class_weight=None, logreg_fsm__max_iter=500, total=  11.1s\n",
      "[CV] ct__num_trans__num_impute__strategy=mean, logreg_fsm__class_weight=None, logreg_fsm__max_iter=500 \n"
     ]
    },
    {
     "name": "stderr",
     "output_type": "stream",
     "text": [
      "[Parallel(n_jobs=1)]: Done   1 out of   1 | elapsed:   11.0s remaining:    0.0s\n"
     ]
    },
    {
     "name": "stdout",
     "output_type": "stream",
     "text": [
      "[CV]  ct__num_trans__num_impute__strategy=mean, logreg_fsm__class_weight=None, logreg_fsm__max_iter=500, total=  10.9s\n",
      "[CV] ct__num_trans__num_impute__strategy=mean, logreg_fsm__class_weight=None, logreg_fsm__max_iter=500 \n",
      "[CV]  ct__num_trans__num_impute__strategy=mean, logreg_fsm__class_weight=None, logreg_fsm__max_iter=500, total=  10.8s\n",
      "[CV] ct__num_trans__num_impute__strategy=mean, logreg_fsm__class_weight=None, logreg_fsm__max_iter=500 \n",
      "[CV]  ct__num_trans__num_impute__strategy=mean, logreg_fsm__class_weight=None, logreg_fsm__max_iter=500, total=  11.0s\n",
      "[CV] ct__num_trans__num_impute__strategy=mean, logreg_fsm__class_weight=None, logreg_fsm__max_iter=500 \n",
      "[CV]  ct__num_trans__num_impute__strategy=mean, logreg_fsm__class_weight=None, logreg_fsm__max_iter=500, total=  10.7s\n",
      "[CV] ct__num_trans__num_impute__strategy=mean, logreg_fsm__class_weight=None, logreg_fsm__max_iter=500 \n",
      "[CV]  ct__num_trans__num_impute__strategy=mean, logreg_fsm__class_weight=None, logreg_fsm__max_iter=500, total=  11.0s\n",
      "[CV] ct__num_trans__num_impute__strategy=mean, logreg_fsm__class_weight=None, logreg_fsm__max_iter=500 \n",
      "[CV]  ct__num_trans__num_impute__strategy=mean, logreg_fsm__class_weight=None, logreg_fsm__max_iter=500, total=  11.2s\n",
      "[CV] ct__num_trans__num_impute__strategy=mean, logreg_fsm__class_weight=None, logreg_fsm__max_iter=500 \n",
      "[CV]  ct__num_trans__num_impute__strategy=mean, logreg_fsm__class_weight=None, logreg_fsm__max_iter=500, total=  10.7s\n",
      "[CV] ct__num_trans__num_impute__strategy=mean, logreg_fsm__class_weight=None, logreg_fsm__max_iter=500 \n",
      "[CV]  ct__num_trans__num_impute__strategy=mean, logreg_fsm__class_weight=None, logreg_fsm__max_iter=500, total=  10.9s\n",
      "[CV] ct__num_trans__num_impute__strategy=mean, logreg_fsm__class_weight=None, logreg_fsm__max_iter=500 \n",
      "[CV]  ct__num_trans__num_impute__strategy=mean, logreg_fsm__class_weight=None, logreg_fsm__max_iter=500, total=  10.7s\n",
      "[CV] ct__num_trans__num_impute__strategy=mean, logreg_fsm__class_weight=None, logreg_fsm__max_iter=600 \n",
      "[CV]  ct__num_trans__num_impute__strategy=mean, logreg_fsm__class_weight=None, logreg_fsm__max_iter=600, total=  11.0s\n",
      "[CV] ct__num_trans__num_impute__strategy=mean, logreg_fsm__class_weight=None, logreg_fsm__max_iter=600 \n",
      "[CV]  ct__num_trans__num_impute__strategy=mean, logreg_fsm__class_weight=None, logreg_fsm__max_iter=600, total=  11.0s\n",
      "[CV] ct__num_trans__num_impute__strategy=mean, logreg_fsm__class_weight=None, logreg_fsm__max_iter=600 \n",
      "[CV]  ct__num_trans__num_impute__strategy=mean, logreg_fsm__class_weight=None, logreg_fsm__max_iter=600, total=  10.8s\n",
      "[CV] ct__num_trans__num_impute__strategy=mean, logreg_fsm__class_weight=None, logreg_fsm__max_iter=600 \n",
      "[CV]  ct__num_trans__num_impute__strategy=mean, logreg_fsm__class_weight=None, logreg_fsm__max_iter=600, total=  11.0s\n",
      "[CV] ct__num_trans__num_impute__strategy=mean, logreg_fsm__class_weight=None, logreg_fsm__max_iter=600 \n",
      "[CV]  ct__num_trans__num_impute__strategy=mean, logreg_fsm__class_weight=None, logreg_fsm__max_iter=600, total=  10.8s\n",
      "[CV] ct__num_trans__num_impute__strategy=mean, logreg_fsm__class_weight=None, logreg_fsm__max_iter=600 \n",
      "[CV]  ct__num_trans__num_impute__strategy=mean, logreg_fsm__class_weight=None, logreg_fsm__max_iter=600, total=  11.0s\n",
      "[CV] ct__num_trans__num_impute__strategy=mean, logreg_fsm__class_weight=None, logreg_fsm__max_iter=600 \n",
      "[CV]  ct__num_trans__num_impute__strategy=mean, logreg_fsm__class_weight=None, logreg_fsm__max_iter=600, total=  11.2s\n",
      "[CV] ct__num_trans__num_impute__strategy=mean, logreg_fsm__class_weight=None, logreg_fsm__max_iter=600 \n",
      "[CV]  ct__num_trans__num_impute__strategy=mean, logreg_fsm__class_weight=None, logreg_fsm__max_iter=600, total=  10.7s\n",
      "[CV] ct__num_trans__num_impute__strategy=mean, logreg_fsm__class_weight=None, logreg_fsm__max_iter=600 \n",
      "[CV]  ct__num_trans__num_impute__strategy=mean, logreg_fsm__class_weight=None, logreg_fsm__max_iter=600, total=  10.9s\n",
      "[CV] ct__num_trans__num_impute__strategy=mean, logreg_fsm__class_weight=None, logreg_fsm__max_iter=600 \n",
      "[CV]  ct__num_trans__num_impute__strategy=mean, logreg_fsm__class_weight=None, logreg_fsm__max_iter=600, total=  10.7s\n",
      "[CV] ct__num_trans__num_impute__strategy=mean, logreg_fsm__class_weight=balanced, logreg_fsm__max_iter=500 \n",
      "[CV]  ct__num_trans__num_impute__strategy=mean, logreg_fsm__class_weight=balanced, logreg_fsm__max_iter=500, total=   7.6s\n",
      "[CV] ct__num_trans__num_impute__strategy=mean, logreg_fsm__class_weight=balanced, logreg_fsm__max_iter=500 \n",
      "[CV]  ct__num_trans__num_impute__strategy=mean, logreg_fsm__class_weight=balanced, logreg_fsm__max_iter=500, total=   8.1s\n",
      "[CV] ct__num_trans__num_impute__strategy=mean, logreg_fsm__class_weight=balanced, logreg_fsm__max_iter=500 \n",
      "[CV]  ct__num_trans__num_impute__strategy=mean, logreg_fsm__class_weight=balanced, logreg_fsm__max_iter=500, total=   8.1s\n",
      "[CV] ct__num_trans__num_impute__strategy=mean, logreg_fsm__class_weight=balanced, logreg_fsm__max_iter=500 \n",
      "[CV]  ct__num_trans__num_impute__strategy=mean, logreg_fsm__class_weight=balanced, logreg_fsm__max_iter=500, total=   7.9s\n",
      "[CV] ct__num_trans__num_impute__strategy=mean, logreg_fsm__class_weight=balanced, logreg_fsm__max_iter=500 \n",
      "[CV]  ct__num_trans__num_impute__strategy=mean, logreg_fsm__class_weight=balanced, logreg_fsm__max_iter=500, total=   7.9s\n",
      "[CV] ct__num_trans__num_impute__strategy=mean, logreg_fsm__class_weight=balanced, logreg_fsm__max_iter=500 \n",
      "[CV]  ct__num_trans__num_impute__strategy=mean, logreg_fsm__class_weight=balanced, logreg_fsm__max_iter=500, total=   8.1s\n",
      "[CV] ct__num_trans__num_impute__strategy=mean, logreg_fsm__class_weight=balanced, logreg_fsm__max_iter=500 \n",
      "[CV]  ct__num_trans__num_impute__strategy=mean, logreg_fsm__class_weight=balanced, logreg_fsm__max_iter=500, total=   8.0s\n",
      "[CV] ct__num_trans__num_impute__strategy=mean, logreg_fsm__class_weight=balanced, logreg_fsm__max_iter=500 \n",
      "[CV]  ct__num_trans__num_impute__strategy=mean, logreg_fsm__class_weight=balanced, logreg_fsm__max_iter=500, total=   7.8s\n",
      "[CV] ct__num_trans__num_impute__strategy=mean, logreg_fsm__class_weight=balanced, logreg_fsm__max_iter=500 \n",
      "[CV]  ct__num_trans__num_impute__strategy=mean, logreg_fsm__class_weight=balanced, logreg_fsm__max_iter=500, total=   7.8s\n",
      "[CV] ct__num_trans__num_impute__strategy=mean, logreg_fsm__class_weight=balanced, logreg_fsm__max_iter=500 \n",
      "[CV]  ct__num_trans__num_impute__strategy=mean, logreg_fsm__class_weight=balanced, logreg_fsm__max_iter=500, total=   7.8s\n",
      "[CV] ct__num_trans__num_impute__strategy=mean, logreg_fsm__class_weight=balanced, logreg_fsm__max_iter=600 \n",
      "[CV]  ct__num_trans__num_impute__strategy=mean, logreg_fsm__class_weight=balanced, logreg_fsm__max_iter=600, total=   7.5s\n",
      "[CV] ct__num_trans__num_impute__strategy=mean, logreg_fsm__class_weight=balanced, logreg_fsm__max_iter=600 \n",
      "[CV]  ct__num_trans__num_impute__strategy=mean, logreg_fsm__class_weight=balanced, logreg_fsm__max_iter=600, total=   8.1s\n",
      "[CV] ct__num_trans__num_impute__strategy=mean, logreg_fsm__class_weight=balanced, logreg_fsm__max_iter=600 \n",
      "[CV]  ct__num_trans__num_impute__strategy=mean, logreg_fsm__class_weight=balanced, logreg_fsm__max_iter=600, total=   8.0s\n",
      "[CV] ct__num_trans__num_impute__strategy=mean, logreg_fsm__class_weight=balanced, logreg_fsm__max_iter=600 \n",
      "[CV]  ct__num_trans__num_impute__strategy=mean, logreg_fsm__class_weight=balanced, logreg_fsm__max_iter=600, total=   7.8s\n",
      "[CV] ct__num_trans__num_impute__strategy=mean, logreg_fsm__class_weight=balanced, logreg_fsm__max_iter=600 \n",
      "[CV]  ct__num_trans__num_impute__strategy=mean, logreg_fsm__class_weight=balanced, logreg_fsm__max_iter=600, total=   7.9s\n",
      "[CV] ct__num_trans__num_impute__strategy=mean, logreg_fsm__class_weight=balanced, logreg_fsm__max_iter=600 \n",
      "[CV]  ct__num_trans__num_impute__strategy=mean, logreg_fsm__class_weight=balanced, logreg_fsm__max_iter=600, total=   8.1s\n",
      "[CV] ct__num_trans__num_impute__strategy=mean, logreg_fsm__class_weight=balanced, logreg_fsm__max_iter=600 \n",
      "[CV]  ct__num_trans__num_impute__strategy=mean, logreg_fsm__class_weight=balanced, logreg_fsm__max_iter=600, total=   8.0s\n",
      "[CV] ct__num_trans__num_impute__strategy=mean, logreg_fsm__class_weight=balanced, logreg_fsm__max_iter=600 \n",
      "[CV]  ct__num_trans__num_impute__strategy=mean, logreg_fsm__class_weight=balanced, logreg_fsm__max_iter=600, total=   7.8s\n",
      "[CV] ct__num_trans__num_impute__strategy=mean, logreg_fsm__class_weight=balanced, logreg_fsm__max_iter=600 \n"
     ]
    },
    {
     "name": "stdout",
     "output_type": "stream",
     "text": [
      "[CV]  ct__num_trans__num_impute__strategy=mean, logreg_fsm__class_weight=balanced, logreg_fsm__max_iter=600, total=   7.8s\n",
      "[CV] ct__num_trans__num_impute__strategy=mean, logreg_fsm__class_weight=balanced, logreg_fsm__max_iter=600 \n",
      "[CV]  ct__num_trans__num_impute__strategy=mean, logreg_fsm__class_weight=balanced, logreg_fsm__max_iter=600, total=   7.9s\n",
      "[CV] ct__num_trans__num_impute__strategy=median, logreg_fsm__class_weight=None, logreg_fsm__max_iter=500 \n",
      "[CV]  ct__num_trans__num_impute__strategy=median, logreg_fsm__class_weight=None, logreg_fsm__max_iter=500, total=  11.0s\n",
      "[CV] ct__num_trans__num_impute__strategy=median, logreg_fsm__class_weight=None, logreg_fsm__max_iter=500 \n",
      "[CV]  ct__num_trans__num_impute__strategy=median, logreg_fsm__class_weight=None, logreg_fsm__max_iter=500, total=  11.0s\n",
      "[CV] ct__num_trans__num_impute__strategy=median, logreg_fsm__class_weight=None, logreg_fsm__max_iter=500 \n",
      "[CV]  ct__num_trans__num_impute__strategy=median, logreg_fsm__class_weight=None, logreg_fsm__max_iter=500, total=  10.8s\n",
      "[CV] ct__num_trans__num_impute__strategy=median, logreg_fsm__class_weight=None, logreg_fsm__max_iter=500 \n",
      "[CV]  ct__num_trans__num_impute__strategy=median, logreg_fsm__class_weight=None, logreg_fsm__max_iter=500, total=  11.0s\n",
      "[CV] ct__num_trans__num_impute__strategy=median, logreg_fsm__class_weight=None, logreg_fsm__max_iter=500 \n",
      "[CV]  ct__num_trans__num_impute__strategy=median, logreg_fsm__class_weight=None, logreg_fsm__max_iter=500, total=  10.8s\n",
      "[CV] ct__num_trans__num_impute__strategy=median, logreg_fsm__class_weight=None, logreg_fsm__max_iter=500 \n",
      "[CV]  ct__num_trans__num_impute__strategy=median, logreg_fsm__class_weight=None, logreg_fsm__max_iter=500, total=  11.0s\n",
      "[CV] ct__num_trans__num_impute__strategy=median, logreg_fsm__class_weight=None, logreg_fsm__max_iter=500 \n",
      "[CV]  ct__num_trans__num_impute__strategy=median, logreg_fsm__class_weight=None, logreg_fsm__max_iter=500, total=  11.2s\n",
      "[CV] ct__num_trans__num_impute__strategy=median, logreg_fsm__class_weight=None, logreg_fsm__max_iter=500 \n",
      "[CV]  ct__num_trans__num_impute__strategy=median, logreg_fsm__class_weight=None, logreg_fsm__max_iter=500, total=  10.7s\n",
      "[CV] ct__num_trans__num_impute__strategy=median, logreg_fsm__class_weight=None, logreg_fsm__max_iter=500 \n",
      "[CV]  ct__num_trans__num_impute__strategy=median, logreg_fsm__class_weight=None, logreg_fsm__max_iter=500, total=  10.9s\n",
      "[CV] ct__num_trans__num_impute__strategy=median, logreg_fsm__class_weight=None, logreg_fsm__max_iter=500 \n",
      "[CV]  ct__num_trans__num_impute__strategy=median, logreg_fsm__class_weight=None, logreg_fsm__max_iter=500, total=  10.7s\n",
      "[CV] ct__num_trans__num_impute__strategy=median, logreg_fsm__class_weight=None, logreg_fsm__max_iter=600 \n",
      "[CV]  ct__num_trans__num_impute__strategy=median, logreg_fsm__class_weight=None, logreg_fsm__max_iter=600, total=  11.0s\n",
      "[CV] ct__num_trans__num_impute__strategy=median, logreg_fsm__class_weight=None, logreg_fsm__max_iter=600 \n",
      "[CV]  ct__num_trans__num_impute__strategy=median, logreg_fsm__class_weight=None, logreg_fsm__max_iter=600, total=  10.9s\n",
      "[CV] ct__num_trans__num_impute__strategy=median, logreg_fsm__class_weight=None, logreg_fsm__max_iter=600 \n",
      "[CV]  ct__num_trans__num_impute__strategy=median, logreg_fsm__class_weight=None, logreg_fsm__max_iter=600, total=  10.8s\n",
      "[CV] ct__num_trans__num_impute__strategy=median, logreg_fsm__class_weight=None, logreg_fsm__max_iter=600 \n",
      "[CV]  ct__num_trans__num_impute__strategy=median, logreg_fsm__class_weight=None, logreg_fsm__max_iter=600, total=  11.0s\n",
      "[CV] ct__num_trans__num_impute__strategy=median, logreg_fsm__class_weight=None, logreg_fsm__max_iter=600 \n",
      "[CV]  ct__num_trans__num_impute__strategy=median, logreg_fsm__class_weight=None, logreg_fsm__max_iter=600, total=  10.7s\n",
      "[CV] ct__num_trans__num_impute__strategy=median, logreg_fsm__class_weight=None, logreg_fsm__max_iter=600 \n",
      "[CV]  ct__num_trans__num_impute__strategy=median, logreg_fsm__class_weight=None, logreg_fsm__max_iter=600, total=  11.0s\n",
      "[CV] ct__num_trans__num_impute__strategy=median, logreg_fsm__class_weight=None, logreg_fsm__max_iter=600 \n",
      "[CV]  ct__num_trans__num_impute__strategy=median, logreg_fsm__class_weight=None, logreg_fsm__max_iter=600, total=  11.2s\n",
      "[CV] ct__num_trans__num_impute__strategy=median, logreg_fsm__class_weight=None, logreg_fsm__max_iter=600 \n",
      "[CV]  ct__num_trans__num_impute__strategy=median, logreg_fsm__class_weight=None, logreg_fsm__max_iter=600, total=  10.7s\n",
      "[CV] ct__num_trans__num_impute__strategy=median, logreg_fsm__class_weight=None, logreg_fsm__max_iter=600 \n",
      "[CV]  ct__num_trans__num_impute__strategy=median, logreg_fsm__class_weight=None, logreg_fsm__max_iter=600, total=  10.9s\n",
      "[CV] ct__num_trans__num_impute__strategy=median, logreg_fsm__class_weight=None, logreg_fsm__max_iter=600 \n",
      "[CV]  ct__num_trans__num_impute__strategy=median, logreg_fsm__class_weight=None, logreg_fsm__max_iter=600, total=  10.7s\n",
      "[CV] ct__num_trans__num_impute__strategy=median, logreg_fsm__class_weight=balanced, logreg_fsm__max_iter=500 \n",
      "[CV]  ct__num_trans__num_impute__strategy=median, logreg_fsm__class_weight=balanced, logreg_fsm__max_iter=500, total=   7.5s\n",
      "[CV] ct__num_trans__num_impute__strategy=median, logreg_fsm__class_weight=balanced, logreg_fsm__max_iter=500 \n",
      "[CV]  ct__num_trans__num_impute__strategy=median, logreg_fsm__class_weight=balanced, logreg_fsm__max_iter=500, total=   8.1s\n",
      "[CV] ct__num_trans__num_impute__strategy=median, logreg_fsm__class_weight=balanced, logreg_fsm__max_iter=500 \n",
      "[CV]  ct__num_trans__num_impute__strategy=median, logreg_fsm__class_weight=balanced, logreg_fsm__max_iter=500, total=   8.0s\n",
      "[CV] ct__num_trans__num_impute__strategy=median, logreg_fsm__class_weight=balanced, logreg_fsm__max_iter=500 \n",
      "[CV]  ct__num_trans__num_impute__strategy=median, logreg_fsm__class_weight=balanced, logreg_fsm__max_iter=500, total=   7.9s\n",
      "[CV] ct__num_trans__num_impute__strategy=median, logreg_fsm__class_weight=balanced, logreg_fsm__max_iter=500 \n",
      "[CV]  ct__num_trans__num_impute__strategy=median, logreg_fsm__class_weight=balanced, logreg_fsm__max_iter=500, total=   7.9s\n",
      "[CV] ct__num_trans__num_impute__strategy=median, logreg_fsm__class_weight=balanced, logreg_fsm__max_iter=500 \n",
      "[CV]  ct__num_trans__num_impute__strategy=median, logreg_fsm__class_weight=balanced, logreg_fsm__max_iter=500, total=   8.1s\n",
      "[CV] ct__num_trans__num_impute__strategy=median, logreg_fsm__class_weight=balanced, logreg_fsm__max_iter=500 \n",
      "[CV]  ct__num_trans__num_impute__strategy=median, logreg_fsm__class_weight=balanced, logreg_fsm__max_iter=500, total=   8.0s\n",
      "[CV] ct__num_trans__num_impute__strategy=median, logreg_fsm__class_weight=balanced, logreg_fsm__max_iter=500 \n",
      "[CV]  ct__num_trans__num_impute__strategy=median, logreg_fsm__class_weight=balanced, logreg_fsm__max_iter=500, total=   7.8s\n",
      "[CV] ct__num_trans__num_impute__strategy=median, logreg_fsm__class_weight=balanced, logreg_fsm__max_iter=500 \n",
      "[CV]  ct__num_trans__num_impute__strategy=median, logreg_fsm__class_weight=balanced, logreg_fsm__max_iter=500, total=   7.8s\n",
      "[CV] ct__num_trans__num_impute__strategy=median, logreg_fsm__class_weight=balanced, logreg_fsm__max_iter=500 \n",
      "[CV]  ct__num_trans__num_impute__strategy=median, logreg_fsm__class_weight=balanced, logreg_fsm__max_iter=500, total=   7.8s\n",
      "[CV] ct__num_trans__num_impute__strategy=median, logreg_fsm__class_weight=balanced, logreg_fsm__max_iter=600 \n",
      "[CV]  ct__num_trans__num_impute__strategy=median, logreg_fsm__class_weight=balanced, logreg_fsm__max_iter=600, total=   7.6s\n",
      "[CV] ct__num_trans__num_impute__strategy=median, logreg_fsm__class_weight=balanced, logreg_fsm__max_iter=600 \n",
      "[CV]  ct__num_trans__num_impute__strategy=median, logreg_fsm__class_weight=balanced, logreg_fsm__max_iter=600, total=   8.1s\n",
      "[CV] ct__num_trans__num_impute__strategy=median, logreg_fsm__class_weight=balanced, logreg_fsm__max_iter=600 \n",
      "[CV]  ct__num_trans__num_impute__strategy=median, logreg_fsm__class_weight=balanced, logreg_fsm__max_iter=600, total=   8.0s\n",
      "[CV] ct__num_trans__num_impute__strategy=median, logreg_fsm__class_weight=balanced, logreg_fsm__max_iter=600 \n",
      "[CV]  ct__num_trans__num_impute__strategy=median, logreg_fsm__class_weight=balanced, logreg_fsm__max_iter=600, total=   7.8s\n",
      "[CV] ct__num_trans__num_impute__strategy=median, logreg_fsm__class_weight=balanced, logreg_fsm__max_iter=600 \n"
     ]
    },
    {
     "name": "stdout",
     "output_type": "stream",
     "text": [
      "[CV]  ct__num_trans__num_impute__strategy=median, logreg_fsm__class_weight=balanced, logreg_fsm__max_iter=600, total=   7.9s\n",
      "[CV] ct__num_trans__num_impute__strategy=median, logreg_fsm__class_weight=balanced, logreg_fsm__max_iter=600 \n",
      "[CV]  ct__num_trans__num_impute__strategy=median, logreg_fsm__class_weight=balanced, logreg_fsm__max_iter=600, total=   8.1s\n",
      "[CV] ct__num_trans__num_impute__strategy=median, logreg_fsm__class_weight=balanced, logreg_fsm__max_iter=600 \n",
      "[CV]  ct__num_trans__num_impute__strategy=median, logreg_fsm__class_weight=balanced, logreg_fsm__max_iter=600, total=   8.0s\n",
      "[CV] ct__num_trans__num_impute__strategy=median, logreg_fsm__class_weight=balanced, logreg_fsm__max_iter=600 \n",
      "[CV]  ct__num_trans__num_impute__strategy=median, logreg_fsm__class_weight=balanced, logreg_fsm__max_iter=600, total=   7.8s\n",
      "[CV] ct__num_trans__num_impute__strategy=median, logreg_fsm__class_weight=balanced, logreg_fsm__max_iter=600 \n",
      "[CV]  ct__num_trans__num_impute__strategy=median, logreg_fsm__class_weight=balanced, logreg_fsm__max_iter=600, total=   7.8s\n",
      "[CV] ct__num_trans__num_impute__strategy=median, logreg_fsm__class_weight=balanced, logreg_fsm__max_iter=600 \n",
      "[CV]  ct__num_trans__num_impute__strategy=median, logreg_fsm__class_weight=balanced, logreg_fsm__max_iter=600, total=   7.9s\n"
     ]
    },
    {
     "name": "stderr",
     "output_type": "stream",
     "text": [
      "[Parallel(n_jobs=1)]: Done  80 out of  80 | elapsed: 12.5min finished\n"
     ]
    },
    {
     "data": {
      "text/plain": [
       "GridSearchCV(cv=10,\n",
       "             estimator=Pipeline(steps=[('ct',\n",
       "                                        ColumnTransformer(remainder='passthrough',\n",
       "                                                          transformers=[('num_trans',\n",
       "                                                                         Pipeline(steps=[('num_impute',\n",
       "                                                                                          SimpleImputer()),\n",
       "                                                                                         ('ss',\n",
       "                                                                                          StandardScaler())]),\n",
       "                                                                         <sklearn.compose._column_transformer.make_column_selector object at 0x0000012791B8A220>),\n",
       "                                                                        ('cat_trans',\n",
       "                                                                         Pipeline(steps=[('cat_impute',\n",
       "                                                                                          SimpleImputer(strategy='most...\n",
       "                                                                                          OneHotEncoder(handle_unknown='ignore',\n",
       "                                                                                                        sparse=False))]),\n",
       "                                                                         <sklearn.compose._column_transformer.make_column_selector object at 0x0000012791B8A2B0>)])),\n",
       "                                       ('logreg_fsm',\n",
       "                                        LogisticRegression(max_iter=300,\n",
       "                                                           random_state=42,\n",
       "                                                           solver='saga'))]),\n",
       "             param_grid={'ct__num_trans__num_impute__strategy': ['mean',\n",
       "                                                                 'median'],\n",
       "                         'logreg_fsm__class_weight': [None, 'balanced'],\n",
       "                         'logreg_fsm__max_iter': [500, 600]},\n",
       "             verbose=2)"
      ]
     },
     "execution_count": 87,
     "metadata": {},
     "output_type": "execute_result"
    }
   ],
   "source": [
    "# Set up parameters:\n",
    "params = {\n",
    "    'ct__num_trans__num_impute__strategy':['mean','median'],\n",
    "    'logreg_fsm__max_iter':[500, 600],\n",
    "    'logreg_fsm__class_weight':[None, 'balanced']\n",
    "}\n",
    "\n",
    "# Set up GridSearchCV and fit training data:\n",
    "gs_logreg = GridSearchCV(estimator=logreg_fsm, param_grid=params, cv=10, verbose=2)\n",
    "\n",
    "gs_logreg.fit(X_train, y_train)"
   ]
  },
  {
   "cell_type": "code",
   "execution_count": 88,
   "metadata": {
    "ExecuteTime": {
     "end_time": "2023-01-01T08:48:42.308669Z",
     "start_time": "2023-01-01T08:48:42.291956Z"
    }
   },
   "outputs": [
    {
     "data": {
      "text/plain": [
       "{'ct__num_trans__num_impute__strategy': 'mean',\n",
       " 'logreg_fsm__class_weight': None,\n",
       " 'logreg_fsm__max_iter': 500}"
      ]
     },
     "execution_count": 88,
     "metadata": {},
     "output_type": "execute_result"
    }
   ],
   "source": [
    "gs_logreg.best_params_"
   ]
  },
  {
   "cell_type": "code",
   "execution_count": 89,
   "metadata": {
    "ExecuteTime": {
     "end_time": "2023-01-01T08:48:43.390531Z",
     "start_time": "2023-01-01T08:48:43.383520Z"
    }
   },
   "outputs": [
    {
     "data": {
      "text/plain": [
       "0.9114887345034909"
      ]
     },
     "execution_count": 89,
     "metadata": {},
     "output_type": "execute_result"
    }
   ],
   "source": [
    "tunedLogreg_score_train = gs_logreg.best_score_\n",
    "tunedLogreg_score_train"
   ]
  },
  {
   "cell_type": "code",
   "execution_count": 90,
   "metadata": {
    "ExecuteTime": {
     "end_time": "2023-01-01T08:48:44.529292Z",
     "start_time": "2023-01-01T08:48:44.461738Z"
    }
   },
   "outputs": [
    {
     "data": {
      "text/plain": [
       "0.9049163315605137"
      ]
     },
     "execution_count": 90,
     "metadata": {},
     "output_type": "execute_result"
    }
   ],
   "source": [
    "# Validate with testing data:\n",
    "tunedLogreg_score_test = gs_logreg.best_estimator_.score(X_test, y_test)\n",
    "tunedLogreg_score_test"
   ]
  },
  {
   "cell_type": "markdown",
   "metadata": {
    "ExecuteTime": {
     "end_time": "2022-12-31T09:27:05.537511Z",
     "start_time": "2022-12-31T08:12:10.829Z"
    }
   },
   "source": [
    "### Model 7: Tuning and Cross-Validating - Random Forest Model"
   ]
  },
  {
   "cell_type": "code",
   "execution_count": 71,
   "metadata": {
    "ExecuteTime": {
     "end_time": "2023-01-01T07:59:29.540075Z",
     "start_time": "2023-01-01T07:56:29.224753Z"
    }
   },
   "outputs": [
    {
     "name": "stdout",
     "output_type": "stream",
     "text": [
      "Fitting 10 folds for each of 12 candidates, totalling 120 fits\n",
      "[CV] ct__num_trans__num_impute__strategy=mean, rfc__criterion=gini, rfc__max_depth=1 \n"
     ]
    },
    {
     "name": "stderr",
     "output_type": "stream",
     "text": [
      "[Parallel(n_jobs=1)]: Using backend SequentialBackend with 1 concurrent workers.\n"
     ]
    },
    {
     "name": "stdout",
     "output_type": "stream",
     "text": [
      "[CV]  ct__num_trans__num_impute__strategy=mean, rfc__criterion=gini, rfc__max_depth=1, total=   0.9s\n",
      "[CV] ct__num_trans__num_impute__strategy=mean, rfc__criterion=gini, rfc__max_depth=1 \n"
     ]
    },
    {
     "name": "stderr",
     "output_type": "stream",
     "text": [
      "[Parallel(n_jobs=1)]: Done   1 out of   1 | elapsed:    0.8s remaining:    0.0s\n"
     ]
    },
    {
     "name": "stdout",
     "output_type": "stream",
     "text": [
      "[CV]  ct__num_trans__num_impute__strategy=mean, rfc__criterion=gini, rfc__max_depth=1, total=   0.9s\n",
      "[CV] ct__num_trans__num_impute__strategy=mean, rfc__criterion=gini, rfc__max_depth=1 \n",
      "[CV]  ct__num_trans__num_impute__strategy=mean, rfc__criterion=gini, rfc__max_depth=1, total=   0.9s\n",
      "[CV] ct__num_trans__num_impute__strategy=mean, rfc__criterion=gini, rfc__max_depth=1 \n",
      "[CV]  ct__num_trans__num_impute__strategy=mean, rfc__criterion=gini, rfc__max_depth=1, total=   0.9s\n",
      "[CV] ct__num_trans__num_impute__strategy=mean, rfc__criterion=gini, rfc__max_depth=1 \n",
      "[CV]  ct__num_trans__num_impute__strategy=mean, rfc__criterion=gini, rfc__max_depth=1, total=   0.9s\n",
      "[CV] ct__num_trans__num_impute__strategy=mean, rfc__criterion=gini, rfc__max_depth=1 \n",
      "[CV]  ct__num_trans__num_impute__strategy=mean, rfc__criterion=gini, rfc__max_depth=1, total=   0.9s\n",
      "[CV] ct__num_trans__num_impute__strategy=mean, rfc__criterion=gini, rfc__max_depth=1 \n",
      "[CV]  ct__num_trans__num_impute__strategy=mean, rfc__criterion=gini, rfc__max_depth=1, total=   0.9s\n",
      "[CV] ct__num_trans__num_impute__strategy=mean, rfc__criterion=gini, rfc__max_depth=1 \n",
      "[CV]  ct__num_trans__num_impute__strategy=mean, rfc__criterion=gini, rfc__max_depth=1, total=   0.9s\n",
      "[CV] ct__num_trans__num_impute__strategy=mean, rfc__criterion=gini, rfc__max_depth=1 \n",
      "[CV]  ct__num_trans__num_impute__strategy=mean, rfc__criterion=gini, rfc__max_depth=1, total=   0.9s\n",
      "[CV] ct__num_trans__num_impute__strategy=mean, rfc__criterion=gini, rfc__max_depth=1 \n",
      "[CV]  ct__num_trans__num_impute__strategy=mean, rfc__criterion=gini, rfc__max_depth=1, total=   0.9s\n",
      "[CV] ct__num_trans__num_impute__strategy=mean, rfc__criterion=gini, rfc__max_depth=3 \n",
      "[CV]  ct__num_trans__num_impute__strategy=mean, rfc__criterion=gini, rfc__max_depth=3, total=   1.5s\n",
      "[CV] ct__num_trans__num_impute__strategy=mean, rfc__criterion=gini, rfc__max_depth=3 \n",
      "[CV]  ct__num_trans__num_impute__strategy=mean, rfc__criterion=gini, rfc__max_depth=3, total=   1.5s\n",
      "[CV] ct__num_trans__num_impute__strategy=mean, rfc__criterion=gini, rfc__max_depth=3 \n",
      "[CV]  ct__num_trans__num_impute__strategy=mean, rfc__criterion=gini, rfc__max_depth=3, total=   1.6s\n",
      "[CV] ct__num_trans__num_impute__strategy=mean, rfc__criterion=gini, rfc__max_depth=3 \n",
      "[CV]  ct__num_trans__num_impute__strategy=mean, rfc__criterion=gini, rfc__max_depth=3, total=   1.5s\n",
      "[CV] ct__num_trans__num_impute__strategy=mean, rfc__criterion=gini, rfc__max_depth=3 \n",
      "[CV]  ct__num_trans__num_impute__strategy=mean, rfc__criterion=gini, rfc__max_depth=3, total=   1.5s\n",
      "[CV] ct__num_trans__num_impute__strategy=mean, rfc__criterion=gini, rfc__max_depth=3 \n",
      "[CV]  ct__num_trans__num_impute__strategy=mean, rfc__criterion=gini, rfc__max_depth=3, total=   1.5s\n",
      "[CV] ct__num_trans__num_impute__strategy=mean, rfc__criterion=gini, rfc__max_depth=3 \n",
      "[CV]  ct__num_trans__num_impute__strategy=mean, rfc__criterion=gini, rfc__max_depth=3, total=   1.5s\n",
      "[CV] ct__num_trans__num_impute__strategy=mean, rfc__criterion=gini, rfc__max_depth=3 \n",
      "[CV]  ct__num_trans__num_impute__strategy=mean, rfc__criterion=gini, rfc__max_depth=3, total=   1.6s\n",
      "[CV] ct__num_trans__num_impute__strategy=mean, rfc__criterion=gini, rfc__max_depth=3 \n",
      "[CV]  ct__num_trans__num_impute__strategy=mean, rfc__criterion=gini, rfc__max_depth=3, total=   1.5s\n",
      "[CV] ct__num_trans__num_impute__strategy=mean, rfc__criterion=gini, rfc__max_depth=3 \n",
      "[CV]  ct__num_trans__num_impute__strategy=mean, rfc__criterion=gini, rfc__max_depth=3, total=   1.5s\n",
      "[CV] ct__num_trans__num_impute__strategy=mean, rfc__criterion=gini, rfc__max_depth=5 \n",
      "[CV]  ct__num_trans__num_impute__strategy=mean, rfc__criterion=gini, rfc__max_depth=5, total=   2.1s\n",
      "[CV] ct__num_trans__num_impute__strategy=mean, rfc__criterion=gini, rfc__max_depth=5 \n",
      "[CV]  ct__num_trans__num_impute__strategy=mean, rfc__criterion=gini, rfc__max_depth=5, total=   2.0s\n",
      "[CV] ct__num_trans__num_impute__strategy=mean, rfc__criterion=gini, rfc__max_depth=5 \n",
      "[CV]  ct__num_trans__num_impute__strategy=mean, rfc__criterion=gini, rfc__max_depth=5, total=   2.1s\n",
      "[CV] ct__num_trans__num_impute__strategy=mean, rfc__criterion=gini, rfc__max_depth=5 \n",
      "[CV]  ct__num_trans__num_impute__strategy=mean, rfc__criterion=gini, rfc__max_depth=5, total=   2.1s\n",
      "[CV] ct__num_trans__num_impute__strategy=mean, rfc__criterion=gini, rfc__max_depth=5 \n",
      "[CV]  ct__num_trans__num_impute__strategy=mean, rfc__criterion=gini, rfc__max_depth=5, total=   2.1s\n",
      "[CV] ct__num_trans__num_impute__strategy=mean, rfc__criterion=gini, rfc__max_depth=5 \n",
      "[CV]  ct__num_trans__num_impute__strategy=mean, rfc__criterion=gini, rfc__max_depth=5, total=   2.1s\n",
      "[CV] ct__num_trans__num_impute__strategy=mean, rfc__criterion=gini, rfc__max_depth=5 \n",
      "[CV]  ct__num_trans__num_impute__strategy=mean, rfc__criterion=gini, rfc__max_depth=5, total=   2.1s\n",
      "[CV] ct__num_trans__num_impute__strategy=mean, rfc__criterion=gini, rfc__max_depth=5 \n",
      "[CV]  ct__num_trans__num_impute__strategy=mean, rfc__criterion=gini, rfc__max_depth=5, total=   2.0s\n",
      "[CV] ct__num_trans__num_impute__strategy=mean, rfc__criterion=gini, rfc__max_depth=5 \n",
      "[CV]  ct__num_trans__num_impute__strategy=mean, rfc__criterion=gini, rfc__max_depth=5, total=   2.1s\n",
      "[CV] ct__num_trans__num_impute__strategy=mean, rfc__criterion=gini, rfc__max_depth=5 \n",
      "[CV]  ct__num_trans__num_impute__strategy=mean, rfc__criterion=gini, rfc__max_depth=5, total=   2.0s\n",
      "[CV] ct__num_trans__num_impute__strategy=mean, rfc__criterion=entropy, rfc__max_depth=1 \n",
      "[CV]  ct__num_trans__num_impute__strategy=mean, rfc__criterion=entropy, rfc__max_depth=1, total=   0.9s\n",
      "[CV] ct__num_trans__num_impute__strategy=mean, rfc__criterion=entropy, rfc__max_depth=1 \n",
      "[CV]  ct__num_trans__num_impute__strategy=mean, rfc__criterion=entropy, rfc__max_depth=1, total=   0.9s\n",
      "[CV] ct__num_trans__num_impute__strategy=mean, rfc__criterion=entropy, rfc__max_depth=1 \n",
      "[CV]  ct__num_trans__num_impute__strategy=mean, rfc__criterion=entropy, rfc__max_depth=1, total=   0.9s\n",
      "[CV] ct__num_trans__num_impute__strategy=mean, rfc__criterion=entropy, rfc__max_depth=1 \n",
      "[CV]  ct__num_trans__num_impute__strategy=mean, rfc__criterion=entropy, rfc__max_depth=1, total=   0.9s\n",
      "[CV] ct__num_trans__num_impute__strategy=mean, rfc__criterion=entropy, rfc__max_depth=1 \n",
      "[CV]  ct__num_trans__num_impute__strategy=mean, rfc__criterion=entropy, rfc__max_depth=1, total=   0.9s\n",
      "[CV] ct__num_trans__num_impute__strategy=mean, rfc__criterion=entropy, rfc__max_depth=1 \n",
      "[CV]  ct__num_trans__num_impute__strategy=mean, rfc__criterion=entropy, rfc__max_depth=1, total=   0.9s\n",
      "[CV] ct__num_trans__num_impute__strategy=mean, rfc__criterion=entropy, rfc__max_depth=1 \n",
      "[CV]  ct__num_trans__num_impute__strategy=mean, rfc__criterion=entropy, rfc__max_depth=1, total=   0.9s\n",
      "[CV] ct__num_trans__num_impute__strategy=mean, rfc__criterion=entropy, rfc__max_depth=1 \n",
      "[CV]  ct__num_trans__num_impute__strategy=mean, rfc__criterion=entropy, rfc__max_depth=1, total=   0.9s\n",
      "[CV] ct__num_trans__num_impute__strategy=mean, rfc__criterion=entropy, rfc__max_depth=1 \n",
      "[CV]  ct__num_trans__num_impute__strategy=mean, rfc__criterion=entropy, rfc__max_depth=1, total=   0.9s\n",
      "[CV] ct__num_trans__num_impute__strategy=mean, rfc__criterion=entropy, rfc__max_depth=1 \n",
      "[CV]  ct__num_trans__num_impute__strategy=mean, rfc__criterion=entropy, rfc__max_depth=1, total=   0.9s\n",
      "[CV] ct__num_trans__num_impute__strategy=mean, rfc__criterion=entropy, rfc__max_depth=3 \n",
      "[CV]  ct__num_trans__num_impute__strategy=mean, rfc__criterion=entropy, rfc__max_depth=3, total=   1.5s\n",
      "[CV] ct__num_trans__num_impute__strategy=mean, rfc__criterion=entropy, rfc__max_depth=3 \n",
      "[CV]  ct__num_trans__num_impute__strategy=mean, rfc__criterion=entropy, rfc__max_depth=3, total=   1.5s\n",
      "[CV] ct__num_trans__num_impute__strategy=mean, rfc__criterion=entropy, rfc__max_depth=3 \n",
      "[CV]  ct__num_trans__num_impute__strategy=mean, rfc__criterion=entropy, rfc__max_depth=3, total=   1.4s\n",
      "[CV] ct__num_trans__num_impute__strategy=mean, rfc__criterion=entropy, rfc__max_depth=3 \n",
      "[CV]  ct__num_trans__num_impute__strategy=mean, rfc__criterion=entropy, rfc__max_depth=3, total=   1.5s\n",
      "[CV] ct__num_trans__num_impute__strategy=mean, rfc__criterion=entropy, rfc__max_depth=3 \n",
      "[CV]  ct__num_trans__num_impute__strategy=mean, rfc__criterion=entropy, rfc__max_depth=3, total=   1.5s\n",
      "[CV] ct__num_trans__num_impute__strategy=mean, rfc__criterion=entropy, rfc__max_depth=3 \n"
     ]
    },
    {
     "name": "stdout",
     "output_type": "stream",
     "text": [
      "[CV]  ct__num_trans__num_impute__strategy=mean, rfc__criterion=entropy, rfc__max_depth=3, total=   1.5s\n",
      "[CV] ct__num_trans__num_impute__strategy=mean, rfc__criterion=entropy, rfc__max_depth=3 \n",
      "[CV]  ct__num_trans__num_impute__strategy=mean, rfc__criterion=entropy, rfc__max_depth=3, total=   1.5s\n",
      "[CV] ct__num_trans__num_impute__strategy=mean, rfc__criterion=entropy, rfc__max_depth=3 \n",
      "[CV]  ct__num_trans__num_impute__strategy=mean, rfc__criterion=entropy, rfc__max_depth=3, total=   1.5s\n",
      "[CV] ct__num_trans__num_impute__strategy=mean, rfc__criterion=entropy, rfc__max_depth=3 \n",
      "[CV]  ct__num_trans__num_impute__strategy=mean, rfc__criterion=entropy, rfc__max_depth=3, total=   1.5s\n",
      "[CV] ct__num_trans__num_impute__strategy=mean, rfc__criterion=entropy, rfc__max_depth=3 \n",
      "[CV]  ct__num_trans__num_impute__strategy=mean, rfc__criterion=entropy, rfc__max_depth=3, total=   1.5s\n",
      "[CV] ct__num_trans__num_impute__strategy=mean, rfc__criterion=entropy, rfc__max_depth=5 \n",
      "[CV]  ct__num_trans__num_impute__strategy=mean, rfc__criterion=entropy, rfc__max_depth=5, total=   2.0s\n",
      "[CV] ct__num_trans__num_impute__strategy=mean, rfc__criterion=entropy, rfc__max_depth=5 \n",
      "[CV]  ct__num_trans__num_impute__strategy=mean, rfc__criterion=entropy, rfc__max_depth=5, total=   2.0s\n",
      "[CV] ct__num_trans__num_impute__strategy=mean, rfc__criterion=entropy, rfc__max_depth=5 \n",
      "[CV]  ct__num_trans__num_impute__strategy=mean, rfc__criterion=entropy, rfc__max_depth=5, total=   2.1s\n",
      "[CV] ct__num_trans__num_impute__strategy=mean, rfc__criterion=entropy, rfc__max_depth=5 \n",
      "[CV]  ct__num_trans__num_impute__strategy=mean, rfc__criterion=entropy, rfc__max_depth=5, total=   2.1s\n",
      "[CV] ct__num_trans__num_impute__strategy=mean, rfc__criterion=entropy, rfc__max_depth=5 \n",
      "[CV]  ct__num_trans__num_impute__strategy=mean, rfc__criterion=entropy, rfc__max_depth=5, total=   2.1s\n",
      "[CV] ct__num_trans__num_impute__strategy=mean, rfc__criterion=entropy, rfc__max_depth=5 \n",
      "[CV]  ct__num_trans__num_impute__strategy=mean, rfc__criterion=entropy, rfc__max_depth=5, total=   2.1s\n",
      "[CV] ct__num_trans__num_impute__strategy=mean, rfc__criterion=entropy, rfc__max_depth=5 \n",
      "[CV]  ct__num_trans__num_impute__strategy=mean, rfc__criterion=entropy, rfc__max_depth=5, total=   2.0s\n",
      "[CV] ct__num_trans__num_impute__strategy=mean, rfc__criterion=entropy, rfc__max_depth=5 \n",
      "[CV]  ct__num_trans__num_impute__strategy=mean, rfc__criterion=entropy, rfc__max_depth=5, total=   2.0s\n",
      "[CV] ct__num_trans__num_impute__strategy=mean, rfc__criterion=entropy, rfc__max_depth=5 \n",
      "[CV]  ct__num_trans__num_impute__strategy=mean, rfc__criterion=entropy, rfc__max_depth=5, total=   2.1s\n",
      "[CV] ct__num_trans__num_impute__strategy=mean, rfc__criterion=entropy, rfc__max_depth=5 \n",
      "[CV]  ct__num_trans__num_impute__strategy=mean, rfc__criterion=entropy, rfc__max_depth=5, total=   2.1s\n",
      "[CV] ct__num_trans__num_impute__strategy=median, rfc__criterion=gini, rfc__max_depth=1 \n",
      "[CV]  ct__num_trans__num_impute__strategy=median, rfc__criterion=gini, rfc__max_depth=1, total=   0.9s\n",
      "[CV] ct__num_trans__num_impute__strategy=median, rfc__criterion=gini, rfc__max_depth=1 \n",
      "[CV]  ct__num_trans__num_impute__strategy=median, rfc__criterion=gini, rfc__max_depth=1, total=   0.9s\n",
      "[CV] ct__num_trans__num_impute__strategy=median, rfc__criterion=gini, rfc__max_depth=1 \n",
      "[CV]  ct__num_trans__num_impute__strategy=median, rfc__criterion=gini, rfc__max_depth=1, total=   0.9s\n",
      "[CV] ct__num_trans__num_impute__strategy=median, rfc__criterion=gini, rfc__max_depth=1 \n",
      "[CV]  ct__num_trans__num_impute__strategy=median, rfc__criterion=gini, rfc__max_depth=1, total=   0.9s\n",
      "[CV] ct__num_trans__num_impute__strategy=median, rfc__criterion=gini, rfc__max_depth=1 \n",
      "[CV]  ct__num_trans__num_impute__strategy=median, rfc__criterion=gini, rfc__max_depth=1, total=   0.9s\n",
      "[CV] ct__num_trans__num_impute__strategy=median, rfc__criterion=gini, rfc__max_depth=1 \n",
      "[CV]  ct__num_trans__num_impute__strategy=median, rfc__criterion=gini, rfc__max_depth=1, total=   0.9s\n",
      "[CV] ct__num_trans__num_impute__strategy=median, rfc__criterion=gini, rfc__max_depth=1 \n",
      "[CV]  ct__num_trans__num_impute__strategy=median, rfc__criterion=gini, rfc__max_depth=1, total=   0.9s\n",
      "[CV] ct__num_trans__num_impute__strategy=median, rfc__criterion=gini, rfc__max_depth=1 \n",
      "[CV]  ct__num_trans__num_impute__strategy=median, rfc__criterion=gini, rfc__max_depth=1, total=   0.9s\n",
      "[CV] ct__num_trans__num_impute__strategy=median, rfc__criterion=gini, rfc__max_depth=1 \n",
      "[CV]  ct__num_trans__num_impute__strategy=median, rfc__criterion=gini, rfc__max_depth=1, total=   0.9s\n",
      "[CV] ct__num_trans__num_impute__strategy=median, rfc__criterion=gini, rfc__max_depth=1 \n",
      "[CV]  ct__num_trans__num_impute__strategy=median, rfc__criterion=gini, rfc__max_depth=1, total=   0.9s\n",
      "[CV] ct__num_trans__num_impute__strategy=median, rfc__criterion=gini, rfc__max_depth=3 \n",
      "[CV]  ct__num_trans__num_impute__strategy=median, rfc__criterion=gini, rfc__max_depth=3, total=   1.5s\n",
      "[CV] ct__num_trans__num_impute__strategy=median, rfc__criterion=gini, rfc__max_depth=3 \n",
      "[CV]  ct__num_trans__num_impute__strategy=median, rfc__criterion=gini, rfc__max_depth=3, total=   1.5s\n",
      "[CV] ct__num_trans__num_impute__strategy=median, rfc__criterion=gini, rfc__max_depth=3 \n",
      "[CV]  ct__num_trans__num_impute__strategy=median, rfc__criterion=gini, rfc__max_depth=3, total=   1.5s\n",
      "[CV] ct__num_trans__num_impute__strategy=median, rfc__criterion=gini, rfc__max_depth=3 \n",
      "[CV]  ct__num_trans__num_impute__strategy=median, rfc__criterion=gini, rfc__max_depth=3, total=   1.5s\n",
      "[CV] ct__num_trans__num_impute__strategy=median, rfc__criterion=gini, rfc__max_depth=3 \n",
      "[CV]  ct__num_trans__num_impute__strategy=median, rfc__criterion=gini, rfc__max_depth=3, total=   1.5s\n",
      "[CV] ct__num_trans__num_impute__strategy=median, rfc__criterion=gini, rfc__max_depth=3 \n",
      "[CV]  ct__num_trans__num_impute__strategy=median, rfc__criterion=gini, rfc__max_depth=3, total=   1.5s\n",
      "[CV] ct__num_trans__num_impute__strategy=median, rfc__criterion=gini, rfc__max_depth=3 \n",
      "[CV]  ct__num_trans__num_impute__strategy=median, rfc__criterion=gini, rfc__max_depth=3, total=   1.5s\n",
      "[CV] ct__num_trans__num_impute__strategy=median, rfc__criterion=gini, rfc__max_depth=3 \n",
      "[CV]  ct__num_trans__num_impute__strategy=median, rfc__criterion=gini, rfc__max_depth=3, total=   1.5s\n",
      "[CV] ct__num_trans__num_impute__strategy=median, rfc__criterion=gini, rfc__max_depth=3 \n",
      "[CV]  ct__num_trans__num_impute__strategy=median, rfc__criterion=gini, rfc__max_depth=3, total=   1.5s\n",
      "[CV] ct__num_trans__num_impute__strategy=median, rfc__criterion=gini, rfc__max_depth=3 \n",
      "[CV]  ct__num_trans__num_impute__strategy=median, rfc__criterion=gini, rfc__max_depth=3, total=   1.5s\n",
      "[CV] ct__num_trans__num_impute__strategy=median, rfc__criterion=gini, rfc__max_depth=5 \n",
      "[CV]  ct__num_trans__num_impute__strategy=median, rfc__criterion=gini, rfc__max_depth=5, total=   2.1s\n",
      "[CV] ct__num_trans__num_impute__strategy=median, rfc__criterion=gini, rfc__max_depth=5 \n",
      "[CV]  ct__num_trans__num_impute__strategy=median, rfc__criterion=gini, rfc__max_depth=5, total=   2.0s\n",
      "[CV] ct__num_trans__num_impute__strategy=median, rfc__criterion=gini, rfc__max_depth=5 \n",
      "[CV]  ct__num_trans__num_impute__strategy=median, rfc__criterion=gini, rfc__max_depth=5, total=   2.1s\n",
      "[CV] ct__num_trans__num_impute__strategy=median, rfc__criterion=gini, rfc__max_depth=5 \n",
      "[CV]  ct__num_trans__num_impute__strategy=median, rfc__criterion=gini, rfc__max_depth=5, total=   2.1s\n",
      "[CV] ct__num_trans__num_impute__strategy=median, rfc__criterion=gini, rfc__max_depth=5 \n",
      "[CV]  ct__num_trans__num_impute__strategy=median, rfc__criterion=gini, rfc__max_depth=5, total=   2.1s\n",
      "[CV] ct__num_trans__num_impute__strategy=median, rfc__criterion=gini, rfc__max_depth=5 \n",
      "[CV]  ct__num_trans__num_impute__strategy=median, rfc__criterion=gini, rfc__max_depth=5, total=   2.1s\n",
      "[CV] ct__num_trans__num_impute__strategy=median, rfc__criterion=gini, rfc__max_depth=5 \n",
      "[CV]  ct__num_trans__num_impute__strategy=median, rfc__criterion=gini, rfc__max_depth=5, total=   2.1s\n",
      "[CV] ct__num_trans__num_impute__strategy=median, rfc__criterion=gini, rfc__max_depth=5 \n",
      "[CV]  ct__num_trans__num_impute__strategy=median, rfc__criterion=gini, rfc__max_depth=5, total=   2.1s\n",
      "[CV] ct__num_trans__num_impute__strategy=median, rfc__criterion=gini, rfc__max_depth=5 \n"
     ]
    },
    {
     "name": "stdout",
     "output_type": "stream",
     "text": [
      "[CV]  ct__num_trans__num_impute__strategy=median, rfc__criterion=gini, rfc__max_depth=5, total=   2.1s\n",
      "[CV] ct__num_trans__num_impute__strategy=median, rfc__criterion=gini, rfc__max_depth=5 \n",
      "[CV]  ct__num_trans__num_impute__strategy=median, rfc__criterion=gini, rfc__max_depth=5, total=   2.1s\n",
      "[CV] ct__num_trans__num_impute__strategy=median, rfc__criterion=entropy, rfc__max_depth=1 \n",
      "[CV]  ct__num_trans__num_impute__strategy=median, rfc__criterion=entropy, rfc__max_depth=1, total=   0.9s\n",
      "[CV] ct__num_trans__num_impute__strategy=median, rfc__criterion=entropy, rfc__max_depth=1 \n",
      "[CV]  ct__num_trans__num_impute__strategy=median, rfc__criterion=entropy, rfc__max_depth=1, total=   0.9s\n",
      "[CV] ct__num_trans__num_impute__strategy=median, rfc__criterion=entropy, rfc__max_depth=1 \n",
      "[CV]  ct__num_trans__num_impute__strategy=median, rfc__criterion=entropy, rfc__max_depth=1, total=   0.9s\n",
      "[CV] ct__num_trans__num_impute__strategy=median, rfc__criterion=entropy, rfc__max_depth=1 \n",
      "[CV]  ct__num_trans__num_impute__strategy=median, rfc__criterion=entropy, rfc__max_depth=1, total=   0.9s\n",
      "[CV] ct__num_trans__num_impute__strategy=median, rfc__criterion=entropy, rfc__max_depth=1 \n",
      "[CV]  ct__num_trans__num_impute__strategy=median, rfc__criterion=entropy, rfc__max_depth=1, total=   0.9s\n",
      "[CV] ct__num_trans__num_impute__strategy=median, rfc__criterion=entropy, rfc__max_depth=1 \n",
      "[CV]  ct__num_trans__num_impute__strategy=median, rfc__criterion=entropy, rfc__max_depth=1, total=   0.9s\n",
      "[CV] ct__num_trans__num_impute__strategy=median, rfc__criterion=entropy, rfc__max_depth=1 \n",
      "[CV]  ct__num_trans__num_impute__strategy=median, rfc__criterion=entropy, rfc__max_depth=1, total=   0.9s\n",
      "[CV] ct__num_trans__num_impute__strategy=median, rfc__criterion=entropy, rfc__max_depth=1 \n",
      "[CV]  ct__num_trans__num_impute__strategy=median, rfc__criterion=entropy, rfc__max_depth=1, total=   0.9s\n",
      "[CV] ct__num_trans__num_impute__strategy=median, rfc__criterion=entropy, rfc__max_depth=1 \n",
      "[CV]  ct__num_trans__num_impute__strategy=median, rfc__criterion=entropy, rfc__max_depth=1, total=   0.9s\n",
      "[CV] ct__num_trans__num_impute__strategy=median, rfc__criterion=entropy, rfc__max_depth=1 \n",
      "[CV]  ct__num_trans__num_impute__strategy=median, rfc__criterion=entropy, rfc__max_depth=1, total=   0.9s\n",
      "[CV] ct__num_trans__num_impute__strategy=median, rfc__criterion=entropy, rfc__max_depth=3 \n",
      "[CV]  ct__num_trans__num_impute__strategy=median, rfc__criterion=entropy, rfc__max_depth=3, total=   1.5s\n",
      "[CV] ct__num_trans__num_impute__strategy=median, rfc__criterion=entropy, rfc__max_depth=3 \n",
      "[CV]  ct__num_trans__num_impute__strategy=median, rfc__criterion=entropy, rfc__max_depth=3, total=   1.5s\n",
      "[CV] ct__num_trans__num_impute__strategy=median, rfc__criterion=entropy, rfc__max_depth=3 \n",
      "[CV]  ct__num_trans__num_impute__strategy=median, rfc__criterion=entropy, rfc__max_depth=3, total=   1.5s\n",
      "[CV] ct__num_trans__num_impute__strategy=median, rfc__criterion=entropy, rfc__max_depth=3 \n",
      "[CV]  ct__num_trans__num_impute__strategy=median, rfc__criterion=entropy, rfc__max_depth=3, total=   1.5s\n",
      "[CV] ct__num_trans__num_impute__strategy=median, rfc__criterion=entropy, rfc__max_depth=3 \n",
      "[CV]  ct__num_trans__num_impute__strategy=median, rfc__criterion=entropy, rfc__max_depth=3, total=   1.5s\n",
      "[CV] ct__num_trans__num_impute__strategy=median, rfc__criterion=entropy, rfc__max_depth=3 \n",
      "[CV]  ct__num_trans__num_impute__strategy=median, rfc__criterion=entropy, rfc__max_depth=3, total=   1.5s\n",
      "[CV] ct__num_trans__num_impute__strategy=median, rfc__criterion=entropy, rfc__max_depth=3 \n",
      "[CV]  ct__num_trans__num_impute__strategy=median, rfc__criterion=entropy, rfc__max_depth=3, total=   1.5s\n",
      "[CV] ct__num_trans__num_impute__strategy=median, rfc__criterion=entropy, rfc__max_depth=3 \n",
      "[CV]  ct__num_trans__num_impute__strategy=median, rfc__criterion=entropy, rfc__max_depth=3, total=   1.5s\n",
      "[CV] ct__num_trans__num_impute__strategy=median, rfc__criterion=entropy, rfc__max_depth=3 \n",
      "[CV]  ct__num_trans__num_impute__strategy=median, rfc__criterion=entropy, rfc__max_depth=3, total=   1.5s\n",
      "[CV] ct__num_trans__num_impute__strategy=median, rfc__criterion=entropy, rfc__max_depth=3 \n",
      "[CV]  ct__num_trans__num_impute__strategy=median, rfc__criterion=entropy, rfc__max_depth=3, total=   1.5s\n",
      "[CV] ct__num_trans__num_impute__strategy=median, rfc__criterion=entropy, rfc__max_depth=5 \n",
      "[CV]  ct__num_trans__num_impute__strategy=median, rfc__criterion=entropy, rfc__max_depth=5, total=   2.1s\n",
      "[CV] ct__num_trans__num_impute__strategy=median, rfc__criterion=entropy, rfc__max_depth=5 \n",
      "[CV]  ct__num_trans__num_impute__strategy=median, rfc__criterion=entropy, rfc__max_depth=5, total=   2.0s\n",
      "[CV] ct__num_trans__num_impute__strategy=median, rfc__criterion=entropy, rfc__max_depth=5 \n",
      "[CV]  ct__num_trans__num_impute__strategy=median, rfc__criterion=entropy, rfc__max_depth=5, total=   2.0s\n",
      "[CV] ct__num_trans__num_impute__strategy=median, rfc__criterion=entropy, rfc__max_depth=5 \n",
      "[CV]  ct__num_trans__num_impute__strategy=median, rfc__criterion=entropy, rfc__max_depth=5, total=   2.1s\n",
      "[CV] ct__num_trans__num_impute__strategy=median, rfc__criterion=entropy, rfc__max_depth=5 \n",
      "[CV]  ct__num_trans__num_impute__strategy=median, rfc__criterion=entropy, rfc__max_depth=5, total=   2.1s\n",
      "[CV] ct__num_trans__num_impute__strategy=median, rfc__criterion=entropy, rfc__max_depth=5 \n",
      "[CV]  ct__num_trans__num_impute__strategy=median, rfc__criterion=entropy, rfc__max_depth=5, total=   2.1s\n",
      "[CV] ct__num_trans__num_impute__strategy=median, rfc__criterion=entropy, rfc__max_depth=5 \n",
      "[CV]  ct__num_trans__num_impute__strategy=median, rfc__criterion=entropy, rfc__max_depth=5, total=   2.1s\n",
      "[CV] ct__num_trans__num_impute__strategy=median, rfc__criterion=entropy, rfc__max_depth=5 \n",
      "[CV]  ct__num_trans__num_impute__strategy=median, rfc__criterion=entropy, rfc__max_depth=5, total=   2.1s\n",
      "[CV] ct__num_trans__num_impute__strategy=median, rfc__criterion=entropy, rfc__max_depth=5 \n",
      "[CV]  ct__num_trans__num_impute__strategy=median, rfc__criterion=entropy, rfc__max_depth=5, total=   2.1s\n",
      "[CV] ct__num_trans__num_impute__strategy=median, rfc__criterion=entropy, rfc__max_depth=5 \n",
      "[CV]  ct__num_trans__num_impute__strategy=median, rfc__criterion=entropy, rfc__max_depth=5, total=   2.1s\n"
     ]
    },
    {
     "name": "stderr",
     "output_type": "stream",
     "text": [
      "[Parallel(n_jobs=1)]: Done 120 out of 120 | elapsed:  3.0min finished\n"
     ]
    },
    {
     "data": {
      "text/plain": [
       "GridSearchCV(cv=10,\n",
       "             estimator=Pipeline(steps=[('ct',\n",
       "                                        ColumnTransformer(remainder='passthrough',\n",
       "                                                          transformers=[('num_trans',\n",
       "                                                                         Pipeline(steps=[('num_impute',\n",
       "                                                                                          SimpleImputer()),\n",
       "                                                                                         ('ss',\n",
       "                                                                                          StandardScaler())]),\n",
       "                                                                         <sklearn.compose._column_transformer.make_column_selector object at 0x0000012791B8A220>),\n",
       "                                                                        ('cat_trans',\n",
       "                                                                         Pipeline(steps=[('cat_impute',\n",
       "                                                                                          SimpleImputer(strategy='most...quent')),\n",
       "                                                                                         ('ohe',\n",
       "                                                                                          OneHotEncoder(handle_unknown='ignore',\n",
       "                                                                                                        sparse=False))]),\n",
       "                                                                         <sklearn.compose._column_transformer.make_column_selector object at 0x0000012791B8A2B0>)])),\n",
       "                                       ('rfc',\n",
       "                                        RandomForestClassifier(random_state=42))]),\n",
       "             param_grid={'ct__num_trans__num_impute__strategy': ['mean',\n",
       "                                                                 'median'],\n",
       "                         'rfc__criterion': ['gini', 'entropy'],\n",
       "                         'rfc__max_depth': [1, 3, 5]},\n",
       "             verbose=2)"
      ]
     },
     "execution_count": 71,
     "metadata": {},
     "output_type": "execute_result"
    }
   ],
   "source": [
    "# Set up parameters:\n",
    "params = {\n",
    "    'ct__num_trans__num_impute__strategy':['mean','median'],\n",
    "    'rfc__criterion':['gini','entropy'],\n",
    "    'rfc__max_depth':[1,3,5]\n",
    "}\n",
    "\n",
    "# Set up GridSearchCV and fit training data:\n",
    "gs_rfc = GridSearchCV(estimator=rfc_model_pipe, param_grid=params, cv=10, verbose=2)\n",
    "\n",
    "gs_rfc.fit(X_train, y_train)"
   ]
  },
  {
   "cell_type": "code",
   "execution_count": 72,
   "metadata": {
    "ExecuteTime": {
     "end_time": "2023-01-01T08:00:20.708901Z",
     "start_time": "2023-01-01T08:00:20.680173Z"
    }
   },
   "outputs": [
    {
     "data": {
      "text/plain": [
       "{'ct__num_trans__num_impute__strategy': 'mean',\n",
       " 'rfc__criterion': 'gini',\n",
       " 'rfc__max_depth': 1}"
      ]
     },
     "execution_count": 72,
     "metadata": {},
     "output_type": "execute_result"
    }
   ],
   "source": [
    "gs_rfc.best_params_"
   ]
  },
  {
   "cell_type": "code",
   "execution_count": 73,
   "metadata": {
    "ExecuteTime": {
     "end_time": "2023-01-01T08:00:25.216945Z",
     "start_time": "2023-01-01T08:00:25.201078Z"
    }
   },
   "outputs": [
    {
     "data": {
      "text/plain": [
       "0.9113590141175871"
      ]
     },
     "execution_count": 73,
     "metadata": {},
     "output_type": "execute_result"
    }
   ],
   "source": [
    "tunedRfc_score_train = gs_rfc.best_score_\n",
    "tunedRfc_score_train"
   ]
  },
  {
   "cell_type": "code",
   "execution_count": 74,
   "metadata": {
    "ExecuteTime": {
     "end_time": "2023-01-01T08:00:28.461914Z",
     "start_time": "2023-01-01T08:00:28.344202Z"
    }
   },
   "outputs": [
    {
     "data": {
      "text/plain": [
       "0.9050460500713452"
      ]
     },
     "execution_count": 74,
     "metadata": {},
     "output_type": "execute_result"
    }
   ],
   "source": [
    "# Validate with testing data:\n",
    "tunedRfc_score_test = gs_rfc.best_estimator_.score(X_test, y_test)\n",
    "tunedRfc_score_test"
   ]
  },
  {
   "cell_type": "markdown",
   "metadata": {},
   "source": [
    "## Imblearn Pipelines\n",
    "Dealing with the Target Imbalance, let's use SMOTE."
   ]
  },
  {
   "cell_type": "code",
   "execution_count": 75,
   "metadata": {
    "ExecuteTime": {
     "end_time": "2023-01-01T08:02:04.579940Z",
     "start_time": "2023-01-01T08:02:04.568943Z"
    }
   },
   "outputs": [],
   "source": [
    "sm = SMOTE(sampling_strategy='auto', random_state=42)"
   ]
  },
  {
   "cell_type": "code",
   "execution_count": 76,
   "metadata": {
    "ExecuteTime": {
     "end_time": "2023-01-01T08:02:05.526384Z",
     "start_time": "2023-01-01T08:02:05.504424Z"
    }
   },
   "outputs": [],
   "source": [
    "# To make things simple (and avoid errors!), let's just grab the numeric types and eliminate the NaNs from X_train:\n",
    "\n",
    "X_train_clean = X_train.select_dtypes('int64').dropna()\n",
    "y_train_clean = y_train[X_train_clean.index]"
   ]
  },
  {
   "cell_type": "code",
   "execution_count": 77,
   "metadata": {
    "ExecuteTime": {
     "end_time": "2023-01-01T08:02:09.796018Z",
     "start_time": "2023-01-01T08:02:09.769315Z"
    }
   },
   "outputs": [
    {
     "data": {
      "text/plain": [
       "254058    1\n",
       "395530    1\n",
       "38984     1\n",
       "95719     1\n",
       "316284    1\n",
       "         ..\n",
       "416463    1\n",
       "83974     1\n",
       "22656     1\n",
       "219809    1\n",
       "325375    1\n",
       "Name: DAMAGE, Length: 23127, dtype: object"
      ]
     },
     "execution_count": 77,
     "metadata": {},
     "output_type": "execute_result"
    }
   ],
   "source": [
    "y_train_clean"
   ]
  },
  {
   "cell_type": "code",
   "execution_count": 78,
   "metadata": {
    "ExecuteTime": {
     "end_time": "2023-01-01T08:02:10.936320Z",
     "start_time": "2023-01-01T08:02:10.865071Z"
    }
   },
   "outputs": [
    {
     "data": {
      "text/plain": [
       "0    21077\n",
       "1    21077\n",
       "Name: DAMAGE, dtype: int64"
      ]
     },
     "execution_count": 78,
     "metadata": {},
     "output_type": "execute_result"
    }
   ],
   "source": [
    "# Even distribution\n",
    "\n",
    "X_clean_resmp, y_clean_resmp = sm.fit_resample(X_train_clean, y_train_clean)\n",
    "\n",
    "y_clean_resmp.value_counts()"
   ]
  },
  {
   "cell_type": "markdown",
   "metadata": {},
   "source": [
    "### Model 8: ImPipleline with SMOTE (sampling_strategy='auto') and Random Forest Model"
   ]
  },
  {
   "cell_type": "code",
   "execution_count": 79,
   "metadata": {
    "ExecuteTime": {
     "end_time": "2023-01-01T08:02:47.593032Z",
     "start_time": "2023-01-01T08:02:15.072488Z"
    }
   },
   "outputs": [
    {
     "data": {
      "text/plain": [
       "Pipeline(steps=[('ct',\n",
       "                 ColumnTransformer(remainder='passthrough',\n",
       "                                   transformers=[('num_trans',\n",
       "                                                  Pipeline(steps=[('num_impute',\n",
       "                                                                   SimpleImputer()),\n",
       "                                                                  ('ss',\n",
       "                                                                   StandardScaler())]),\n",
       "                                                  <sklearn.compose._column_transformer.make_column_selector object at 0x0000012791B8A220>),\n",
       "                                                 ('cat_trans',\n",
       "                                                  Pipeline(steps=[('cat_impute',\n",
       "                                                                   SimpleImputer(strategy='most_frequent')),\n",
       "                                                                  ('ohe',\n",
       "                                                                   OneHotEncoder(handle_unknown='ignore',\n",
       "                                                                                 sparse=False))]),\n",
       "                                                  <sklearn.compose._column_transformer.make_column_selector object at 0x0000012791B8A2B0>)])),\n",
       "                ('sm', SMOTE(random_state=42)),\n",
       "                ('rfc', RandomForestClassifier(random_state=42))])"
      ]
     },
     "execution_count": 79,
     "metadata": {},
     "output_type": "execute_result"
    }
   ],
   "source": [
    "# imbpipe!\n",
    "\n",
    "imb_pipe= ImPipeline(steps=[\n",
    "    ('ct',CT),\n",
    "    ('sm',SMOTE(random_state=42)),\n",
    "    ('rfc',RandomForestClassifier(random_state=42)),\n",
    "])\n",
    "\n",
    "imb_pipe.fit(X_train, y_train)"
   ]
  },
  {
   "cell_type": "code",
   "execution_count": 80,
   "metadata": {
    "ExecuteTime": {
     "end_time": "2023-01-01T08:03:02.381595Z",
     "start_time": "2023-01-01T08:03:01.033186Z"
    }
   },
   "outputs": [
    {
     "data": {
      "text/plain": [
       "0.9904008301984694"
      ]
     },
     "execution_count": 80,
     "metadata": {},
     "output_type": "execute_result"
    }
   ],
   "source": [
    "imbRfc_score_train = imb_pipe.score(X_train, y_train)\n",
    "imbRfc_score_train"
   ]
  },
  {
   "cell_type": "code",
   "execution_count": 81,
   "metadata": {
    "ExecuteTime": {
     "end_time": "2023-01-01T08:03:03.891658Z",
     "start_time": "2023-01-01T08:03:03.488856Z"
    }
   },
   "outputs": [
    {
     "data": {
      "text/plain": [
       "0.8425217278505642"
      ]
     },
     "execution_count": 81,
     "metadata": {},
     "output_type": "execute_result"
    }
   ],
   "source": [
    "# Validate with testing data:\n",
    "imbRfc_score_test = imb_pipe.score(X_test, y_test)\n",
    "imbRfc_score_test"
   ]
  },
  {
   "cell_type": "markdown",
   "metadata": {},
   "source": [
    "### Model 8-1: ImPipleline with SMOTE (sampling_strategy=0.8) and Random Forest Model"
   ]
  },
  {
   "cell_type": "code",
   "execution_count": 82,
   "metadata": {
    "ExecuteTime": {
     "end_time": "2023-01-01T08:03:47.009922Z",
     "start_time": "2023-01-01T08:03:18.513490Z"
    }
   },
   "outputs": [
    {
     "data": {
      "text/plain": [
       "Pipeline(steps=[('ct',\n",
       "                 ColumnTransformer(remainder='passthrough',\n",
       "                                   transformers=[('num_trans',\n",
       "                                                  Pipeline(steps=[('num_impute',\n",
       "                                                                   SimpleImputer()),\n",
       "                                                                  ('ss',\n",
       "                                                                   StandardScaler())]),\n",
       "                                                  <sklearn.compose._column_transformer.make_column_selector object at 0x0000012791B8A220>),\n",
       "                                                 ('cat_trans',\n",
       "                                                  Pipeline(steps=[('cat_impute',\n",
       "                                                                   SimpleImputer(strategy='most_frequent')),\n",
       "                                                                  ('ohe',\n",
       "                                                                   OneHotEncoder(handle_unknown='ignore',\n",
       "                                                                                 sparse=False))]),\n",
       "                                                  <sklearn.compose._column_transformer.make_column_selector object at 0x0000012791B8A2B0>)])),\n",
       "                ('sm', SMOTE(random_state=42, sampling_strategy=0.8)),\n",
       "                ('rfc', RandomForestClassifier(random_state=42))])"
      ]
     },
     "execution_count": 82,
     "metadata": {},
     "output_type": "execute_result"
    }
   ],
   "source": [
    "imb_pipe80= ImPipeline(steps=[\n",
    "    ('ct',CT),\n",
    "    ('sm',SMOTE(sampling_strategy=0.8, random_state=42)),\n",
    "    ('rfc',RandomForestClassifier(random_state=42)),\n",
    "])\n",
    "\n",
    "imb_pipe80.fit(X_train, y_train)"
   ]
  },
  {
   "cell_type": "code",
   "execution_count": 83,
   "metadata": {
    "ExecuteTime": {
     "end_time": "2023-01-01T08:03:59.858694Z",
     "start_time": "2023-01-01T08:03:58.512127Z"
    }
   },
   "outputs": [
    {
     "data": {
      "text/plain": [
       "0.9904008301984694"
      ]
     },
     "execution_count": 83,
     "metadata": {},
     "output_type": "execute_result"
    }
   ],
   "source": [
    "imbRfc80_score_train = imb_pipe.score(X_train, y_train)\n",
    "imbRfc80_score_train"
   ]
  },
  {
   "cell_type": "code",
   "execution_count": 84,
   "metadata": {
    "ExecuteTime": {
     "end_time": "2023-01-01T08:04:01.459925Z",
     "start_time": "2023-01-01T08:04:01.065206Z"
    }
   },
   "outputs": [
    {
     "data": {
      "text/plain": [
       "0.8425217278505642"
      ]
     },
     "execution_count": 84,
     "metadata": {},
     "output_type": "execute_result"
    }
   ],
   "source": [
    "# Validate with testing data:\n",
    "imbRfc80_score_test = imb_pipe.score(X_test, y_test)\n",
    "imbRfc80_score_test"
   ]
  },
  {
   "cell_type": "markdown",
   "metadata": {},
   "source": [
    "### Model 9: Gridsearching with SMOTE and Random Forest Model"
   ]
  },
  {
   "cell_type": "code",
   "execution_count": 91,
   "metadata": {
    "ExecuteTime": {
     "end_time": "2023-01-01T09:29:50.410060Z",
     "start_time": "2023-01-01T08:49:21.018498Z"
    }
   },
   "outputs": [
    {
     "name": "stdout",
     "output_type": "stream",
     "text": [
      "Fitting 10 folds for each of 8 candidates, totalling 80 fits\n",
      "[CV] rfc__criterion=gini, rfc__min_samples_leaf=1, sm__k_neighbors=3 .\n"
     ]
    },
    {
     "name": "stderr",
     "output_type": "stream",
     "text": [
      "[Parallel(n_jobs=1)]: Using backend SequentialBackend with 1 concurrent workers.\n"
     ]
    },
    {
     "name": "stdout",
     "output_type": "stream",
     "text": [
      "[CV]  rfc__criterion=gini, rfc__min_samples_leaf=1, sm__k_neighbors=3, total=  29.7s\n",
      "[CV] rfc__criterion=gini, rfc__min_samples_leaf=1, sm__k_neighbors=3 .\n"
     ]
    },
    {
     "name": "stderr",
     "output_type": "stream",
     "text": [
      "[Parallel(n_jobs=1)]: Done   1 out of   1 | elapsed:   29.6s remaining:    0.0s\n"
     ]
    },
    {
     "name": "stdout",
     "output_type": "stream",
     "text": [
      "[CV]  rfc__criterion=gini, rfc__min_samples_leaf=1, sm__k_neighbors=3, total=  29.7s\n",
      "[CV] rfc__criterion=gini, rfc__min_samples_leaf=1, sm__k_neighbors=3 .\n",
      "[CV]  rfc__criterion=gini, rfc__min_samples_leaf=1, sm__k_neighbors=3, total=  28.6s\n",
      "[CV] rfc__criterion=gini, rfc__min_samples_leaf=1, sm__k_neighbors=3 .\n",
      "[CV]  rfc__criterion=gini, rfc__min_samples_leaf=1, sm__k_neighbors=3, total=  29.0s\n",
      "[CV] rfc__criterion=gini, rfc__min_samples_leaf=1, sm__k_neighbors=3 .\n",
      "[CV]  rfc__criterion=gini, rfc__min_samples_leaf=1, sm__k_neighbors=3, total=  31.7s\n",
      "[CV] rfc__criterion=gini, rfc__min_samples_leaf=1, sm__k_neighbors=3 .\n",
      "[CV]  rfc__criterion=gini, rfc__min_samples_leaf=1, sm__k_neighbors=3, total=  29.7s\n",
      "[CV] rfc__criterion=gini, rfc__min_samples_leaf=1, sm__k_neighbors=3 .\n",
      "[CV]  rfc__criterion=gini, rfc__min_samples_leaf=1, sm__k_neighbors=3, total=  29.4s\n",
      "[CV] rfc__criterion=gini, rfc__min_samples_leaf=1, sm__k_neighbors=3 .\n",
      "[CV]  rfc__criterion=gini, rfc__min_samples_leaf=1, sm__k_neighbors=3, total=  29.3s\n",
      "[CV] rfc__criterion=gini, rfc__min_samples_leaf=1, sm__k_neighbors=3 .\n",
      "[CV]  rfc__criterion=gini, rfc__min_samples_leaf=1, sm__k_neighbors=3, total=  29.1s\n",
      "[CV] rfc__criterion=gini, rfc__min_samples_leaf=1, sm__k_neighbors=3 .\n",
      "[CV]  rfc__criterion=gini, rfc__min_samples_leaf=1, sm__k_neighbors=3, total=  28.4s\n",
      "[CV] rfc__criterion=gini, rfc__min_samples_leaf=1, sm__k_neighbors=5 .\n",
      "[CV]  rfc__criterion=gini, rfc__min_samples_leaf=1, sm__k_neighbors=5, total=  27.0s\n",
      "[CV] rfc__criterion=gini, rfc__min_samples_leaf=1, sm__k_neighbors=5 .\n",
      "[CV]  rfc__criterion=gini, rfc__min_samples_leaf=1, sm__k_neighbors=5, total=  26.2s\n",
      "[CV] rfc__criterion=gini, rfc__min_samples_leaf=1, sm__k_neighbors=5 .\n",
      "[CV]  rfc__criterion=gini, rfc__min_samples_leaf=1, sm__k_neighbors=5, total=  27.5s\n",
      "[CV] rfc__criterion=gini, rfc__min_samples_leaf=1, sm__k_neighbors=5 .\n",
      "[CV]  rfc__criterion=gini, rfc__min_samples_leaf=1, sm__k_neighbors=5, total=  26.1s\n",
      "[CV] rfc__criterion=gini, rfc__min_samples_leaf=1, sm__k_neighbors=5 .\n",
      "[CV]  rfc__criterion=gini, rfc__min_samples_leaf=1, sm__k_neighbors=5, total=  28.1s\n",
      "[CV] rfc__criterion=gini, rfc__min_samples_leaf=1, sm__k_neighbors=5 .\n",
      "[CV]  rfc__criterion=gini, rfc__min_samples_leaf=1, sm__k_neighbors=5, total=  27.3s\n",
      "[CV] rfc__criterion=gini, rfc__min_samples_leaf=1, sm__k_neighbors=5 .\n",
      "[CV]  rfc__criterion=gini, rfc__min_samples_leaf=1, sm__k_neighbors=5, total=  26.9s\n",
      "[CV] rfc__criterion=gini, rfc__min_samples_leaf=1, sm__k_neighbors=5 .\n",
      "[CV]  rfc__criterion=gini, rfc__min_samples_leaf=1, sm__k_neighbors=5, total=  27.5s\n",
      "[CV] rfc__criterion=gini, rfc__min_samples_leaf=1, sm__k_neighbors=5 .\n",
      "[CV]  rfc__criterion=gini, rfc__min_samples_leaf=1, sm__k_neighbors=5, total=  26.5s\n",
      "[CV] rfc__criterion=gini, rfc__min_samples_leaf=1, sm__k_neighbors=5 .\n",
      "[CV]  rfc__criterion=gini, rfc__min_samples_leaf=1, sm__k_neighbors=5, total=  26.4s\n",
      "[CV] rfc__criterion=gini, rfc__min_samples_leaf=3, sm__k_neighbors=3 .\n",
      "[CV]  rfc__criterion=gini, rfc__min_samples_leaf=3, sm__k_neighbors=3, total=  26.9s\n",
      "[CV] rfc__criterion=gini, rfc__min_samples_leaf=3, sm__k_neighbors=3 .\n",
      "[CV]  rfc__criterion=gini, rfc__min_samples_leaf=3, sm__k_neighbors=3, total=  27.8s\n",
      "[CV] rfc__criterion=gini, rfc__min_samples_leaf=3, sm__k_neighbors=3 .\n",
      "[CV]  rfc__criterion=gini, rfc__min_samples_leaf=3, sm__k_neighbors=3, total=  26.3s\n",
      "[CV] rfc__criterion=gini, rfc__min_samples_leaf=3, sm__k_neighbors=3 .\n",
      "[CV]  rfc__criterion=gini, rfc__min_samples_leaf=3, sm__k_neighbors=3, total=  26.5s\n",
      "[CV] rfc__criterion=gini, rfc__min_samples_leaf=3, sm__k_neighbors=3 .\n",
      "[CV]  rfc__criterion=gini, rfc__min_samples_leaf=3, sm__k_neighbors=3, total=  29.6s\n",
      "[CV] rfc__criterion=gini, rfc__min_samples_leaf=3, sm__k_neighbors=3 .\n",
      "[CV]  rfc__criterion=gini, rfc__min_samples_leaf=3, sm__k_neighbors=3, total=  27.9s\n",
      "[CV] rfc__criterion=gini, rfc__min_samples_leaf=3, sm__k_neighbors=3 .\n",
      "[CV]  rfc__criterion=gini, rfc__min_samples_leaf=3, sm__k_neighbors=3, total=  27.0s\n",
      "[CV] rfc__criterion=gini, rfc__min_samples_leaf=3, sm__k_neighbors=3 .\n",
      "[CV]  rfc__criterion=gini, rfc__min_samples_leaf=3, sm__k_neighbors=3, total=  27.8s\n",
      "[CV] rfc__criterion=gini, rfc__min_samples_leaf=3, sm__k_neighbors=3 .\n",
      "[CV]  rfc__criterion=gini, rfc__min_samples_leaf=3, sm__k_neighbors=3, total=  26.4s\n",
      "[CV] rfc__criterion=gini, rfc__min_samples_leaf=3, sm__k_neighbors=3 .\n",
      "[CV]  rfc__criterion=gini, rfc__min_samples_leaf=3, sm__k_neighbors=3, total=  26.4s\n",
      "[CV] rfc__criterion=gini, rfc__min_samples_leaf=3, sm__k_neighbors=5 .\n",
      "[CV]  rfc__criterion=gini, rfc__min_samples_leaf=3, sm__k_neighbors=5, total=  24.6s\n",
      "[CV] rfc__criterion=gini, rfc__min_samples_leaf=3, sm__k_neighbors=5 .\n",
      "[CV]  rfc__criterion=gini, rfc__min_samples_leaf=3, sm__k_neighbors=5, total=  23.8s\n",
      "[CV] rfc__criterion=gini, rfc__min_samples_leaf=3, sm__k_neighbors=5 .\n",
      "[CV]  rfc__criterion=gini, rfc__min_samples_leaf=3, sm__k_neighbors=5, total=  25.0s\n",
      "[CV] rfc__criterion=gini, rfc__min_samples_leaf=3, sm__k_neighbors=5 .\n",
      "[CV]  rfc__criterion=gini, rfc__min_samples_leaf=3, sm__k_neighbors=5, total=  24.3s\n",
      "[CV] rfc__criterion=gini, rfc__min_samples_leaf=3, sm__k_neighbors=5 .\n",
      "[CV]  rfc__criterion=gini, rfc__min_samples_leaf=3, sm__k_neighbors=5, total=  25.8s\n",
      "[CV] rfc__criterion=gini, rfc__min_samples_leaf=3, sm__k_neighbors=5 .\n",
      "[CV]  rfc__criterion=gini, rfc__min_samples_leaf=3, sm__k_neighbors=5, total=  25.3s\n",
      "[CV] rfc__criterion=gini, rfc__min_samples_leaf=3, sm__k_neighbors=5 .\n",
      "[CV]  rfc__criterion=gini, rfc__min_samples_leaf=3, sm__k_neighbors=5, total=  25.0s\n",
      "[CV] rfc__criterion=gini, rfc__min_samples_leaf=3, sm__k_neighbors=5 .\n",
      "[CV]  rfc__criterion=gini, rfc__min_samples_leaf=3, sm__k_neighbors=5, total=  25.2s\n",
      "[CV] rfc__criterion=gini, rfc__min_samples_leaf=3, sm__k_neighbors=5 .\n",
      "[CV]  rfc__criterion=gini, rfc__min_samples_leaf=3, sm__k_neighbors=5, total=  24.2s\n",
      "[CV] rfc__criterion=gini, rfc__min_samples_leaf=3, sm__k_neighbors=5 .\n",
      "[CV]  rfc__criterion=gini, rfc__min_samples_leaf=3, sm__k_neighbors=5, total=  23.9s\n",
      "[CV] rfc__criterion=entropy, rfc__min_samples_leaf=1, sm__k_neighbors=3 \n",
      "[CV]  rfc__criterion=entropy, rfc__min_samples_leaf=1, sm__k_neighbors=3, total=  33.6s\n",
      "[CV] rfc__criterion=entropy, rfc__min_samples_leaf=1, sm__k_neighbors=3 \n",
      "[CV]  rfc__criterion=entropy, rfc__min_samples_leaf=1, sm__k_neighbors=3, total=  34.0s\n",
      "[CV] rfc__criterion=entropy, rfc__min_samples_leaf=1, sm__k_neighbors=3 \n",
      "[CV]  rfc__criterion=entropy, rfc__min_samples_leaf=1, sm__k_neighbors=3, total=  32.6s\n",
      "[CV] rfc__criterion=entropy, rfc__min_samples_leaf=1, sm__k_neighbors=3 \n",
      "[CV]  rfc__criterion=entropy, rfc__min_samples_leaf=1, sm__k_neighbors=3, total=  32.7s\n",
      "[CV] rfc__criterion=entropy, rfc__min_samples_leaf=1, sm__k_neighbors=3 \n",
      "[CV]  rfc__criterion=entropy, rfc__min_samples_leaf=1, sm__k_neighbors=3, total=  37.1s\n",
      "[CV] rfc__criterion=entropy, rfc__min_samples_leaf=1, sm__k_neighbors=3 \n",
      "[CV]  rfc__criterion=entropy, rfc__min_samples_leaf=1, sm__k_neighbors=3, total=  34.1s\n",
      "[CV] rfc__criterion=entropy, rfc__min_samples_leaf=1, sm__k_neighbors=3 \n",
      "[CV]  rfc__criterion=entropy, rfc__min_samples_leaf=1, sm__k_neighbors=3, total=  32.8s\n",
      "[CV] rfc__criterion=entropy, rfc__min_samples_leaf=1, sm__k_neighbors=3 \n",
      "[CV]  rfc__criterion=entropy, rfc__min_samples_leaf=1, sm__k_neighbors=3, total=  34.4s\n",
      "[CV] rfc__criterion=entropy, rfc__min_samples_leaf=1, sm__k_neighbors=3 \n",
      "[CV]  rfc__criterion=entropy, rfc__min_samples_leaf=1, sm__k_neighbors=3, total=  33.4s\n",
      "[CV] rfc__criterion=entropy, rfc__min_samples_leaf=1, sm__k_neighbors=3 \n",
      "[CV]  rfc__criterion=entropy, rfc__min_samples_leaf=1, sm__k_neighbors=3, total=  33.2s\n",
      "[CV] rfc__criterion=entropy, rfc__min_samples_leaf=1, sm__k_neighbors=5 \n",
      "[CV]  rfc__criterion=entropy, rfc__min_samples_leaf=1, sm__k_neighbors=5, total=  31.0s\n",
      "[CV] rfc__criterion=entropy, rfc__min_samples_leaf=1, sm__k_neighbors=5 \n",
      "[CV]  rfc__criterion=entropy, rfc__min_samples_leaf=1, sm__k_neighbors=5, total=  29.8s\n",
      "[CV] rfc__criterion=entropy, rfc__min_samples_leaf=1, sm__k_neighbors=5 \n",
      "[CV]  rfc__criterion=entropy, rfc__min_samples_leaf=1, sm__k_neighbors=5, total=  30.7s\n",
      "[CV] rfc__criterion=entropy, rfc__min_samples_leaf=1, sm__k_neighbors=5 \n",
      "[CV]  rfc__criterion=entropy, rfc__min_samples_leaf=1, sm__k_neighbors=5, total=  30.1s\n",
      "[CV] rfc__criterion=entropy, rfc__min_samples_leaf=1, sm__k_neighbors=5 \n"
     ]
    },
    {
     "name": "stdout",
     "output_type": "stream",
     "text": [
      "[CV]  rfc__criterion=entropy, rfc__min_samples_leaf=1, sm__k_neighbors=5, total=  32.5s\n",
      "[CV] rfc__criterion=entropy, rfc__min_samples_leaf=1, sm__k_neighbors=5 \n",
      "[CV]  rfc__criterion=entropy, rfc__min_samples_leaf=1, sm__k_neighbors=5, total=  32.5s\n",
      "[CV] rfc__criterion=entropy, rfc__min_samples_leaf=1, sm__k_neighbors=5 \n",
      "[CV]  rfc__criterion=entropy, rfc__min_samples_leaf=1, sm__k_neighbors=5, total=  31.9s\n",
      "[CV] rfc__criterion=entropy, rfc__min_samples_leaf=1, sm__k_neighbors=5 \n",
      "[CV]  rfc__criterion=entropy, rfc__min_samples_leaf=1, sm__k_neighbors=5, total=  31.4s\n",
      "[CV] rfc__criterion=entropy, rfc__min_samples_leaf=1, sm__k_neighbors=5 \n",
      "[CV]  rfc__criterion=entropy, rfc__min_samples_leaf=1, sm__k_neighbors=5, total=  30.2s\n",
      "[CV] rfc__criterion=entropy, rfc__min_samples_leaf=1, sm__k_neighbors=5 \n",
      "[CV]  rfc__criterion=entropy, rfc__min_samples_leaf=1, sm__k_neighbors=5, total=  30.1s\n",
      "[CV] rfc__criterion=entropy, rfc__min_samples_leaf=3, sm__k_neighbors=3 \n",
      "[CV]  rfc__criterion=entropy, rfc__min_samples_leaf=3, sm__k_neighbors=3, total=  31.5s\n",
      "[CV] rfc__criterion=entropy, rfc__min_samples_leaf=3, sm__k_neighbors=3 \n",
      "[CV]  rfc__criterion=entropy, rfc__min_samples_leaf=3, sm__k_neighbors=3, total=  33.3s\n",
      "[CV] rfc__criterion=entropy, rfc__min_samples_leaf=3, sm__k_neighbors=3 \n",
      "[CV]  rfc__criterion=entropy, rfc__min_samples_leaf=3, sm__k_neighbors=3, total=  33.2s\n",
      "[CV] rfc__criterion=entropy, rfc__min_samples_leaf=3, sm__k_neighbors=3 \n",
      "[CV]  rfc__criterion=entropy, rfc__min_samples_leaf=3, sm__k_neighbors=3, total=  33.7s\n",
      "[CV] rfc__criterion=entropy, rfc__min_samples_leaf=3, sm__k_neighbors=3 \n",
      "[CV]  rfc__criterion=entropy, rfc__min_samples_leaf=3, sm__k_neighbors=3, total=  37.5s\n",
      "[CV] rfc__criterion=entropy, rfc__min_samples_leaf=3, sm__k_neighbors=3 \n",
      "[CV]  rfc__criterion=entropy, rfc__min_samples_leaf=3, sm__k_neighbors=3, total=  34.8s\n",
      "[CV] rfc__criterion=entropy, rfc__min_samples_leaf=3, sm__k_neighbors=3 \n",
      "[CV]  rfc__criterion=entropy, rfc__min_samples_leaf=3, sm__k_neighbors=3, total=  33.9s\n",
      "[CV] rfc__criterion=entropy, rfc__min_samples_leaf=3, sm__k_neighbors=3 \n",
      "[CV]  rfc__criterion=entropy, rfc__min_samples_leaf=3, sm__k_neighbors=3, total=  35.0s\n",
      "[CV] rfc__criterion=entropy, rfc__min_samples_leaf=3, sm__k_neighbors=3 \n",
      "[CV]  rfc__criterion=entropy, rfc__min_samples_leaf=3, sm__k_neighbors=3, total=  34.1s\n",
      "[CV] rfc__criterion=entropy, rfc__min_samples_leaf=3, sm__k_neighbors=3 \n",
      "[CV]  rfc__criterion=entropy, rfc__min_samples_leaf=3, sm__k_neighbors=3, total=  33.6s\n",
      "[CV] rfc__criterion=entropy, rfc__min_samples_leaf=3, sm__k_neighbors=5 \n",
      "[CV]  rfc__criterion=entropy, rfc__min_samples_leaf=3, sm__k_neighbors=5, total=  30.8s\n",
      "[CV] rfc__criterion=entropy, rfc__min_samples_leaf=3, sm__k_neighbors=5 \n",
      "[CV]  rfc__criterion=entropy, rfc__min_samples_leaf=3, sm__k_neighbors=5, total=  30.2s\n",
      "[CV] rfc__criterion=entropy, rfc__min_samples_leaf=3, sm__k_neighbors=5 \n",
      "[CV]  rfc__criterion=entropy, rfc__min_samples_leaf=3, sm__k_neighbors=5, total=  30.1s\n",
      "[CV] rfc__criterion=entropy, rfc__min_samples_leaf=3, sm__k_neighbors=5 \n",
      "[CV]  rfc__criterion=entropy, rfc__min_samples_leaf=3, sm__k_neighbors=5, total=  30.9s\n",
      "[CV] rfc__criterion=entropy, rfc__min_samples_leaf=3, sm__k_neighbors=5 \n",
      "[CV]  rfc__criterion=entropy, rfc__min_samples_leaf=3, sm__k_neighbors=5, total=  32.6s\n",
      "[CV] rfc__criterion=entropy, rfc__min_samples_leaf=3, sm__k_neighbors=5 \n",
      "[CV]  rfc__criterion=entropy, rfc__min_samples_leaf=3, sm__k_neighbors=5, total=  32.4s\n",
      "[CV] rfc__criterion=entropy, rfc__min_samples_leaf=3, sm__k_neighbors=5 \n",
      "[CV]  rfc__criterion=entropy, rfc__min_samples_leaf=3, sm__k_neighbors=5, total=  31.9s\n",
      "[CV] rfc__criterion=entropy, rfc__min_samples_leaf=3, sm__k_neighbors=5 \n",
      "[CV]  rfc__criterion=entropy, rfc__min_samples_leaf=3, sm__k_neighbors=5, total=  31.9s\n",
      "[CV] rfc__criterion=entropy, rfc__min_samples_leaf=3, sm__k_neighbors=5 \n",
      "[CV]  rfc__criterion=entropy, rfc__min_samples_leaf=3, sm__k_neighbors=5, total=  30.0s\n",
      "[CV] rfc__criterion=entropy, rfc__min_samples_leaf=3, sm__k_neighbors=5 \n",
      "[CV]  rfc__criterion=entropy, rfc__min_samples_leaf=3, sm__k_neighbors=5, total=  29.7s\n"
     ]
    },
    {
     "name": "stderr",
     "output_type": "stream",
     "text": [
      "[Parallel(n_jobs=1)]: Done  80 out of  80 | elapsed: 39.7min finished\n"
     ]
    },
    {
     "data": {
      "text/plain": [
       "GridSearchCV(cv=10,\n",
       "             estimator=Pipeline(steps=[('ct',\n",
       "                                        ColumnTransformer(remainder='passthrough',\n",
       "                                                          transformers=[('num_trans',\n",
       "                                                                         Pipeline(steps=[('num_impute',\n",
       "                                                                                          SimpleImputer()),\n",
       "                                                                                         ('ss',\n",
       "                                                                                          StandardScaler())]),\n",
       "                                                                         <sklearn.compose._column_transformer.make_column_selector object at 0x0000012791B8A220>),\n",
       "                                                                        ('cat_trans',\n",
       "                                                                         Pipeline(steps=[('cat_impute',\n",
       "                                                                                          SimpleImputer(strategy='most...nt')),\n",
       "                                                                                         ('ohe',\n",
       "                                                                                          OneHotEncoder(handle_unknown='ignore',\n",
       "                                                                                                        sparse=False))]),\n",
       "                                                                         <sklearn.compose._column_transformer.make_column_selector object at 0x0000012791B8A2B0>)])),\n",
       "                                       ('sm', SMOTE(random_state=42)),\n",
       "                                       ('rfc',\n",
       "                                        RandomForestClassifier(random_state=42))]),\n",
       "             param_grid={'rfc__criterion': ['gini', 'entropy'],\n",
       "                         'rfc__min_samples_leaf': [1, 3],\n",
       "                         'sm__k_neighbors': [3, 5]},\n",
       "             verbose=2)"
      ]
     },
     "execution_count": 91,
     "metadata": {},
     "output_type": "execute_result"
    }
   ],
   "source": [
    "parameters = {'rfc__criterion': ['gini', 'entropy'],\n",
    "          'rfc__min_samples_leaf': [1, 3],\n",
    "          'sm__k_neighbors': [3, 5]}\n",
    "\n",
    "gs_smote_rfc = GridSearchCV(estimator=imb_pipe,\n",
    "                 param_grid=parameters,\n",
    "                 cv=10, verbose=2)\n",
    "\n",
    "gs_smote_rfc.fit(X_train, y_train)"
   ]
  },
  {
   "cell_type": "code",
   "execution_count": 92,
   "metadata": {
    "ExecuteTime": {
     "end_time": "2023-01-01T15:05:26.781355Z",
     "start_time": "2023-01-01T15:05:26.765704Z"
    }
   },
   "outputs": [
    {
     "data": {
      "text/plain": [
       "{'rfc__criterion': 'entropy', 'rfc__min_samples_leaf': 1, 'sm__k_neighbors': 3}"
      ]
     },
     "execution_count": 92,
     "metadata": {},
     "output_type": "execute_result"
    }
   ],
   "source": [
    "gs_smote_rfc.best_params_"
   ]
  },
  {
   "cell_type": "code",
   "execution_count": 93,
   "metadata": {
    "ExecuteTime": {
     "end_time": "2023-01-01T15:05:31.198418Z",
     "start_time": "2023-01-01T15:05:29.838558Z"
    }
   },
   "outputs": [
    {
     "data": {
      "text/plain": [
       "0.9904440697020798"
      ]
     },
     "execution_count": 93,
     "metadata": {},
     "output_type": "execute_result"
    }
   ],
   "source": [
    "gsRfc_score_train = gs_smote_rfc.score(X_train, y_train)\n",
    "gsRfc_score_train"
   ]
  },
  {
   "cell_type": "code",
   "execution_count": 94,
   "metadata": {
    "ExecuteTime": {
     "end_time": "2023-01-01T15:05:33.446007Z",
     "start_time": "2023-01-01T15:05:32.990429Z"
    }
   },
   "outputs": [
    {
     "data": {
      "text/plain": [
       "0.8480996238163185"
      ]
     },
     "execution_count": 94,
     "metadata": {},
     "output_type": "execute_result"
    }
   ],
   "source": [
    "# Validate with testing data:\n",
    "gsRfc_score_test = gs_smote_rfc.score(X_test, y_test)\n",
    "gsRfc_score_test"
   ]
  },
  {
   "cell_type": "markdown",
   "metadata": {},
   "source": [
    "## Evaluation and Final Model\n",
    "\n",
    "### Bring the scores together from all models:"
   ]
  },
  {
   "cell_type": "code",
   "execution_count": 95,
   "metadata": {
    "ExecuteTime": {
     "end_time": "2023-01-01T15:05:38.119767Z",
     "start_time": "2023-01-01T15:05:38.103941Z"
    }
   },
   "outputs": [],
   "source": [
    "model_list = ['dummy', 'logreg', 'rfc', 'gbc', 'dtc', 'tunedLogreg', 'tunedRfc', 'imbRfc', 'gsRfc']\n",
    "\n",
    "score_train_list = [] \n",
    "score_test_list = []\n",
    "\n",
    "for i in model_list:\n",
    "    score_train_list.append(eval(i+'_score_train'))\n",
    "    score_test_list.append(eval(i+'_score_test'))\n"
   ]
  },
  {
   "cell_type": "code",
   "execution_count": 96,
   "metadata": {
    "ExecuteTime": {
     "end_time": "2023-01-01T15:05:40.690086Z",
     "start_time": "2023-01-01T15:05:40.668424Z"
    }
   },
   "outputs": [
    {
     "data": {
      "text/html": [
       "<div>\n",
       "<style scoped>\n",
       "    .dataframe tbody tr th:only-of-type {\n",
       "        vertical-align: middle;\n",
       "    }\n",
       "\n",
       "    .dataframe tbody tr th {\n",
       "        vertical-align: top;\n",
       "    }\n",
       "\n",
       "    .dataframe thead th {\n",
       "        text-align: right;\n",
       "    }\n",
       "</style>\n",
       "<table border=\"1\" class=\"dataframe\">\n",
       "  <thead>\n",
       "    <tr style=\"text-align: right;\">\n",
       "      <th></th>\n",
       "      <th>score_train</th>\n",
       "      <th>score_test</th>\n",
       "    </tr>\n",
       "  </thead>\n",
       "  <tbody>\n",
       "    <tr>\n",
       "      <th>dummy</th>\n",
       "      <td>0.911359</td>\n",
       "      <td>0.905046</td>\n",
       "    </tr>\n",
       "    <tr>\n",
       "      <th>logreg</th>\n",
       "      <td>0.911489</td>\n",
       "      <td>0.905046</td>\n",
       "    </tr>\n",
       "    <tr>\n",
       "      <th>rfc</th>\n",
       "      <td>0.893025</td>\n",
       "      <td>0.886236</td>\n",
       "    </tr>\n",
       "    <tr>\n",
       "      <th>gbc</th>\n",
       "      <td>0.911532</td>\n",
       "      <td>0.902711</td>\n",
       "    </tr>\n",
       "    <tr>\n",
       "      <th>dtc</th>\n",
       "      <td>0.835863</td>\n",
       "      <td>0.827733</td>\n",
       "    </tr>\n",
       "    <tr>\n",
       "      <th>tunedLogreg</th>\n",
       "      <td>0.911489</td>\n",
       "      <td>0.904916</td>\n",
       "    </tr>\n",
       "    <tr>\n",
       "      <th>tunedRfc</th>\n",
       "      <td>0.911359</td>\n",
       "      <td>0.905046</td>\n",
       "    </tr>\n",
       "    <tr>\n",
       "      <th>imbRfc</th>\n",
       "      <td>0.990401</td>\n",
       "      <td>0.842522</td>\n",
       "    </tr>\n",
       "    <tr>\n",
       "      <th>gsRfc</th>\n",
       "      <td>0.990444</td>\n",
       "      <td>0.848100</td>\n",
       "    </tr>\n",
       "  </tbody>\n",
       "</table>\n",
       "</div>"
      ],
      "text/plain": [
       "             score_train  score_test\n",
       "dummy           0.911359    0.905046\n",
       "logreg          0.911489    0.905046\n",
       "rfc             0.893025    0.886236\n",
       "gbc             0.911532    0.902711\n",
       "dtc             0.835863    0.827733\n",
       "tunedLogreg     0.911489    0.904916\n",
       "tunedRfc        0.911359    0.905046\n",
       "imbRfc          0.990401    0.842522\n",
       "gsRfc           0.990444    0.848100"
      ]
     },
     "execution_count": 96,
     "metadata": {},
     "output_type": "execute_result"
    }
   ],
   "source": [
    "df_score_train = pd.DataFrame (score_train_list, columns = ['score_train'], index=model_list)\n",
    "df_score_test = pd.DataFrame (score_test_list, columns = ['score_test'], index=model_list)\n",
    "df_score = pd.concat([df_score_train, df_score_test], axis=1)\n",
    "\n",
    "\n",
    "df_score"
   ]
  },
  {
   "cell_type": "code",
   "execution_count": 97,
   "metadata": {
    "ExecuteTime": {
     "end_time": "2023-01-01T15:05:44.181266Z",
     "start_time": "2023-01-01T15:05:44.160276Z"
    }
   },
   "outputs": [
    {
     "data": {
      "text/html": [
       "<div>\n",
       "<style scoped>\n",
       "    .dataframe tbody tr th:only-of-type {\n",
       "        vertical-align: middle;\n",
       "    }\n",
       "\n",
       "    .dataframe tbody tr th {\n",
       "        vertical-align: top;\n",
       "    }\n",
       "\n",
       "    .dataframe thead th {\n",
       "        text-align: right;\n",
       "    }\n",
       "</style>\n",
       "<table border=\"1\" class=\"dataframe\">\n",
       "  <thead>\n",
       "    <tr style=\"text-align: right;\">\n",
       "      <th></th>\n",
       "      <th>score_train</th>\n",
       "      <th>score_test</th>\n",
       "      <th>difference</th>\n",
       "    </tr>\n",
       "  </thead>\n",
       "  <tbody>\n",
       "    <tr>\n",
       "      <th>dummy</th>\n",
       "      <td>0.911359</td>\n",
       "      <td>0.905046</td>\n",
       "      <td>-0.006313</td>\n",
       "    </tr>\n",
       "    <tr>\n",
       "      <th>logreg</th>\n",
       "      <td>0.911489</td>\n",
       "      <td>0.905046</td>\n",
       "      <td>-0.006443</td>\n",
       "    </tr>\n",
       "    <tr>\n",
       "      <th>rfc</th>\n",
       "      <td>0.893025</td>\n",
       "      <td>0.886236</td>\n",
       "      <td>-0.006789</td>\n",
       "    </tr>\n",
       "    <tr>\n",
       "      <th>gbc</th>\n",
       "      <td>0.911532</td>\n",
       "      <td>0.902711</td>\n",
       "      <td>-0.008821</td>\n",
       "    </tr>\n",
       "    <tr>\n",
       "      <th>dtc</th>\n",
       "      <td>0.835863</td>\n",
       "      <td>0.827733</td>\n",
       "      <td>-0.008130</td>\n",
       "    </tr>\n",
       "    <tr>\n",
       "      <th>tunedLogreg</th>\n",
       "      <td>0.911489</td>\n",
       "      <td>0.904916</td>\n",
       "      <td>-0.006572</td>\n",
       "    </tr>\n",
       "    <tr>\n",
       "      <th>tunedRfc</th>\n",
       "      <td>0.911359</td>\n",
       "      <td>0.905046</td>\n",
       "      <td>-0.006313</td>\n",
       "    </tr>\n",
       "    <tr>\n",
       "      <th>imbRfc</th>\n",
       "      <td>0.990401</td>\n",
       "      <td>0.842522</td>\n",
       "      <td>-0.147879</td>\n",
       "    </tr>\n",
       "    <tr>\n",
       "      <th>gsRfc</th>\n",
       "      <td>0.990444</td>\n",
       "      <td>0.848100</td>\n",
       "      <td>-0.142344</td>\n",
       "    </tr>\n",
       "  </tbody>\n",
       "</table>\n",
       "</div>"
      ],
      "text/plain": [
       "             score_train  score_test  difference\n",
       "dummy           0.911359    0.905046   -0.006313\n",
       "logreg          0.911489    0.905046   -0.006443\n",
       "rfc             0.893025    0.886236   -0.006789\n",
       "gbc             0.911532    0.902711   -0.008821\n",
       "dtc             0.835863    0.827733   -0.008130\n",
       "tunedLogreg     0.911489    0.904916   -0.006572\n",
       "tunedRfc        0.911359    0.905046   -0.006313\n",
       "imbRfc          0.990401    0.842522   -0.147879\n",
       "gsRfc           0.990444    0.848100   -0.142344"
      ]
     },
     "execution_count": 97,
     "metadata": {},
     "output_type": "execute_result"
    }
   ],
   "source": [
    "df_score['difference'] = df_score['score_test']-df_score['score_train']\n",
    "df_score"
   ]
  },
  {
   "cell_type": "markdown",
   "metadata": {
    "ExecuteTime": {
     "end_time": "2022-12-31T20:33:34.283596Z",
     "start_time": "2022-12-31T20:33:34.268596Z"
    }
   },
   "source": [
    "### Score DataFrame:"
   ]
  },
  {
   "cell_type": "code",
   "execution_count": 98,
   "metadata": {
    "ExecuteTime": {
     "end_time": "2023-01-01T15:06:01.225897Z",
     "start_time": "2023-01-01T15:06:01.206892Z"
    }
   },
   "outputs": [
    {
     "data": {
      "text/html": [
       "<div>\n",
       "<style scoped>\n",
       "    .dataframe tbody tr th:only-of-type {\n",
       "        vertical-align: middle;\n",
       "    }\n",
       "\n",
       "    .dataframe tbody tr th {\n",
       "        vertical-align: top;\n",
       "    }\n",
       "\n",
       "    .dataframe thead th {\n",
       "        text-align: right;\n",
       "    }\n",
       "</style>\n",
       "<table border=\"1\" class=\"dataframe\">\n",
       "  <thead>\n",
       "    <tr style=\"text-align: right;\">\n",
       "      <th></th>\n",
       "      <th>score_train</th>\n",
       "      <th>score_test</th>\n",
       "      <th>difference</th>\n",
       "      <th>fitting</th>\n",
       "    </tr>\n",
       "  </thead>\n",
       "  <tbody>\n",
       "    <tr>\n",
       "      <th>dummy</th>\n",
       "      <td>0.911359</td>\n",
       "      <td>0.905046</td>\n",
       "      <td>-0.006313</td>\n",
       "      <td>over fitting</td>\n",
       "    </tr>\n",
       "    <tr>\n",
       "      <th>logreg</th>\n",
       "      <td>0.911489</td>\n",
       "      <td>0.905046</td>\n",
       "      <td>-0.006443</td>\n",
       "      <td>over fitting</td>\n",
       "    </tr>\n",
       "    <tr>\n",
       "      <th>rfc</th>\n",
       "      <td>0.893025</td>\n",
       "      <td>0.886236</td>\n",
       "      <td>-0.006789</td>\n",
       "      <td>over fitting</td>\n",
       "    </tr>\n",
       "    <tr>\n",
       "      <th>gbc</th>\n",
       "      <td>0.911532</td>\n",
       "      <td>0.902711</td>\n",
       "      <td>-0.008821</td>\n",
       "      <td>over fitting</td>\n",
       "    </tr>\n",
       "    <tr>\n",
       "      <th>dtc</th>\n",
       "      <td>0.835863</td>\n",
       "      <td>0.827733</td>\n",
       "      <td>-0.008130</td>\n",
       "      <td>over fitting</td>\n",
       "    </tr>\n",
       "    <tr>\n",
       "      <th>tunedLogreg</th>\n",
       "      <td>0.911489</td>\n",
       "      <td>0.904916</td>\n",
       "      <td>-0.006572</td>\n",
       "      <td>over fitting</td>\n",
       "    </tr>\n",
       "    <tr>\n",
       "      <th>tunedRfc</th>\n",
       "      <td>0.911359</td>\n",
       "      <td>0.905046</td>\n",
       "      <td>-0.006313</td>\n",
       "      <td>over fitting</td>\n",
       "    </tr>\n",
       "    <tr>\n",
       "      <th>imbRfc</th>\n",
       "      <td>0.990401</td>\n",
       "      <td>0.842522</td>\n",
       "      <td>-0.147879</td>\n",
       "      <td>over fitting</td>\n",
       "    </tr>\n",
       "    <tr>\n",
       "      <th>gsRfc</th>\n",
       "      <td>0.990444</td>\n",
       "      <td>0.848100</td>\n",
       "      <td>-0.142344</td>\n",
       "      <td>over fitting</td>\n",
       "    </tr>\n",
       "  </tbody>\n",
       "</table>\n",
       "</div>"
      ],
      "text/plain": [
       "             score_train  score_test  difference       fitting\n",
       "dummy           0.911359    0.905046   -0.006313  over fitting\n",
       "logreg          0.911489    0.905046   -0.006443  over fitting\n",
       "rfc             0.893025    0.886236   -0.006789  over fitting\n",
       "gbc             0.911532    0.902711   -0.008821  over fitting\n",
       "dtc             0.835863    0.827733   -0.008130  over fitting\n",
       "tunedLogreg     0.911489    0.904916   -0.006572  over fitting\n",
       "tunedRfc        0.911359    0.905046   -0.006313  over fitting\n",
       "imbRfc          0.990401    0.842522   -0.147879  over fitting\n",
       "gsRfc           0.990444    0.848100   -0.142344  over fitting"
      ]
     },
     "execution_count": 98,
     "metadata": {},
     "output_type": "execute_result"
    }
   ],
   "source": [
    "df_score['fitting'] = np.where(df_score['difference'] < 0, \"over fitting\", \"under fitting\")\n",
    "df_score"
   ]
  },
  {
   "cell_type": "markdown",
   "metadata": {},
   "source": [
    "## Final Model!"
   ]
  },
  {
   "cell_type": "code",
   "execution_count": 99,
   "metadata": {
    "ExecuteTime": {
     "end_time": "2023-01-01T15:08:21.510515Z",
     "start_time": "2023-01-01T15:08:21.480618Z"
    }
   },
   "outputs": [],
   "source": [
    "final_model = gs_smote_rfc"
   ]
  },
  {
   "cell_type": "code",
   "execution_count": 100,
   "metadata": {
    "ExecuteTime": {
     "end_time": "2023-01-01T15:08:26.190513Z",
     "start_time": "2023-01-01T15:08:24.495758Z"
    }
   },
   "outputs": [
    {
     "data": {
      "image/png": "[encoded data removed]",
      "text/plain": [
       "<Figure size 432x288 with 2 Axes>"
      ]
     },
     "metadata": {
      "needs_background": "light"
     },
     "output_type": "display_data"
    }
   ],
   "source": [
    "plot_confusion_matrix(final_model, X_train, y_train);"
   ]
  },
  {
   "cell_type": "code",
   "execution_count": 111,
   "metadata": {
    "ExecuteTime": {
     "end_time": "2023-01-01T15:16:09.349820Z",
     "start_time": "2023-01-01T15:16:07.879972Z"
    }
   },
   "outputs": [],
   "source": [
    "y_hat = final_model.predict(X_train)"
   ]
  },
  {
   "cell_type": "code",
   "execution_count": 112,
   "metadata": {
    "ExecuteTime": {
     "end_time": "2023-01-01T15:16:13.507831Z",
     "start_time": "2023-01-01T15:16:13.374631Z"
    }
   },
   "outputs": [
    {
     "name": "stderr",
     "output_type": "stream",
     "text": [
      "C:\\Users\\Chiafeng\\anaconda3\\envs\\learn-env\\lib\\site-packages\\sklearn\\metrics\\_classification.py:1254: FutureWarning: elementwise comparison failed; returning scalar instead, but in the future will perform elementwise comparison\n",
      "  if pos_label not in present_labels:\n"
     ]
    },
    {
     "ename": "ValueError",
     "evalue": "pos_label=1 is not a valid label: array(['0', '1'], dtype='<U1')",
     "output_type": "error",
     "traceback": [
      "\u001b[1;31m---------------------------------------------------------------------------\u001b[0m",
      "\u001b[1;31mValueError\u001b[0m                                Traceback (most recent call last)",
      "\u001b[1;32m<ipython-input-112-fa04b41c69d7>\u001b[0m in \u001b[0;36m<module>\u001b[1;34m\u001b[0m\n\u001b[0;32m      1\u001b[0m print(f\"\"\"\n\u001b[0;32m      2\u001b[0m \u001b[0mOur\u001b[0m \u001b[0mfinal\u001b[0m \u001b[0mmodel\u001b[0m\u001b[0;31m'\u001b[0m\u001b[0ms\u001b[0m \u001b[0maccuracy\u001b[0m \u001b[0mon\u001b[0m \u001b[0mthe\u001b[0m \u001b[0mtest\u001b[0m \u001b[0mset\u001b[0m \u001b[1;32mis\u001b[0m \u001b[1;33m{\u001b[0m\u001b[0mround\u001b[0m\u001b[1;33m(\u001b[0m\u001b[0maccuracy_score\u001b[0m\u001b[1;33m(\u001b[0m\u001b[0my_train\u001b[0m\u001b[1;33m,\u001b[0m \u001b[0my_hat\u001b[0m\u001b[1;33m)\u001b[0m\u001b[1;33m,\u001b[0m \u001b[1;36m2\u001b[0m\u001b[1;33m)\u001b[0m\u001b[1;33m}\u001b[0m\u001b[1;33m.\u001b[0m\u001b[0;31m \u001b[0m\u001b[0;31m\\\u001b[0m\u001b[0mn\u001b[0m\u001b[1;33m\u001b[0m\u001b[1;33m\u001b[0m\u001b[0m\n\u001b[1;32m----> 3\u001b[1;33m \u001b[0mOur\u001b[0m \u001b[0mfinal\u001b[0m \u001b[0mmodel\u001b[0m\u001b[0;31m'\u001b[0m\u001b[0ms\u001b[0m \u001b[0mrecall\u001b[0m \u001b[0mon\u001b[0m \u001b[0mthe\u001b[0m \u001b[0mtest\u001b[0m \u001b[0mset\u001b[0m \u001b[1;32mis\u001b[0m \u001b[1;33m{\u001b[0m\u001b[0mround\u001b[0m\u001b[1;33m(\u001b[0m\u001b[0mrecall_score\u001b[0m\u001b[1;33m(\u001b[0m\u001b[0my_train\u001b[0m\u001b[1;33m,\u001b[0m \u001b[0my_hat\u001b[0m\u001b[1;33m)\u001b[0m\u001b[1;33m,\u001b[0m \u001b[1;36m2\u001b[0m\u001b[1;33m)\u001b[0m\u001b[1;33m}\u001b[0m\u001b[0;31m \u001b[0m\u001b[0;31m\\\u001b[0m\u001b[0mn\u001b[0m\u001b[1;33m\u001b[0m\u001b[1;33m\u001b[0m\u001b[0m\n\u001b[0m\u001b[0;32m      4\u001b[0m \u001b[0mOur\u001b[0m \u001b[0mfinal\u001b[0m \u001b[0mmodel\u001b[0m\u001b[0;31m'\u001b[0m\u001b[0ms\u001b[0m \u001b[0mprecision\u001b[0m \u001b[0mon\u001b[0m \u001b[0mthe\u001b[0m \u001b[0mtest\u001b[0m \u001b[0mset\u001b[0m \u001b[1;32mis\u001b[0m \u001b[1;33m{\u001b[0m\u001b[0mround\u001b[0m\u001b[1;33m(\u001b[0m\u001b[0mprecision_score\u001b[0m\u001b[1;33m(\u001b[0m\u001b[0my_train\u001b[0m\u001b[1;33m,\u001b[0m \u001b[0my_hat\u001b[0m\u001b[1;33m)\u001b[0m\u001b[1;33m,\u001b[0m \u001b[1;36m2\u001b[0m\u001b[1;33m)\u001b[0m\u001b[1;33m}\u001b[0m\u001b[0;31m \u001b[0m\u001b[0;31m\\\u001b[0m\u001b[0mn\u001b[0m\u001b[1;33m\u001b[0m\u001b[1;33m\u001b[0m\u001b[0m\n\u001b[0;32m      5\u001b[0m \u001b[0mOur\u001b[0m \u001b[0mfinal\u001b[0m \u001b[0mmodel\u001b[0m\u001b[0;31m'\u001b[0m\u001b[0ms\u001b[0m \u001b[0mf1\u001b[0m\u001b[1;33m-\u001b[0m\u001b[0mscore\u001b[0m \u001b[0mon\u001b[0m \u001b[0mthe\u001b[0m \u001b[0mtest\u001b[0m \u001b[1;32mis\u001b[0m \u001b[1;33m{\u001b[0m\u001b[0mround\u001b[0m\u001b[1;33m(\u001b[0m\u001b[0mf1_score\u001b[0m\u001b[1;33m(\u001b[0m\u001b[0my_train\u001b[0m\u001b[1;33m,\u001b[0m \u001b[0my_hat\u001b[0m\u001b[1;33m)\u001b[0m\u001b[1;33m,\u001b[0m \u001b[1;36m2\u001b[0m\u001b[1;33m)\u001b[0m\u001b[1;33m}\u001b[0m\u001b[1;33m.\u001b[0m\u001b[1;33m\u001b[0m\u001b[1;33m\u001b[0m\u001b[0m\n",
      "\u001b[1;32m~\\anaconda3\\envs\\learn-env\\lib\\site-packages\\sklearn\\utils\\validation.py\u001b[0m in \u001b[0;36minner_f\u001b[1;34m(*args, **kwargs)\u001b[0m\n\u001b[0;32m     70\u001b[0m                           FutureWarning)\n\u001b[0;32m     71\u001b[0m         \u001b[0mkwargs\u001b[0m\u001b[1;33m.\u001b[0m\u001b[0mupdate\u001b[0m\u001b[1;33m(\u001b[0m\u001b[1;33m{\u001b[0m\u001b[0mk\u001b[0m\u001b[1;33m:\u001b[0m \u001b[0marg\u001b[0m \u001b[1;32mfor\u001b[0m \u001b[0mk\u001b[0m\u001b[1;33m,\u001b[0m \u001b[0marg\u001b[0m \u001b[1;32min\u001b[0m \u001b[0mzip\u001b[0m\u001b[1;33m(\u001b[0m\u001b[0msig\u001b[0m\u001b[1;33m.\u001b[0m\u001b[0mparameters\u001b[0m\u001b[1;33m,\u001b[0m \u001b[0margs\u001b[0m\u001b[1;33m)\u001b[0m\u001b[1;33m}\u001b[0m\u001b[1;33m)\u001b[0m\u001b[1;33m\u001b[0m\u001b[1;33m\u001b[0m\u001b[0m\n\u001b[1;32m---> 72\u001b[1;33m         \u001b[1;32mreturn\u001b[0m \u001b[0mf\u001b[0m\u001b[1;33m(\u001b[0m\u001b[1;33m**\u001b[0m\u001b[0mkwargs\u001b[0m\u001b[1;33m)\u001b[0m\u001b[1;33m\u001b[0m\u001b[1;33m\u001b[0m\u001b[0m\n\u001b[0m\u001b[0;32m     73\u001b[0m     \u001b[1;32mreturn\u001b[0m \u001b[0minner_f\u001b[0m\u001b[1;33m\u001b[0m\u001b[1;33m\u001b[0m\u001b[0m\n\u001b[0;32m     74\u001b[0m \u001b[1;33m\u001b[0m\u001b[0m\n",
      "\u001b[1;32m~\\anaconda3\\envs\\learn-env\\lib\\site-packages\\sklearn\\metrics\\_classification.py\u001b[0m in \u001b[0;36mrecall_score\u001b[1;34m(y_true, y_pred, labels, pos_label, average, sample_weight, zero_division)\u001b[0m\n\u001b[0;32m   1733\u001b[0m     \u001b[0;31m`\u001b[0m\u001b[0;31m`\u001b[0m\u001b[0mzero_division\u001b[0m\u001b[0;31m`\u001b[0m\u001b[0;31m`\u001b[0m\u001b[1;33m.\u001b[0m\u001b[1;33m\u001b[0m\u001b[1;33m\u001b[0m\u001b[0m\n\u001b[0;32m   1734\u001b[0m     \"\"\"\n\u001b[1;32m-> 1735\u001b[1;33m     _, r, _, _ = precision_recall_fscore_support(y_true, y_pred,\n\u001b[0m\u001b[0;32m   1736\u001b[0m                                                  \u001b[0mlabels\u001b[0m\u001b[1;33m=\u001b[0m\u001b[0mlabels\u001b[0m\u001b[1;33m,\u001b[0m\u001b[1;33m\u001b[0m\u001b[1;33m\u001b[0m\u001b[0m\n\u001b[0;32m   1737\u001b[0m                                                  \u001b[0mpos_label\u001b[0m\u001b[1;33m=\u001b[0m\u001b[0mpos_label\u001b[0m\u001b[1;33m,\u001b[0m\u001b[1;33m\u001b[0m\u001b[1;33m\u001b[0m\u001b[0m\n",
      "\u001b[1;32m~\\anaconda3\\envs\\learn-env\\lib\\site-packages\\sklearn\\utils\\validation.py\u001b[0m in \u001b[0;36minner_f\u001b[1;34m(*args, **kwargs)\u001b[0m\n\u001b[0;32m     70\u001b[0m                           FutureWarning)\n\u001b[0;32m     71\u001b[0m         \u001b[0mkwargs\u001b[0m\u001b[1;33m.\u001b[0m\u001b[0mupdate\u001b[0m\u001b[1;33m(\u001b[0m\u001b[1;33m{\u001b[0m\u001b[0mk\u001b[0m\u001b[1;33m:\u001b[0m \u001b[0marg\u001b[0m \u001b[1;32mfor\u001b[0m \u001b[0mk\u001b[0m\u001b[1;33m,\u001b[0m \u001b[0marg\u001b[0m \u001b[1;32min\u001b[0m \u001b[0mzip\u001b[0m\u001b[1;33m(\u001b[0m\u001b[0msig\u001b[0m\u001b[1;33m.\u001b[0m\u001b[0mparameters\u001b[0m\u001b[1;33m,\u001b[0m \u001b[0margs\u001b[0m\u001b[1;33m)\u001b[0m\u001b[1;33m}\u001b[0m\u001b[1;33m)\u001b[0m\u001b[1;33m\u001b[0m\u001b[1;33m\u001b[0m\u001b[0m\n\u001b[1;32m---> 72\u001b[1;33m         \u001b[1;32mreturn\u001b[0m \u001b[0mf\u001b[0m\u001b[1;33m(\u001b[0m\u001b[1;33m**\u001b[0m\u001b[0mkwargs\u001b[0m\u001b[1;33m)\u001b[0m\u001b[1;33m\u001b[0m\u001b[1;33m\u001b[0m\u001b[0m\n\u001b[0m\u001b[0;32m     73\u001b[0m     \u001b[1;32mreturn\u001b[0m \u001b[0minner_f\u001b[0m\u001b[1;33m\u001b[0m\u001b[1;33m\u001b[0m\u001b[0m\n\u001b[0;32m     74\u001b[0m \u001b[1;33m\u001b[0m\u001b[0m\n",
      "\u001b[1;32m~\\anaconda3\\envs\\learn-env\\lib\\site-packages\\sklearn\\metrics\\_classification.py\u001b[0m in \u001b[0;36mprecision_recall_fscore_support\u001b[1;34m(y_true, y_pred, beta, labels, pos_label, average, warn_for, sample_weight, zero_division)\u001b[0m\n\u001b[0;32m   1431\u001b[0m     \u001b[1;32mif\u001b[0m \u001b[0mbeta\u001b[0m \u001b[1;33m<\u001b[0m \u001b[1;36m0\u001b[0m\u001b[1;33m:\u001b[0m\u001b[1;33m\u001b[0m\u001b[1;33m\u001b[0m\u001b[0m\n\u001b[0;32m   1432\u001b[0m         \u001b[1;32mraise\u001b[0m \u001b[0mValueError\u001b[0m\u001b[1;33m(\u001b[0m\u001b[1;34m\"beta should be >=0 in the F-beta score\"\u001b[0m\u001b[1;33m)\u001b[0m\u001b[1;33m\u001b[0m\u001b[1;33m\u001b[0m\u001b[0m\n\u001b[1;32m-> 1433\u001b[1;33m     labels = _check_set_wise_labels(y_true, y_pred, average, labels,\n\u001b[0m\u001b[0;32m   1434\u001b[0m                                     pos_label)\n\u001b[0;32m   1435\u001b[0m \u001b[1;33m\u001b[0m\u001b[0m\n",
      "\u001b[1;32m~\\anaconda3\\envs\\learn-env\\lib\\site-packages\\sklearn\\metrics\\_classification.py\u001b[0m in \u001b[0;36m_check_set_wise_labels\u001b[1;34m(y_true, y_pred, average, labels, pos_label)\u001b[0m\n\u001b[0;32m   1254\u001b[0m             \u001b[1;32mif\u001b[0m \u001b[0mpos_label\u001b[0m \u001b[1;32mnot\u001b[0m \u001b[1;32min\u001b[0m \u001b[0mpresent_labels\u001b[0m\u001b[1;33m:\u001b[0m\u001b[1;33m\u001b[0m\u001b[1;33m\u001b[0m\u001b[0m\n\u001b[0;32m   1255\u001b[0m                 \u001b[1;32mif\u001b[0m \u001b[0mlen\u001b[0m\u001b[1;33m(\u001b[0m\u001b[0mpresent_labels\u001b[0m\u001b[1;33m)\u001b[0m \u001b[1;33m>=\u001b[0m \u001b[1;36m2\u001b[0m\u001b[1;33m:\u001b[0m\u001b[1;33m\u001b[0m\u001b[1;33m\u001b[0m\u001b[0m\n\u001b[1;32m-> 1256\u001b[1;33m                     raise ValueError(\"pos_label=%r is not a valid label: \"\n\u001b[0m\u001b[0;32m   1257\u001b[0m                                      \"%r\" % (pos_label, present_labels))\n\u001b[0;32m   1258\u001b[0m             \u001b[0mlabels\u001b[0m \u001b[1;33m=\u001b[0m \u001b[1;33m[\u001b[0m\u001b[0mpos_label\u001b[0m\u001b[1;33m]\u001b[0m\u001b[1;33m\u001b[0m\u001b[1;33m\u001b[0m\u001b[0m\n",
      "\u001b[1;31mValueError\u001b[0m: pos_label=1 is not a valid label: array(['0', '1'], dtype='<U1')"
     ]
    }
   ],
   "source": [
    "print(f\"\"\"\n",
    "Our final model's accuracy on the test set is {round(accuracy_score(y_train, y_hat), 2)}. \\n\n",
    "Our final model's recall on the test set is {round(recall_score(y_train, y_hat), 2)} \\n\n",
    "Our final model's precision on the test set is {round(precision_score(y_train, y_hat), 2)} \\n\n",
    "Our final model's f1-score on the test is {round(f1_score(y_train, y_hat), 2)}.\n",
    "\"\"\")"
   ]
  },
  {
   "cell_type": "code",
   "execution_count": 113,
   "metadata": {
    "ExecuteTime": {
     "end_time": "2023-01-01T15:16:33.918284Z",
     "start_time": "2023-01-01T15:16:33.215044Z"
    }
   },
   "outputs": [
    {
     "data": {
      "image/png": "[encoded data removed]",
      "text/plain": [
       "<Figure size 432x288 with 2 Axes>"
      ]
     },
     "metadata": {
      "needs_background": "light"
     },
     "output_type": "display_data"
    }
   ],
   "source": [
    "plot_confusion_matrix(final_model, X_test, y_test);"
   ]
  },
  {
   "cell_type": "code",
   "execution_count": null,
   "metadata": {},
   "outputs": [],
   "source": []
  },
  {
   "cell_type": "code",
   "execution_count": null,
   "metadata": {},
   "outputs": [],
   "source": [
    "y_hat = final_model.predict(X_test)"
   ]
  },
  {
   "cell_type": "code",
   "execution_count": null,
   "metadata": {},
   "outputs": [],
   "source": []
  }
 ],
 "metadata": {
  "kernelspec": {
   "display_name": "Python (learn-env)",
   "language": "python",
   "name": "learn-env"
  },
  "language_info": {
   "codemirror_mode": {
    "name": "ipython",
    "version": 3
   },
   "file_extension": ".py",
   "mimetype": "text/x-python",
   "name": "python",
   "nbconvert_exporter": "python",
   "pygments_lexer": "ipython3",
   "version": "3.8.5"
  },
  "varInspector": {
   "cols": {
    "lenName": 16,
    "lenType": 16,
    "lenVar": 40
   },
   "kernels_config": {
    "python": {
     "delete_cmd_postfix": "",
     "delete_cmd_prefix": "del ",
     "library": "var_list.py",
     "varRefreshCmd": "print(var_dic_list())"
    },
    "r": {
     "delete_cmd_postfix": ") ",
     "delete_cmd_prefix": "rm(",
     "library": "var_list.r",
     "varRefreshCmd": "cat(var_dic_list()) "
    }
   },
   "types_to_exclude": [
    "module",
    "function",
    "builtin_function_or_method",
    "instance",
    "_Feature"
   ],
   "window_display": false
  }
 },
 "nbformat": 4,
 "nbformat_minor": 4
}
