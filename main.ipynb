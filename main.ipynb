{
 "cells": [
  {
   "cell_type": "markdown",
   "metadata": {},
   "source": [
    "# Auto Insurance bodywork claim prediction"
   ]
  },
  {
   "cell_type": "markdown",
   "metadata": {},
   "source": [
    "## Data preprocessing\n",
    "\n",
    "The large size of the original datasets will fail to upload to GitHub later.  Therefore, data preprocessing has been performed in a separated notebook, and the cleaned DataFrame is saved as 'df.csv' ready for use.\n",
    "\n",
    "### 3 original datasets:\n",
    "- Traffic Crashes - Crashes\n",
    "- Traffic Crashes - Vehicles\n",
    "- Traffic Crashes - People\n",
    "\n",
    "### Preview and inspect all 3 datasets:\n",
    "- Inspecting the datasets.\n",
    "- Based on project assumptions, adjust the DataFrames:\n",
    "    - From df_crash, select ‘INJURIES_TOTAL’ = ‘0’\n",
    "    - From df_people, select ‘PERSON_TYPE’ = ‘DRIVER’\n",
    "    - From df_vehicle, select ‘UNIT_TYPE’ = ‘DRIVER’\n",
    "    - From df_vehicle, select ‘VEHICLE_USE’ = ‘PERSONAL’\n",
    "\n",
    "- Explore each column and decide what to keep.\n",
    "- Merge all 3 DataFrames on column 'CRASH_RECORD_ID' and drop all null.\n",
    "- Convert column 'AGE' and 'VEHICLE_YEAR' Dtype from float64 to int for for smaller data size.\n",
    "- Save the cleaned DataFrame as 'df.csv'>\n"
   ]
  },
  {
   "cell_type": "markdown",
   "metadata": {},
   "source": [
    "## Import libraries and load the cleaned DataFarame"
   ]
  },
  {
   "cell_type": "code",
   "execution_count": 1,
   "metadata": {
    "ExecuteTime": {
     "end_time": "2023-01-04T09:56:23.638451Z",
     "start_time": "2023-01-04T09:56:22.538563Z"
    }
   },
   "outputs": [],
   "source": [
    "# import libraries\n",
    "\n",
    "import pandas as pd\n",
    "import numpy as np\n",
    "from matplotlib import pyplot as plt\n",
    "import seaborn as sns\n",
    "\n",
    "from sklearn.model_selection import train_test_split, GridSearchCV, cross_val_score\n",
    "from sklearn.pipeline import Pipeline\n",
    "from sklearn.preprocessing import StandardScaler, OneHotEncoder, FunctionTransformer\n",
    "from sklearn.impute import SimpleImputer\n",
    "from sklearn.compose import ColumnTransformer,  make_column_selector as selector\n",
    "from sklearn.linear_model import LogisticRegression\n",
    "from sklearn.ensemble import RandomForestClassifier, GradientBoostingClassifier\n",
    "from sklearn.metrics import plot_confusion_matrix, recall_score,\\\n",
    "    accuracy_score, precision_score, f1_score\n",
    "\n",
    "from imblearn.over_sampling import SMOTE\n",
    "from imblearn.pipeline import Pipeline as ImPipeline\n",
    "\n",
    "from sklearn.dummy import DummyClassifier\n",
    "from sklearn.tree import DecisionTreeClassifier"
   ]
  },
  {
   "cell_type": "markdown",
   "metadata": {},
   "source": [
    "## Inspect and adjust DataFrame"
   ]
  },
  {
   "cell_type": "code",
   "execution_count": 2,
   "metadata": {
    "ExecuteTime": {
     "end_time": "2023-01-04T09:56:23.871633Z",
     "start_time": "2023-01-04T09:56:23.638451Z"
    }
   },
   "outputs": [
    {
     "data": {
      "text/html": [
       "<div>\n",
       "<style scoped>\n",
       "    .dataframe tbody tr th:only-of-type {\n",
       "        vertical-align: middle;\n",
       "    }\n",
       "\n",
       "    .dataframe tbody tr th {\n",
       "        vertical-align: top;\n",
       "    }\n",
       "\n",
       "    .dataframe thead th {\n",
       "        text-align: right;\n",
       "    }\n",
       "</style>\n",
       "<table border=\"1\" class=\"dataframe\">\n",
       "  <thead>\n",
       "    <tr style=\"text-align: right;\">\n",
       "      <th></th>\n",
       "      <th>Unnamed: 0</th>\n",
       "      <th>CRASH_DATE</th>\n",
       "      <th>DEVICE_CONDITION</th>\n",
       "      <th>POSTED_SPEED_LIMIT</th>\n",
       "      <th>WEATHER_CONDITION</th>\n",
       "      <th>LIGHTING_CONDITION</th>\n",
       "      <th>ROADWAY_SURFACE_COND</th>\n",
       "      <th>ROAD_DEFECT</th>\n",
       "      <th>DAMAGE</th>\n",
       "      <th>ZIPCODE</th>\n",
       "      <th>SEX</th>\n",
       "      <th>AGE</th>\n",
       "      <th>MAKE</th>\n",
       "      <th>MODEL</th>\n",
       "      <th>VEHICLE_YEAR</th>\n",
       "    </tr>\n",
       "  </thead>\n",
       "  <tbody>\n",
       "    <tr>\n",
       "      <th>0</th>\n",
       "      <td>0</td>\n",
       "      <td>12/31/2021 12:45:00 PM</td>\n",
       "      <td>NO CONTROLS</td>\n",
       "      <td>10</td>\n",
       "      <td>CLEAR</td>\n",
       "      <td>DAYLIGHT</td>\n",
       "      <td>DRY</td>\n",
       "      <td>NO DEFECTS</td>\n",
       "      <td>$501 - $1,500</td>\n",
       "      <td>60619</td>\n",
       "      <td>M</td>\n",
       "      <td>44</td>\n",
       "      <td>CHEVROLET</td>\n",
       "      <td>MALIBU</td>\n",
       "      <td>2016</td>\n",
       "    </tr>\n",
       "    <tr>\n",
       "      <th>1</th>\n",
       "      <td>1</td>\n",
       "      <td>12/31/2021 12:45:00 PM</td>\n",
       "      <td>NO CONTROLS</td>\n",
       "      <td>10</td>\n",
       "      <td>CLEAR</td>\n",
       "      <td>DAYLIGHT</td>\n",
       "      <td>DRY</td>\n",
       "      <td>NO DEFECTS</td>\n",
       "      <td>$501 - $1,500</td>\n",
       "      <td>60619</td>\n",
       "      <td>M</td>\n",
       "      <td>44</td>\n",
       "      <td>JEEP</td>\n",
       "      <td>PATRIOT</td>\n",
       "      <td>2017</td>\n",
       "    </tr>\n",
       "    <tr>\n",
       "      <th>2</th>\n",
       "      <td>2</td>\n",
       "      <td>12/31/2021 12:45:00 PM</td>\n",
       "      <td>NO CONTROLS</td>\n",
       "      <td>10</td>\n",
       "      <td>CLEAR</td>\n",
       "      <td>DAYLIGHT</td>\n",
       "      <td>DRY</td>\n",
       "      <td>NO DEFECTS</td>\n",
       "      <td>$501 - $1,500</td>\n",
       "      <td>60620</td>\n",
       "      <td>F</td>\n",
       "      <td>57</td>\n",
       "      <td>CHEVROLET</td>\n",
       "      <td>MALIBU</td>\n",
       "      <td>2016</td>\n",
       "    </tr>\n",
       "    <tr>\n",
       "      <th>3</th>\n",
       "      <td>3</td>\n",
       "      <td>12/31/2021 12:45:00 PM</td>\n",
       "      <td>NO CONTROLS</td>\n",
       "      <td>10</td>\n",
       "      <td>CLEAR</td>\n",
       "      <td>DAYLIGHT</td>\n",
       "      <td>DRY</td>\n",
       "      <td>NO DEFECTS</td>\n",
       "      <td>$501 - $1,500</td>\n",
       "      <td>60620</td>\n",
       "      <td>F</td>\n",
       "      <td>57</td>\n",
       "      <td>JEEP</td>\n",
       "      <td>PATRIOT</td>\n",
       "      <td>2017</td>\n",
       "    </tr>\n",
       "    <tr>\n",
       "      <th>4</th>\n",
       "      <td>4</td>\n",
       "      <td>12/31/2021 12:40:00 PM</td>\n",
       "      <td>FUNCTIONING PROPERLY</td>\n",
       "      <td>30</td>\n",
       "      <td>CLEAR</td>\n",
       "      <td>DAYLIGHT</td>\n",
       "      <td>DRY</td>\n",
       "      <td>NO DEFECTS</td>\n",
       "      <td>OVER $1,500</td>\n",
       "      <td>60641</td>\n",
       "      <td>M</td>\n",
       "      <td>47</td>\n",
       "      <td>HONDA</td>\n",
       "      <td>FIT</td>\n",
       "      <td>2009</td>\n",
       "    </tr>\n",
       "  </tbody>\n",
       "</table>\n",
       "</div>"
      ],
      "text/plain": [
       "   Unnamed: 0              CRASH_DATE      DEVICE_CONDITION  \\\n",
       "0           0  12/31/2021 12:45:00 PM           NO CONTROLS   \n",
       "1           1  12/31/2021 12:45:00 PM           NO CONTROLS   \n",
       "2           2  12/31/2021 12:45:00 PM           NO CONTROLS   \n",
       "3           3  12/31/2021 12:45:00 PM           NO CONTROLS   \n",
       "4           4  12/31/2021 12:40:00 PM  FUNCTIONING PROPERLY   \n",
       "\n",
       "   POSTED_SPEED_LIMIT WEATHER_CONDITION LIGHTING_CONDITION  \\\n",
       "0                  10             CLEAR           DAYLIGHT   \n",
       "1                  10             CLEAR           DAYLIGHT   \n",
       "2                  10             CLEAR           DAYLIGHT   \n",
       "3                  10             CLEAR           DAYLIGHT   \n",
       "4                  30             CLEAR           DAYLIGHT   \n",
       "\n",
       "  ROADWAY_SURFACE_COND ROAD_DEFECT         DAMAGE  ZIPCODE SEX  AGE  \\\n",
       "0                  DRY  NO DEFECTS  $501 - $1,500    60619   M   44   \n",
       "1                  DRY  NO DEFECTS  $501 - $1,500    60619   M   44   \n",
       "2                  DRY  NO DEFECTS  $501 - $1,500    60620   F   57   \n",
       "3                  DRY  NO DEFECTS  $501 - $1,500    60620   F   57   \n",
       "4                  DRY  NO DEFECTS    OVER $1,500    60641   M   47   \n",
       "\n",
       "        MAKE    MODEL  VEHICLE_YEAR  \n",
       "0  CHEVROLET   MALIBU          2016  \n",
       "1       JEEP  PATRIOT          2017  \n",
       "2  CHEVROLET   MALIBU          2016  \n",
       "3       JEEP  PATRIOT          2017  \n",
       "4      HONDA      FIT          2009  "
      ]
     },
     "execution_count": 2,
     "metadata": {},
     "output_type": "execute_result"
    }
   ],
   "source": [
    "df = pd.read_csv('df_clean.csv')\n",
    "df.head()"
   ]
  },
  {
   "cell_type": "code",
   "execution_count": 3,
   "metadata": {
    "ExecuteTime": {
     "end_time": "2023-01-04T09:56:23.950796Z",
     "start_time": "2023-01-04T09:56:23.872640Z"
    }
   },
   "outputs": [
    {
     "name": "stdout",
     "output_type": "stream",
     "text": [
      "<class 'pandas.core.frame.DataFrame'>\n",
      "RangeIndex: 227016 entries, 0 to 227015\n",
      "Data columns (total 14 columns):\n",
      " #   Column                Non-Null Count   Dtype \n",
      "---  ------                --------------   ----- \n",
      " 0   CRASH_DATE            227016 non-null  object\n",
      " 1   DEVICE_CONDITION      227016 non-null  object\n",
      " 2   POSTED_SPEED_LIMIT    227016 non-null  int64 \n",
      " 3   WEATHER_CONDITION     227016 non-null  object\n",
      " 4   LIGHTING_CONDITION    227016 non-null  object\n",
      " 5   ROADWAY_SURFACE_COND  227016 non-null  object\n",
      " 6   ROAD_DEFECT           227016 non-null  object\n",
      " 7   DAMAGE                227016 non-null  object\n",
      " 8   ZIPCODE               227016 non-null  int64 \n",
      " 9   SEX                   227016 non-null  object\n",
      " 10  AGE                   227016 non-null  int64 \n",
      " 11  MAKE                  227016 non-null  object\n",
      " 12  MODEL                 227016 non-null  object\n",
      " 13  VEHICLE_YEAR          227016 non-null  int64 \n",
      "dtypes: int64(4), object(10)\n",
      "memory usage: 24.2+ MB\n"
     ]
    }
   ],
   "source": [
    "df = df.drop('Unnamed: 0', axis=1)\n",
    "df.info()"
   ]
  },
  {
   "cell_type": "code",
   "execution_count": 4,
   "metadata": {
    "ExecuteTime": {
     "end_time": "2023-01-04T09:56:23.976489Z",
     "start_time": "2023-01-04T09:56:23.951795Z"
    }
   },
   "outputs": [
    {
     "data": {
      "text/plain": [
       "OVER $1,500      0.640920\n",
       "$501 - $1,500    0.277558\n",
       "$500 OR LESS     0.081523\n",
       "Name: DAMAGE, dtype: float64"
      ]
     },
     "execution_count": 4,
     "metadata": {},
     "output_type": "execute_result"
    }
   ],
   "source": [
    "df['DAMAGE'].value_counts(normalize=True)"
   ]
  },
  {
   "cell_type": "markdown",
   "metadata": {},
   "source": [
    "### Reset target df['DAMAGE'] from 3 outcomes to 2 outcomes\n",
    "\n",
    "- OVER 1,500 = 1\n",
    "- 501 - 1,500 = 1\n",
    "- 500 OR LESS = 0"
   ]
  },
  {
   "cell_type": "code",
   "execution_count": 5,
   "metadata": {
    "ExecuteTime": {
     "end_time": "2023-01-04T09:56:24.015513Z",
     "start_time": "2023-01-04T09:56:23.976489Z"
    }
   },
   "outputs": [],
   "source": [
    "# In df['DAMAGE'], replace '$501 - $1,500' and 'OVER $1,500' with 'Over $500':\n",
    "df_main = df.copy()\n",
    "df_main['DAMAGE'] = df_main['DAMAGE'].replace(['$501 - $1,500', 'OVER $1,500'], '$501 AND OVER')"
   ]
  },
  {
   "cell_type": "code",
   "execution_count": 6,
   "metadata": {
    "ExecuteTime": {
     "end_time": "2023-01-04T09:56:24.032949Z",
     "start_time": "2023-01-04T09:56:24.016148Z"
    }
   },
   "outputs": [
    {
     "data": {
      "text/plain": [
       "$501 AND OVER    0.918477\n",
       "$500 OR LESS     0.081523\n",
       "Name: DAMAGE, dtype: float64"
      ]
     },
     "execution_count": 6,
     "metadata": {},
     "output_type": "execute_result"
    }
   ],
   "source": [
    "df_main['DAMAGE'].value_counts(normalize=True)"
   ]
  },
  {
   "cell_type": "markdown",
   "metadata": {},
   "source": [
    "### Reset date range for smaller size and drop 'CRASH_DATE'"
   ]
  },
  {
   "cell_type": "code",
   "execution_count": 7,
   "metadata": {
    "ExecuteTime": {
     "end_time": "2023-01-04T09:56:24.162862Z",
     "start_time": "2023-01-04T09:56:24.032949Z"
    }
   },
   "outputs": [
    {
     "name": "stdout",
     "output_type": "stream",
     "text": [
      "<class 'pandas.core.frame.DataFrame'>\n",
      "Int64Index: 80000 entries, 0 to 79999\n",
      "Data columns (total 14 columns):\n",
      " #   Column                Non-Null Count  Dtype \n",
      "---  ------                --------------  ----- \n",
      " 0   CRASH_DATE            80000 non-null  object\n",
      " 1   DEVICE_CONDITION      80000 non-null  object\n",
      " 2   POSTED_SPEED_LIMIT    80000 non-null  int64 \n",
      " 3   WEATHER_CONDITION     80000 non-null  object\n",
      " 4   LIGHTING_CONDITION    80000 non-null  object\n",
      " 5   ROADWAY_SURFACE_COND  80000 non-null  object\n",
      " 6   ROAD_DEFECT           80000 non-null  object\n",
      " 7   DAMAGE                80000 non-null  object\n",
      " 8   ZIPCODE               80000 non-null  int64 \n",
      " 9   SEX                   80000 non-null  object\n",
      " 10  AGE                   80000 non-null  int64 \n",
      " 11  MAKE                  80000 non-null  object\n",
      " 12  MODEL                 80000 non-null  object\n",
      " 13  VEHICLE_YEAR          80000 non-null  int64 \n",
      "dtypes: int64(4), object(10)\n",
      "memory usage: 9.2+ MB\n"
     ]
    }
   ],
   "source": [
    "df_main = df_main.sort_values(by='CRASH_DATE', ascending=False)[:80000]\n",
    "df_main.info()"
   ]
  },
  {
   "cell_type": "code",
   "execution_count": 8,
   "metadata": {
    "ExecuteTime": {
     "end_time": "2023-01-04T09:56:24.208382Z",
     "start_time": "2023-01-04T09:56:24.163725Z"
    }
   },
   "outputs": [
    {
     "name": "stdout",
     "output_type": "stream",
     "text": [
      "<class 'pandas.core.frame.DataFrame'>\n",
      "Int64Index: 80000 entries, 0 to 79999\n",
      "Data columns (total 13 columns):\n",
      " #   Column                Non-Null Count  Dtype \n",
      "---  ------                --------------  ----- \n",
      " 0   DEVICE_CONDITION      80000 non-null  object\n",
      " 1   POSTED_SPEED_LIMIT    80000 non-null  int64 \n",
      " 2   WEATHER_CONDITION     80000 non-null  object\n",
      " 3   LIGHTING_CONDITION    80000 non-null  object\n",
      " 4   ROADWAY_SURFACE_COND  80000 non-null  object\n",
      " 5   ROAD_DEFECT           80000 non-null  object\n",
      " 6   DAMAGE                80000 non-null  object\n",
      " 7   ZIPCODE               80000 non-null  int64 \n",
      " 8   SEX                   80000 non-null  object\n",
      " 9   AGE                   80000 non-null  int64 \n",
      " 10  MAKE                  80000 non-null  object\n",
      " 11  MODEL                 80000 non-null  object\n",
      " 12  VEHICLE_YEAR          80000 non-null  int64 \n",
      "dtypes: int64(4), object(9)\n",
      "memory usage: 8.5+ MB\n"
     ]
    }
   ],
   "source": [
    "# Take out 'ZIPCODE' and re-run the models\n",
    "\n",
    "df_main = df_main.drop(['CRASH_DATE'], axis=1)\n",
    "df_main.info()"
   ]
  },
  {
   "cell_type": "code",
   "execution_count": 9,
   "metadata": {
    "ExecuteTime": {
     "end_time": "2023-01-04T09:56:24.236929Z",
     "start_time": "2023-01-04T09:56:24.208382Z"
    }
   },
   "outputs": [
    {
     "data": {
      "text/plain": [
       "DEVICE_CONDITION        0\n",
       "POSTED_SPEED_LIMIT      0\n",
       "WEATHER_CONDITION       0\n",
       "LIGHTING_CONDITION      0\n",
       "ROADWAY_SURFACE_COND    0\n",
       "ROAD_DEFECT             0\n",
       "DAMAGE                  0\n",
       "ZIPCODE                 0\n",
       "SEX                     0\n",
       "AGE                     0\n",
       "MAKE                    0\n",
       "MODEL                   0\n",
       "VEHICLE_YEAR            0\n",
       "dtype: int64"
      ]
     },
     "execution_count": 9,
     "metadata": {},
     "output_type": "execute_result"
    }
   ],
   "source": [
    "# Checking Null:\n",
    "\n",
    "df_main.isna().sum()"
   ]
  },
  {
   "cell_type": "code",
   "execution_count": 10,
   "metadata": {
    "ExecuteTime": {
     "end_time": "2023-01-04T09:56:24.286045Z",
     "start_time": "2023-01-04T09:56:24.236929Z"
    }
   },
   "outputs": [
    {
     "data": {
      "text/plain": [
       "Index                    640000\n",
       "DEVICE_CONDITION        5780744\n",
       "POSTED_SPEED_LIMIT       640000\n",
       "WEATHER_CONDITION       4984405\n",
       "LIGHTING_CONDITION      5522834\n",
       "ROADWAY_SURFACE_COND    4845084\n",
       "ROAD_DEFECT             5362084\n",
       "DAMAGE                  7649093\n",
       "ZIPCODE                  640000\n",
       "SEX                     4960000\n",
       "AGE                      640000\n",
       "MAKE                    5250347\n",
       "MODEL                   5210664\n",
       "VEHICLE_YEAR             640000\n",
       "dtype: int64"
      ]
     },
     "execution_count": 10,
     "metadata": {},
     "output_type": "execute_result"
    }
   ],
   "source": [
    "# Checking memory usage:\n",
    "\n",
    "df_main.memory_usage(deep=True)"
   ]
  },
  {
   "cell_type": "markdown",
   "metadata": {},
   "source": [
    "## Prepare for modeling\n",
    "\n",
    "### Define X and y, perform train_test_split"
   ]
  },
  {
   "cell_type": "code",
   "execution_count": 11,
   "metadata": {
    "ExecuteTime": {
     "end_time": "2023-01-04T09:56:24.323545Z",
     "start_time": "2023-01-04T09:56:24.287032Z"
    }
   },
   "outputs": [],
   "source": [
    "# define X and y:\n",
    "\n",
    "X = df_main.drop('DAMAGE', axis=1)\n",
    "y = df_main['DAMAGE']\n",
    "\n",
    "# train_test_split:\n",
    "\n",
    "X_train, X_test, y_train, y_test = train_test_split(X, y, random_state=42, test_size=0.33)"
   ]
  },
  {
   "cell_type": "markdown",
   "metadata": {},
   "source": [
    "### Using Pipeline and FunctionTransformer"
   ]
  },
  {
   "cell_type": "code",
   "execution_count": 12,
   "metadata": {
    "ExecuteTime": {
     "end_time": "2023-01-04T09:56:24.335176Z",
     "start_time": "2023-01-04T09:56:24.324360Z"
    }
   },
   "outputs": [],
   "source": [
    "def grab_numeric(df):\n",
    "    return df.select_dtypes(include=['float', 'int64'])"
   ]
  },
  {
   "cell_type": "code",
   "execution_count": 13,
   "metadata": {
    "ExecuteTime": {
     "end_time": "2023-01-04T09:56:24.350890Z",
     "start_time": "2023-01-04T09:56:24.335176Z"
    }
   },
   "outputs": [],
   "source": [
    "# The FunctionTransformer will turn my function into a transformer:\n",
    "\n",
    "GrabNumeric = FunctionTransformer(grab_numeric)"
   ]
  },
  {
   "cell_type": "code",
   "execution_count": 14,
   "metadata": {
    "ExecuteTime": {
     "end_time": "2023-01-04T09:56:24.366313Z",
     "start_time": "2023-01-04T09:56:24.351735Z"
    }
   },
   "outputs": [],
   "source": [
    "# Pipe:\n",
    "\n",
    "pipe = Pipeline([\n",
    "    ('num', GrabNumeric),\n",
    "    ('ss', StandardScaler())\n",
    "])"
   ]
  },
  {
   "cell_type": "code",
   "execution_count": 15,
   "metadata": {
    "ExecuteTime": {
     "end_time": "2023-01-04T09:56:24.381963Z",
     "start_time": "2023-01-04T09:56:24.367312Z"
    }
   },
   "outputs": [
    {
     "data": {
      "text/plain": [
       "array([[ 0.15215557,  0.28210137, -0.66542321, -0.84450629],\n",
       "       [ 0.15215557,  0.24063767, -1.13243316,  0.70247517],\n",
       "       [-1.72916821,  0.32356507,  1.00246947, -0.67261946],\n",
       "       ...,\n",
       "       [ 0.15215557,  0.10795384, -0.46527609, -0.15695897],\n",
       "       [-5.49181578,  0.32356507,  1.60291083,  0.53058834],\n",
       "       [-1.72916821,  0.28210137,  0.66889093, -0.50073263]])"
      ]
     },
     "execution_count": 15,
     "metadata": {},
     "output_type": "execute_result"
    }
   ],
   "source": [
    "# checking the resualt:\n",
    "\n",
    "pipe.fit_transform(X_train)"
   ]
  },
  {
   "cell_type": "markdown",
   "metadata": {},
   "source": [
    "### Using Pipeline and ColumnTransformer\n",
    "\n",
    "\n",
    "#### We'll throw these mini-pipelines into our ColumnTransformer: numeric and categorical\n",
    "\n",
    "- numbers (AGE, VEHICLE_YEAR)\n",
    " - scale, impute\n",
    "\n",
    "- categorical (all other columuns)\n",
    " - OHE, impute"
   ]
  },
  {
   "cell_type": "code",
   "execution_count": 16,
   "metadata": {
    "ExecuteTime": {
     "end_time": "2023-01-04T09:56:24.392389Z",
     "start_time": "2023-01-04T09:56:24.382952Z"
    }
   },
   "outputs": [],
   "source": [
    "# Numeric pipeline:\n",
    "\n",
    "num_pipe = Pipeline([\n",
    "    ('num_impute', SimpleImputer(strategy='mean')),\n",
    "    ('ss', StandardScaler())\n",
    "])"
   ]
  },
  {
   "cell_type": "code",
   "execution_count": 17,
   "metadata": {
    "ExecuteTime": {
     "end_time": "2023-01-04T09:56:24.407390Z",
     "start_time": "2023-01-04T09:56:24.392389Z"
    }
   },
   "outputs": [],
   "source": [
    "# Categorical pipeline:\n",
    "\n",
    "cat_pipe = Pipeline([\n",
    "    ('cat_impute', SimpleImputer(strategy='most_frequent')),\n",
    "    ('ohe', OneHotEncoder(sparse=False, handle_unknown='ignore'))\n",
    "])"
   ]
  },
  {
   "cell_type": "markdown",
   "metadata": {},
   "source": [
    "### Selector and ColumnTransformer\n",
    "This will return a callable list of columns"
   ]
  },
  {
   "cell_type": "code",
   "execution_count": 18,
   "metadata": {
    "ExecuteTime": {
     "end_time": "2023-01-04T09:56:24.420314Z",
     "start_time": "2023-01-04T09:56:24.407390Z"
    }
   },
   "outputs": [],
   "source": [
    "# The \"remainder='passthrough\" tells the compiler to leave the other df columns unchanged.\n",
    "# The `ColumnTransformer` will take care of our preprocessing, so now we can add our model at the end of the pipeline:\n",
    "\n",
    "CT = ColumnTransformer(transformers=[\n",
    "    ('num_trans', num_pipe, selector(dtype_include='int64')),\n",
    "    ('cat_trans', cat_pipe, selector(dtype_include=object))\n",
    "], remainder='passthrough')"
   ]
  },
  {
   "cell_type": "code",
   "execution_count": 19,
   "metadata": {
    "ExecuteTime": {
     "end_time": "2023-01-04T09:56:24.436019Z",
     "start_time": "2023-01-04T09:56:24.420314Z"
    }
   },
   "outputs": [
    {
     "data": {
      "text/plain": [
       "['POSTED_SPEED_LIMIT', 'ZIPCODE', 'AGE', 'VEHICLE_YEAR']"
      ]
     },
     "execution_count": 19,
     "metadata": {},
     "output_type": "execute_result"
    }
   ],
   "source": [
    "# testing Selector:\n",
    "\n",
    "test = selector(dtype_include='int64')\n",
    "test(X_train)"
   ]
  },
  {
   "cell_type": "markdown",
   "metadata": {},
   "source": [
    "## Bringing in Our Modeling Class from before"
   ]
  },
  {
   "cell_type": "code",
   "execution_count": 20,
   "metadata": {
    "ExecuteTime": {
     "end_time": "2023-01-04T09:56:24.454641Z",
     "start_time": "2023-01-04T09:56:24.437020Z"
    }
   },
   "outputs": [],
   "source": [
    "class ModelWithCV():\n",
    "    '''Structure to save the model and more easily see its crossvalidation'''\n",
    "    \n",
    "    def __init__(self, model, model_name, X, y, cv_now=True):\n",
    "        self.model = model\n",
    "        self.name = model_name\n",
    "        self.X = X\n",
    "        self.y = y\n",
    "        \n",
    "        # For CV results\n",
    "        self.cv_results = None\n",
    "        self.cv_mean = None\n",
    "        self.cv_median = None\n",
    "        self.cv_std = None\n",
    "        #\n",
    "        if cv_now:\n",
    "            self.cross_validate()\n",
    "        \n",
    "    def cross_validate(self, X=None, y=None, kfolds=10):\n",
    "        '''\n",
    "        Perform cross-validation and return results.\n",
    "        \n",
    "        Args: \n",
    "          X:\n",
    "            Optional; Training data to perform CV on. Otherwise use X from object\n",
    "          y:\n",
    "            Optional; Training data to perform CV on. Otherwise use y from object\n",
    "          kfolds:\n",
    "            Optional; Number of folds for CV (default is 10)  \n",
    "        '''\n",
    "        \n",
    "        cv_X = X if X else self.X\n",
    "        cv_y = y if y else self.y\n",
    "\n",
    "        self.cv_results = cross_val_score(self.model, cv_X, cv_y, cv=kfolds)\n",
    "        self.cv_mean = np.mean(self.cv_results)\n",
    "        self.cv_median = np.median(self.cv_results)\n",
    "        self.cv_std = np.std(self.cv_results)\n",
    "        \n",
    "        # Validate score on test data\n",
    "        self.cv_results_test = cross_val_score(self.model, X_test, y_test, cv=kfolds)\n",
    "        self.cv_test_mean = np.mean(self.cv_results_test)\n",
    "        \n",
    "    def print_cv_summary(self):\n",
    "        cv_summary = self.cv_mean\n",
    "        return cv_summary\n",
    "        \n",
    "#         cv_summary = (\n",
    "#         f'''CV Results for `{self.name}` model:\n",
    "#             {self.cv_mean:.5f} ± {self.cv_std:.5f} accuracy\n",
    "#         ''')\n",
    "#         print(cv_summary)\n",
    "\n",
    "\n",
    "    def print_cv_test_summary(self):\n",
    "        cv_test_summary = self.cv_test_mean\n",
    "        return cv_test_summary\n",
    "\n",
    "\n",
    "    def plot_cv(self, ax):\n",
    "        '''\n",
    "        Plot the cross-validation values using the array of results and given \n",
    "        Axis for plotting.\n",
    "        '''\n",
    "        ax.set_title(f'CV Results for `{self.name}` Model')\n",
    "        \n",
    "        # Thinner violinplot with higher bw\n",
    "        sns.violinplot(y=self.cv_results, ax=ax, bw=.4)\n",
    "        sns.swarmplot(\n",
    "                y=self.cv_results,\n",
    "                color='orange',\n",
    "                size=10,\n",
    "                alpha= 0.8,\n",
    "                ax=ax\n",
    "        )\n",
    "\n",
    "        return ax"
   ]
  },
  {
   "cell_type": "markdown",
   "metadata": {},
   "source": [
    "### Create containers to store confusion_matrix and the 4 scores"
   ]
  },
  {
   "cell_type": "code",
   "execution_count": 21,
   "metadata": {
    "ExecuteTime": {
     "end_time": "2023-01-04T09:56:24.469210Z",
     "start_time": "2023-01-04T09:56:24.454641Z"
    }
   },
   "outputs": [],
   "source": [
    "cf_matrix_train_list = []\n",
    "cf_matrix_test_list = []\n",
    "\n",
    "accuracy_train_dict = {}\n",
    "recall_train_dict = {}\n",
    "precision_train_dict = {}\n",
    "f1_train_dict = {}\n",
    "\n",
    "accuracy_test_dict = {}\n",
    "recall_test_dict = {}\n",
    "precision_test_dict = {}\n",
    "f1_test_dict = {}"
   ]
  },
  {
   "cell_type": "code",
   "execution_count": 22,
   "metadata": {
    "ExecuteTime": {
     "end_time": "2023-01-04T09:56:24.485252Z",
     "start_time": "2023-01-04T09:56:24.469210Z"
    }
   },
   "outputs": [],
   "source": [
    "def add_4scores_train(model_name):\n",
    "    accuracy_train_dict[model_name] = accuracy_score(y_train, y_hat_train)\n",
    "    recall_train_dict[model_name] = recall_score(y_train, y_hat_train, pos_label='$501 AND OVER')\n",
    "    precision_train_dict[model_name] = precision_score(y_train, y_hat_train, pos_label='$501 AND OVER')\n",
    "    f1_train_dict[model_name] = f1_score(y_train, y_hat_train, pos_label='$501 AND OVER')"
   ]
  },
  {
   "cell_type": "code",
   "execution_count": 23,
   "metadata": {
    "ExecuteTime": {
     "end_time": "2023-01-04T09:56:24.501809Z",
     "start_time": "2023-01-04T09:56:24.486276Z"
    }
   },
   "outputs": [],
   "source": [
    "def add_4scores_test(model_name):\n",
    "    accuracy_test_dict[model_name] = accuracy_score(y_test, y_hat_test)\n",
    "    recall_test_dict[model_name] = recall_score(y_test, y_hat_test, pos_label='$501 AND OVER')\n",
    "    precision_test_dict[model_name] = precision_score(y_test, y_hat_test, pos_label='$501 AND OVER')\n",
    "    f1_test_dict[model_name] = f1_score(y_test, y_hat_test, pos_label='$501 AND OVER')"
   ]
  },
  {
   "cell_type": "code",
   "execution_count": 24,
   "metadata": {
    "ExecuteTime": {
     "end_time": "2023-01-04T09:56:24.517526Z",
     "start_time": "2023-01-04T09:56:24.502345Z"
    }
   },
   "outputs": [],
   "source": [
    "def print_4scores_train(model_name):\n",
    "    return print(f\"\"\"\n",
    "The model's accuracy on the train set is {round(accuracy_train_dict[model_name], 4)} \\n\n",
    "The model's recall on the train set is {round(recall_train_dict[model_name], 4)} \\n\n",
    "The model's precision on the train set is {round(precision_train_dict[model_name], 4)} \\n\n",
    "The model's f1-score on the train is {round(f1_train_dict[model_name], 4)}\n",
    "\"\"\")"
   ]
  },
  {
   "cell_type": "code",
   "execution_count": 25,
   "metadata": {
    "ExecuteTime": {
     "end_time": "2023-01-04T09:56:24.533116Z",
     "start_time": "2023-01-04T09:56:24.518483Z"
    }
   },
   "outputs": [],
   "source": [
    "def print_4scores_test(model_name):\n",
    "    return print(f\"\"\"\n",
    "The model's accuracy on the test set is {round(accuracy_test_dict[model_name], 4)} \\n\n",
    "The model's recall on the test set is {round(recall_test_dict[model_name], 4)} \\n\n",
    "The model's precision on the test set is {round(precision_test_dict[model_name], 4)} \\n\n",
    "The model's f1-score on the test is {round(f1_test_dict[model_name], 4)}\n",
    "\"\"\")"
   ]
  },
  {
   "cell_type": "markdown",
   "metadata": {},
   "source": [
    "## Models\n",
    "\n",
    "### Model 1: Create Baseline Model - Dummy Classifier Model"
   ]
  },
  {
   "cell_type": "code",
   "execution_count": 26,
   "metadata": {
    "ExecuteTime": {
     "end_time": "2023-01-04T09:56:24.551824Z",
     "start_time": "2023-01-04T09:56:24.534116Z"
    }
   },
   "outputs": [],
   "source": [
    "dummy_model = Pipeline([\n",
    "    ('ct', CT),\n",
    "    ('dummy', DummyClassifier(strategy='most_frequent'))\n",
    "])"
   ]
  },
  {
   "cell_type": "code",
   "execution_count": 27,
   "metadata": {
    "ExecuteTime": {
     "end_time": "2023-01-04T09:57:00.283044Z",
     "start_time": "2023-01-04T09:56:24.553005Z"
    }
   },
   "outputs": [],
   "source": [
    "# Use the class without dummy pipe:\n",
    "\n",
    "dummy_model_pipe =  ModelWithCV(dummy_model, model_name='dummy', X = X_train, y = y_train)"
   ]
  },
  {
   "cell_type": "code",
   "execution_count": 28,
   "metadata": {
    "ExecuteTime": {
     "end_time": "2023-01-04T09:57:00.298826Z",
     "start_time": "2023-01-04T09:57:00.283044Z"
    }
   },
   "outputs": [
    {
     "data": {
      "text/plain": [
       "0.9178171641791044"
      ]
     },
     "execution_count": 28,
     "metadata": {},
     "output_type": "execute_result"
    }
   ],
   "source": [
    "# Score on training data:\n",
    "\n",
    "dummy_score_train = dummy_model_pipe.print_cv_summary()\n",
    "dummy_score_train"
   ]
  },
  {
   "cell_type": "code",
   "execution_count": 29,
   "metadata": {
    "ExecuteTime": {
     "end_time": "2023-01-04T09:57:00.314472Z",
     "start_time": "2023-01-04T09:57:00.298826Z"
    }
   },
   "outputs": [
    {
     "data": {
      "text/plain": [
       "0.9175000000000001"
      ]
     },
     "execution_count": 29,
     "metadata": {},
     "output_type": "execute_result"
    }
   ],
   "source": [
    "# Validate with testing data:\n",
    "\n",
    "dummy_score_test = dummy_model_pipe.print_cv_test_summary()\n",
    "dummy_score_test"
   ]
  },
  {
   "cell_type": "code",
   "execution_count": 30,
   "metadata": {
    "ExecuteTime": {
     "end_time": "2023-01-04T09:57:00.493418Z",
     "start_time": "2023-01-04T09:57:00.316439Z"
    }
   },
   "outputs": [
    {
     "data": {
      "text/plain": [
       "<AxesSubplot:title={'center':'CV Results for `dummy` Model'}>"
      ]
     },
     "execution_count": 30,
     "metadata": {},
     "output_type": "execute_result"
    },
    {
     "data": {
      "image/png": "[encoded data removed]",
      "text/plain": [
       "<Figure size 432x288 with 1 Axes>"
      ]
     },
     "metadata": {
      "needs_background": "light"
     },
     "output_type": "display_data"
    }
   ],
   "source": [
    "fig,ax = plt.subplots()\n",
    "\n",
    "dummy_model_pipe.plot_cv(ax=ax)"
   ]
  },
  {
   "cell_type": "code",
   "execution_count": 141,
   "metadata": {
    "ExecuteTime": {
     "end_time": "2023-01-04T19:41:34.582714Z",
     "start_time": "2023-01-04T19:41:30.570860Z"
    }
   },
   "outputs": [
    {
     "name": "stdout",
     "output_type": "stream",
     "text": [
      "\n",
      "The model's accuracy on the train set is 0.9178 \n",
      "\n",
      "The model's recall on the train set is 1.0 \n",
      "\n",
      "The model's precision on the train set is 0.9178 \n",
      "\n",
      "The model's f1-score on the train is 0.9571\n",
      "\n",
      "\n",
      "The model's accuracy on the test set is 0.9175 \n",
      "\n",
      "The model's recall on the test set is 1.0 \n",
      "\n",
      "The model's precision on the test set is 0.9175 \n",
      "\n",
      "The model's f1-score on the test is 0.957\n",
      "\n"
     ]
    },
    {
     "data": {
      "image/png": "[encoded data removed]",
      "text/plain": [
       "<Figure size 432x288 with 2 Axes>"
      ]
     },
     "metadata": {
      "needs_background": "light"
     },
     "output_type": "display_data"
    },
    {
     "data": {
      "image/png": "[encoded data removed]",
      "text/plain": [
       "<Figure size 432x288 with 2 Axes>"
      ]
     },
     "metadata": {
      "needs_background": "light"
     },
     "output_type": "display_data"
    }
   ],
   "source": [
    "# Fit the model:\n",
    "dummy_model.fit(X_train, y_train)\n",
    "\n",
    "# Plot confusion_matrix on training data:\n",
    "matrix_train_model1 = plot_confusion_matrix(dummy_model, X_train, y_train);\n",
    "cf_matrix_train_list.append(matrix_train_model1)\n",
    "\n",
    "# Plot confusion_matrix on testing data:\n",
    "matrix_test_model1 = plot_confusion_matrix(dummy_model, X_test, y_test);\n",
    "cf_matrix_test_list.append(matrix_test_model1)\n",
    "\n",
    "# Print 4 scores on training data:\n",
    "y_hat_train = dummy_model.predict(X_train)\n",
    "add_4scores_train('model1')\n",
    "print_4scores_train('model1')\n",
    "\n",
    "# Print 4 scores on testing data:\n",
    "y_hat_test = dummy_model.predict(X_test)\n",
    "add_4scores_test('model1')\n",
    "print_4scores_test('model1')"
   ]
  },
  {
   "cell_type": "markdown",
   "metadata": {},
   "source": [
    "### Model 2: Create FSM (First Simple Model) - Logistic Regression Model"
   ]
  },
  {
   "cell_type": "code",
   "execution_count": 33,
   "metadata": {
    "ExecuteTime": {
     "end_time": "2023-01-04T09:57:08.845436Z",
     "start_time": "2023-01-04T09:57:08.829814Z"
    }
   },
   "outputs": [],
   "source": [
    "# Reset solver from 'lbfgs' to 'saga', and max_iter = 300\n",
    "\n",
    "logreg_fsm = Pipeline([\n",
    "    ('ct',CT),\n",
    "    ('logreg_fsm',LogisticRegression(random_state=42, solver='saga', max_iter=300))\n",
    "])"
   ]
  },
  {
   "cell_type": "code",
   "execution_count": 34,
   "metadata": {
    "ExecuteTime": {
     "end_time": "2023-01-04T10:12:58.070541Z",
     "start_time": "2023-01-04T09:57:08.845436Z"
    }
   },
   "outputs": [
    {
     "name": "stderr",
     "output_type": "stream",
     "text": [
      "C:\\Users\\Chiafeng\\anaconda3\\envs\\learn-env\\lib\\site-packages\\sklearn\\linear_model\\_sag.py:329: ConvergenceWarning: The max_iter was reached which means the coef_ did not converge\n",
      "  warnings.warn(\"The max_iter was reached which means \"\n",
      "C:\\Users\\Chiafeng\\anaconda3\\envs\\learn-env\\lib\\site-packages\\sklearn\\linear_model\\_sag.py:329: ConvergenceWarning: The max_iter was reached which means the coef_ did not converge\n",
      "  warnings.warn(\"The max_iter was reached which means \"\n",
      "C:\\Users\\Chiafeng\\anaconda3\\envs\\learn-env\\lib\\site-packages\\sklearn\\linear_model\\_sag.py:329: ConvergenceWarning: The max_iter was reached which means the coef_ did not converge\n",
      "  warnings.warn(\"The max_iter was reached which means \"\n",
      "C:\\Users\\Chiafeng\\anaconda3\\envs\\learn-env\\lib\\site-packages\\sklearn\\linear_model\\_sag.py:329: ConvergenceWarning: The max_iter was reached which means the coef_ did not converge\n",
      "  warnings.warn(\"The max_iter was reached which means \"\n",
      "C:\\Users\\Chiafeng\\anaconda3\\envs\\learn-env\\lib\\site-packages\\sklearn\\linear_model\\_sag.py:329: ConvergenceWarning: The max_iter was reached which means the coef_ did not converge\n",
      "  warnings.warn(\"The max_iter was reached which means \"\n",
      "C:\\Users\\Chiafeng\\anaconda3\\envs\\learn-env\\lib\\site-packages\\sklearn\\linear_model\\_sag.py:329: ConvergenceWarning: The max_iter was reached which means the coef_ did not converge\n",
      "  warnings.warn(\"The max_iter was reached which means \"\n",
      "C:\\Users\\Chiafeng\\anaconda3\\envs\\learn-env\\lib\\site-packages\\sklearn\\linear_model\\_sag.py:329: ConvergenceWarning: The max_iter was reached which means the coef_ did not converge\n",
      "  warnings.warn(\"The max_iter was reached which means \"\n",
      "C:\\Users\\Chiafeng\\anaconda3\\envs\\learn-env\\lib\\site-packages\\sklearn\\linear_model\\_sag.py:329: ConvergenceWarning: The max_iter was reached which means the coef_ did not converge\n",
      "  warnings.warn(\"The max_iter was reached which means \"\n",
      "C:\\Users\\Chiafeng\\anaconda3\\envs\\learn-env\\lib\\site-packages\\sklearn\\linear_model\\_sag.py:329: ConvergenceWarning: The max_iter was reached which means the coef_ did not converge\n",
      "  warnings.warn(\"The max_iter was reached which means \"\n",
      "C:\\Users\\Chiafeng\\anaconda3\\envs\\learn-env\\lib\\site-packages\\sklearn\\linear_model\\_sag.py:329: ConvergenceWarning: The max_iter was reached which means the coef_ did not converge\n",
      "  warnings.warn(\"The max_iter was reached which means \"\n",
      "C:\\Users\\Chiafeng\\anaconda3\\envs\\learn-env\\lib\\site-packages\\sklearn\\linear_model\\_sag.py:329: ConvergenceWarning: The max_iter was reached which means the coef_ did not converge\n",
      "  warnings.warn(\"The max_iter was reached which means \"\n",
      "C:\\Users\\Chiafeng\\anaconda3\\envs\\learn-env\\lib\\site-packages\\sklearn\\linear_model\\_sag.py:329: ConvergenceWarning: The max_iter was reached which means the coef_ did not converge\n",
      "  warnings.warn(\"The max_iter was reached which means \"\n",
      "C:\\Users\\Chiafeng\\anaconda3\\envs\\learn-env\\lib\\site-packages\\sklearn\\linear_model\\_sag.py:329: ConvergenceWarning: The max_iter was reached which means the coef_ did not converge\n",
      "  warnings.warn(\"The max_iter was reached which means \"\n",
      "C:\\Users\\Chiafeng\\anaconda3\\envs\\learn-env\\lib\\site-packages\\sklearn\\linear_model\\_sag.py:329: ConvergenceWarning: The max_iter was reached which means the coef_ did not converge\n",
      "  warnings.warn(\"The max_iter was reached which means \"\n",
      "C:\\Users\\Chiafeng\\anaconda3\\envs\\learn-env\\lib\\site-packages\\sklearn\\linear_model\\_sag.py:329: ConvergenceWarning: The max_iter was reached which means the coef_ did not converge\n",
      "  warnings.warn(\"The max_iter was reached which means \"\n",
      "C:\\Users\\Chiafeng\\anaconda3\\envs\\learn-env\\lib\\site-packages\\sklearn\\linear_model\\_sag.py:329: ConvergenceWarning: The max_iter was reached which means the coef_ did not converge\n",
      "  warnings.warn(\"The max_iter was reached which means \"\n",
      "C:\\Users\\Chiafeng\\anaconda3\\envs\\learn-env\\lib\\site-packages\\sklearn\\linear_model\\_sag.py:329: ConvergenceWarning: The max_iter was reached which means the coef_ did not converge\n",
      "  warnings.warn(\"The max_iter was reached which means \"\n",
      "C:\\Users\\Chiafeng\\anaconda3\\envs\\learn-env\\lib\\site-packages\\sklearn\\linear_model\\_sag.py:329: ConvergenceWarning: The max_iter was reached which means the coef_ did not converge\n",
      "  warnings.warn(\"The max_iter was reached which means \"\n",
      "C:\\Users\\Chiafeng\\anaconda3\\envs\\learn-env\\lib\\site-packages\\sklearn\\linear_model\\_sag.py:329: ConvergenceWarning: The max_iter was reached which means the coef_ did not converge\n",
      "  warnings.warn(\"The max_iter was reached which means \"\n",
      "C:\\Users\\Chiafeng\\anaconda3\\envs\\learn-env\\lib\\site-packages\\sklearn\\linear_model\\_sag.py:329: ConvergenceWarning: The max_iter was reached which means the coef_ did not converge\n",
      "  warnings.warn(\"The max_iter was reached which means \"\n"
     ]
    }
   ],
   "source": [
    "# Use the class with out logreg pipe\n",
    "\n",
    "fsm_model_pipe =  ModelWithCV(logreg_fsm, model_name='fsm',X=X_train, y=y_train)\n",
    "\n",
    "# Getting ConvergenceWarning. Go back to logreg_fsm above to reset the parameters."
   ]
  },
  {
   "cell_type": "code",
   "execution_count": 35,
   "metadata": {
    "ExecuteTime": {
     "end_time": "2023-01-04T10:12:58.086515Z",
     "start_time": "2023-01-04T10:12:58.070541Z"
    }
   },
   "outputs": [
    {
     "data": {
      "text/plain": [
       "0.9178171641791044"
      ]
     },
     "execution_count": 35,
     "metadata": {},
     "output_type": "execute_result"
    }
   ],
   "source": [
    "# Score on training data:\n",
    "\n",
    "logreg_score_train = fsm_model_pipe.print_cv_summary()\n",
    "logreg_score_train"
   ]
  },
  {
   "cell_type": "code",
   "execution_count": 36,
   "metadata": {
    "ExecuteTime": {
     "end_time": "2023-01-04T10:12:58.098029Z",
     "start_time": "2023-01-04T10:12:58.087516Z"
    }
   },
   "outputs": [
    {
     "data": {
      "text/plain": [
       "0.9175000000000001"
      ]
     },
     "execution_count": 36,
     "metadata": {},
     "output_type": "execute_result"
    }
   ],
   "source": [
    "# Validate with testing data:\n",
    "\n",
    "logreg_score_test = fsm_model_pipe.print_cv_test_summary()\n",
    "logreg_score_test"
   ]
  },
  {
   "cell_type": "code",
   "execution_count": 37,
   "metadata": {
    "ExecuteTime": {
     "end_time": "2023-01-04T10:12:58.217005Z",
     "start_time": "2023-01-04T10:12:58.100149Z"
    }
   },
   "outputs": [
    {
     "data": {
      "text/plain": [
       "<AxesSubplot:title={'center':'CV Results for `fsm` Model'}>"
      ]
     },
     "execution_count": 37,
     "metadata": {},
     "output_type": "execute_result"
    },
    {
     "data": {
      "image/png": "[encoded data removed]",
      "text/plain": [
       "<Figure size 432x288 with 1 Axes>"
      ]
     },
     "metadata": {
      "needs_background": "light"
     },
     "output_type": "display_data"
    }
   ],
   "source": [
    "fig,ax = plt.subplots()\n",
    "fsm_model_pipe.plot_cv(ax=ax)"
   ]
  },
  {
   "cell_type": "code",
   "execution_count": 38,
   "metadata": {
    "ExecuteTime": {
     "end_time": "2023-01-04T10:14:21.524250Z",
     "start_time": "2023-01-04T10:12:58.217689Z"
    }
   },
   "outputs": [
    {
     "name": "stderr",
     "output_type": "stream",
     "text": [
      "C:\\Users\\Chiafeng\\anaconda3\\envs\\learn-env\\lib\\site-packages\\sklearn\\linear_model\\_sag.py:329: ConvergenceWarning: The max_iter was reached which means the coef_ did not converge\n",
      "  warnings.warn(\"The max_iter was reached which means \"\n"
     ]
    },
    {
     "name": "stdout",
     "output_type": "stream",
     "text": [
      "\n",
      "The model's accuracy on the train set is 0.9178 \n",
      "\n",
      "The model's recall on the train set is 1.0 \n",
      "\n",
      "The model's precision on the train set is 0.9178 \n",
      "\n",
      "The model's f1-score on the train is 0.9571\n",
      "\n",
      "\n",
      "The model's accuracy on the test set is 0.9175 \n",
      "\n",
      "The model's recall on the test set is 1.0 \n",
      "\n",
      "The model's precision on the test set is 0.9175 \n",
      "\n",
      "The model's f1-score on the test is 0.957\n",
      "\n"
     ]
    },
    {
     "data": {
      "image/png": "[encoded data removed]",
      "text/plain": [
       "<Figure size 432x288 with 2 Axes>"
      ]
     },
     "metadata": {
      "needs_background": "light"
     },
     "output_type": "display_data"
    },
    {
     "data": {
      "image/png": "[encoded data removed]",
      "text/plain": [
       "<Figure size 432x288 with 2 Axes>"
      ]
     },
     "metadata": {
      "needs_background": "light"
     },
     "output_type": "display_data"
    }
   ],
   "source": [
    "# Fit the model:\n",
    "logreg_fsm.fit(X_train, y_train)\n",
    "\n",
    "# Plot confusion_matrix on training data:\n",
    "matrix_train_model2 = plot_confusion_matrix(logreg_fsm, X_train, y_train);\n",
    "cf_matrix_train_list.append(matrix_train_model2)\n",
    "\n",
    "# Plot confusion_matrix on testing data:\n",
    "matrix_test_model2 = plot_confusion_matrix(logreg_fsm, X_test, y_test);\n",
    "cf_matrix_test_list.append(matrix_test_model2)\n",
    "\n",
    "# Print 4 scores on training data:\n",
    "y_hat_train = logreg_fsm.predict(X_train)\n",
    "add_4scores_train('model2')\n",
    "print_4scores_train('model2')\n",
    "\n",
    "# Print 4 scores on testing data:\n",
    "y_hat_test = logreg_fsm.predict(X_test)\n",
    "add_4scores_test('model2')\n",
    "print_4scores_test('model2')"
   ]
  },
  {
   "cell_type": "markdown",
   "metadata": {},
   "source": [
    "### Trying Other Models at the End of the Pipeline\n",
    "### Model 3: Random Forest"
   ]
  },
  {
   "cell_type": "code",
   "execution_count": 39,
   "metadata": {
    "ExecuteTime": {
     "end_time": "2023-01-04T10:22:19.142455Z",
     "start_time": "2023-01-04T10:14:21.526323Z"
    }
   },
   "outputs": [
    {
     "data": {
      "image/png": "[encoded data removed]",
      "text/plain": [
       "<Figure size 432x288 with 1 Axes>"
      ]
     },
     "metadata": {
      "needs_background": "light"
     },
     "output_type": "display_data"
    }
   ],
   "source": [
    "# rfc!\n",
    "rfc = RandomForestClassifier(random_state=42)\n",
    "\n",
    "rfc_model_pipe = Pipeline([('ct', CT), ('rfc', rfc)])\n",
    "\n",
    "forest_pipe = ModelWithCV(model=rfc_model_pipe,\n",
    "                          model_name='forest_pipe',\n",
    "                          X=X_train,\n",
    "                          y=y_train)\n",
    "\n",
    "fig, ax = plt.subplots()\n",
    "\n",
    "forest_pipe.plot_cv(ax=ax);"
   ]
  },
  {
   "cell_type": "code",
   "execution_count": 40,
   "metadata": {
    "ExecuteTime": {
     "end_time": "2023-01-04T10:22:19.157987Z",
     "start_time": "2023-01-04T10:22:19.142455Z"
    }
   },
   "outputs": [
    {
     "data": {
      "text/plain": [
       "0.918526119402985"
      ]
     },
     "execution_count": 40,
     "metadata": {},
     "output_type": "execute_result"
    }
   ],
   "source": [
    "# Score on training data:\n",
    "\n",
    "rfc_score_train = forest_pipe.print_cv_summary()\n",
    "rfc_score_train"
   ]
  },
  {
   "cell_type": "code",
   "execution_count": 41,
   "metadata": {
    "ExecuteTime": {
     "end_time": "2023-01-04T10:22:19.232522Z",
     "start_time": "2023-01-04T10:22:19.157987Z"
    }
   },
   "outputs": [
    {
     "data": {
      "text/plain": [
       "0.9175378787878788"
      ]
     },
     "execution_count": 41,
     "metadata": {},
     "output_type": "execute_result"
    }
   ],
   "source": [
    "# Validate with testing data:\n",
    "\n",
    "rfc_score_test = forest_pipe.print_cv_test_summary()\n",
    "rfc_score_test"
   ]
  },
  {
   "cell_type": "code",
   "execution_count": 43,
   "metadata": {
    "ExecuteTime": {
     "end_time": "2023-01-04T14:07:02.043630Z",
     "start_time": "2023-01-04T14:06:12.923850Z"
    }
   },
   "outputs": [
    {
     "name": "stdout",
     "output_type": "stream",
     "text": [
      "\n",
      "The model's accuracy on the train set is 0.9998 \n",
      "\n",
      "The model's recall on the train set is 1.0 \n",
      "\n",
      "The model's precision on the train set is 0.9998 \n",
      "\n",
      "The model's f1-score on the train is 0.9999\n",
      "\n",
      "\n",
      "The model's accuracy on the test set is 0.9185 \n",
      "\n",
      "The model's recall on the test set is 0.9986 \n",
      "\n",
      "The model's precision on the test set is 0.9195 \n",
      "\n",
      "The model's f1-score on the test is 0.9574\n",
      "\n"
     ]
    },
    {
     "data": {
      "image/png": "[encoded data removed]",
      "text/plain": [
       "<Figure size 432x288 with 2 Axes>"
      ]
     },
     "metadata": {
      "needs_background": "light"
     },
     "output_type": "display_data"
    },
    {
     "data": {
      "image/png": "[encoded data removed]",
      "text/plain": [
       "<Figure size 432x288 with 2 Axes>"
      ]
     },
     "metadata": {
      "needs_background": "light"
     },
     "output_type": "display_data"
    }
   ],
   "source": [
    "# # Fit the model:\n",
    "rfc_model_pipe.fit(X_train, y_train)\n",
    "\n",
    "# Plot confusion_matrix on training data:\n",
    "matrix_train_model3 = plot_confusion_matrix(rfc_model_pipe, X_train, y_train);\n",
    "cf_matrix_train_list.append(matrix_train_model3)\n",
    "\n",
    "# Plot confusion_matrix on testing data:\n",
    "matrix_test_model3 = plot_confusion_matrix(rfc_model_pipe, X_test, y_test);\n",
    "cf_matrix_test_list.append(matrix_test_model3)\n",
    "\n",
    "\n",
    "# Print 4 scores on training data:\n",
    "y_hat_train = rfc_model_pipe.predict(X_train)\n",
    "add_4scores_train('model3')\n",
    "print_4scores_train('model3')\n",
    "\n",
    "# Print 4 scores on testing data:\n",
    "y_hat_test = rfc_model_pipe.predict(X_test)\n",
    "add_4scores_test('model3')\n",
    "print_4scores_test('model3')\n"
   ]
  },
  {
   "cell_type": "markdown",
   "metadata": {},
   "source": [
    "### Model 4: Gradient Booster"
   ]
  },
  {
   "cell_type": "code",
   "execution_count": 44,
   "metadata": {
    "ExecuteTime": {
     "end_time": "2023-01-04T14:31:49.911076Z",
     "start_time": "2023-01-04T14:07:11.601680Z"
    }
   },
   "outputs": [
    {
     "data": {
      "image/png": "[encoded data removed]",
      "text/plain": [
       "<Figure size 432x288 with 1 Axes>"
      ]
     },
     "metadata": {
      "needs_background": "light"
     },
     "output_type": "display_data"
    }
   ],
   "source": [
    "# gbc!\n",
    "gbc_model_pipe = Pipeline([('ct', CT), ('gbc', GradientBoostingClassifier(random_state=42))])\n",
    "\n",
    "gbc_pipe = ModelWithCV(model=gbc_model_pipe,\n",
    "                          model_name='gbc_pipe',\n",
    "                          X=X_train,\n",
    "                          y=y_train)\n",
    "\n",
    "fig, ax = plt.subplots()\n",
    "\n",
    "gbc_pipe.plot_cv(ax=ax);"
   ]
  },
  {
   "cell_type": "code",
   "execution_count": 45,
   "metadata": {
    "ExecuteTime": {
     "end_time": "2023-01-04T14:50:53.541110Z",
     "start_time": "2023-01-04T14:50:53.526087Z"
    }
   },
   "outputs": [
    {
     "data": {
      "text/plain": [
       "0.9177798507462687"
      ]
     },
     "execution_count": 45,
     "metadata": {},
     "output_type": "execute_result"
    }
   ],
   "source": [
    "# Score on training data:\n",
    "\n",
    "gbc_score_train = gbc_pipe.print_cv_summary()\n",
    "gbc_score_train"
   ]
  },
  {
   "cell_type": "code",
   "execution_count": 46,
   "metadata": {
    "ExecuteTime": {
     "end_time": "2023-01-04T14:50:55.454100Z",
     "start_time": "2023-01-04T14:50:55.442203Z"
    }
   },
   "outputs": [
    {
     "data": {
      "text/plain": [
       "0.9173484848484849"
      ]
     },
     "execution_count": 46,
     "metadata": {},
     "output_type": "execute_result"
    }
   ],
   "source": [
    "# Validate with testing data:\n",
    "\n",
    "gbc_score_test = gbc_pipe.print_cv_test_summary()\n",
    "gbc_score_test"
   ]
  },
  {
   "cell_type": "code",
   "execution_count": 47,
   "metadata": {
    "ExecuteTime": {
     "end_time": "2023-01-04T14:52:15.365218Z",
     "start_time": "2023-01-04T14:50:57.330378Z"
    }
   },
   "outputs": [
    {
     "name": "stdout",
     "output_type": "stream",
     "text": [
      "\n",
      "The model's accuracy on the train set is 0.918 \n",
      "\n",
      "The model's recall on the train set is 1.0 \n",
      "\n",
      "The model's precision on the train set is 0.918 \n",
      "\n",
      "The model's f1-score on the train is 0.9573\n",
      "\n",
      "\n",
      "The model's accuracy on the test set is 0.9175 \n",
      "\n",
      "The model's recall on the test set is 1.0 \n",
      "\n",
      "The model's precision on the test set is 0.9175 \n",
      "\n",
      "The model's f1-score on the test is 0.957\n",
      "\n"
     ]
    },
    {
     "data": {
      "image/png": "[encoded data removed]",
      "text/plain": [
       "<Figure size 432x288 with 2 Axes>"
      ]
     },
     "metadata": {
      "needs_background": "light"
     },
     "output_type": "display_data"
    },
    {
     "data": {
      "image/png": "[encoded data removed]",
      "text/plain": [
       "<Figure size 432x288 with 2 Axes>"
      ]
     },
     "metadata": {
      "needs_background": "light"
     },
     "output_type": "display_data"
    }
   ],
   "source": [
    "# Fit the model:\n",
    "gbc_model_pipe.fit(X_train, y_train)\n",
    "\n",
    "# Plot confusion_matrix on training data:\n",
    "matrix_train_model4 = plot_confusion_matrix(gbc_model_pipe, X_train, y_train);\n",
    "cf_matrix_train_list.append(matrix_train_model4)\n",
    "\n",
    "# Plot confusion_matrix on testing data:\n",
    "matrix_test_model4 = plot_confusion_matrix(gbc_model_pipe, X_test, y_test);\n",
    "cf_matrix_test_list.append(matrix_test_model4)\n",
    "\n",
    "# Print 4 scores on training data:\n",
    "y_hat_train = gbc_model_pipe.predict(X_train)\n",
    "add_4scores_train('model4')\n",
    "print_4scores_train('model4')\n",
    "\n",
    "# Print 4 scores on testing data:\n",
    "y_hat_test = gbc_model_pipe.predict(X_test)\n",
    "add_4scores_test('model4')\n",
    "print_4scores_test('model4')"
   ]
  },
  {
   "cell_type": "markdown",
   "metadata": {},
   "source": [
    "## Take out column 'ZIPCODE' and re-run the models\n",
    "It took 1h 32mins to excute Gradient Booster model.\n",
    "Decided to take out Column 'ZIPCODE' since this dataset is collected in Chicago. Different 'ZIPCODE' might not impact the target much.\n",
    "\n",
    "Before taking out ‘ZIPCODE’:\n",
    "- CV Results for `dummy` model:  0.63879 ± 0.00009 accuracy\n",
    "- CV Results for `forest_pipe` model:  0.62870 ± 0.00595 accuracy\n",
    "- CV Results for `gbc_pipe` model:  0.63943 ± 0.00072 accuracy\n"
   ]
  },
  {
   "cell_type": "markdown",
   "metadata": {},
   "source": [
    "### Model 5: Decision Tree"
   ]
  },
  {
   "cell_type": "code",
   "execution_count": 48,
   "metadata": {
    "ExecuteTime": {
     "end_time": "2023-01-04T14:54:18.961628Z",
     "start_time": "2023-01-04T14:52:54.762720Z"
    }
   },
   "outputs": [
    {
     "data": {
      "image/png": "[encoded data removed]",
      "text/plain": [
       "<Figure size 432x288 with 1 Axes>"
      ]
     },
     "metadata": {
      "needs_background": "light"
     },
     "output_type": "display_data"
    }
   ],
   "source": [
    "dtc_model_pipe = Pipeline([('ct', CT), ('dtc', DecisionTreeClassifier(random_state=42))])\n",
    "\n",
    "dtc_pipe = ModelWithCV(model=dtc_model_pipe,\n",
    "                          model_name='dtc_pipe',\n",
    "                          X=X_train,\n",
    "                          y=y_train)\n",
    "\n",
    "fig, ax = plt.subplots()\n",
    "\n",
    "dtc_pipe.plot_cv(ax=ax);"
   ]
  },
  {
   "cell_type": "code",
   "execution_count": 49,
   "metadata": {
    "ExecuteTime": {
     "end_time": "2023-01-04T14:54:31.770247Z",
     "start_time": "2023-01-04T14:54:31.764242Z"
    }
   },
   "outputs": [
    {
     "data": {
      "text/plain": [
       "0.8536380597014925"
      ]
     },
     "execution_count": 49,
     "metadata": {},
     "output_type": "execute_result"
    }
   ],
   "source": [
    "# Score on training data:\n",
    "\n",
    "dtc_score_train = dtc_pipe.print_cv_summary()\n",
    "dtc_score_train"
   ]
  },
  {
   "cell_type": "code",
   "execution_count": 50,
   "metadata": {
    "ExecuteTime": {
     "end_time": "2023-01-04T14:54:33.234774Z",
     "start_time": "2023-01-04T14:54:33.210813Z"
    }
   },
   "outputs": [
    {
     "data": {
      "text/plain": [
       "0.8530303030303031"
      ]
     },
     "execution_count": 50,
     "metadata": {},
     "output_type": "execute_result"
    }
   ],
   "source": [
    "# Validate with testing data:\n",
    "\n",
    "dtc_score_test = dtc_pipe.print_cv_test_summary()\n",
    "dtc_score_test"
   ]
  },
  {
   "cell_type": "code",
   "execution_count": 51,
   "metadata": {
    "ExecuteTime": {
     "end_time": "2023-01-04T14:54:45.288801Z",
     "start_time": "2023-01-04T14:54:36.147349Z"
    }
   },
   "outputs": [
    {
     "name": "stdout",
     "output_type": "stream",
     "text": [
      "\n",
      "The model's accuracy on the train set is 0.9999 \n",
      "\n",
      "The model's recall on the train set is 0.9999 \n",
      "\n",
      "The model's precision on the train set is 1.0 \n",
      "\n",
      "The model's f1-score on the train is 0.9999\n",
      "\n",
      "\n",
      "The model's accuracy on the test set is 0.8543 \n",
      "\n",
      "The model's recall on the test set is 0.9167 \n",
      "\n",
      "The model's precision on the test set is 0.9239 \n",
      "\n",
      "The model's f1-score on the test is 0.9203\n",
      "\n"
     ]
    },
    {
     "data": {
      "image/png": "[encoded data removed]",
      "text/plain": [
       "<Figure size 432x288 with 2 Axes>"
      ]
     },
     "metadata": {
      "needs_background": "light"
     },
     "output_type": "display_data"
    },
    {
     "data": {
      "image/png": "[encoded data removed]",
      "text/plain": [
       "<Figure size 432x288 with 2 Axes>"
      ]
     },
     "metadata": {
      "needs_background": "light"
     },
     "output_type": "display_data"
    }
   ],
   "source": [
    "# Fit the model:\n",
    "dtc_model_pipe.fit(X_train, y_train)\n",
    "\n",
    "# Plot confusion_matrix on training data:\n",
    "matrix_train_model5 = plot_confusion_matrix(dtc_model_pipe, X_train, y_train);\n",
    "cf_matrix_train_list.append(matrix_train_model5)\n",
    "\n",
    "# Plot confusion_matrix on testing data:\n",
    "matrix_test_model5 = plot_confusion_matrix(dtc_model_pipe, X_test, y_test);\n",
    "cf_matrix_test_list.append(matrix_test_model5)\n",
    "\n",
    "# Print 4 scores on training data:\n",
    "y_hat_train = dtc_model_pipe.predict(X_train)\n",
    "add_4scores_train('model5')\n",
    "print_4scores_train('model5')\n",
    "\n",
    "# Print 4 scores on testing data:\n",
    "y_hat_test = dtc_model_pipe.predict(X_test)\n",
    "add_4scores_test('model5')\n",
    "print_4scores_test('model5')"
   ]
  },
  {
   "cell_type": "markdown",
   "metadata": {},
   "source": [
    "### Model 6: Tuning and Cross-Validating - Logistic Regression Model\n",
    "\n",
    "As a result, Logistic Regression Model has the best accuracy. Tune the Logreg Model and perform GridSearch:"
   ]
  },
  {
   "cell_type": "code",
   "execution_count": 75,
   "metadata": {
    "ExecuteTime": {
     "end_time": "2023-01-04T16:17:28.904581Z",
     "start_time": "2023-01-04T16:17:28.844264Z"
    }
   },
   "outputs": [
    {
     "data": {
      "text/plain": [
       "Pipeline(steps=[('ct',\n",
       "                 ColumnTransformer(remainder='passthrough',\n",
       "                                   transformers=[('num_trans',\n",
       "                                                  Pipeline(steps=[('num_impute',\n",
       "                                                                   SimpleImputer()),\n",
       "                                                                  ('ss',\n",
       "                                                                   StandardScaler())]),\n",
       "                                                  <sklearn.compose._column_transformer.make_column_selector object at 0x000001AEC0AB6DC0>),\n",
       "                                                 ('cat_trans',\n",
       "                                                  Pipeline(steps=[('cat_impute',\n",
       "                                                                   SimpleImputer(strategy='most_frequent')),\n",
       "                                                                  ('ohe',\n",
       "                                                                   OneHotEncoder(handle_unknown='ignore',\n",
       "                                                                                 sparse=False))]),\n",
       "                                                  <sklearn.compose._column_transformer.make_column_selector object at 0x000001AEC0AB6A00>)])),\n",
       "                ('logreg_fsm',\n",
       "                 LogisticRegression(max_iter=300, random_state=42,\n",
       "                                    solver='saga'))])"
      ]
     },
     "execution_count": 75,
     "metadata": {},
     "output_type": "execute_result"
    }
   ],
   "source": [
    "# Checking logreg Pipeline:\n",
    "\n",
    "logreg_fsm"
   ]
  },
  {
   "cell_type": "code",
   "execution_count": 76,
   "metadata": {
    "ExecuteTime": {
     "end_time": "2023-01-04T16:54:05.865668Z",
     "start_time": "2023-01-04T16:17:31.626693Z"
    }
   },
   "outputs": [
    {
     "name": "stdout",
     "output_type": "stream",
     "text": [
      "Fitting 10 folds for each of 8 candidates, totalling 80 fits\n",
      "[CV] ct__num_trans__num_impute__strategy=mean, logreg_fsm__class_weight=None, logreg_fsm__max_iter=500 \n"
     ]
    },
    {
     "name": "stderr",
     "output_type": "stream",
     "text": [
      "[Parallel(n_jobs=1)]: Using backend SequentialBackend with 1 concurrent workers.\n"
     ]
    },
    {
     "name": "stdout",
     "output_type": "stream",
     "text": [
      "[CV]  ct__num_trans__num_impute__strategy=mean, logreg_fsm__class_weight=None, logreg_fsm__max_iter=500, total=  34.1s\n",
      "[CV] ct__num_trans__num_impute__strategy=mean, logreg_fsm__class_weight=None, logreg_fsm__max_iter=500 \n"
     ]
    },
    {
     "name": "stderr",
     "output_type": "stream",
     "text": [
      "[Parallel(n_jobs=1)]: Done   1 out of   1 | elapsed:   34.0s remaining:    0.0s\n"
     ]
    },
    {
     "name": "stdout",
     "output_type": "stream",
     "text": [
      "[CV]  ct__num_trans__num_impute__strategy=mean, logreg_fsm__class_weight=None, logreg_fsm__max_iter=500, total=  34.4s\n",
      "[CV] ct__num_trans__num_impute__strategy=mean, logreg_fsm__class_weight=None, logreg_fsm__max_iter=500 \n",
      "[CV]  ct__num_trans__num_impute__strategy=mean, logreg_fsm__class_weight=None, logreg_fsm__max_iter=500, total=  34.4s\n",
      "[CV] ct__num_trans__num_impute__strategy=mean, logreg_fsm__class_weight=None, logreg_fsm__max_iter=500 \n",
      "[CV]  ct__num_trans__num_impute__strategy=mean, logreg_fsm__class_weight=None, logreg_fsm__max_iter=500, total=  34.3s\n",
      "[CV] ct__num_trans__num_impute__strategy=mean, logreg_fsm__class_weight=None, logreg_fsm__max_iter=500 \n",
      "[CV]  ct__num_trans__num_impute__strategy=mean, logreg_fsm__class_weight=None, logreg_fsm__max_iter=500, total=  33.7s\n",
      "[CV] ct__num_trans__num_impute__strategy=mean, logreg_fsm__class_weight=None, logreg_fsm__max_iter=500 \n",
      "[CV]  ct__num_trans__num_impute__strategy=mean, logreg_fsm__class_weight=None, logreg_fsm__max_iter=500, total=  33.2s\n",
      "[CV] ct__num_trans__num_impute__strategy=mean, logreg_fsm__class_weight=None, logreg_fsm__max_iter=500 \n",
      "[CV]  ct__num_trans__num_impute__strategy=mean, logreg_fsm__class_weight=None, logreg_fsm__max_iter=500, total=  33.4s\n",
      "[CV] ct__num_trans__num_impute__strategy=mean, logreg_fsm__class_weight=None, logreg_fsm__max_iter=500 \n",
      "[CV]  ct__num_trans__num_impute__strategy=mean, logreg_fsm__class_weight=None, logreg_fsm__max_iter=500, total=  33.2s\n",
      "[CV] ct__num_trans__num_impute__strategy=mean, logreg_fsm__class_weight=None, logreg_fsm__max_iter=500 \n",
      "[CV]  ct__num_trans__num_impute__strategy=mean, logreg_fsm__class_weight=None, logreg_fsm__max_iter=500, total=  33.0s\n",
      "[CV] ct__num_trans__num_impute__strategy=mean, logreg_fsm__class_weight=None, logreg_fsm__max_iter=500 \n",
      "[CV]  ct__num_trans__num_impute__strategy=mean, logreg_fsm__class_weight=None, logreg_fsm__max_iter=500, total=  33.7s\n",
      "[CV] ct__num_trans__num_impute__strategy=mean, logreg_fsm__class_weight=None, logreg_fsm__max_iter=600 \n",
      "[CV]  ct__num_trans__num_impute__strategy=mean, logreg_fsm__class_weight=None, logreg_fsm__max_iter=600, total=  35.5s\n",
      "[CV] ct__num_trans__num_impute__strategy=mean, logreg_fsm__class_weight=None, logreg_fsm__max_iter=600 \n",
      "[CV]  ct__num_trans__num_impute__strategy=mean, logreg_fsm__class_weight=None, logreg_fsm__max_iter=600, total=  35.0s\n",
      "[CV] ct__num_trans__num_impute__strategy=mean, logreg_fsm__class_weight=None, logreg_fsm__max_iter=600 \n",
      "[CV]  ct__num_trans__num_impute__strategy=mean, logreg_fsm__class_weight=None, logreg_fsm__max_iter=600, total=  34.5s\n",
      "[CV] ct__num_trans__num_impute__strategy=mean, logreg_fsm__class_weight=None, logreg_fsm__max_iter=600 \n",
      "[CV]  ct__num_trans__num_impute__strategy=mean, logreg_fsm__class_weight=None, logreg_fsm__max_iter=600, total=  33.2s\n",
      "[CV] ct__num_trans__num_impute__strategy=mean, logreg_fsm__class_weight=None, logreg_fsm__max_iter=600 \n",
      "[CV]  ct__num_trans__num_impute__strategy=mean, logreg_fsm__class_weight=None, logreg_fsm__max_iter=600, total=  35.9s\n",
      "[CV] ct__num_trans__num_impute__strategy=mean, logreg_fsm__class_weight=None, logreg_fsm__max_iter=600 \n",
      "[CV]  ct__num_trans__num_impute__strategy=mean, logreg_fsm__class_weight=None, logreg_fsm__max_iter=600, total=  33.2s\n",
      "[CV] ct__num_trans__num_impute__strategy=mean, logreg_fsm__class_weight=None, logreg_fsm__max_iter=600 \n",
      "[CV]  ct__num_trans__num_impute__strategy=mean, logreg_fsm__class_weight=None, logreg_fsm__max_iter=600, total=  33.3s\n",
      "[CV] ct__num_trans__num_impute__strategy=mean, logreg_fsm__class_weight=None, logreg_fsm__max_iter=600 \n",
      "[CV]  ct__num_trans__num_impute__strategy=mean, logreg_fsm__class_weight=None, logreg_fsm__max_iter=600, total=  35.4s\n",
      "[CV] ct__num_trans__num_impute__strategy=mean, logreg_fsm__class_weight=None, logreg_fsm__max_iter=600 \n",
      "[CV]  ct__num_trans__num_impute__strategy=mean, logreg_fsm__class_weight=None, logreg_fsm__max_iter=600, total=  32.9s\n",
      "[CV] ct__num_trans__num_impute__strategy=mean, logreg_fsm__class_weight=None, logreg_fsm__max_iter=600 \n",
      "[CV]  ct__num_trans__num_impute__strategy=mean, logreg_fsm__class_weight=None, logreg_fsm__max_iter=600, total=  33.0s\n",
      "[CV] ct__num_trans__num_impute__strategy=mean, logreg_fsm__class_weight=balanced, logreg_fsm__max_iter=500 \n",
      "[CV]  ct__num_trans__num_impute__strategy=mean, logreg_fsm__class_weight=balanced, logreg_fsm__max_iter=500, total=  21.5s\n",
      "[CV] ct__num_trans__num_impute__strategy=mean, logreg_fsm__class_weight=balanced, logreg_fsm__max_iter=500 \n",
      "[CV]  ct__num_trans__num_impute__strategy=mean, logreg_fsm__class_weight=balanced, logreg_fsm__max_iter=500, total=  21.2s\n",
      "[CV] ct__num_trans__num_impute__strategy=mean, logreg_fsm__class_weight=balanced, logreg_fsm__max_iter=500 \n",
      "[CV]  ct__num_trans__num_impute__strategy=mean, logreg_fsm__class_weight=balanced, logreg_fsm__max_iter=500, total=  21.5s\n",
      "[CV] ct__num_trans__num_impute__strategy=mean, logreg_fsm__class_weight=balanced, logreg_fsm__max_iter=500 \n",
      "[CV]  ct__num_trans__num_impute__strategy=mean, logreg_fsm__class_weight=balanced, logreg_fsm__max_iter=500, total=  23.4s\n",
      "[CV] ct__num_trans__num_impute__strategy=mean, logreg_fsm__class_weight=balanced, logreg_fsm__max_iter=500 \n",
      "[CV]  ct__num_trans__num_impute__strategy=mean, logreg_fsm__class_weight=balanced, logreg_fsm__max_iter=500, total=  20.0s\n",
      "[CV] ct__num_trans__num_impute__strategy=mean, logreg_fsm__class_weight=balanced, logreg_fsm__max_iter=500 \n",
      "[CV]  ct__num_trans__num_impute__strategy=mean, logreg_fsm__class_weight=balanced, logreg_fsm__max_iter=500, total=  19.9s\n",
      "[CV] ct__num_trans__num_impute__strategy=mean, logreg_fsm__class_weight=balanced, logreg_fsm__max_iter=500 \n",
      "[CV]  ct__num_trans__num_impute__strategy=mean, logreg_fsm__class_weight=balanced, logreg_fsm__max_iter=500, total=  19.6s\n",
      "[CV] ct__num_trans__num_impute__strategy=mean, logreg_fsm__class_weight=balanced, logreg_fsm__max_iter=500 \n",
      "[CV]  ct__num_trans__num_impute__strategy=mean, logreg_fsm__class_weight=balanced, logreg_fsm__max_iter=500, total=  19.1s\n",
      "[CV] ct__num_trans__num_impute__strategy=mean, logreg_fsm__class_weight=balanced, logreg_fsm__max_iter=500 \n",
      "[CV]  ct__num_trans__num_impute__strategy=mean, logreg_fsm__class_weight=balanced, logreg_fsm__max_iter=500, total=  18.1s\n",
      "[CV] ct__num_trans__num_impute__strategy=mean, logreg_fsm__class_weight=balanced, logreg_fsm__max_iter=500 \n",
      "[CV]  ct__num_trans__num_impute__strategy=mean, logreg_fsm__class_weight=balanced, logreg_fsm__max_iter=500, total=  18.4s\n",
      "[CV] ct__num_trans__num_impute__strategy=mean, logreg_fsm__class_weight=balanced, logreg_fsm__max_iter=600 \n",
      "[CV]  ct__num_trans__num_impute__strategy=mean, logreg_fsm__class_weight=balanced, logreg_fsm__max_iter=600, total=  21.2s\n",
      "[CV] ct__num_trans__num_impute__strategy=mean, logreg_fsm__class_weight=balanced, logreg_fsm__max_iter=600 \n",
      "[CV]  ct__num_trans__num_impute__strategy=mean, logreg_fsm__class_weight=balanced, logreg_fsm__max_iter=600, total=  19.9s\n",
      "[CV] ct__num_trans__num_impute__strategy=mean, logreg_fsm__class_weight=balanced, logreg_fsm__max_iter=600 \n",
      "[CV]  ct__num_trans__num_impute__strategy=mean, logreg_fsm__class_weight=balanced, logreg_fsm__max_iter=600, total=  22.3s\n",
      "[CV] ct__num_trans__num_impute__strategy=mean, logreg_fsm__class_weight=balanced, logreg_fsm__max_iter=600 \n",
      "[CV]  ct__num_trans__num_impute__strategy=mean, logreg_fsm__class_weight=balanced, logreg_fsm__max_iter=600, total=  19.1s\n",
      "[CV] ct__num_trans__num_impute__strategy=mean, logreg_fsm__class_weight=balanced, logreg_fsm__max_iter=600 \n",
      "[CV]  ct__num_trans__num_impute__strategy=mean, logreg_fsm__class_weight=balanced, logreg_fsm__max_iter=600, total=  20.1s\n",
      "[CV] ct__num_trans__num_impute__strategy=mean, logreg_fsm__class_weight=balanced, logreg_fsm__max_iter=600 \n",
      "[CV]  ct__num_trans__num_impute__strategy=mean, logreg_fsm__class_weight=balanced, logreg_fsm__max_iter=600, total=  19.9s\n",
      "[CV] ct__num_trans__num_impute__strategy=mean, logreg_fsm__class_weight=balanced, logreg_fsm__max_iter=600 \n",
      "[CV]  ct__num_trans__num_impute__strategy=mean, logreg_fsm__class_weight=balanced, logreg_fsm__max_iter=600, total=  19.4s\n",
      "[CV] ct__num_trans__num_impute__strategy=mean, logreg_fsm__class_weight=balanced, logreg_fsm__max_iter=600 \n",
      "[CV]  ct__num_trans__num_impute__strategy=mean, logreg_fsm__class_weight=balanced, logreg_fsm__max_iter=600, total=  19.2s\n",
      "[CV] ct__num_trans__num_impute__strategy=mean, logreg_fsm__class_weight=balanced, logreg_fsm__max_iter=600 \n"
     ]
    },
    {
     "name": "stdout",
     "output_type": "stream",
     "text": [
      "[CV]  ct__num_trans__num_impute__strategy=mean, logreg_fsm__class_weight=balanced, logreg_fsm__max_iter=600, total=  18.1s\n",
      "[CV] ct__num_trans__num_impute__strategy=mean, logreg_fsm__class_weight=balanced, logreg_fsm__max_iter=600 \n",
      "[CV]  ct__num_trans__num_impute__strategy=mean, logreg_fsm__class_weight=balanced, logreg_fsm__max_iter=600, total=  18.2s\n",
      "[CV] ct__num_trans__num_impute__strategy=median, logreg_fsm__class_weight=None, logreg_fsm__max_iter=500 \n",
      "[CV]  ct__num_trans__num_impute__strategy=median, logreg_fsm__class_weight=None, logreg_fsm__max_iter=500, total=  34.4s\n",
      "[CV] ct__num_trans__num_impute__strategy=median, logreg_fsm__class_weight=None, logreg_fsm__max_iter=500 \n",
      "[CV]  ct__num_trans__num_impute__strategy=median, logreg_fsm__class_weight=None, logreg_fsm__max_iter=500, total=  34.5s\n",
      "[CV] ct__num_trans__num_impute__strategy=median, logreg_fsm__class_weight=None, logreg_fsm__max_iter=500 \n",
      "[CV]  ct__num_trans__num_impute__strategy=median, logreg_fsm__class_weight=None, logreg_fsm__max_iter=500, total=  36.7s\n",
      "[CV] ct__num_trans__num_impute__strategy=median, logreg_fsm__class_weight=None, logreg_fsm__max_iter=500 \n",
      "[CV]  ct__num_trans__num_impute__strategy=median, logreg_fsm__class_weight=None, logreg_fsm__max_iter=500, total=  33.7s\n",
      "[CV] ct__num_trans__num_impute__strategy=median, logreg_fsm__class_weight=None, logreg_fsm__max_iter=500 \n",
      "[CV]  ct__num_trans__num_impute__strategy=median, logreg_fsm__class_weight=None, logreg_fsm__max_iter=500, total=  33.5s\n",
      "[CV] ct__num_trans__num_impute__strategy=median, logreg_fsm__class_weight=None, logreg_fsm__max_iter=500 \n",
      "[CV]  ct__num_trans__num_impute__strategy=median, logreg_fsm__class_weight=None, logreg_fsm__max_iter=500, total=  33.3s\n",
      "[CV] ct__num_trans__num_impute__strategy=median, logreg_fsm__class_weight=None, logreg_fsm__max_iter=500 \n",
      "[CV]  ct__num_trans__num_impute__strategy=median, logreg_fsm__class_weight=None, logreg_fsm__max_iter=500, total=  33.5s\n",
      "[CV] ct__num_trans__num_impute__strategy=median, logreg_fsm__class_weight=None, logreg_fsm__max_iter=500 \n",
      "[CV]  ct__num_trans__num_impute__strategy=median, logreg_fsm__class_weight=None, logreg_fsm__max_iter=500, total=  33.2s\n",
      "[CV] ct__num_trans__num_impute__strategy=median, logreg_fsm__class_weight=None, logreg_fsm__max_iter=500 \n",
      "[CV]  ct__num_trans__num_impute__strategy=median, logreg_fsm__class_weight=None, logreg_fsm__max_iter=500, total=  33.6s\n",
      "[CV] ct__num_trans__num_impute__strategy=median, logreg_fsm__class_weight=None, logreg_fsm__max_iter=500 \n",
      "[CV]  ct__num_trans__num_impute__strategy=median, logreg_fsm__class_weight=None, logreg_fsm__max_iter=500, total=  33.0s\n",
      "[CV] ct__num_trans__num_impute__strategy=median, logreg_fsm__class_weight=None, logreg_fsm__max_iter=600 \n",
      "[CV]  ct__num_trans__num_impute__strategy=median, logreg_fsm__class_weight=None, logreg_fsm__max_iter=600, total=  34.0s\n",
      "[CV] ct__num_trans__num_impute__strategy=median, logreg_fsm__class_weight=None, logreg_fsm__max_iter=600 \n",
      "[CV]  ct__num_trans__num_impute__strategy=median, logreg_fsm__class_weight=None, logreg_fsm__max_iter=600, total=  33.7s\n",
      "[CV] ct__num_trans__num_impute__strategy=median, logreg_fsm__class_weight=None, logreg_fsm__max_iter=600 \n",
      "[CV]  ct__num_trans__num_impute__strategy=median, logreg_fsm__class_weight=None, logreg_fsm__max_iter=600, total=  35.8s\n",
      "[CV] ct__num_trans__num_impute__strategy=median, logreg_fsm__class_weight=None, logreg_fsm__max_iter=600 \n",
      "[CV]  ct__num_trans__num_impute__strategy=median, logreg_fsm__class_weight=None, logreg_fsm__max_iter=600, total=  33.2s\n",
      "[CV] ct__num_trans__num_impute__strategy=median, logreg_fsm__class_weight=None, logreg_fsm__max_iter=600 \n",
      "[CV]  ct__num_trans__num_impute__strategy=median, logreg_fsm__class_weight=None, logreg_fsm__max_iter=600, total=  33.5s\n",
      "[CV] ct__num_trans__num_impute__strategy=median, logreg_fsm__class_weight=None, logreg_fsm__max_iter=600 \n",
      "[CV]  ct__num_trans__num_impute__strategy=median, logreg_fsm__class_weight=None, logreg_fsm__max_iter=600, total=  33.6s\n",
      "[CV] ct__num_trans__num_impute__strategy=median, logreg_fsm__class_weight=None, logreg_fsm__max_iter=600 \n",
      "[CV]  ct__num_trans__num_impute__strategy=median, logreg_fsm__class_weight=None, logreg_fsm__max_iter=600, total=  34.2s\n",
      "[CV] ct__num_trans__num_impute__strategy=median, logreg_fsm__class_weight=None, logreg_fsm__max_iter=600 \n",
      "[CV]  ct__num_trans__num_impute__strategy=median, logreg_fsm__class_weight=None, logreg_fsm__max_iter=600, total=  33.2s\n",
      "[CV] ct__num_trans__num_impute__strategy=median, logreg_fsm__class_weight=None, logreg_fsm__max_iter=600 \n",
      "[CV]  ct__num_trans__num_impute__strategy=median, logreg_fsm__class_weight=None, logreg_fsm__max_iter=600, total=  33.3s\n",
      "[CV] ct__num_trans__num_impute__strategy=median, logreg_fsm__class_weight=None, logreg_fsm__max_iter=600 \n",
      "[CV]  ct__num_trans__num_impute__strategy=median, logreg_fsm__class_weight=None, logreg_fsm__max_iter=600, total=  33.0s\n",
      "[CV] ct__num_trans__num_impute__strategy=median, logreg_fsm__class_weight=balanced, logreg_fsm__max_iter=500 \n",
      "[CV]  ct__num_trans__num_impute__strategy=median, logreg_fsm__class_weight=balanced, logreg_fsm__max_iter=500, total=  21.9s\n",
      "[CV] ct__num_trans__num_impute__strategy=median, logreg_fsm__class_weight=balanced, logreg_fsm__max_iter=500 \n",
      "[CV]  ct__num_trans__num_impute__strategy=median, logreg_fsm__class_weight=balanced, logreg_fsm__max_iter=500, total=  20.4s\n",
      "[CV] ct__num_trans__num_impute__strategy=median, logreg_fsm__class_weight=balanced, logreg_fsm__max_iter=500 \n",
      "[CV]  ct__num_trans__num_impute__strategy=median, logreg_fsm__class_weight=balanced, logreg_fsm__max_iter=500, total=  21.9s\n",
      "[CV] ct__num_trans__num_impute__strategy=median, logreg_fsm__class_weight=balanced, logreg_fsm__max_iter=500 \n",
      "[CV]  ct__num_trans__num_impute__strategy=median, logreg_fsm__class_weight=balanced, logreg_fsm__max_iter=500, total=  19.5s\n",
      "[CV] ct__num_trans__num_impute__strategy=median, logreg_fsm__class_weight=balanced, logreg_fsm__max_iter=500 \n",
      "[CV]  ct__num_trans__num_impute__strategy=median, logreg_fsm__class_weight=balanced, logreg_fsm__max_iter=500, total=  20.3s\n",
      "[CV] ct__num_trans__num_impute__strategy=median, logreg_fsm__class_weight=balanced, logreg_fsm__max_iter=500 \n",
      "[CV]  ct__num_trans__num_impute__strategy=median, logreg_fsm__class_weight=balanced, logreg_fsm__max_iter=500, total=  19.4s\n",
      "[CV] ct__num_trans__num_impute__strategy=median, logreg_fsm__class_weight=balanced, logreg_fsm__max_iter=500 \n",
      "[CV]  ct__num_trans__num_impute__strategy=median, logreg_fsm__class_weight=balanced, logreg_fsm__max_iter=500, total=  19.3s\n",
      "[CV] ct__num_trans__num_impute__strategy=median, logreg_fsm__class_weight=balanced, logreg_fsm__max_iter=500 \n",
      "[CV]  ct__num_trans__num_impute__strategy=median, logreg_fsm__class_weight=balanced, logreg_fsm__max_iter=500, total=  19.2s\n",
      "[CV] ct__num_trans__num_impute__strategy=median, logreg_fsm__class_weight=balanced, logreg_fsm__max_iter=500 \n",
      "[CV]  ct__num_trans__num_impute__strategy=median, logreg_fsm__class_weight=balanced, logreg_fsm__max_iter=500, total=  20.1s\n",
      "[CV] ct__num_trans__num_impute__strategy=median, logreg_fsm__class_weight=balanced, logreg_fsm__max_iter=500 \n",
      "[CV]  ct__num_trans__num_impute__strategy=median, logreg_fsm__class_weight=balanced, logreg_fsm__max_iter=500, total=  18.2s\n",
      "[CV] ct__num_trans__num_impute__strategy=median, logreg_fsm__class_weight=balanced, logreg_fsm__max_iter=600 \n",
      "[CV]  ct__num_trans__num_impute__strategy=median, logreg_fsm__class_weight=balanced, logreg_fsm__max_iter=600, total=  21.9s\n",
      "[CV] ct__num_trans__num_impute__strategy=median, logreg_fsm__class_weight=balanced, logreg_fsm__max_iter=600 \n",
      "[CV]  ct__num_trans__num_impute__strategy=median, logreg_fsm__class_weight=balanced, logreg_fsm__max_iter=600, total=  19.9s\n",
      "[CV] ct__num_trans__num_impute__strategy=median, logreg_fsm__class_weight=balanced, logreg_fsm__max_iter=600 \n",
      "[CV]  ct__num_trans__num_impute__strategy=median, logreg_fsm__class_weight=balanced, logreg_fsm__max_iter=600, total=  22.9s\n",
      "[CV] ct__num_trans__num_impute__strategy=median, logreg_fsm__class_weight=balanced, logreg_fsm__max_iter=600 \n",
      "[CV]  ct__num_trans__num_impute__strategy=median, logreg_fsm__class_weight=balanced, logreg_fsm__max_iter=600, total=  19.1s\n",
      "[CV] ct__num_trans__num_impute__strategy=median, logreg_fsm__class_weight=balanced, logreg_fsm__max_iter=600 \n"
     ]
    },
    {
     "name": "stdout",
     "output_type": "stream",
     "text": [
      "[CV]  ct__num_trans__num_impute__strategy=median, logreg_fsm__class_weight=balanced, logreg_fsm__max_iter=600, total=  20.1s\n",
      "[CV] ct__num_trans__num_impute__strategy=median, logreg_fsm__class_weight=balanced, logreg_fsm__max_iter=600 \n",
      "[CV]  ct__num_trans__num_impute__strategy=median, logreg_fsm__class_weight=balanced, logreg_fsm__max_iter=600, total=  19.7s\n",
      "[CV] ct__num_trans__num_impute__strategy=median, logreg_fsm__class_weight=balanced, logreg_fsm__max_iter=600 \n",
      "[CV]  ct__num_trans__num_impute__strategy=median, logreg_fsm__class_weight=balanced, logreg_fsm__max_iter=600, total=  19.4s\n",
      "[CV] ct__num_trans__num_impute__strategy=median, logreg_fsm__class_weight=balanced, logreg_fsm__max_iter=600 \n",
      "[CV]  ct__num_trans__num_impute__strategy=median, logreg_fsm__class_weight=balanced, logreg_fsm__max_iter=600, total=  20.5s\n",
      "[CV] ct__num_trans__num_impute__strategy=median, logreg_fsm__class_weight=balanced, logreg_fsm__max_iter=600 \n",
      "[CV]  ct__num_trans__num_impute__strategy=median, logreg_fsm__class_weight=balanced, logreg_fsm__max_iter=600, total=  18.2s\n",
      "[CV] ct__num_trans__num_impute__strategy=median, logreg_fsm__class_weight=balanced, logreg_fsm__max_iter=600 \n",
      "[CV]  ct__num_trans__num_impute__strategy=median, logreg_fsm__class_weight=balanced, logreg_fsm__max_iter=600, total=  18.3s\n"
     ]
    },
    {
     "name": "stderr",
     "output_type": "stream",
     "text": [
      "[Parallel(n_jobs=1)]: Done  80 out of  80 | elapsed: 35.9min finished\n"
     ]
    },
    {
     "data": {
      "text/plain": [
       "GridSearchCV(cv=10,\n",
       "             estimator=Pipeline(steps=[('ct',\n",
       "                                        ColumnTransformer(remainder='passthrough',\n",
       "                                                          transformers=[('num_trans',\n",
       "                                                                         Pipeline(steps=[('num_impute',\n",
       "                                                                                          SimpleImputer()),\n",
       "                                                                                         ('ss',\n",
       "                                                                                          StandardScaler())]),\n",
       "                                                                         <sklearn.compose._column_transformer.make_column_selector object at 0x000001AEC0AB6DC0>),\n",
       "                                                                        ('cat_trans',\n",
       "                                                                         Pipeline(steps=[('cat_impute',\n",
       "                                                                                          SimpleImputer(strategy='most...\n",
       "                                                                                          OneHotEncoder(handle_unknown='ignore',\n",
       "                                                                                                        sparse=False))]),\n",
       "                                                                         <sklearn.compose._column_transformer.make_column_selector object at 0x000001AEC0AB6A00>)])),\n",
       "                                       ('logreg_fsm',\n",
       "                                        LogisticRegression(max_iter=300,\n",
       "                                                           random_state=42,\n",
       "                                                           solver='saga'))]),\n",
       "             param_grid={'ct__num_trans__num_impute__strategy': ['mean',\n",
       "                                                                 'median'],\n",
       "                         'logreg_fsm__class_weight': [None, 'balanced'],\n",
       "                         'logreg_fsm__max_iter': [500, 600]},\n",
       "             verbose=2)"
      ]
     },
     "execution_count": 76,
     "metadata": {},
     "output_type": "execute_result"
    }
   ],
   "source": [
    "# Set up parameters:\n",
    "params = {\n",
    "    'ct__num_trans__num_impute__strategy':['mean','median'],\n",
    "    'logreg_fsm__max_iter':[500, 600],\n",
    "    'logreg_fsm__class_weight':[None, 'balanced']\n",
    "}\n",
    "\n",
    "# Set up GridSearchCV and fit training data:\n",
    "gs_logreg = GridSearchCV(estimator=logreg_fsm, param_grid=params, cv=10, verbose=2)\n",
    "\n",
    "gs_logreg.fit(X_train, y_train)"
   ]
  },
  {
   "cell_type": "code",
   "execution_count": 77,
   "metadata": {
    "ExecuteTime": {
     "end_time": "2023-01-04T16:55:05.258813Z",
     "start_time": "2023-01-04T16:55:05.255808Z"
    }
   },
   "outputs": [
    {
     "data": {
      "text/plain": [
       "{'ct__num_trans__num_impute__strategy': 'mean',\n",
       " 'logreg_fsm__class_weight': None,\n",
       " 'logreg_fsm__max_iter': 500}"
      ]
     },
     "execution_count": 77,
     "metadata": {},
     "output_type": "execute_result"
    }
   ],
   "source": [
    "gs_logreg.best_params_"
   ]
  },
  {
   "cell_type": "code",
   "execution_count": 78,
   "metadata": {
    "ExecuteTime": {
     "end_time": "2023-01-04T16:55:08.298238Z",
     "start_time": "2023-01-04T16:55:08.281502Z"
    }
   },
   "outputs": [
    {
     "data": {
      "text/plain": [
       "0.9178171641791044"
      ]
     },
     "execution_count": 78,
     "metadata": {},
     "output_type": "execute_result"
    }
   ],
   "source": [
    "tunedLogreg_score_train = gs_logreg.best_score_\n",
    "tunedLogreg_score_train"
   ]
  },
  {
   "cell_type": "code",
   "execution_count": 79,
   "metadata": {
    "ExecuteTime": {
     "end_time": "2023-01-04T16:55:10.771865Z",
     "start_time": "2023-01-04T16:55:10.652257Z"
    }
   },
   "outputs": [
    {
     "data": {
      "text/plain": [
       "0.9174621212121212"
      ]
     },
     "execution_count": 79,
     "metadata": {},
     "output_type": "execute_result"
    }
   ],
   "source": [
    "# Validate with testing data:\n",
    "tunedLogreg_score_test = gs_logreg.best_estimator_.score(X_test, y_test)\n",
    "tunedLogreg_score_test"
   ]
  },
  {
   "cell_type": "code",
   "execution_count": 80,
   "metadata": {
    "ExecuteTime": {
     "end_time": "2023-01-04T16:55:15.045940Z",
     "start_time": "2023-01-04T16:55:13.210446Z"
    }
   },
   "outputs": [
    {
     "name": "stdout",
     "output_type": "stream",
     "text": [
      "\n",
      "The model's accuracy on the train set is 0.9178 \n",
      "\n",
      "The model's recall on the train set is 1.0 \n",
      "\n",
      "The model's precision on the train set is 0.9178 \n",
      "\n",
      "The model's f1-score on the train is 0.9571\n",
      "\n",
      "\n",
      "The model's accuracy on the test set is 0.9175 \n",
      "\n",
      "The model's recall on the test set is 1.0 \n",
      "\n",
      "The model's precision on the test set is 0.9175 \n",
      "\n",
      "The model's f1-score on the test is 0.957\n",
      "\n"
     ]
    },
    {
     "data": {
      "image/png": "[encoded data removed]",
      "text/plain": [
       "<Figure size 432x288 with 2 Axes>"
      ]
     },
     "metadata": {
      "needs_background": "light"
     },
     "output_type": "display_data"
    },
    {
     "data": {
      "image/png": "[encoded data removed]",
      "text/plain": [
       "<Figure size 432x288 with 2 Axes>"
      ]
     },
     "metadata": {
      "needs_background": "light"
     },
     "output_type": "display_data"
    }
   ],
   "source": [
    "# Plot confusion_matrix on training data:\n",
    "matrix_train_model6 = plot_confusion_matrix(gs_logreg, X_train, y_train);\n",
    "cf_matrix_train_list.append(matrix_train_model6)\n",
    "\n",
    "# Plot confusion_matrix on testing data:\n",
    "matrix_test_model6 = plot_confusion_matrix(gs_logreg, X_test, y_test);\n",
    "cf_matrix_test_list.append(matrix_test_model6)\n",
    "\n",
    "# Print 4 scores on training data:\n",
    "y_hat_train = gs_logreg.predict(X_train)\n",
    "add_4scores_train('model6')\n",
    "print_4scores_train('model6')\n",
    "\n",
    "# Print 4 scores on testing data:\n",
    "y_hat_test = gs_logreg.predict(X_test)\n",
    "add_4scores_test('model6')\n",
    "print_4scores_test('model6')"
   ]
  },
  {
   "cell_type": "markdown",
   "metadata": {
    "ExecuteTime": {
     "end_time": "2022-12-31T09:27:05.537511Z",
     "start_time": "2022-12-31T08:12:10.829Z"
    }
   },
   "source": [
    "### Model 7: Tuning and Cross-Validating - Random Forest Model"
   ]
  },
  {
   "cell_type": "code",
   "execution_count": 52,
   "metadata": {
    "ExecuteTime": {
     "end_time": "2023-01-04T15:04:47.115729Z",
     "start_time": "2023-01-04T14:56:11.410528Z"
    }
   },
   "outputs": [
    {
     "name": "stdout",
     "output_type": "stream",
     "text": [
      "Fitting 10 folds for each of 12 candidates, totalling 120 fits\n",
      "[CV] ct__num_trans__num_impute__strategy=mean, rfc__criterion=gini, rfc__max_depth=1 \n"
     ]
    },
    {
     "name": "stderr",
     "output_type": "stream",
     "text": [
      "[Parallel(n_jobs=1)]: Using backend SequentialBackend with 1 concurrent workers.\n"
     ]
    },
    {
     "name": "stdout",
     "output_type": "stream",
     "text": [
      "[CV]  ct__num_trans__num_impute__strategy=mean, rfc__criterion=gini, rfc__max_depth=1, total=   2.6s\n",
      "[CV] ct__num_trans__num_impute__strategy=mean, rfc__criterion=gini, rfc__max_depth=1 \n"
     ]
    },
    {
     "name": "stderr",
     "output_type": "stream",
     "text": [
      "[Parallel(n_jobs=1)]: Done   1 out of   1 | elapsed:    2.5s remaining:    0.0s\n"
     ]
    },
    {
     "name": "stdout",
     "output_type": "stream",
     "text": [
      "[CV]  ct__num_trans__num_impute__strategy=mean, rfc__criterion=gini, rfc__max_depth=1, total=   2.5s\n",
      "[CV] ct__num_trans__num_impute__strategy=mean, rfc__criterion=gini, rfc__max_depth=1 \n",
      "[CV]  ct__num_trans__num_impute__strategy=mean, rfc__criterion=gini, rfc__max_depth=1, total=   2.5s\n",
      "[CV] ct__num_trans__num_impute__strategy=mean, rfc__criterion=gini, rfc__max_depth=1 \n",
      "[CV]  ct__num_trans__num_impute__strategy=mean, rfc__criterion=gini, rfc__max_depth=1, total=   2.5s\n",
      "[CV] ct__num_trans__num_impute__strategy=mean, rfc__criterion=gini, rfc__max_depth=1 \n",
      "[CV]  ct__num_trans__num_impute__strategy=mean, rfc__criterion=gini, rfc__max_depth=1, total=   2.5s\n",
      "[CV] ct__num_trans__num_impute__strategy=mean, rfc__criterion=gini, rfc__max_depth=1 \n",
      "[CV]  ct__num_trans__num_impute__strategy=mean, rfc__criterion=gini, rfc__max_depth=1, total=   2.5s\n",
      "[CV] ct__num_trans__num_impute__strategy=mean, rfc__criterion=gini, rfc__max_depth=1 \n",
      "[CV]  ct__num_trans__num_impute__strategy=mean, rfc__criterion=gini, rfc__max_depth=1, total=   2.5s\n",
      "[CV] ct__num_trans__num_impute__strategy=mean, rfc__criterion=gini, rfc__max_depth=1 \n",
      "[CV]  ct__num_trans__num_impute__strategy=mean, rfc__criterion=gini, rfc__max_depth=1, total=   2.6s\n",
      "[CV] ct__num_trans__num_impute__strategy=mean, rfc__criterion=gini, rfc__max_depth=1 \n",
      "[CV]  ct__num_trans__num_impute__strategy=mean, rfc__criterion=gini, rfc__max_depth=1, total=   2.5s\n",
      "[CV] ct__num_trans__num_impute__strategy=mean, rfc__criterion=gini, rfc__max_depth=1 \n",
      "[CV]  ct__num_trans__num_impute__strategy=mean, rfc__criterion=gini, rfc__max_depth=1, total=   2.5s\n",
      "[CV] ct__num_trans__num_impute__strategy=mean, rfc__criterion=gini, rfc__max_depth=3 \n",
      "[CV]  ct__num_trans__num_impute__strategy=mean, rfc__criterion=gini, rfc__max_depth=3, total=   3.6s\n",
      "[CV] ct__num_trans__num_impute__strategy=mean, rfc__criterion=gini, rfc__max_depth=3 \n",
      "[CV]  ct__num_trans__num_impute__strategy=mean, rfc__criterion=gini, rfc__max_depth=3, total=   3.6s\n",
      "[CV] ct__num_trans__num_impute__strategy=mean, rfc__criterion=gini, rfc__max_depth=3 \n",
      "[CV]  ct__num_trans__num_impute__strategy=mean, rfc__criterion=gini, rfc__max_depth=3, total=   3.7s\n",
      "[CV] ct__num_trans__num_impute__strategy=mean, rfc__criterion=gini, rfc__max_depth=3 \n",
      "[CV]  ct__num_trans__num_impute__strategy=mean, rfc__criterion=gini, rfc__max_depth=3, total=   3.7s\n",
      "[CV] ct__num_trans__num_impute__strategy=mean, rfc__criterion=gini, rfc__max_depth=3 \n",
      "[CV]  ct__num_trans__num_impute__strategy=mean, rfc__criterion=gini, rfc__max_depth=3, total=   3.7s\n",
      "[CV] ct__num_trans__num_impute__strategy=mean, rfc__criterion=gini, rfc__max_depth=3 \n",
      "[CV]  ct__num_trans__num_impute__strategy=mean, rfc__criterion=gini, rfc__max_depth=3, total=   3.6s\n",
      "[CV] ct__num_trans__num_impute__strategy=mean, rfc__criterion=gini, rfc__max_depth=3 \n",
      "[CV]  ct__num_trans__num_impute__strategy=mean, rfc__criterion=gini, rfc__max_depth=3, total=   3.6s\n",
      "[CV] ct__num_trans__num_impute__strategy=mean, rfc__criterion=gini, rfc__max_depth=3 \n",
      "[CV]  ct__num_trans__num_impute__strategy=mean, rfc__criterion=gini, rfc__max_depth=3, total=   3.6s\n",
      "[CV] ct__num_trans__num_impute__strategy=mean, rfc__criterion=gini, rfc__max_depth=3 \n",
      "[CV]  ct__num_trans__num_impute__strategy=mean, rfc__criterion=gini, rfc__max_depth=3, total=   3.7s\n",
      "[CV] ct__num_trans__num_impute__strategy=mean, rfc__criterion=gini, rfc__max_depth=3 \n",
      "[CV]  ct__num_trans__num_impute__strategy=mean, rfc__criterion=gini, rfc__max_depth=3, total=   3.6s\n",
      "[CV] ct__num_trans__num_impute__strategy=mean, rfc__criterion=gini, rfc__max_depth=5 \n",
      "[CV]  ct__num_trans__num_impute__strategy=mean, rfc__criterion=gini, rfc__max_depth=5, total=   4.7s\n",
      "[CV] ct__num_trans__num_impute__strategy=mean, rfc__criterion=gini, rfc__max_depth=5 \n",
      "[CV]  ct__num_trans__num_impute__strategy=mean, rfc__criterion=gini, rfc__max_depth=5, total=   4.9s\n",
      "[CV] ct__num_trans__num_impute__strategy=mean, rfc__criterion=gini, rfc__max_depth=5 \n",
      "[CV]  ct__num_trans__num_impute__strategy=mean, rfc__criterion=gini, rfc__max_depth=5, total=   5.0s\n",
      "[CV] ct__num_trans__num_impute__strategy=mean, rfc__criterion=gini, rfc__max_depth=5 \n",
      "[CV]  ct__num_trans__num_impute__strategy=mean, rfc__criterion=gini, rfc__max_depth=5, total=   4.8s\n",
      "[CV] ct__num_trans__num_impute__strategy=mean, rfc__criterion=gini, rfc__max_depth=5 \n",
      "[CV]  ct__num_trans__num_impute__strategy=mean, rfc__criterion=gini, rfc__max_depth=5, total=   5.1s\n",
      "[CV] ct__num_trans__num_impute__strategy=mean, rfc__criterion=gini, rfc__max_depth=5 \n",
      "[CV]  ct__num_trans__num_impute__strategy=mean, rfc__criterion=gini, rfc__max_depth=5, total=   4.9s\n",
      "[CV] ct__num_trans__num_impute__strategy=mean, rfc__criterion=gini, rfc__max_depth=5 \n",
      "[CV]  ct__num_trans__num_impute__strategy=mean, rfc__criterion=gini, rfc__max_depth=5, total=   4.9s\n",
      "[CV] ct__num_trans__num_impute__strategy=mean, rfc__criterion=gini, rfc__max_depth=5 \n",
      "[CV]  ct__num_trans__num_impute__strategy=mean, rfc__criterion=gini, rfc__max_depth=5, total=   5.2s\n",
      "[CV] ct__num_trans__num_impute__strategy=mean, rfc__criterion=gini, rfc__max_depth=5 \n",
      "[CV]  ct__num_trans__num_impute__strategy=mean, rfc__criterion=gini, rfc__max_depth=5, total=   5.0s\n",
      "[CV] ct__num_trans__num_impute__strategy=mean, rfc__criterion=gini, rfc__max_depth=5 \n",
      "[CV]  ct__num_trans__num_impute__strategy=mean, rfc__criterion=gini, rfc__max_depth=5, total=   5.2s\n",
      "[CV] ct__num_trans__num_impute__strategy=mean, rfc__criterion=entropy, rfc__max_depth=1 \n",
      "[CV]  ct__num_trans__num_impute__strategy=mean, rfc__criterion=entropy, rfc__max_depth=1, total=   2.8s\n",
      "[CV] ct__num_trans__num_impute__strategy=mean, rfc__criterion=entropy, rfc__max_depth=1 \n",
      "[CV]  ct__num_trans__num_impute__strategy=mean, rfc__criterion=entropy, rfc__max_depth=1, total=   2.8s\n",
      "[CV] ct__num_trans__num_impute__strategy=mean, rfc__criterion=entropy, rfc__max_depth=1 \n",
      "[CV]  ct__num_trans__num_impute__strategy=mean, rfc__criterion=entropy, rfc__max_depth=1, total=   2.8s\n",
      "[CV] ct__num_trans__num_impute__strategy=mean, rfc__criterion=entropy, rfc__max_depth=1 \n",
      "[CV]  ct__num_trans__num_impute__strategy=mean, rfc__criterion=entropy, rfc__max_depth=1, total=   2.7s\n",
      "[CV] ct__num_trans__num_impute__strategy=mean, rfc__criterion=entropy, rfc__max_depth=1 \n",
      "[CV]  ct__num_trans__num_impute__strategy=mean, rfc__criterion=entropy, rfc__max_depth=1, total=   2.7s\n",
      "[CV] ct__num_trans__num_impute__strategy=mean, rfc__criterion=entropy, rfc__max_depth=1 \n",
      "[CV]  ct__num_trans__num_impute__strategy=mean, rfc__criterion=entropy, rfc__max_depth=1, total=   2.7s\n",
      "[CV] ct__num_trans__num_impute__strategy=mean, rfc__criterion=entropy, rfc__max_depth=1 \n",
      "[CV]  ct__num_trans__num_impute__strategy=mean, rfc__criterion=entropy, rfc__max_depth=1, total=   2.7s\n",
      "[CV] ct__num_trans__num_impute__strategy=mean, rfc__criterion=entropy, rfc__max_depth=1 \n",
      "[CV]  ct__num_trans__num_impute__strategy=mean, rfc__criterion=entropy, rfc__max_depth=1, total=   2.7s\n",
      "[CV] ct__num_trans__num_impute__strategy=mean, rfc__criterion=entropy, rfc__max_depth=1 \n",
      "[CV]  ct__num_trans__num_impute__strategy=mean, rfc__criterion=entropy, rfc__max_depth=1, total=   2.7s\n",
      "[CV] ct__num_trans__num_impute__strategy=mean, rfc__criterion=entropy, rfc__max_depth=1 \n",
      "[CV]  ct__num_trans__num_impute__strategy=mean, rfc__criterion=entropy, rfc__max_depth=1, total=   2.7s\n",
      "[CV] ct__num_trans__num_impute__strategy=mean, rfc__criterion=entropy, rfc__max_depth=3 \n",
      "[CV]  ct__num_trans__num_impute__strategy=mean, rfc__criterion=entropy, rfc__max_depth=3, total=   3.8s\n",
      "[CV] ct__num_trans__num_impute__strategy=mean, rfc__criterion=entropy, rfc__max_depth=3 \n",
      "[CV]  ct__num_trans__num_impute__strategy=mean, rfc__criterion=entropy, rfc__max_depth=3, total=   3.8s\n",
      "[CV] ct__num_trans__num_impute__strategy=mean, rfc__criterion=entropy, rfc__max_depth=3 \n",
      "[CV]  ct__num_trans__num_impute__strategy=mean, rfc__criterion=entropy, rfc__max_depth=3, total=   3.8s\n",
      "[CV] ct__num_trans__num_impute__strategy=mean, rfc__criterion=entropy, rfc__max_depth=3 \n",
      "[CV]  ct__num_trans__num_impute__strategy=mean, rfc__criterion=entropy, rfc__max_depth=3, total=   3.7s\n",
      "[CV] ct__num_trans__num_impute__strategy=mean, rfc__criterion=entropy, rfc__max_depth=3 \n",
      "[CV]  ct__num_trans__num_impute__strategy=mean, rfc__criterion=entropy, rfc__max_depth=3, total=   3.7s\n",
      "[CV] ct__num_trans__num_impute__strategy=mean, rfc__criterion=entropy, rfc__max_depth=3 \n"
     ]
    },
    {
     "name": "stdout",
     "output_type": "stream",
     "text": [
      "[CV]  ct__num_trans__num_impute__strategy=mean, rfc__criterion=entropy, rfc__max_depth=3, total=   3.7s\n",
      "[CV] ct__num_trans__num_impute__strategy=mean, rfc__criterion=entropy, rfc__max_depth=3 \n",
      "[CV]  ct__num_trans__num_impute__strategy=mean, rfc__criterion=entropy, rfc__max_depth=3, total=   3.7s\n",
      "[CV] ct__num_trans__num_impute__strategy=mean, rfc__criterion=entropy, rfc__max_depth=3 \n",
      "[CV]  ct__num_trans__num_impute__strategy=mean, rfc__criterion=entropy, rfc__max_depth=3, total=   3.7s\n",
      "[CV] ct__num_trans__num_impute__strategy=mean, rfc__criterion=entropy, rfc__max_depth=3 \n",
      "[CV]  ct__num_trans__num_impute__strategy=mean, rfc__criterion=entropy, rfc__max_depth=3, total=   3.7s\n",
      "[CV] ct__num_trans__num_impute__strategy=mean, rfc__criterion=entropy, rfc__max_depth=3 \n",
      "[CV]  ct__num_trans__num_impute__strategy=mean, rfc__criterion=entropy, rfc__max_depth=3, total=   3.7s\n",
      "[CV] ct__num_trans__num_impute__strategy=mean, rfc__criterion=entropy, rfc__max_depth=5 \n",
      "[CV]  ct__num_trans__num_impute__strategy=mean, rfc__criterion=entropy, rfc__max_depth=5, total=   4.8s\n",
      "[CV] ct__num_trans__num_impute__strategy=mean, rfc__criterion=entropy, rfc__max_depth=5 \n",
      "[CV]  ct__num_trans__num_impute__strategy=mean, rfc__criterion=entropy, rfc__max_depth=5, total=   4.8s\n",
      "[CV] ct__num_trans__num_impute__strategy=mean, rfc__criterion=entropy, rfc__max_depth=5 \n",
      "[CV]  ct__num_trans__num_impute__strategy=mean, rfc__criterion=entropy, rfc__max_depth=5, total=   4.8s\n",
      "[CV] ct__num_trans__num_impute__strategy=mean, rfc__criterion=entropy, rfc__max_depth=5 \n",
      "[CV]  ct__num_trans__num_impute__strategy=mean, rfc__criterion=entropy, rfc__max_depth=5, total=   4.8s\n",
      "[CV] ct__num_trans__num_impute__strategy=mean, rfc__criterion=entropy, rfc__max_depth=5 \n",
      "[CV]  ct__num_trans__num_impute__strategy=mean, rfc__criterion=entropy, rfc__max_depth=5, total=   4.8s\n",
      "[CV] ct__num_trans__num_impute__strategy=mean, rfc__criterion=entropy, rfc__max_depth=5 \n",
      "[CV]  ct__num_trans__num_impute__strategy=mean, rfc__criterion=entropy, rfc__max_depth=5, total=   4.8s\n",
      "[CV] ct__num_trans__num_impute__strategy=mean, rfc__criterion=entropy, rfc__max_depth=5 \n",
      "[CV]  ct__num_trans__num_impute__strategy=mean, rfc__criterion=entropy, rfc__max_depth=5, total=   4.8s\n",
      "[CV] ct__num_trans__num_impute__strategy=mean, rfc__criterion=entropy, rfc__max_depth=5 \n",
      "[CV]  ct__num_trans__num_impute__strategy=mean, rfc__criterion=entropy, rfc__max_depth=5, total=   5.0s\n",
      "[CV] ct__num_trans__num_impute__strategy=mean, rfc__criterion=entropy, rfc__max_depth=5 \n",
      "[CV]  ct__num_trans__num_impute__strategy=mean, rfc__criterion=entropy, rfc__max_depth=5, total=   4.9s\n",
      "[CV] ct__num_trans__num_impute__strategy=mean, rfc__criterion=entropy, rfc__max_depth=5 \n",
      "[CV]  ct__num_trans__num_impute__strategy=mean, rfc__criterion=entropy, rfc__max_depth=5, total=   5.0s\n",
      "[CV] ct__num_trans__num_impute__strategy=median, rfc__criterion=gini, rfc__max_depth=1 \n",
      "[CV]  ct__num_trans__num_impute__strategy=median, rfc__criterion=gini, rfc__max_depth=1, total=   2.7s\n",
      "[CV] ct__num_trans__num_impute__strategy=median, rfc__criterion=gini, rfc__max_depth=1 \n",
      "[CV]  ct__num_trans__num_impute__strategy=median, rfc__criterion=gini, rfc__max_depth=1, total=   3.1s\n",
      "[CV] ct__num_trans__num_impute__strategy=median, rfc__criterion=gini, rfc__max_depth=1 \n",
      "[CV]  ct__num_trans__num_impute__strategy=median, rfc__criterion=gini, rfc__max_depth=1, total=   2.7s\n",
      "[CV] ct__num_trans__num_impute__strategy=median, rfc__criterion=gini, rfc__max_depth=1 \n",
      "[CV]  ct__num_trans__num_impute__strategy=median, rfc__criterion=gini, rfc__max_depth=1, total=   2.7s\n",
      "[CV] ct__num_trans__num_impute__strategy=median, rfc__criterion=gini, rfc__max_depth=1 \n",
      "[CV]  ct__num_trans__num_impute__strategy=median, rfc__criterion=gini, rfc__max_depth=1, total=   2.6s\n",
      "[CV] ct__num_trans__num_impute__strategy=median, rfc__criterion=gini, rfc__max_depth=1 \n",
      "[CV]  ct__num_trans__num_impute__strategy=median, rfc__criterion=gini, rfc__max_depth=1, total=   3.0s\n",
      "[CV] ct__num_trans__num_impute__strategy=median, rfc__criterion=gini, rfc__max_depth=1 \n",
      "[CV]  ct__num_trans__num_impute__strategy=median, rfc__criterion=gini, rfc__max_depth=1, total=   2.8s\n",
      "[CV] ct__num_trans__num_impute__strategy=median, rfc__criterion=gini, rfc__max_depth=1 \n",
      "[CV]  ct__num_trans__num_impute__strategy=median, rfc__criterion=gini, rfc__max_depth=1, total=   3.0s\n",
      "[CV] ct__num_trans__num_impute__strategy=median, rfc__criterion=gini, rfc__max_depth=1 \n",
      "[CV]  ct__num_trans__num_impute__strategy=median, rfc__criterion=gini, rfc__max_depth=1, total=   3.0s\n",
      "[CV] ct__num_trans__num_impute__strategy=median, rfc__criterion=gini, rfc__max_depth=1 \n",
      "[CV]  ct__num_trans__num_impute__strategy=median, rfc__criterion=gini, rfc__max_depth=1, total=   2.9s\n",
      "[CV] ct__num_trans__num_impute__strategy=median, rfc__criterion=gini, rfc__max_depth=3 \n",
      "[CV]  ct__num_trans__num_impute__strategy=median, rfc__criterion=gini, rfc__max_depth=3, total=   4.8s\n",
      "[CV] ct__num_trans__num_impute__strategy=median, rfc__criterion=gini, rfc__max_depth=3 \n",
      "[CV]  ct__num_trans__num_impute__strategy=median, rfc__criterion=gini, rfc__max_depth=3, total=   5.8s\n",
      "[CV] ct__num_trans__num_impute__strategy=median, rfc__criterion=gini, rfc__max_depth=3 \n",
      "[CV]  ct__num_trans__num_impute__strategy=median, rfc__criterion=gini, rfc__max_depth=3, total=   5.5s\n",
      "[CV] ct__num_trans__num_impute__strategy=median, rfc__criterion=gini, rfc__max_depth=3 \n",
      "[CV]  ct__num_trans__num_impute__strategy=median, rfc__criterion=gini, rfc__max_depth=3, total=   5.3s\n",
      "[CV] ct__num_trans__num_impute__strategy=median, rfc__criterion=gini, rfc__max_depth=3 \n",
      "[CV]  ct__num_trans__num_impute__strategy=median, rfc__criterion=gini, rfc__max_depth=3, total=   5.0s\n",
      "[CV] ct__num_trans__num_impute__strategy=median, rfc__criterion=gini, rfc__max_depth=3 \n",
      "[CV]  ct__num_trans__num_impute__strategy=median, rfc__criterion=gini, rfc__max_depth=3, total=   5.3s\n",
      "[CV] ct__num_trans__num_impute__strategy=median, rfc__criterion=gini, rfc__max_depth=3 \n",
      "[CV]  ct__num_trans__num_impute__strategy=median, rfc__criterion=gini, rfc__max_depth=3, total=   5.1s\n",
      "[CV] ct__num_trans__num_impute__strategy=median, rfc__criterion=gini, rfc__max_depth=3 \n",
      "[CV]  ct__num_trans__num_impute__strategy=median, rfc__criterion=gini, rfc__max_depth=3, total=   4.6s\n",
      "[CV] ct__num_trans__num_impute__strategy=median, rfc__criterion=gini, rfc__max_depth=3 \n",
      "[CV]  ct__num_trans__num_impute__strategy=median, rfc__criterion=gini, rfc__max_depth=3, total=   4.6s\n",
      "[CV] ct__num_trans__num_impute__strategy=median, rfc__criterion=gini, rfc__max_depth=3 \n",
      "[CV]  ct__num_trans__num_impute__strategy=median, rfc__criterion=gini, rfc__max_depth=3, total=   4.7s\n",
      "[CV] ct__num_trans__num_impute__strategy=median, rfc__criterion=gini, rfc__max_depth=5 \n",
      "[CV]  ct__num_trans__num_impute__strategy=median, rfc__criterion=gini, rfc__max_depth=5, total=   6.1s\n",
      "[CV] ct__num_trans__num_impute__strategy=median, rfc__criterion=gini, rfc__max_depth=5 \n",
      "[CV]  ct__num_trans__num_impute__strategy=median, rfc__criterion=gini, rfc__max_depth=5, total=   6.5s\n",
      "[CV] ct__num_trans__num_impute__strategy=median, rfc__criterion=gini, rfc__max_depth=5 \n",
      "[CV]  ct__num_trans__num_impute__strategy=median, rfc__criterion=gini, rfc__max_depth=5, total=   6.3s\n",
      "[CV] ct__num_trans__num_impute__strategy=median, rfc__criterion=gini, rfc__max_depth=5 \n",
      "[CV]  ct__num_trans__num_impute__strategy=median, rfc__criterion=gini, rfc__max_depth=5, total=   6.3s\n",
      "[CV] ct__num_trans__num_impute__strategy=median, rfc__criterion=gini, rfc__max_depth=5 \n",
      "[CV]  ct__num_trans__num_impute__strategy=median, rfc__criterion=gini, rfc__max_depth=5, total=   6.7s\n",
      "[CV] ct__num_trans__num_impute__strategy=median, rfc__criterion=gini, rfc__max_depth=5 \n",
      "[CV]  ct__num_trans__num_impute__strategy=median, rfc__criterion=gini, rfc__max_depth=5, total=   6.3s\n",
      "[CV] ct__num_trans__num_impute__strategy=median, rfc__criterion=gini, rfc__max_depth=5 \n",
      "[CV]  ct__num_trans__num_impute__strategy=median, rfc__criterion=gini, rfc__max_depth=5, total=   6.4s\n",
      "[CV] ct__num_trans__num_impute__strategy=median, rfc__criterion=gini, rfc__max_depth=5 \n",
      "[CV]  ct__num_trans__num_impute__strategy=median, rfc__criterion=gini, rfc__max_depth=5, total=   6.4s\n",
      "[CV] ct__num_trans__num_impute__strategy=median, rfc__criterion=gini, rfc__max_depth=5 \n"
     ]
    },
    {
     "name": "stdout",
     "output_type": "stream",
     "text": [
      "[CV]  ct__num_trans__num_impute__strategy=median, rfc__criterion=gini, rfc__max_depth=5, total=   6.6s\n",
      "[CV] ct__num_trans__num_impute__strategy=median, rfc__criterion=gini, rfc__max_depth=5 \n",
      "[CV]  ct__num_trans__num_impute__strategy=median, rfc__criterion=gini, rfc__max_depth=5, total=   6.6s\n",
      "[CV] ct__num_trans__num_impute__strategy=median, rfc__criterion=entropy, rfc__max_depth=1 \n",
      "[CV]  ct__num_trans__num_impute__strategy=median, rfc__criterion=entropy, rfc__max_depth=1, total=   3.5s\n",
      "[CV] ct__num_trans__num_impute__strategy=median, rfc__criterion=entropy, rfc__max_depth=1 \n",
      "[CV]  ct__num_trans__num_impute__strategy=median, rfc__criterion=entropy, rfc__max_depth=1, total=   3.3s\n",
      "[CV] ct__num_trans__num_impute__strategy=median, rfc__criterion=entropy, rfc__max_depth=1 \n",
      "[CV]  ct__num_trans__num_impute__strategy=median, rfc__criterion=entropy, rfc__max_depth=1, total=   3.6s\n",
      "[CV] ct__num_trans__num_impute__strategy=median, rfc__criterion=entropy, rfc__max_depth=1 \n",
      "[CV]  ct__num_trans__num_impute__strategy=median, rfc__criterion=entropy, rfc__max_depth=1, total=   3.3s\n",
      "[CV] ct__num_trans__num_impute__strategy=median, rfc__criterion=entropy, rfc__max_depth=1 \n",
      "[CV]  ct__num_trans__num_impute__strategy=median, rfc__criterion=entropy, rfc__max_depth=1, total=   3.2s\n",
      "[CV] ct__num_trans__num_impute__strategy=median, rfc__criterion=entropy, rfc__max_depth=1 \n",
      "[CV]  ct__num_trans__num_impute__strategy=median, rfc__criterion=entropy, rfc__max_depth=1, total=   3.2s\n",
      "[CV] ct__num_trans__num_impute__strategy=median, rfc__criterion=entropy, rfc__max_depth=1 \n",
      "[CV]  ct__num_trans__num_impute__strategy=median, rfc__criterion=entropy, rfc__max_depth=1, total=   3.2s\n",
      "[CV] ct__num_trans__num_impute__strategy=median, rfc__criterion=entropy, rfc__max_depth=1 \n",
      "[CV]  ct__num_trans__num_impute__strategy=median, rfc__criterion=entropy, rfc__max_depth=1, total=   3.2s\n",
      "[CV] ct__num_trans__num_impute__strategy=median, rfc__criterion=entropy, rfc__max_depth=1 \n",
      "[CV]  ct__num_trans__num_impute__strategy=median, rfc__criterion=entropy, rfc__max_depth=1, total=   3.2s\n",
      "[CV] ct__num_trans__num_impute__strategy=median, rfc__criterion=entropy, rfc__max_depth=1 \n",
      "[CV]  ct__num_trans__num_impute__strategy=median, rfc__criterion=entropy, rfc__max_depth=1, total=   3.1s\n",
      "[CV] ct__num_trans__num_impute__strategy=median, rfc__criterion=entropy, rfc__max_depth=3 \n",
      "[CV]  ct__num_trans__num_impute__strategy=median, rfc__criterion=entropy, rfc__max_depth=3, total=   4.6s\n",
      "[CV] ct__num_trans__num_impute__strategy=median, rfc__criterion=entropy, rfc__max_depth=3 \n",
      "[CV]  ct__num_trans__num_impute__strategy=median, rfc__criterion=entropy, rfc__max_depth=3, total=   4.9s\n",
      "[CV] ct__num_trans__num_impute__strategy=median, rfc__criterion=entropy, rfc__max_depth=3 \n",
      "[CV]  ct__num_trans__num_impute__strategy=median, rfc__criterion=entropy, rfc__max_depth=3, total=   4.6s\n",
      "[CV] ct__num_trans__num_impute__strategy=median, rfc__criterion=entropy, rfc__max_depth=3 \n",
      "[CV]  ct__num_trans__num_impute__strategy=median, rfc__criterion=entropy, rfc__max_depth=3, total=   4.6s\n",
      "[CV] ct__num_trans__num_impute__strategy=median, rfc__criterion=entropy, rfc__max_depth=3 \n",
      "[CV]  ct__num_trans__num_impute__strategy=median, rfc__criterion=entropy, rfc__max_depth=3, total=   4.6s\n",
      "[CV] ct__num_trans__num_impute__strategy=median, rfc__criterion=entropy, rfc__max_depth=3 \n",
      "[CV]  ct__num_trans__num_impute__strategy=median, rfc__criterion=entropy, rfc__max_depth=3, total=   4.8s\n",
      "[CV] ct__num_trans__num_impute__strategy=median, rfc__criterion=entropy, rfc__max_depth=3 \n",
      "[CV]  ct__num_trans__num_impute__strategy=median, rfc__criterion=entropy, rfc__max_depth=3, total=   4.7s\n",
      "[CV] ct__num_trans__num_impute__strategy=median, rfc__criterion=entropy, rfc__max_depth=3 \n",
      "[CV]  ct__num_trans__num_impute__strategy=median, rfc__criterion=entropy, rfc__max_depth=3, total=   4.8s\n",
      "[CV] ct__num_trans__num_impute__strategy=median, rfc__criterion=entropy, rfc__max_depth=3 \n",
      "[CV]  ct__num_trans__num_impute__strategy=median, rfc__criterion=entropy, rfc__max_depth=3, total=   5.2s\n",
      "[CV] ct__num_trans__num_impute__strategy=median, rfc__criterion=entropy, rfc__max_depth=3 \n",
      "[CV]  ct__num_trans__num_impute__strategy=median, rfc__criterion=entropy, rfc__max_depth=3, total=   5.1s\n",
      "[CV] ct__num_trans__num_impute__strategy=median, rfc__criterion=entropy, rfc__max_depth=5 \n",
      "[CV]  ct__num_trans__num_impute__strategy=median, rfc__criterion=entropy, rfc__max_depth=5, total=   6.2s\n",
      "[CV] ct__num_trans__num_impute__strategy=median, rfc__criterion=entropy, rfc__max_depth=5 \n",
      "[CV]  ct__num_trans__num_impute__strategy=median, rfc__criterion=entropy, rfc__max_depth=5, total=   6.3s\n",
      "[CV] ct__num_trans__num_impute__strategy=median, rfc__criterion=entropy, rfc__max_depth=5 \n",
      "[CV]  ct__num_trans__num_impute__strategy=median, rfc__criterion=entropy, rfc__max_depth=5, total=   6.2s\n",
      "[CV] ct__num_trans__num_impute__strategy=median, rfc__criterion=entropy, rfc__max_depth=5 \n",
      "[CV]  ct__num_trans__num_impute__strategy=median, rfc__criterion=entropy, rfc__max_depth=5, total=   6.3s\n",
      "[CV] ct__num_trans__num_impute__strategy=median, rfc__criterion=entropy, rfc__max_depth=5 \n",
      "[CV]  ct__num_trans__num_impute__strategy=median, rfc__criterion=entropy, rfc__max_depth=5, total=   6.2s\n",
      "[CV] ct__num_trans__num_impute__strategy=median, rfc__criterion=entropy, rfc__max_depth=5 \n",
      "[CV]  ct__num_trans__num_impute__strategy=median, rfc__criterion=entropy, rfc__max_depth=5, total=   6.2s\n",
      "[CV] ct__num_trans__num_impute__strategy=median, rfc__criterion=entropy, rfc__max_depth=5 \n",
      "[CV]  ct__num_trans__num_impute__strategy=median, rfc__criterion=entropy, rfc__max_depth=5, total=   6.2s\n",
      "[CV] ct__num_trans__num_impute__strategy=median, rfc__criterion=entropy, rfc__max_depth=5 \n",
      "[CV]  ct__num_trans__num_impute__strategy=median, rfc__criterion=entropy, rfc__max_depth=5, total=   6.5s\n",
      "[CV] ct__num_trans__num_impute__strategy=median, rfc__criterion=entropy, rfc__max_depth=5 \n",
      "[CV]  ct__num_trans__num_impute__strategy=median, rfc__criterion=entropy, rfc__max_depth=5, total=   6.2s\n",
      "[CV] ct__num_trans__num_impute__strategy=median, rfc__criterion=entropy, rfc__max_depth=5 \n",
      "[CV]  ct__num_trans__num_impute__strategy=median, rfc__criterion=entropy, rfc__max_depth=5, total=   6.3s\n"
     ]
    },
    {
     "name": "stderr",
     "output_type": "stream",
     "text": [
      "[Parallel(n_jobs=1)]: Done 120 out of 120 | elapsed:  8.5min finished\n"
     ]
    },
    {
     "data": {
      "text/plain": [
       "GridSearchCV(cv=10,\n",
       "             estimator=Pipeline(steps=[('ct',\n",
       "                                        ColumnTransformer(remainder='passthrough',\n",
       "                                                          transformers=[('num_trans',\n",
       "                                                                         Pipeline(steps=[('num_impute',\n",
       "                                                                                          SimpleImputer()),\n",
       "                                                                                         ('ss',\n",
       "                                                                                          StandardScaler())]),\n",
       "                                                                         <sklearn.compose._column_transformer.make_column_selector object at 0x000001AEC0AB6DC0>),\n",
       "                                                                        ('cat_trans',\n",
       "                                                                         Pipeline(steps=[('cat_impute',\n",
       "                                                                                          SimpleImputer(strategy='most...quent')),\n",
       "                                                                                         ('ohe',\n",
       "                                                                                          OneHotEncoder(handle_unknown='ignore',\n",
       "                                                                                                        sparse=False))]),\n",
       "                                                                         <sklearn.compose._column_transformer.make_column_selector object at 0x000001AEC0AB6A00>)])),\n",
       "                                       ('rfc',\n",
       "                                        RandomForestClassifier(random_state=42))]),\n",
       "             param_grid={'ct__num_trans__num_impute__strategy': ['mean',\n",
       "                                                                 'median'],\n",
       "                         'rfc__criterion': ['gini', 'entropy'],\n",
       "                         'rfc__max_depth': [1, 3, 5]},\n",
       "             verbose=2)"
      ]
     },
     "execution_count": 52,
     "metadata": {},
     "output_type": "execute_result"
    }
   ],
   "source": [
    "# Set up parameters:\n",
    "params = {\n",
    "    'ct__num_trans__num_impute__strategy':['mean','median'],\n",
    "    'rfc__criterion':['gini','entropy'],\n",
    "    'rfc__max_depth':[1,3,5]\n",
    "}\n",
    "\n",
    "# Set up GridSearchCV and fit training data:\n",
    "gs_rfc = GridSearchCV(estimator=rfc_model_pipe, param_grid=params, cv=10, verbose=2)\n",
    "\n",
    "gs_rfc.fit(X_train, y_train)"
   ]
  },
  {
   "cell_type": "code",
   "execution_count": 53,
   "metadata": {
    "ExecuteTime": {
     "end_time": "2023-01-04T15:05:18.848116Z",
     "start_time": "2023-01-04T15:05:18.842161Z"
    }
   },
   "outputs": [
    {
     "data": {
      "text/plain": [
       "{'ct__num_trans__num_impute__strategy': 'mean',\n",
       " 'rfc__criterion': 'gini',\n",
       " 'rfc__max_depth': 1}"
      ]
     },
     "execution_count": 53,
     "metadata": {},
     "output_type": "execute_result"
    }
   ],
   "source": [
    "gs_rfc.best_params_"
   ]
  },
  {
   "cell_type": "code",
   "execution_count": 54,
   "metadata": {
    "ExecuteTime": {
     "end_time": "2023-01-04T15:05:21.290266Z",
     "start_time": "2023-01-04T15:05:21.272286Z"
    }
   },
   "outputs": [
    {
     "data": {
      "text/plain": [
       "0.9178171641791044"
      ]
     },
     "execution_count": 54,
     "metadata": {},
     "output_type": "execute_result"
    }
   ],
   "source": [
    "tunedRfc_score_train = gs_rfc.best_score_\n",
    "tunedRfc_score_train"
   ]
  },
  {
   "cell_type": "code",
   "execution_count": 55,
   "metadata": {
    "ExecuteTime": {
     "end_time": "2023-01-04T15:05:25.074736Z",
     "start_time": "2023-01-04T15:05:24.812916Z"
    }
   },
   "outputs": [
    {
     "data": {
      "text/plain": [
       "0.9175"
      ]
     },
     "execution_count": 55,
     "metadata": {},
     "output_type": "execute_result"
    }
   ],
   "source": [
    "# Validate with testing data:\n",
    "tunedRfc_score_test = gs_rfc.best_estimator_.score(X_test, y_test)\n",
    "tunedRfc_score_test"
   ]
  },
  {
   "cell_type": "code",
   "execution_count": 56,
   "metadata": {
    "ExecuteTime": {
     "end_time": "2023-01-04T15:13:00.070314Z",
     "start_time": "2023-01-04T15:12:56.877060Z"
    }
   },
   "outputs": [
    {
     "name": "stdout",
     "output_type": "stream",
     "text": [
      "\n",
      "The model's accuracy on the train set is 0.9178 \n",
      "\n",
      "The model's recall on the train set is 1.0 \n",
      "\n",
      "The model's precision on the train set is 0.9178 \n",
      "\n",
      "The model's f1-score on the train is 0.9571\n",
      "\n",
      "\n",
      "The model's accuracy on the test set is 0.9175 \n",
      "\n",
      "The model's recall on the test set is 1.0 \n",
      "\n",
      "The model's precision on the test set is 0.9175 \n",
      "\n",
      "The model's f1-score on the test is 0.957\n",
      "\n"
     ]
    },
    {
     "data": {
      "image/png": "[encoded data removed]",
      "text/plain": [
       "<Figure size 432x288 with 2 Axes>"
      ]
     },
     "metadata": {
      "needs_background": "light"
     },
     "output_type": "display_data"
    },
    {
     "data": {
      "image/png": "[encoded data removed]",
      "text/plain": [
       "<Figure size 432x288 with 2 Axes>"
      ]
     },
     "metadata": {
      "needs_background": "light"
     },
     "output_type": "display_data"
    }
   ],
   "source": [
    "# Plot confusion_matrix on training data:\n",
    "matrix_train_model7 = plot_confusion_matrix(gs_rfc, X_train, y_train);\n",
    "cf_matrix_train_list.append(matrix_train_model7)\n",
    "\n",
    "# Plot confusion_matrix on testing data:\n",
    "matrix_test_model7 = plot_confusion_matrix(gs_rfc, X_test, y_test);\n",
    "cf_matrix_test_list.append(matrix_test_model7)\n",
    "\n",
    "# Print 4 scores on training data:\n",
    "y_hat_train = gs_rfc.predict(X_train)\n",
    "add_4scores_train('model7')\n",
    "print_4scores_train('model7')\n",
    "\n",
    "# Print 4 scores on testing data:\n",
    "y_hat_test = gs_rfc.predict(X_test)\n",
    "add_4scores_test('model7')\n",
    "print_4scores_test('model7')"
   ]
  },
  {
   "cell_type": "markdown",
   "metadata": {},
   "source": [
    "## Imblearn Pipelines\n",
    "Dealing with the Target Imbalance, let's use SMOTE."
   ]
  },
  {
   "cell_type": "code",
   "execution_count": 57,
   "metadata": {
    "ExecuteTime": {
     "end_time": "2023-01-04T15:17:02.841951Z",
     "start_time": "2023-01-04T15:17:02.838940Z"
    }
   },
   "outputs": [],
   "source": [
    "sm = SMOTE(sampling_strategy='auto', random_state=42)"
   ]
  },
  {
   "cell_type": "code",
   "execution_count": 58,
   "metadata": {
    "ExecuteTime": {
     "end_time": "2023-01-04T15:17:06.967900Z",
     "start_time": "2023-01-04T15:17:06.940022Z"
    }
   },
   "outputs": [],
   "source": [
    "# To make things simple (and avoid errors!), let's just grab the numeric types and eliminate the NaNs from X_train:\n",
    "\n",
    "X_train_clean = X_train.select_dtypes('int64').dropna()\n",
    "y_train_clean = y_train[X_train_clean.index]"
   ]
  },
  {
   "cell_type": "code",
   "execution_count": 59,
   "metadata": {
    "ExecuteTime": {
     "end_time": "2023-01-04T15:17:08.062217Z",
     "start_time": "2023-01-04T15:17:08.041315Z"
    }
   },
   "outputs": [
    {
     "data": {
      "text/plain": [
       "4285     $501 AND OVER\n",
       "1010     $501 AND OVER\n",
       "22088    $501 AND OVER\n",
       "46536     $500 OR LESS\n",
       "69791    $501 AND OVER\n",
       "             ...      \n",
       "6265     $501 AND OVER\n",
       "54890    $501 AND OVER\n",
       "76820     $500 OR LESS\n",
       "860      $501 AND OVER\n",
       "15789    $501 AND OVER\n",
       "Name: DAMAGE, Length: 53600, dtype: object"
      ]
     },
     "execution_count": 59,
     "metadata": {},
     "output_type": "execute_result"
    }
   ],
   "source": [
    "y_train_clean"
   ]
  },
  {
   "cell_type": "code",
   "execution_count": 60,
   "metadata": {
    "ExecuteTime": {
     "end_time": "2023-01-04T15:17:09.055361Z",
     "start_time": "2023-01-04T15:17:08.945895Z"
    }
   },
   "outputs": [
    {
     "data": {
      "text/plain": [
       "$501 AND OVER    49195\n",
       "$500 OR LESS     49195\n",
       "Name: DAMAGE, dtype: int64"
      ]
     },
     "execution_count": 60,
     "metadata": {},
     "output_type": "execute_result"
    }
   ],
   "source": [
    "# Even distribution\n",
    "\n",
    "X_clean_resmp, y_clean_resmp = sm.fit_resample(X_train_clean, y_train_clean)\n",
    "\n",
    "y_clean_resmp.value_counts()"
   ]
  },
  {
   "cell_type": "markdown",
   "metadata": {},
   "source": [
    "### Model 8-1: ImPipleline with SMOTE (sampling_strategy='auto') and Random Forest Model"
   ]
  },
  {
   "cell_type": "code",
   "execution_count": 61,
   "metadata": {
    "ExecuteTime": {
     "end_time": "2023-01-04T15:17:52.906464Z",
     "start_time": "2023-01-04T15:17:11.537021Z"
    }
   },
   "outputs": [
    {
     "data": {
      "text/plain": [
       "Pipeline(steps=[('ct',\n",
       "                 ColumnTransformer(remainder='passthrough',\n",
       "                                   transformers=[('num_trans',\n",
       "                                                  Pipeline(steps=[('num_impute',\n",
       "                                                                   SimpleImputer()),\n",
       "                                                                  ('ss',\n",
       "                                                                   StandardScaler())]),\n",
       "                                                  <sklearn.compose._column_transformer.make_column_selector object at 0x000001AEC0AB6DC0>),\n",
       "                                                 ('cat_trans',\n",
       "                                                  Pipeline(steps=[('cat_impute',\n",
       "                                                                   SimpleImputer(strategy='most_frequent')),\n",
       "                                                                  ('ohe',\n",
       "                                                                   OneHotEncoder(handle_unknown='ignore',\n",
       "                                                                                 sparse=False))]),\n",
       "                                                  <sklearn.compose._column_transformer.make_column_selector object at 0x000001AEC0AB6A00>)])),\n",
       "                ('sm', SMOTE(random_state=42)),\n",
       "                ('rfc', RandomForestClassifier(random_state=42))])"
      ]
     },
     "execution_count": 61,
     "metadata": {},
     "output_type": "execute_result"
    }
   ],
   "source": [
    "# imbpipe!\n",
    "\n",
    "imb_pipe= ImPipeline(steps=[\n",
    "    ('ct',CT),\n",
    "    ('sm',SMOTE(random_state=42)),\n",
    "    ('rfc',RandomForestClassifier(random_state=42)),\n",
    "])\n",
    "\n",
    "imb_pipe.fit(X_train, y_train)"
   ]
  },
  {
   "cell_type": "code",
   "execution_count": 62,
   "metadata": {
    "ExecuteTime": {
     "end_time": "2023-01-04T15:18:03.312093Z",
     "start_time": "2023-01-04T15:18:01.611703Z"
    }
   },
   "outputs": [
    {
     "data": {
      "text/plain": [
       "0.9998694029850747"
      ]
     },
     "execution_count": 62,
     "metadata": {},
     "output_type": "execute_result"
    }
   ],
   "source": [
    "imbRfc_score_train = imb_pipe.score(X_train, y_train)\n",
    "imbRfc_score_train"
   ]
  },
  {
   "cell_type": "code",
   "execution_count": 63,
   "metadata": {
    "ExecuteTime": {
     "end_time": "2023-01-04T15:18:05.071320Z",
     "start_time": "2023-01-04T15:18:04.290577Z"
    }
   },
   "outputs": [
    {
     "data": {
      "text/plain": [
       "0.9065909090909091"
      ]
     },
     "execution_count": 63,
     "metadata": {},
     "output_type": "execute_result"
    }
   ],
   "source": [
    "# Validate with testing data:\n",
    "imbRfc_score_test = imb_pipe.score(X_test, y_test)\n",
    "imbRfc_score_test"
   ]
  },
  {
   "cell_type": "code",
   "execution_count": 64,
   "metadata": {
    "ExecuteTime": {
     "end_time": "2023-01-04T15:18:22.126428Z",
     "start_time": "2023-01-04T15:18:15.931001Z"
    }
   },
   "outputs": [
    {
     "name": "stdout",
     "output_type": "stream",
     "text": [
      "\n",
      "The model's accuracy on the train set is 0.9999 \n",
      "\n",
      "The model's recall on the train set is 0.9999 \n",
      "\n",
      "The model's precision on the train set is 0.9999 \n",
      "\n",
      "The model's f1-score on the train is 0.9999\n",
      "\n",
      "\n",
      "The model's accuracy on the test set is 0.9066 \n",
      "\n",
      "The model's recall on the test set is 0.9798 \n",
      "\n",
      "The model's precision on the test set is 0.9231 \n",
      "\n",
      "The model's f1-score on the test is 0.9506\n",
      "\n"
     ]
    },
    {
     "data": {
      "image/png": "[encoded data removed]",
      "text/plain": [
       "<Figure size 432x288 with 2 Axes>"
      ]
     },
     "metadata": {
      "needs_background": "light"
     },
     "output_type": "display_data"
    },
    {
     "data": {
      "image/png": "[encoded data removed]",
      "text/plain": [
       "<Figure size 432x288 with 2 Axes>"
      ]
     },
     "metadata": {
      "needs_background": "light"
     },
     "output_type": "display_data"
    }
   ],
   "source": [
    "# Plot confusion_matrix on training data:\n",
    "matrix_train_model81 = plot_confusion_matrix(imb_pipe, X_train, y_train);\n",
    "cf_matrix_train_list.append(matrix_train_model81)\n",
    "\n",
    "# Plot confusion_matrix on testing data:\n",
    "matrix_test_model81 = plot_confusion_matrix(imb_pipe, X_test, y_test);\n",
    "cf_matrix_test_list.append(matrix_test_model81)\n",
    "\n",
    "# Print 4 scores on training data:\n",
    "y_hat_train = imb_pipe.predict(X_train)\n",
    "add_4scores_train('model81')\n",
    "print_4scores_train('model81')\n",
    "\n",
    "# Print 4 scores on testing data:\n",
    "y_hat_test = imb_pipe.predict(X_test)\n",
    "add_4scores_test('model81')\n",
    "print_4scores_test('model81')"
   ]
  },
  {
   "cell_type": "markdown",
   "metadata": {},
   "source": [
    "### Model 8-2: ImPipleline with SMOTE (sampling_strategy=0.8) and Random Forest Model"
   ]
  },
  {
   "cell_type": "code",
   "execution_count": 65,
   "metadata": {
    "ExecuteTime": {
     "end_time": "2023-01-04T15:19:32.427696Z",
     "start_time": "2023-01-04T15:18:58.116363Z"
    }
   },
   "outputs": [
    {
     "data": {
      "text/plain": [
       "Pipeline(steps=[('ct',\n",
       "                 ColumnTransformer(remainder='passthrough',\n",
       "                                   transformers=[('num_trans',\n",
       "                                                  Pipeline(steps=[('num_impute',\n",
       "                                                                   SimpleImputer()),\n",
       "                                                                  ('ss',\n",
       "                                                                   StandardScaler())]),\n",
       "                                                  <sklearn.compose._column_transformer.make_column_selector object at 0x000001AEC0AB6DC0>),\n",
       "                                                 ('cat_trans',\n",
       "                                                  Pipeline(steps=[('cat_impute',\n",
       "                                                                   SimpleImputer(strategy='most_frequent')),\n",
       "                                                                  ('ohe',\n",
       "                                                                   OneHotEncoder(handle_unknown='ignore',\n",
       "                                                                                 sparse=False))]),\n",
       "                                                  <sklearn.compose._column_transformer.make_column_selector object at 0x000001AEC0AB6A00>)])),\n",
       "                ('sm', SMOTE(random_state=42, sampling_strategy=0.8)),\n",
       "                ('rfc', RandomForestClassifier(random_state=42))])"
      ]
     },
     "execution_count": 65,
     "metadata": {},
     "output_type": "execute_result"
    }
   ],
   "source": [
    "imb_pipe80= ImPipeline(steps=[\n",
    "    ('ct',CT),\n",
    "    ('sm',SMOTE(sampling_strategy=0.8, random_state=42)),\n",
    "    ('rfc',RandomForestClassifier(random_state=42)),\n",
    "])\n",
    "\n",
    "imb_pipe80.fit(X_train, y_train)"
   ]
  },
  {
   "cell_type": "code",
   "execution_count": 66,
   "metadata": {
    "ExecuteTime": {
     "end_time": "2023-01-04T15:19:47.114769Z",
     "start_time": "2023-01-04T15:19:45.571546Z"
    }
   },
   "outputs": [
    {
     "data": {
      "text/plain": [
       "0.9998694029850747"
      ]
     },
     "execution_count": 66,
     "metadata": {},
     "output_type": "execute_result"
    }
   ],
   "source": [
    "imbRfc80_score_train = imb_pipe.score(X_train, y_train)\n",
    "imbRfc80_score_train"
   ]
  },
  {
   "cell_type": "code",
   "execution_count": 67,
   "metadata": {
    "ExecuteTime": {
     "end_time": "2023-01-04T15:19:51.273509Z",
     "start_time": "2023-01-04T15:19:50.491581Z"
    }
   },
   "outputs": [
    {
     "data": {
      "text/plain": [
       "0.9065909090909091"
      ]
     },
     "execution_count": 67,
     "metadata": {},
     "output_type": "execute_result"
    }
   ],
   "source": [
    "# Validate with testing data:\n",
    "imbRfc80_score_test = imb_pipe.score(X_test, y_test)\n",
    "imbRfc80_score_test"
   ]
  },
  {
   "cell_type": "code",
   "execution_count": 68,
   "metadata": {
    "ExecuteTime": {
     "end_time": "2023-01-04T15:19:58.250060Z",
     "start_time": "2023-01-04T15:19:52.374825Z"
    }
   },
   "outputs": [
    {
     "name": "stdout",
     "output_type": "stream",
     "text": [
      "\n",
      "The model's accuracy on the train set is 0.9999 \n",
      "\n",
      "The model's recall on the train set is 1.0 \n",
      "\n",
      "The model's precision on the train set is 0.9999 \n",
      "\n",
      "The model's f1-score on the train is 0.9999\n",
      "\n",
      "\n",
      "The model's accuracy on the test set is 0.9081 \n",
      "\n",
      "The model's recall on the test set is 0.982 \n",
      "\n",
      "The model's precision on the test set is 0.9229 \n",
      "\n",
      "The model's f1-score on the test is 0.9515\n",
      "\n"
     ]
    },
    {
     "data": {
      "image/png": "[encoded data removed]",
      "text/plain": [
       "<Figure size 432x288 with 2 Axes>"
      ]
     },
     "metadata": {
      "needs_background": "light"
     },
     "output_type": "display_data"
    },
    {
     "data": {
      "image/png": "[encoded data removed]",
      "text/plain": [
       "<Figure size 432x288 with 2 Axes>"
      ]
     },
     "metadata": {
      "needs_background": "light"
     },
     "output_type": "display_data"
    }
   ],
   "source": [
    "# Plot confusion_matrix on training data:\n",
    "matrix_train_model82 = plot_confusion_matrix(imb_pipe80, X_train, y_train);\n",
    "cf_matrix_train_list.append(matrix_train_model82)\n",
    "\n",
    "# Plot confusion_matrix on testing data:\n",
    "matrix_test_model82 = plot_confusion_matrix(imb_pipe80, X_test, y_test);\n",
    "cf_matrix_test_list.append(matrix_test_model82)\n",
    "\n",
    "# Print 4 scores on training data:\n",
    "y_hat_train = imb_pipe80.predict(X_train)\n",
    "add_4scores_train('model82')\n",
    "print_4scores_train('model82')\n",
    "\n",
    "# Print 4 scores on testing data:\n",
    "y_hat_test = imb_pipe80.predict(X_test)\n",
    "add_4scores_test('model82')\n",
    "print_4scores_test('model82')"
   ]
  },
  {
   "cell_type": "markdown",
   "metadata": {},
   "source": [
    "### Model 9: Gridsearching with SMOTE and Random Forest Model"
   ]
  },
  {
   "cell_type": "code",
   "execution_count": 69,
   "metadata": {
    "ExecuteTime": {
     "end_time": "2023-01-04T16:13:16.709454Z",
     "start_time": "2023-01-04T15:21:57.752110Z"
    }
   },
   "outputs": [
    {
     "name": "stdout",
     "output_type": "stream",
     "text": [
      "Fitting 10 folds for each of 8 candidates, totalling 80 fits\n",
      "[CV] rfc__criterion=gini, rfc__min_samples_leaf=1, sm__k_neighbors=3 .\n"
     ]
    },
    {
     "name": "stderr",
     "output_type": "stream",
     "text": [
      "[Parallel(n_jobs=1)]: Using backend SequentialBackend with 1 concurrent workers.\n"
     ]
    },
    {
     "name": "stdout",
     "output_type": "stream",
     "text": [
      "[CV]  rfc__criterion=gini, rfc__min_samples_leaf=1, sm__k_neighbors=3, total=  34.1s\n",
      "[CV] rfc__criterion=gini, rfc__min_samples_leaf=1, sm__k_neighbors=3 .\n"
     ]
    },
    {
     "name": "stderr",
     "output_type": "stream",
     "text": [
      "[Parallel(n_jobs=1)]: Done   1 out of   1 | elapsed:   34.0s remaining:    0.0s\n"
     ]
    },
    {
     "name": "stdout",
     "output_type": "stream",
     "text": [
      "[CV]  rfc__criterion=gini, rfc__min_samples_leaf=1, sm__k_neighbors=3, total=  37.9s\n",
      "[CV] rfc__criterion=gini, rfc__min_samples_leaf=1, sm__k_neighbors=3 .\n",
      "[CV]  rfc__criterion=gini, rfc__min_samples_leaf=1, sm__k_neighbors=3, total=  33.3s\n",
      "[CV] rfc__criterion=gini, rfc__min_samples_leaf=1, sm__k_neighbors=3 .\n",
      "[CV]  rfc__criterion=gini, rfc__min_samples_leaf=1, sm__k_neighbors=3, total=  36.6s\n",
      "[CV] rfc__criterion=gini, rfc__min_samples_leaf=1, sm__k_neighbors=3 .\n",
      "[CV]  rfc__criterion=gini, rfc__min_samples_leaf=1, sm__k_neighbors=3, total=  37.2s\n",
      "[CV] rfc__criterion=gini, rfc__min_samples_leaf=1, sm__k_neighbors=3 .\n",
      "[CV]  rfc__criterion=gini, rfc__min_samples_leaf=1, sm__k_neighbors=3, total=  33.3s\n",
      "[CV] rfc__criterion=gini, rfc__min_samples_leaf=1, sm__k_neighbors=3 .\n",
      "[CV]  rfc__criterion=gini, rfc__min_samples_leaf=1, sm__k_neighbors=3, total=  33.4s\n",
      "[CV] rfc__criterion=gini, rfc__min_samples_leaf=1, sm__k_neighbors=3 .\n",
      "[CV]  rfc__criterion=gini, rfc__min_samples_leaf=1, sm__k_neighbors=3, total=  34.3s\n",
      "[CV] rfc__criterion=gini, rfc__min_samples_leaf=1, sm__k_neighbors=3 .\n",
      "[CV]  rfc__criterion=gini, rfc__min_samples_leaf=1, sm__k_neighbors=3, total=  33.7s\n",
      "[CV] rfc__criterion=gini, rfc__min_samples_leaf=1, sm__k_neighbors=3 .\n",
      "[CV]  rfc__criterion=gini, rfc__min_samples_leaf=1, sm__k_neighbors=3, total=  33.4s\n",
      "[CV] rfc__criterion=gini, rfc__min_samples_leaf=1, sm__k_neighbors=5 .\n",
      "[CV]  rfc__criterion=gini, rfc__min_samples_leaf=1, sm__k_neighbors=5, total=  34.6s\n",
      "[CV] rfc__criterion=gini, rfc__min_samples_leaf=1, sm__k_neighbors=5 .\n",
      "[CV]  rfc__criterion=gini, rfc__min_samples_leaf=1, sm__k_neighbors=5, total=  32.5s\n",
      "[CV] rfc__criterion=gini, rfc__min_samples_leaf=1, sm__k_neighbors=5 .\n",
      "[CV]  rfc__criterion=gini, rfc__min_samples_leaf=1, sm__k_neighbors=5, total=  33.1s\n",
      "[CV] rfc__criterion=gini, rfc__min_samples_leaf=1, sm__k_neighbors=5 .\n",
      "[CV]  rfc__criterion=gini, rfc__min_samples_leaf=1, sm__k_neighbors=5, total=  33.1s\n",
      "[CV] rfc__criterion=gini, rfc__min_samples_leaf=1, sm__k_neighbors=5 .\n",
      "[CV]  rfc__criterion=gini, rfc__min_samples_leaf=1, sm__k_neighbors=5, total=  34.6s\n",
      "[CV] rfc__criterion=gini, rfc__min_samples_leaf=1, sm__k_neighbors=5 .\n",
      "[CV]  rfc__criterion=gini, rfc__min_samples_leaf=1, sm__k_neighbors=5, total=  34.7s\n",
      "[CV] rfc__criterion=gini, rfc__min_samples_leaf=1, sm__k_neighbors=5 .\n",
      "[CV]  rfc__criterion=gini, rfc__min_samples_leaf=1, sm__k_neighbors=5, total=  33.5s\n",
      "[CV] rfc__criterion=gini, rfc__min_samples_leaf=1, sm__k_neighbors=5 .\n",
      "[CV]  rfc__criterion=gini, rfc__min_samples_leaf=1, sm__k_neighbors=5, total=  35.0s\n",
      "[CV] rfc__criterion=gini, rfc__min_samples_leaf=1, sm__k_neighbors=5 .\n",
      "[CV]  rfc__criterion=gini, rfc__min_samples_leaf=1, sm__k_neighbors=5, total=  34.6s\n",
      "[CV] rfc__criterion=gini, rfc__min_samples_leaf=1, sm__k_neighbors=5 .\n",
      "[CV]  rfc__criterion=gini, rfc__min_samples_leaf=1, sm__k_neighbors=5, total=  34.5s\n",
      "[CV] rfc__criterion=gini, rfc__min_samples_leaf=3, sm__k_neighbors=3 .\n",
      "[CV]  rfc__criterion=gini, rfc__min_samples_leaf=3, sm__k_neighbors=3, total=  29.4s\n",
      "[CV] rfc__criterion=gini, rfc__min_samples_leaf=3, sm__k_neighbors=3 .\n",
      "[CV]  rfc__criterion=gini, rfc__min_samples_leaf=3, sm__k_neighbors=3, total=  30.8s\n",
      "[CV] rfc__criterion=gini, rfc__min_samples_leaf=3, sm__k_neighbors=3 .\n",
      "[CV]  rfc__criterion=gini, rfc__min_samples_leaf=3, sm__k_neighbors=3, total=  29.8s\n",
      "[CV] rfc__criterion=gini, rfc__min_samples_leaf=3, sm__k_neighbors=3 .\n",
      "[CV]  rfc__criterion=gini, rfc__min_samples_leaf=3, sm__k_neighbors=3, total=  31.6s\n",
      "[CV] rfc__criterion=gini, rfc__min_samples_leaf=3, sm__k_neighbors=3 .\n",
      "[CV]  rfc__criterion=gini, rfc__min_samples_leaf=3, sm__k_neighbors=3, total=  31.2s\n",
      "[CV] rfc__criterion=gini, rfc__min_samples_leaf=3, sm__k_neighbors=3 .\n",
      "[CV]  rfc__criterion=gini, rfc__min_samples_leaf=3, sm__k_neighbors=3, total=  31.8s\n",
      "[CV] rfc__criterion=gini, rfc__min_samples_leaf=3, sm__k_neighbors=3 .\n",
      "[CV]  rfc__criterion=gini, rfc__min_samples_leaf=3, sm__k_neighbors=3, total=  30.5s\n",
      "[CV] rfc__criterion=gini, rfc__min_samples_leaf=3, sm__k_neighbors=3 .\n",
      "[CV]  rfc__criterion=gini, rfc__min_samples_leaf=3, sm__k_neighbors=3, total=  30.2s\n",
      "[CV] rfc__criterion=gini, rfc__min_samples_leaf=3, sm__k_neighbors=3 .\n",
      "[CV]  rfc__criterion=gini, rfc__min_samples_leaf=3, sm__k_neighbors=3, total=  29.5s\n",
      "[CV] rfc__criterion=gini, rfc__min_samples_leaf=3, sm__k_neighbors=3 .\n",
      "[CV]  rfc__criterion=gini, rfc__min_samples_leaf=3, sm__k_neighbors=3, total=  30.2s\n",
      "[CV] rfc__criterion=gini, rfc__min_samples_leaf=3, sm__k_neighbors=5 .\n",
      "[CV]  rfc__criterion=gini, rfc__min_samples_leaf=3, sm__k_neighbors=5, total=  29.7s\n",
      "[CV] rfc__criterion=gini, rfc__min_samples_leaf=3, sm__k_neighbors=5 .\n",
      "[CV]  rfc__criterion=gini, rfc__min_samples_leaf=3, sm__k_neighbors=5, total=  30.0s\n",
      "[CV] rfc__criterion=gini, rfc__min_samples_leaf=3, sm__k_neighbors=5 .\n",
      "[CV]  rfc__criterion=gini, rfc__min_samples_leaf=3, sm__k_neighbors=5, total=  29.9s\n",
      "[CV] rfc__criterion=gini, rfc__min_samples_leaf=3, sm__k_neighbors=5 .\n",
      "[CV]  rfc__criterion=gini, rfc__min_samples_leaf=3, sm__k_neighbors=5, total=  30.4s\n",
      "[CV] rfc__criterion=gini, rfc__min_samples_leaf=3, sm__k_neighbors=5 .\n",
      "[CV]  rfc__criterion=gini, rfc__min_samples_leaf=3, sm__k_neighbors=5, total=  33.0s\n",
      "[CV] rfc__criterion=gini, rfc__min_samples_leaf=3, sm__k_neighbors=5 .\n",
      "[CV]  rfc__criterion=gini, rfc__min_samples_leaf=3, sm__k_neighbors=5, total=  32.0s\n",
      "[CV] rfc__criterion=gini, rfc__min_samples_leaf=3, sm__k_neighbors=5 .\n",
      "[CV]  rfc__criterion=gini, rfc__min_samples_leaf=3, sm__k_neighbors=5, total=  32.0s\n",
      "[CV] rfc__criterion=gini, rfc__min_samples_leaf=3, sm__k_neighbors=5 .\n",
      "[CV]  rfc__criterion=gini, rfc__min_samples_leaf=3, sm__k_neighbors=5, total=  31.4s\n",
      "[CV] rfc__criterion=gini, rfc__min_samples_leaf=3, sm__k_neighbors=5 .\n",
      "[CV]  rfc__criterion=gini, rfc__min_samples_leaf=3, sm__k_neighbors=5, total=  31.2s\n",
      "[CV] rfc__criterion=gini, rfc__min_samples_leaf=3, sm__k_neighbors=5 .\n",
      "[CV]  rfc__criterion=gini, rfc__min_samples_leaf=3, sm__k_neighbors=5, total=  37.8s\n",
      "[CV] rfc__criterion=entropy, rfc__min_samples_leaf=1, sm__k_neighbors=3 \n",
      "[CV]  rfc__criterion=entropy, rfc__min_samples_leaf=1, sm__k_neighbors=3, total=  47.0s\n",
      "[CV] rfc__criterion=entropy, rfc__min_samples_leaf=1, sm__k_neighbors=3 \n",
      "[CV]  rfc__criterion=entropy, rfc__min_samples_leaf=1, sm__k_neighbors=3, total=  41.8s\n",
      "[CV] rfc__criterion=entropy, rfc__min_samples_leaf=1, sm__k_neighbors=3 \n",
      "[CV]  rfc__criterion=entropy, rfc__min_samples_leaf=1, sm__k_neighbors=3, total=  40.3s\n",
      "[CV] rfc__criterion=entropy, rfc__min_samples_leaf=1, sm__k_neighbors=3 \n",
      "[CV]  rfc__criterion=entropy, rfc__min_samples_leaf=1, sm__k_neighbors=3, total=  44.5s\n",
      "[CV] rfc__criterion=entropy, rfc__min_samples_leaf=1, sm__k_neighbors=3 \n",
      "[CV]  rfc__criterion=entropy, rfc__min_samples_leaf=1, sm__k_neighbors=3, total=  40.7s\n",
      "[CV] rfc__criterion=entropy, rfc__min_samples_leaf=1, sm__k_neighbors=3 \n",
      "[CV]  rfc__criterion=entropy, rfc__min_samples_leaf=1, sm__k_neighbors=3, total=  41.0s\n",
      "[CV] rfc__criterion=entropy, rfc__min_samples_leaf=1, sm__k_neighbors=3 \n",
      "[CV]  rfc__criterion=entropy, rfc__min_samples_leaf=1, sm__k_neighbors=3, total=  40.9s\n",
      "[CV] rfc__criterion=entropy, rfc__min_samples_leaf=1, sm__k_neighbors=3 \n",
      "[CV]  rfc__criterion=entropy, rfc__min_samples_leaf=1, sm__k_neighbors=3, total=  40.0s\n",
      "[CV] rfc__criterion=entropy, rfc__min_samples_leaf=1, sm__k_neighbors=3 \n",
      "[CV]  rfc__criterion=entropy, rfc__min_samples_leaf=1, sm__k_neighbors=3, total=  39.3s\n",
      "[CV] rfc__criterion=entropy, rfc__min_samples_leaf=1, sm__k_neighbors=3 \n",
      "[CV]  rfc__criterion=entropy, rfc__min_samples_leaf=1, sm__k_neighbors=3, total=  40.4s\n",
      "[CV] rfc__criterion=entropy, rfc__min_samples_leaf=1, sm__k_neighbors=5 \n",
      "[CV]  rfc__criterion=entropy, rfc__min_samples_leaf=1, sm__k_neighbors=5, total=  40.7s\n",
      "[CV] rfc__criterion=entropy, rfc__min_samples_leaf=1, sm__k_neighbors=5 \n",
      "[CV]  rfc__criterion=entropy, rfc__min_samples_leaf=1, sm__k_neighbors=5, total=  43.1s\n",
      "[CV] rfc__criterion=entropy, rfc__min_samples_leaf=1, sm__k_neighbors=5 \n",
      "[CV]  rfc__criterion=entropy, rfc__min_samples_leaf=1, sm__k_neighbors=5, total=  41.0s\n",
      "[CV] rfc__criterion=entropy, rfc__min_samples_leaf=1, sm__k_neighbors=5 \n",
      "[CV]  rfc__criterion=entropy, rfc__min_samples_leaf=1, sm__k_neighbors=5, total=  42.1s\n",
      "[CV] rfc__criterion=entropy, rfc__min_samples_leaf=1, sm__k_neighbors=5 \n"
     ]
    },
    {
     "name": "stdout",
     "output_type": "stream",
     "text": [
      "[CV]  rfc__criterion=entropy, rfc__min_samples_leaf=1, sm__k_neighbors=5, total=  40.0s\n",
      "[CV] rfc__criterion=entropy, rfc__min_samples_leaf=1, sm__k_neighbors=5 \n",
      "[CV]  rfc__criterion=entropy, rfc__min_samples_leaf=1, sm__k_neighbors=5, total=  39.7s\n",
      "[CV] rfc__criterion=entropy, rfc__min_samples_leaf=1, sm__k_neighbors=5 \n",
      "[CV]  rfc__criterion=entropy, rfc__min_samples_leaf=1, sm__k_neighbors=5, total=  38.8s\n",
      "[CV] rfc__criterion=entropy, rfc__min_samples_leaf=1, sm__k_neighbors=5 \n",
      "[CV]  rfc__criterion=entropy, rfc__min_samples_leaf=1, sm__k_neighbors=5, total=  39.0s\n",
      "[CV] rfc__criterion=entropy, rfc__min_samples_leaf=1, sm__k_neighbors=5 \n",
      "[CV]  rfc__criterion=entropy, rfc__min_samples_leaf=1, sm__k_neighbors=5, total=  38.3s\n",
      "[CV] rfc__criterion=entropy, rfc__min_samples_leaf=1, sm__k_neighbors=5 \n",
      "[CV]  rfc__criterion=entropy, rfc__min_samples_leaf=1, sm__k_neighbors=5, total=  38.7s\n",
      "[CV] rfc__criterion=entropy, rfc__min_samples_leaf=3, sm__k_neighbors=3 \n",
      "[CV]  rfc__criterion=entropy, rfc__min_samples_leaf=3, sm__k_neighbors=3, total=  50.5s\n",
      "[CV] rfc__criterion=entropy, rfc__min_samples_leaf=3, sm__k_neighbors=3 \n",
      "[CV]  rfc__criterion=entropy, rfc__min_samples_leaf=3, sm__k_neighbors=3, total= 1.1min\n",
      "[CV] rfc__criterion=entropy, rfc__min_samples_leaf=3, sm__k_neighbors=3 \n",
      "[CV]  rfc__criterion=entropy, rfc__min_samples_leaf=3, sm__k_neighbors=3, total=  48.9s\n",
      "[CV] rfc__criterion=entropy, rfc__min_samples_leaf=3, sm__k_neighbors=3 \n",
      "[CV]  rfc__criterion=entropy, rfc__min_samples_leaf=3, sm__k_neighbors=3, total=  56.9s\n",
      "[CV] rfc__criterion=entropy, rfc__min_samples_leaf=3, sm__k_neighbors=3 \n",
      "[CV]  rfc__criterion=entropy, rfc__min_samples_leaf=3, sm__k_neighbors=3, total=  59.6s\n",
      "[CV] rfc__criterion=entropy, rfc__min_samples_leaf=3, sm__k_neighbors=3 \n",
      "[CV]  rfc__criterion=entropy, rfc__min_samples_leaf=3, sm__k_neighbors=3, total=  43.9s\n",
      "[CV] rfc__criterion=entropy, rfc__min_samples_leaf=3, sm__k_neighbors=3 \n",
      "[CV]  rfc__criterion=entropy, rfc__min_samples_leaf=3, sm__k_neighbors=3, total=  40.7s\n",
      "[CV] rfc__criterion=entropy, rfc__min_samples_leaf=3, sm__k_neighbors=3 \n",
      "[CV]  rfc__criterion=entropy, rfc__min_samples_leaf=3, sm__k_neighbors=3, total=  45.7s\n",
      "[CV] rfc__criterion=entropy, rfc__min_samples_leaf=3, sm__k_neighbors=3 \n",
      "[CV]  rfc__criterion=entropy, rfc__min_samples_leaf=3, sm__k_neighbors=3, total=  46.6s\n",
      "[CV] rfc__criterion=entropy, rfc__min_samples_leaf=3, sm__k_neighbors=3 \n",
      "[CV]  rfc__criterion=entropy, rfc__min_samples_leaf=3, sm__k_neighbors=3, total=  46.3s\n",
      "[CV] rfc__criterion=entropy, rfc__min_samples_leaf=3, sm__k_neighbors=5 \n",
      "[CV]  rfc__criterion=entropy, rfc__min_samples_leaf=3, sm__k_neighbors=5, total=  47.5s\n",
      "[CV] rfc__criterion=entropy, rfc__min_samples_leaf=3, sm__k_neighbors=5 \n",
      "[CV]  rfc__criterion=entropy, rfc__min_samples_leaf=3, sm__k_neighbors=5, total=  43.2s\n",
      "[CV] rfc__criterion=entropy, rfc__min_samples_leaf=3, sm__k_neighbors=5 \n",
      "[CV]  rfc__criterion=entropy, rfc__min_samples_leaf=3, sm__k_neighbors=5, total=  38.8s\n",
      "[CV] rfc__criterion=entropy, rfc__min_samples_leaf=3, sm__k_neighbors=5 \n",
      "[CV]  rfc__criterion=entropy, rfc__min_samples_leaf=3, sm__k_neighbors=5, total=  38.7s\n",
      "[CV] rfc__criterion=entropy, rfc__min_samples_leaf=3, sm__k_neighbors=5 \n",
      "[CV]  rfc__criterion=entropy, rfc__min_samples_leaf=3, sm__k_neighbors=5, total=  38.6s\n",
      "[CV] rfc__criterion=entropy, rfc__min_samples_leaf=3, sm__k_neighbors=5 \n",
      "[CV]  rfc__criterion=entropy, rfc__min_samples_leaf=3, sm__k_neighbors=5, total=  38.4s\n",
      "[CV] rfc__criterion=entropy, rfc__min_samples_leaf=3, sm__k_neighbors=5 \n",
      "[CV]  rfc__criterion=entropy, rfc__min_samples_leaf=3, sm__k_neighbors=5, total=  39.0s\n",
      "[CV] rfc__criterion=entropy, rfc__min_samples_leaf=3, sm__k_neighbors=5 \n",
      "[CV]  rfc__criterion=entropy, rfc__min_samples_leaf=3, sm__k_neighbors=5, total=  37.7s\n",
      "[CV] rfc__criterion=entropy, rfc__min_samples_leaf=3, sm__k_neighbors=5 \n",
      "[CV]  rfc__criterion=entropy, rfc__min_samples_leaf=3, sm__k_neighbors=5, total=  38.6s\n",
      "[CV] rfc__criterion=entropy, rfc__min_samples_leaf=3, sm__k_neighbors=5 \n",
      "[CV]  rfc__criterion=entropy, rfc__min_samples_leaf=3, sm__k_neighbors=5, total=  43.6s\n"
     ]
    },
    {
     "name": "stderr",
     "output_type": "stream",
     "text": [
      "[Parallel(n_jobs=1)]: Done  80 out of  80 | elapsed: 50.6min finished\n"
     ]
    },
    {
     "data": {
      "text/plain": [
       "GridSearchCV(cv=10,\n",
       "             estimator=Pipeline(steps=[('ct',\n",
       "                                        ColumnTransformer(remainder='passthrough',\n",
       "                                                          transformers=[('num_trans',\n",
       "                                                                         Pipeline(steps=[('num_impute',\n",
       "                                                                                          SimpleImputer()),\n",
       "                                                                                         ('ss',\n",
       "                                                                                          StandardScaler())]),\n",
       "                                                                         <sklearn.compose._column_transformer.make_column_selector object at 0x000001AEC0AB6DC0>),\n",
       "                                                                        ('cat_trans',\n",
       "                                                                         Pipeline(steps=[('cat_impute',\n",
       "                                                                                          SimpleImputer(strategy='most...nt')),\n",
       "                                                                                         ('ohe',\n",
       "                                                                                          OneHotEncoder(handle_unknown='ignore',\n",
       "                                                                                                        sparse=False))]),\n",
       "                                                                         <sklearn.compose._column_transformer.make_column_selector object at 0x000001AEC0AB6A00>)])),\n",
       "                                       ('sm', SMOTE(random_state=42)),\n",
       "                                       ('rfc',\n",
       "                                        RandomForestClassifier(random_state=42))]),\n",
       "             param_grid={'rfc__criterion': ['gini', 'entropy'],\n",
       "                         'rfc__min_samples_leaf': [1, 3],\n",
       "                         'sm__k_neighbors': [3, 5]},\n",
       "             verbose=2)"
      ]
     },
     "execution_count": 69,
     "metadata": {},
     "output_type": "execute_result"
    }
   ],
   "source": [
    "parameters = {'rfc__criterion': ['gini', 'entropy'],\n",
    "          'rfc__min_samples_leaf': [1, 3],\n",
    "          'sm__k_neighbors': [3, 5]}\n",
    "\n",
    "gs_smote_rfc = GridSearchCV(estimator=imb_pipe,\n",
    "                 param_grid=parameters,\n",
    "                 cv=10, verbose=2)\n",
    "\n",
    "gs_smote_rfc.fit(X_train, y_train)"
   ]
  },
  {
   "cell_type": "code",
   "execution_count": 70,
   "metadata": {
    "ExecuteTime": {
     "end_time": "2023-01-04T16:16:31.887211Z",
     "start_time": "2023-01-04T16:16:31.871475Z"
    }
   },
   "outputs": [
    {
     "data": {
      "text/plain": [
       "{'rfc__criterion': 'entropy', 'rfc__min_samples_leaf': 1, 'sm__k_neighbors': 5}"
      ]
     },
     "execution_count": 70,
     "metadata": {},
     "output_type": "execute_result"
    }
   ],
   "source": [
    "gs_smote_rfc.best_params_"
   ]
  },
  {
   "cell_type": "code",
   "execution_count": 71,
   "metadata": {
    "ExecuteTime": {
     "end_time": "2023-01-04T16:16:36.004803Z",
     "start_time": "2023-01-04T16:16:34.346285Z"
    }
   },
   "outputs": [
    {
     "data": {
      "text/plain": [
       "0.9998694029850747"
      ]
     },
     "execution_count": 71,
     "metadata": {},
     "output_type": "execute_result"
    }
   ],
   "source": [
    "gsRfc_score_train = gs_smote_rfc.score(X_train, y_train)\n",
    "gsRfc_score_train"
   ]
  },
  {
   "cell_type": "code",
   "execution_count": 72,
   "metadata": {
    "ExecuteTime": {
     "end_time": "2023-01-04T16:16:37.946207Z",
     "start_time": "2023-01-04T16:16:37.138391Z"
    }
   },
   "outputs": [
    {
     "data": {
      "text/plain": [
       "0.9070075757575757"
      ]
     },
     "execution_count": 72,
     "metadata": {},
     "output_type": "execute_result"
    }
   ],
   "source": [
    "# Validate with testing data:\n",
    "gsRfc_score_test = gs_smote_rfc.score(X_test, y_test)\n",
    "gsRfc_score_test"
   ]
  },
  {
   "cell_type": "code",
   "execution_count": 73,
   "metadata": {
    "ExecuteTime": {
     "end_time": "2023-01-04T16:16:45.140844Z",
     "start_time": "2023-01-04T16:16:39.130303Z"
    }
   },
   "outputs": [
    {
     "name": "stdout",
     "output_type": "stream",
     "text": [
      "\n",
      "The model's accuracy on the train set is 0.9999 \n",
      "\n",
      "The model's recall on the train set is 1.0 \n",
      "\n",
      "The model's precision on the train set is 0.9999 \n",
      "\n",
      "The model's f1-score on the train is 0.9999\n",
      "\n",
      "\n",
      "The model's accuracy on the test set is 0.907 \n",
      "\n",
      "The model's recall on the test set is 0.9802 \n",
      "\n",
      "The model's precision on the test set is 0.9232 \n",
      "\n",
      "The model's f1-score on the test is 0.9508\n",
      "\n"
     ]
    },
    {
     "data": {
      "image/png": "[encoded data removed]",
      "text/plain": [
       "<Figure size 432x288 with 2 Axes>"
      ]
     },
     "metadata": {
      "needs_background": "light"
     },
     "output_type": "display_data"
    },
    {
     "data": {
      "image/png": "[encoded data removed]",
      "text/plain": [
       "<Figure size 432x288 with 2 Axes>"
      ]
     },
     "metadata": {
      "needs_background": "light"
     },
     "output_type": "display_data"
    }
   ],
   "source": [
    "# Plot confusion_matrix on training data:\n",
    "matrix_train_model9 = plot_confusion_matrix(gs_smote_rfc, X_train, y_train);\n",
    "cf_matrix_train_list.append(matrix_train_model9)\n",
    "\n",
    "# Plot confusion_matrix on testing data:\n",
    "matrix_test_model9 = plot_confusion_matrix(gs_smote_rfc, X_test, y_test);\n",
    "cf_matrix_test_list.append(matrix_test_model9)\n",
    "\n",
    "# Print 4 scores on training data:\n",
    "y_hat_train = gs_smote_rfc.predict(X_train)\n",
    "add_4scores_train('model9')\n",
    "print_4scores_train('model9')\n",
    "\n",
    "# Print 4 scores on testing data:\n",
    "y_hat_test = gs_smote_rfc.predict(X_test)\n",
    "add_4scores_test('model9')\n",
    "print_4scores_test('model9')"
   ]
  },
  {
   "cell_type": "markdown",
   "metadata": {},
   "source": [
    "## Evaluation and Final Model\n",
    "\n",
    "### Bring the scores together from all models:"
   ]
  },
  {
   "cell_type": "code",
   "execution_count": 81,
   "metadata": {
    "ExecuteTime": {
     "end_time": "2023-01-04T16:55:27.482447Z",
     "start_time": "2023-01-04T16:55:27.460602Z"
    }
   },
   "outputs": [],
   "source": [
    "model_list = ['dummy', 'logreg', 'rfc', 'gbc', 'dtc', 'tunedLogreg', 'tunedRfc', 'imbRfc', 'imbRfc80', 'gsRfc']\n",
    "\n",
    "score_train_list = [] \n",
    "score_test_list = []\n",
    "\n",
    "for i in model_list:\n",
    "    score_train_list.append(eval(i+'_score_train'))\n",
    "    score_test_list.append(eval(i+'_score_test'))\n"
   ]
  },
  {
   "cell_type": "code",
   "execution_count": 82,
   "metadata": {
    "ExecuteTime": {
     "end_time": "2023-01-04T16:55:34.842542Z",
     "start_time": "2023-01-04T16:55:34.811410Z"
    }
   },
   "outputs": [
    {
     "data": {
      "text/html": [
       "<div>\n",
       "<style scoped>\n",
       "    .dataframe tbody tr th:only-of-type {\n",
       "        vertical-align: middle;\n",
       "    }\n",
       "\n",
       "    .dataframe tbody tr th {\n",
       "        vertical-align: top;\n",
       "    }\n",
       "\n",
       "    .dataframe thead th {\n",
       "        text-align: right;\n",
       "    }\n",
       "</style>\n",
       "<table border=\"1\" class=\"dataframe\">\n",
       "  <thead>\n",
       "    <tr style=\"text-align: right;\">\n",
       "      <th></th>\n",
       "      <th>score_train</th>\n",
       "      <th>score_test</th>\n",
       "    </tr>\n",
       "  </thead>\n",
       "  <tbody>\n",
       "    <tr>\n",
       "      <th>dummy</th>\n",
       "      <td>0.917817</td>\n",
       "      <td>0.917500</td>\n",
       "    </tr>\n",
       "    <tr>\n",
       "      <th>logreg</th>\n",
       "      <td>0.917817</td>\n",
       "      <td>0.917500</td>\n",
       "    </tr>\n",
       "    <tr>\n",
       "      <th>rfc</th>\n",
       "      <td>0.918526</td>\n",
       "      <td>0.917538</td>\n",
       "    </tr>\n",
       "    <tr>\n",
       "      <th>gbc</th>\n",
       "      <td>0.917780</td>\n",
       "      <td>0.917348</td>\n",
       "    </tr>\n",
       "    <tr>\n",
       "      <th>dtc</th>\n",
       "      <td>0.853638</td>\n",
       "      <td>0.853030</td>\n",
       "    </tr>\n",
       "    <tr>\n",
       "      <th>tunedLogreg</th>\n",
       "      <td>0.917817</td>\n",
       "      <td>0.917462</td>\n",
       "    </tr>\n",
       "    <tr>\n",
       "      <th>tunedRfc</th>\n",
       "      <td>0.917817</td>\n",
       "      <td>0.917500</td>\n",
       "    </tr>\n",
       "    <tr>\n",
       "      <th>imbRfc</th>\n",
       "      <td>0.999869</td>\n",
       "      <td>0.906591</td>\n",
       "    </tr>\n",
       "    <tr>\n",
       "      <th>imbRfc80</th>\n",
       "      <td>0.999869</td>\n",
       "      <td>0.906591</td>\n",
       "    </tr>\n",
       "    <tr>\n",
       "      <th>gsRfc</th>\n",
       "      <td>0.999869</td>\n",
       "      <td>0.907008</td>\n",
       "    </tr>\n",
       "  </tbody>\n",
       "</table>\n",
       "</div>"
      ],
      "text/plain": [
       "             score_train  score_test\n",
       "dummy           0.917817    0.917500\n",
       "logreg          0.917817    0.917500\n",
       "rfc             0.918526    0.917538\n",
       "gbc             0.917780    0.917348\n",
       "dtc             0.853638    0.853030\n",
       "tunedLogreg     0.917817    0.917462\n",
       "tunedRfc        0.917817    0.917500\n",
       "imbRfc          0.999869    0.906591\n",
       "imbRfc80        0.999869    0.906591\n",
       "gsRfc           0.999869    0.907008"
      ]
     },
     "execution_count": 82,
     "metadata": {},
     "output_type": "execute_result"
    }
   ],
   "source": [
    "df_score_train = pd.DataFrame (score_train_list, columns = ['score_train'], index=model_list)\n",
    "df_score_test = pd.DataFrame (score_test_list, columns = ['score_test'], index=model_list)\n",
    "df_score = pd.concat([df_score_train, df_score_test], axis=1)\n",
    "\n",
    "\n",
    "df_score"
   ]
  },
  {
   "cell_type": "code",
   "execution_count": 83,
   "metadata": {
    "ExecuteTime": {
     "end_time": "2023-01-04T16:55:38.156371Z",
     "start_time": "2023-01-04T16:55:38.147293Z"
    }
   },
   "outputs": [
    {
     "data": {
      "text/html": [
       "<div>\n",
       "<style scoped>\n",
       "    .dataframe tbody tr th:only-of-type {\n",
       "        vertical-align: middle;\n",
       "    }\n",
       "\n",
       "    .dataframe tbody tr th {\n",
       "        vertical-align: top;\n",
       "    }\n",
       "\n",
       "    .dataframe thead th {\n",
       "        text-align: right;\n",
       "    }\n",
       "</style>\n",
       "<table border=\"1\" class=\"dataframe\">\n",
       "  <thead>\n",
       "    <tr style=\"text-align: right;\">\n",
       "      <th></th>\n",
       "      <th>score_train</th>\n",
       "      <th>score_test</th>\n",
       "      <th>difference</th>\n",
       "    </tr>\n",
       "  </thead>\n",
       "  <tbody>\n",
       "    <tr>\n",
       "      <th>dummy</th>\n",
       "      <td>0.917817</td>\n",
       "      <td>0.917500</td>\n",
       "      <td>0.000317</td>\n",
       "    </tr>\n",
       "    <tr>\n",
       "      <th>logreg</th>\n",
       "      <td>0.917817</td>\n",
       "      <td>0.917500</td>\n",
       "      <td>0.000317</td>\n",
       "    </tr>\n",
       "    <tr>\n",
       "      <th>rfc</th>\n",
       "      <td>0.918526</td>\n",
       "      <td>0.917538</td>\n",
       "      <td>0.000988</td>\n",
       "    </tr>\n",
       "    <tr>\n",
       "      <th>gbc</th>\n",
       "      <td>0.917780</td>\n",
       "      <td>0.917348</td>\n",
       "      <td>0.000431</td>\n",
       "    </tr>\n",
       "    <tr>\n",
       "      <th>dtc</th>\n",
       "      <td>0.853638</td>\n",
       "      <td>0.853030</td>\n",
       "      <td>0.000608</td>\n",
       "    </tr>\n",
       "    <tr>\n",
       "      <th>tunedLogreg</th>\n",
       "      <td>0.917817</td>\n",
       "      <td>0.917462</td>\n",
       "      <td>0.000355</td>\n",
       "    </tr>\n",
       "    <tr>\n",
       "      <th>tunedRfc</th>\n",
       "      <td>0.917817</td>\n",
       "      <td>0.917500</td>\n",
       "      <td>0.000317</td>\n",
       "    </tr>\n",
       "    <tr>\n",
       "      <th>imbRfc</th>\n",
       "      <td>0.999869</td>\n",
       "      <td>0.906591</td>\n",
       "      <td>0.093278</td>\n",
       "    </tr>\n",
       "    <tr>\n",
       "      <th>imbRfc80</th>\n",
       "      <td>0.999869</td>\n",
       "      <td>0.906591</td>\n",
       "      <td>0.093278</td>\n",
       "    </tr>\n",
       "    <tr>\n",
       "      <th>gsRfc</th>\n",
       "      <td>0.999869</td>\n",
       "      <td>0.907008</td>\n",
       "      <td>0.092862</td>\n",
       "    </tr>\n",
       "  </tbody>\n",
       "</table>\n",
       "</div>"
      ],
      "text/plain": [
       "             score_train  score_test  difference\n",
       "dummy           0.917817    0.917500    0.000317\n",
       "logreg          0.917817    0.917500    0.000317\n",
       "rfc             0.918526    0.917538    0.000988\n",
       "gbc             0.917780    0.917348    0.000431\n",
       "dtc             0.853638    0.853030    0.000608\n",
       "tunedLogreg     0.917817    0.917462    0.000355\n",
       "tunedRfc        0.917817    0.917500    0.000317\n",
       "imbRfc          0.999869    0.906591    0.093278\n",
       "imbRfc80        0.999869    0.906591    0.093278\n",
       "gsRfc           0.999869    0.907008    0.092862"
      ]
     },
     "execution_count": 83,
     "metadata": {},
     "output_type": "execute_result"
    }
   ],
   "source": [
    "# Score DataFrame:\n",
    "\n",
    "df_score['difference'] = abs(df_score['score_test']-df_score['score_train'])\n",
    "df_score"
   ]
  },
  {
   "cell_type": "markdown",
   "metadata": {},
   "source": [
    "### By looking at the accuracy score tables, the best performing models are:\n",
    "- dummy (0)\n",
    "- logreg (1)\n",
    "- gbc (3)\n",
    "- runedLogreg (5)\n",
    "- tunedRfc (6)\n",
    "\n",
    "best_model_list = [0, 1, 3, 5, 6]\n",
    "\n",
    "#### Now need to look into their Confusion Matrix and other score"
   ]
  },
  {
   "cell_type": "code",
   "execution_count": 100,
   "metadata": {
    "ExecuteTime": {
     "end_time": "2023-01-04T17:23:51.236995Z",
     "start_time": "2023-01-04T17:23:50.652999Z"
    }
   },
   "outputs": [
    {
     "data": {
      "image/png": "[encoded data removed]",
      "text/plain": [
       "<Figure size 432x288 with 2 Axes>"
      ]
     },
     "metadata": {
      "needs_background": "light"
     },
     "output_type": "display_data"
    },
    {
     "data": {
      "image/png": "[encoded data removed]",
      "text/plain": [
       "<Figure size 432x288 with 2 Axes>"
      ]
     },
     "metadata": {
      "needs_background": "light"
     },
     "output_type": "display_data"
    },
    {
     "data": {
      "image/png": "[encoded data removed]",
      "text/plain": [
       "<Figure size 432x288 with 2 Axes>"
      ]
     },
     "metadata": {
      "needs_background": "light"
     },
     "output_type": "display_data"
    },
    {
     "data": {
      "image/png": "[encoded data removed]",
      "text/plain": [
       "<Figure size 432x288 with 2 Axes>"
      ]
     },
     "metadata": {
      "needs_background": "light"
     },
     "output_type": "display_data"
    },
    {
     "data": {
      "image/png": "[encoded data removed]",
      "text/plain": [
       "<Figure size 432x288 with 2 Axes>"
      ]
     },
     "metadata": {
      "needs_background": "light"
     },
     "output_type": "display_data"
    }
   ],
   "source": [
    "best_model_list = [0, 1, 3, 5, 6]\n",
    "\n",
    "# Print out the confusion matrix on train data set for the best models:\n",
    "\n",
    "for i in best_model_list:\n",
    "    fig = cf_matrix_train_list[i].plot()\n",
    "    title = model_list[i]+' Confusion Matrix-Train'\n",
    "    plt.title(title)\n",
    "    plt.show();"
   ]
  },
  {
   "cell_type": "code",
   "execution_count": 101,
   "metadata": {
    "ExecuteTime": {
     "end_time": "2023-01-04T17:25:50.038689Z",
     "start_time": "2023-01-04T17:25:49.551675Z"
    }
   },
   "outputs": [
    {
     "data": {
      "image/png": "[encoded data removed]",
      "text/plain": [
       "<Figure size 432x288 with 2 Axes>"
      ]
     },
     "metadata": {
      "needs_background": "light"
     },
     "output_type": "display_data"
    },
    {
     "data": {
      "image/png": "[encoded data removed]",
      "text/plain": [
       "<Figure size 432x288 with 2 Axes>"
      ]
     },
     "metadata": {
      "needs_background": "light"
     },
     "output_type": "display_data"
    },
    {
     "data": {
      "image/png": "[encoded data removed]",
      "text/plain": [
       "<Figure size 432x288 with 2 Axes>"
      ]
     },
     "metadata": {
      "needs_background": "light"
     },
     "output_type": "display_data"
    },
    {
     "data": {
      "image/png": "[encoded data removed]",
      "text/plain": [
       "<Figure size 432x288 with 2 Axes>"
      ]
     },
     "metadata": {
      "needs_background": "light"
     },
     "output_type": "display_data"
    },
    {
     "data": {
      "image/png": "[encoded data removed]",
      "text/plain": [
       "<Figure size 432x288 with 2 Axes>"
      ]
     },
     "metadata": {
      "needs_background": "light"
     },
     "output_type": "display_data"
    }
   ],
   "source": [
    "# Print out the confusion matrix on test data set for the best models:\n",
    "\n",
    "for i in best_model_list:\n",
    "    fig = cf_matrix_test_list[i].plot()\n",
    "    title = model_list[i]+' Confusion Matrix-Test'\n",
    "    plt.title(title)\n",
    "    plt.show();"
   ]
  },
  {
   "cell_type": "markdown",
   "metadata": {},
   "source": [
    "### The best model is tunedRfc!\n",
    "This model can predict both of the positive target (501 AND MORE) and negative target ($500 OR LESS).  Others can't predict negative target well.  However the sacrifice is higher False Positive (1977) and False Negative (489). "
   ]
  },
  {
   "cell_type": "markdown",
   "metadata": {},
   "source": [
    "## Final Model = tunedRfc!\n",
    "\n",
    "### Review all models' scores and final model's score visualization. "
   ]
  },
  {
   "cell_type": "code",
   "execution_count": null,
   "metadata": {},
   "outputs": [],
   "source": [
    "accuracy_train_dict = {}\n",
    "recall_train_dict = {}\n",
    "precision_train_dict = {}\n",
    "f1_train_dict = {}\n",
    "\n",
    "accuracy_test_dict = {}\n",
    "recall_test_dict = {}\n",
    "precision_test_dict = {}\n",
    "f1_test_dict = {}"
   ]
  },
  {
   "cell_type": "code",
   "execution_count": 126,
   "metadata": {
    "ExecuteTime": {
     "end_time": "2023-01-04T18:01:37.929367Z",
     "start_time": "2023-01-04T18:01:37.913394Z"
    }
   },
   "outputs": [
    {
     "data": {
      "text/html": [
       "<div>\n",
       "<style scoped>\n",
       "    .dataframe tbody tr th:only-of-type {\n",
       "        vertical-align: middle;\n",
       "    }\n",
       "\n",
       "    .dataframe tbody tr th {\n",
       "        vertical-align: top;\n",
       "    }\n",
       "\n",
       "    .dataframe thead th {\n",
       "        text-align: right;\n",
       "    }\n",
       "</style>\n",
       "<table border=\"1\" class=\"dataframe\">\n",
       "  <thead>\n",
       "    <tr style=\"text-align: right;\">\n",
       "      <th></th>\n",
       "      <th>accuracy_train</th>\n",
       "      <th>recall_train</th>\n",
       "      <th>precision_train</th>\n",
       "      <th>f1_train</th>\n",
       "    </tr>\n",
       "  </thead>\n",
       "  <tbody>\n",
       "    <tr>\n",
       "      <th>model1</th>\n",
       "      <td>0.917817</td>\n",
       "      <td>1.000000</td>\n",
       "      <td>0.917817</td>\n",
       "      <td>0.957148</td>\n",
       "    </tr>\n",
       "    <tr>\n",
       "      <th>model2</th>\n",
       "      <td>0.917817</td>\n",
       "      <td>1.000000</td>\n",
       "      <td>0.917817</td>\n",
       "      <td>0.957148</td>\n",
       "    </tr>\n",
       "    <tr>\n",
       "      <th>model3</th>\n",
       "      <td>0.999795</td>\n",
       "      <td>0.999980</td>\n",
       "      <td>0.999797</td>\n",
       "      <td>0.999888</td>\n",
       "    </tr>\n",
       "    <tr>\n",
       "      <th>model4</th>\n",
       "      <td>0.918041</td>\n",
       "      <td>1.000000</td>\n",
       "      <td>0.918023</td>\n",
       "      <td>0.957259</td>\n",
       "    </tr>\n",
       "    <tr>\n",
       "      <th>model5</th>\n",
       "      <td>0.999869</td>\n",
       "      <td>0.999858</td>\n",
       "      <td>1.000000</td>\n",
       "      <td>0.999929</td>\n",
       "    </tr>\n",
       "    <tr>\n",
       "      <th>model7</th>\n",
       "      <td>0.917817</td>\n",
       "      <td>1.000000</td>\n",
       "      <td>0.917817</td>\n",
       "      <td>0.957148</td>\n",
       "    </tr>\n",
       "    <tr>\n",
       "      <th>model81</th>\n",
       "      <td>0.999869</td>\n",
       "      <td>0.999919</td>\n",
       "      <td>0.999939</td>\n",
       "      <td>0.999929</td>\n",
       "    </tr>\n",
       "    <tr>\n",
       "      <th>model82</th>\n",
       "      <td>0.999869</td>\n",
       "      <td>0.999959</td>\n",
       "      <td>0.999898</td>\n",
       "      <td>0.999929</td>\n",
       "    </tr>\n",
       "    <tr>\n",
       "      <th>model9</th>\n",
       "      <td>0.999869</td>\n",
       "      <td>0.999959</td>\n",
       "      <td>0.999898</td>\n",
       "      <td>0.999929</td>\n",
       "    </tr>\n",
       "    <tr>\n",
       "      <th>model6</th>\n",
       "      <td>0.917817</td>\n",
       "      <td>1.000000</td>\n",
       "      <td>0.917817</td>\n",
       "      <td>0.957148</td>\n",
       "    </tr>\n",
       "  </tbody>\n",
       "</table>\n",
       "</div>"
      ],
      "text/plain": [
       "         accuracy_train  recall_train  precision_train  f1_train\n",
       "model1         0.917817      1.000000         0.917817  0.957148\n",
       "model2         0.917817      1.000000         0.917817  0.957148\n",
       "model3         0.999795      0.999980         0.999797  0.999888\n",
       "model4         0.918041      1.000000         0.918023  0.957259\n",
       "model5         0.999869      0.999858         1.000000  0.999929\n",
       "model7         0.917817      1.000000         0.917817  0.957148\n",
       "model81        0.999869      0.999919         0.999939  0.999929\n",
       "model82        0.999869      0.999959         0.999898  0.999929\n",
       "model9         0.999869      0.999959         0.999898  0.999929\n",
       "model6         0.917817      1.000000         0.917817  0.957148"
      ]
     },
     "execution_count": 126,
     "metadata": {},
     "output_type": "execute_result"
    }
   ],
   "source": [
    "All4scores_train_list = [accuracy_train_dict, recall_train_dict, precision_train_dict, f1_train_dict]\n",
    "df_4scores_train = pd.DataFrame(All4scores_train_list).T\n",
    "df_4scores_train.columns = ['accuracy_train', 'recall_train', 'precision_train', 'f1_train']\n",
    "df_4scores_train"
   ]
  },
  {
   "cell_type": "code",
   "execution_count": 127,
   "metadata": {
    "ExecuteTime": {
     "end_time": "2023-01-04T18:01:58.906095Z",
     "start_time": "2023-01-04T18:01:58.877262Z"
    }
   },
   "outputs": [
    {
     "data": {
      "text/html": [
       "<div>\n",
       "<style scoped>\n",
       "    .dataframe tbody tr th:only-of-type {\n",
       "        vertical-align: middle;\n",
       "    }\n",
       "\n",
       "    .dataframe tbody tr th {\n",
       "        vertical-align: top;\n",
       "    }\n",
       "\n",
       "    .dataframe thead th {\n",
       "        text-align: right;\n",
       "    }\n",
       "</style>\n",
       "<table border=\"1\" class=\"dataframe\">\n",
       "  <thead>\n",
       "    <tr style=\"text-align: right;\">\n",
       "      <th></th>\n",
       "      <th>accuracy_test</th>\n",
       "      <th>recall_test</th>\n",
       "      <th>precision_test</th>\n",
       "      <th>f1_test</th>\n",
       "    </tr>\n",
       "  </thead>\n",
       "  <tbody>\n",
       "    <tr>\n",
       "      <th>model1</th>\n",
       "      <td>0.917500</td>\n",
       "      <td>1.000000</td>\n",
       "      <td>0.917500</td>\n",
       "      <td>0.956975</td>\n",
       "    </tr>\n",
       "    <tr>\n",
       "      <th>model2</th>\n",
       "      <td>0.917462</td>\n",
       "      <td>0.999959</td>\n",
       "      <td>0.917497</td>\n",
       "      <td>0.956955</td>\n",
       "    </tr>\n",
       "    <tr>\n",
       "      <th>model3</th>\n",
       "      <td>0.918485</td>\n",
       "      <td>0.998555</td>\n",
       "      <td>0.919518</td>\n",
       "      <td>0.957408</td>\n",
       "    </tr>\n",
       "    <tr>\n",
       "      <th>model4</th>\n",
       "      <td>0.917462</td>\n",
       "      <td>0.999959</td>\n",
       "      <td>0.917497</td>\n",
       "      <td>0.956955</td>\n",
       "    </tr>\n",
       "    <tr>\n",
       "      <th>model5</th>\n",
       "      <td>0.854318</td>\n",
       "      <td>0.916687</td>\n",
       "      <td>0.923935</td>\n",
       "      <td>0.920297</td>\n",
       "    </tr>\n",
       "    <tr>\n",
       "      <th>model7</th>\n",
       "      <td>0.917500</td>\n",
       "      <td>1.000000</td>\n",
       "      <td>0.917500</td>\n",
       "      <td>0.956975</td>\n",
       "    </tr>\n",
       "    <tr>\n",
       "      <th>model81</th>\n",
       "      <td>0.906591</td>\n",
       "      <td>0.979812</td>\n",
       "      <td>0.923104</td>\n",
       "      <td>0.950613</td>\n",
       "    </tr>\n",
       "    <tr>\n",
       "      <th>model82</th>\n",
       "      <td>0.908144</td>\n",
       "      <td>0.981959</td>\n",
       "      <td>0.922865</td>\n",
       "      <td>0.951495</td>\n",
       "    </tr>\n",
       "    <tr>\n",
       "      <th>model9</th>\n",
       "      <td>0.907008</td>\n",
       "      <td>0.980225</td>\n",
       "      <td>0.923170</td>\n",
       "      <td>0.950842</td>\n",
       "    </tr>\n",
       "    <tr>\n",
       "      <th>model6</th>\n",
       "      <td>0.917462</td>\n",
       "      <td>0.999959</td>\n",
       "      <td>0.917497</td>\n",
       "      <td>0.956955</td>\n",
       "    </tr>\n",
       "  </tbody>\n",
       "</table>\n",
       "</div>"
      ],
      "text/plain": [
       "         accuracy_test  recall_test  precision_test   f1_test\n",
       "model1        0.917500     1.000000        0.917500  0.956975\n",
       "model2        0.917462     0.999959        0.917497  0.956955\n",
       "model3        0.918485     0.998555        0.919518  0.957408\n",
       "model4        0.917462     0.999959        0.917497  0.956955\n",
       "model5        0.854318     0.916687        0.923935  0.920297\n",
       "model7        0.917500     1.000000        0.917500  0.956975\n",
       "model81       0.906591     0.979812        0.923104  0.950613\n",
       "model82       0.908144     0.981959        0.922865  0.951495\n",
       "model9        0.907008     0.980225        0.923170  0.950842\n",
       "model6        0.917462     0.999959        0.917497  0.956955"
      ]
     },
     "execution_count": 127,
     "metadata": {},
     "output_type": "execute_result"
    }
   ],
   "source": [
    "All4scores_test_list = [accuracy_test_dict, recall_test_dict, precision_test_dict, f1_test_dict]\n",
    "df_4scores_test = pd.DataFrame(All4scores_test_list).T\n",
    "df_4scores_test.columns = ['accuracy_test', 'recall_test', 'precision_test', 'f1_test']\n",
    "df_4scores_test"
   ]
  },
  {
   "cell_type": "code",
   "execution_count": 134,
   "metadata": {
    "ExecuteTime": {
     "end_time": "2023-01-04T18:07:51.107619Z",
     "start_time": "2023-01-04T18:07:51.088364Z"
    }
   },
   "outputs": [
    {
     "data": {
      "text/plain": [
       "Index(['accuracy_train', 'recall_train', 'precision_train', 'f1_train',\n",
       "       'accuracy_test', 'recall_test', 'precision_test', 'f1_test'],\n",
       "      dtype='object')"
      ]
     },
     "execution_count": 134,
     "metadata": {},
     "output_type": "execute_result"
    }
   ],
   "source": [
    "df_4scores = df_4scores_train.merge(df_4scores_test, left_index=True, right_index=True)\n",
    "df_4scores.columns"
   ]
  },
  {
   "cell_type": "code",
   "execution_count": 135,
   "metadata": {
    "ExecuteTime": {
     "end_time": "2023-01-04T18:09:10.115370Z",
     "start_time": "2023-01-04T18:09:10.102224Z"
    }
   },
   "outputs": [],
   "source": [
    "df_4scores.columns = ['accuracy_train', 'accuracy_test',\n",
    "                      'recall_train', 'recall_test',\n",
    "                      'precision_train', 'precision_test',\n",
    "                      'f1_train', 'f1_test']"
   ]
  },
  {
   "cell_type": "code",
   "execution_count": 136,
   "metadata": {
    "ExecuteTime": {
     "end_time": "2023-01-04T18:09:19.764978Z",
     "start_time": "2023-01-04T18:09:19.754965Z"
    }
   },
   "outputs": [
    {
     "data": {
      "text/html": [
       "<div>\n",
       "<style scoped>\n",
       "    .dataframe tbody tr th:only-of-type {\n",
       "        vertical-align: middle;\n",
       "    }\n",
       "\n",
       "    .dataframe tbody tr th {\n",
       "        vertical-align: top;\n",
       "    }\n",
       "\n",
       "    .dataframe thead th {\n",
       "        text-align: right;\n",
       "    }\n",
       "</style>\n",
       "<table border=\"1\" class=\"dataframe\">\n",
       "  <thead>\n",
       "    <tr style=\"text-align: right;\">\n",
       "      <th></th>\n",
       "      <th>accuracy_train</th>\n",
       "      <th>accuracy_test</th>\n",
       "      <th>recall_train</th>\n",
       "      <th>recall_test</th>\n",
       "      <th>precision_train</th>\n",
       "      <th>precision_test</th>\n",
       "      <th>f1_train</th>\n",
       "      <th>f1_test</th>\n",
       "    </tr>\n",
       "  </thead>\n",
       "  <tbody>\n",
       "    <tr>\n",
       "      <th>model1</th>\n",
       "      <td>0.917817</td>\n",
       "      <td>1.000000</td>\n",
       "      <td>0.917817</td>\n",
       "      <td>0.957148</td>\n",
       "      <td>0.917500</td>\n",
       "      <td>1.000000</td>\n",
       "      <td>0.917500</td>\n",
       "      <td>0.956975</td>\n",
       "    </tr>\n",
       "    <tr>\n",
       "      <th>model2</th>\n",
       "      <td>0.917817</td>\n",
       "      <td>1.000000</td>\n",
       "      <td>0.917817</td>\n",
       "      <td>0.957148</td>\n",
       "      <td>0.917462</td>\n",
       "      <td>0.999959</td>\n",
       "      <td>0.917497</td>\n",
       "      <td>0.956955</td>\n",
       "    </tr>\n",
       "    <tr>\n",
       "      <th>model3</th>\n",
       "      <td>0.999795</td>\n",
       "      <td>0.999980</td>\n",
       "      <td>0.999797</td>\n",
       "      <td>0.999888</td>\n",
       "      <td>0.918485</td>\n",
       "      <td>0.998555</td>\n",
       "      <td>0.919518</td>\n",
       "      <td>0.957408</td>\n",
       "    </tr>\n",
       "    <tr>\n",
       "      <th>model4</th>\n",
       "      <td>0.918041</td>\n",
       "      <td>1.000000</td>\n",
       "      <td>0.918023</td>\n",
       "      <td>0.957259</td>\n",
       "      <td>0.917462</td>\n",
       "      <td>0.999959</td>\n",
       "      <td>0.917497</td>\n",
       "      <td>0.956955</td>\n",
       "    </tr>\n",
       "    <tr>\n",
       "      <th>model5</th>\n",
       "      <td>0.999869</td>\n",
       "      <td>0.999858</td>\n",
       "      <td>1.000000</td>\n",
       "      <td>0.999929</td>\n",
       "      <td>0.854318</td>\n",
       "      <td>0.916687</td>\n",
       "      <td>0.923935</td>\n",
       "      <td>0.920297</td>\n",
       "    </tr>\n",
       "    <tr>\n",
       "      <th>model7</th>\n",
       "      <td>0.917817</td>\n",
       "      <td>1.000000</td>\n",
       "      <td>0.917817</td>\n",
       "      <td>0.957148</td>\n",
       "      <td>0.917500</td>\n",
       "      <td>1.000000</td>\n",
       "      <td>0.917500</td>\n",
       "      <td>0.956975</td>\n",
       "    </tr>\n",
       "    <tr>\n",
       "      <th>model81</th>\n",
       "      <td>0.999869</td>\n",
       "      <td>0.999919</td>\n",
       "      <td>0.999939</td>\n",
       "      <td>0.999929</td>\n",
       "      <td>0.906591</td>\n",
       "      <td>0.979812</td>\n",
       "      <td>0.923104</td>\n",
       "      <td>0.950613</td>\n",
       "    </tr>\n",
       "    <tr>\n",
       "      <th>model82</th>\n",
       "      <td>0.999869</td>\n",
       "      <td>0.999959</td>\n",
       "      <td>0.999898</td>\n",
       "      <td>0.999929</td>\n",
       "      <td>0.908144</td>\n",
       "      <td>0.981959</td>\n",
       "      <td>0.922865</td>\n",
       "      <td>0.951495</td>\n",
       "    </tr>\n",
       "    <tr>\n",
       "      <th>model9</th>\n",
       "      <td>0.999869</td>\n",
       "      <td>0.999959</td>\n",
       "      <td>0.999898</td>\n",
       "      <td>0.999929</td>\n",
       "      <td>0.907008</td>\n",
       "      <td>0.980225</td>\n",
       "      <td>0.923170</td>\n",
       "      <td>0.950842</td>\n",
       "    </tr>\n",
       "    <tr>\n",
       "      <th>model6</th>\n",
       "      <td>0.917817</td>\n",
       "      <td>1.000000</td>\n",
       "      <td>0.917817</td>\n",
       "      <td>0.957148</td>\n",
       "      <td>0.917462</td>\n",
       "      <td>0.999959</td>\n",
       "      <td>0.917497</td>\n",
       "      <td>0.956955</td>\n",
       "    </tr>\n",
       "  </tbody>\n",
       "</table>\n",
       "</div>"
      ],
      "text/plain": [
       "         accuracy_train  accuracy_test  recall_train  recall_test  \\\n",
       "model1         0.917817       1.000000      0.917817     0.957148   \n",
       "model2         0.917817       1.000000      0.917817     0.957148   \n",
       "model3         0.999795       0.999980      0.999797     0.999888   \n",
       "model4         0.918041       1.000000      0.918023     0.957259   \n",
       "model5         0.999869       0.999858      1.000000     0.999929   \n",
       "model7         0.917817       1.000000      0.917817     0.957148   \n",
       "model81        0.999869       0.999919      0.999939     0.999929   \n",
       "model82        0.999869       0.999959      0.999898     0.999929   \n",
       "model9         0.999869       0.999959      0.999898     0.999929   \n",
       "model6         0.917817       1.000000      0.917817     0.957148   \n",
       "\n",
       "         precision_train  precision_test  f1_train   f1_test  \n",
       "model1          0.917500        1.000000  0.917500  0.956975  \n",
       "model2          0.917462        0.999959  0.917497  0.956955  \n",
       "model3          0.918485        0.998555  0.919518  0.957408  \n",
       "model4          0.917462        0.999959  0.917497  0.956955  \n",
       "model5          0.854318        0.916687  0.923935  0.920297  \n",
       "model7          0.917500        1.000000  0.917500  0.956975  \n",
       "model81         0.906591        0.979812  0.923104  0.950613  \n",
       "model82         0.908144        0.981959  0.922865  0.951495  \n",
       "model9          0.907008        0.980225  0.923170  0.950842  \n",
       "model6          0.917462        0.999959  0.917497  0.956955  "
      ]
     },
     "execution_count": 136,
     "metadata": {},
     "output_type": "execute_result"
    }
   ],
   "source": [
    "df_4scores"
   ]
  },
  {
   "cell_type": "markdown",
   "metadata": {},
   "source": [
    "### All Models' scroes"
   ]
  },
  {
   "cell_type": "code",
   "execution_count": 145,
   "metadata": {
    "ExecuteTime": {
     "end_time": "2023-01-04T19:54:16.748409Z",
     "start_time": "2023-01-04T19:54:16.728046Z"
    }
   },
   "outputs": [
    {
     "data": {
      "text/html": [
       "<div>\n",
       "<style scoped>\n",
       "    .dataframe tbody tr th:only-of-type {\n",
       "        vertical-align: middle;\n",
       "    }\n",
       "\n",
       "    .dataframe tbody tr th {\n",
       "        vertical-align: top;\n",
       "    }\n",
       "\n",
       "    .dataframe thead th {\n",
       "        text-align: right;\n",
       "    }\n",
       "</style>\n",
       "<table border=\"1\" class=\"dataframe\">\n",
       "  <thead>\n",
       "    <tr style=\"text-align: right;\">\n",
       "      <th></th>\n",
       "      <th>accuracy_train</th>\n",
       "      <th>accuracy_test</th>\n",
       "      <th>recall_train</th>\n",
       "      <th>recall_test</th>\n",
       "      <th>precision_train</th>\n",
       "      <th>precision_test</th>\n",
       "      <th>f1_train</th>\n",
       "      <th>f1_test</th>\n",
       "    </tr>\n",
       "  </thead>\n",
       "  <tbody>\n",
       "    <tr>\n",
       "      <th>model1</th>\n",
       "      <td>0.917817</td>\n",
       "      <td>1.000000</td>\n",
       "      <td>0.917817</td>\n",
       "      <td>0.957148</td>\n",
       "      <td>0.917500</td>\n",
       "      <td>1.000000</td>\n",
       "      <td>0.917500</td>\n",
       "      <td>0.956975</td>\n",
       "    </tr>\n",
       "    <tr>\n",
       "      <th>model2</th>\n",
       "      <td>0.917817</td>\n",
       "      <td>1.000000</td>\n",
       "      <td>0.917817</td>\n",
       "      <td>0.957148</td>\n",
       "      <td>0.917462</td>\n",
       "      <td>0.999959</td>\n",
       "      <td>0.917497</td>\n",
       "      <td>0.956955</td>\n",
       "    </tr>\n",
       "    <tr>\n",
       "      <th>model3</th>\n",
       "      <td>0.999795</td>\n",
       "      <td>0.999980</td>\n",
       "      <td>0.999797</td>\n",
       "      <td>0.999888</td>\n",
       "      <td>0.918485</td>\n",
       "      <td>0.998555</td>\n",
       "      <td>0.919518</td>\n",
       "      <td>0.957408</td>\n",
       "    </tr>\n",
       "    <tr>\n",
       "      <th>model4</th>\n",
       "      <td>0.918041</td>\n",
       "      <td>1.000000</td>\n",
       "      <td>0.918023</td>\n",
       "      <td>0.957259</td>\n",
       "      <td>0.917462</td>\n",
       "      <td>0.999959</td>\n",
       "      <td>0.917497</td>\n",
       "      <td>0.956955</td>\n",
       "    </tr>\n",
       "    <tr>\n",
       "      <th>model5</th>\n",
       "      <td>0.999869</td>\n",
       "      <td>0.999858</td>\n",
       "      <td>1.000000</td>\n",
       "      <td>0.999929</td>\n",
       "      <td>0.854318</td>\n",
       "      <td>0.916687</td>\n",
       "      <td>0.923935</td>\n",
       "      <td>0.920297</td>\n",
       "    </tr>\n",
       "    <tr>\n",
       "      <th>model6</th>\n",
       "      <td>0.917817</td>\n",
       "      <td>1.000000</td>\n",
       "      <td>0.917817</td>\n",
       "      <td>0.957148</td>\n",
       "      <td>0.917462</td>\n",
       "      <td>0.999959</td>\n",
       "      <td>0.917497</td>\n",
       "      <td>0.956955</td>\n",
       "    </tr>\n",
       "    <tr>\n",
       "      <th>model7</th>\n",
       "      <td>0.917817</td>\n",
       "      <td>1.000000</td>\n",
       "      <td>0.917817</td>\n",
       "      <td>0.957148</td>\n",
       "      <td>0.917500</td>\n",
       "      <td>1.000000</td>\n",
       "      <td>0.917500</td>\n",
       "      <td>0.956975</td>\n",
       "    </tr>\n",
       "    <tr>\n",
       "      <th>model81</th>\n",
       "      <td>0.999869</td>\n",
       "      <td>0.999919</td>\n",
       "      <td>0.999939</td>\n",
       "      <td>0.999929</td>\n",
       "      <td>0.906591</td>\n",
       "      <td>0.979812</td>\n",
       "      <td>0.923104</td>\n",
       "      <td>0.950613</td>\n",
       "    </tr>\n",
       "    <tr>\n",
       "      <th>model82</th>\n",
       "      <td>0.999869</td>\n",
       "      <td>0.999959</td>\n",
       "      <td>0.999898</td>\n",
       "      <td>0.999929</td>\n",
       "      <td>0.908144</td>\n",
       "      <td>0.981959</td>\n",
       "      <td>0.922865</td>\n",
       "      <td>0.951495</td>\n",
       "    </tr>\n",
       "    <tr>\n",
       "      <th>model9</th>\n",
       "      <td>0.999869</td>\n",
       "      <td>0.999959</td>\n",
       "      <td>0.999898</td>\n",
       "      <td>0.999929</td>\n",
       "      <td>0.907008</td>\n",
       "      <td>0.980225</td>\n",
       "      <td>0.923170</td>\n",
       "      <td>0.950842</td>\n",
       "    </tr>\n",
       "  </tbody>\n",
       "</table>\n",
       "</div>"
      ],
      "text/plain": [
       "         accuracy_train  accuracy_test  recall_train  recall_test  \\\n",
       "model1         0.917817       1.000000      0.917817     0.957148   \n",
       "model2         0.917817       1.000000      0.917817     0.957148   \n",
       "model3         0.999795       0.999980      0.999797     0.999888   \n",
       "model4         0.918041       1.000000      0.918023     0.957259   \n",
       "model5         0.999869       0.999858      1.000000     0.999929   \n",
       "model6         0.917817       1.000000      0.917817     0.957148   \n",
       "model7         0.917817       1.000000      0.917817     0.957148   \n",
       "model81        0.999869       0.999919      0.999939     0.999929   \n",
       "model82        0.999869       0.999959      0.999898     0.999929   \n",
       "model9         0.999869       0.999959      0.999898     0.999929   \n",
       "\n",
       "         precision_train  precision_test  f1_train   f1_test  \n",
       "model1          0.917500        1.000000  0.917500  0.956975  \n",
       "model2          0.917462        0.999959  0.917497  0.956955  \n",
       "model3          0.918485        0.998555  0.919518  0.957408  \n",
       "model4          0.917462        0.999959  0.917497  0.956955  \n",
       "model5          0.854318        0.916687  0.923935  0.920297  \n",
       "model6          0.917462        0.999959  0.917497  0.956955  \n",
       "model7          0.917500        1.000000  0.917500  0.956975  \n",
       "model81         0.906591        0.979812  0.923104  0.950613  \n",
       "model82         0.908144        0.981959  0.922865  0.951495  \n",
       "model9          0.907008        0.980225  0.923170  0.950842  "
      ]
     },
     "execution_count": 145,
     "metadata": {},
     "output_type": "execute_result"
    }
   ],
   "source": [
    "df_4scores = df_4scores.sort_index(axis = 0)\n",
    "df_4scores"
   ]
  },
  {
   "cell_type": "markdown",
   "metadata": {},
   "source": [
    "### Final model (tunedRfc) score visualization"
   ]
  },
  {
   "cell_type": "code",
   "execution_count": 186,
   "metadata": {
    "ExecuteTime": {
     "end_time": "2023-01-04T20:37:22.836668Z",
     "start_time": "2023-01-04T20:37:22.821005Z"
    }
   },
   "outputs": [],
   "source": [
    "plt.style.use('ggplot')"
   ]
  },
  {
   "cell_type": "code",
   "execution_count": 158,
   "metadata": {
    "ExecuteTime": {
     "end_time": "2023-01-04T20:14:17.425044Z",
     "start_time": "2023-01-04T20:14:17.414044Z"
    }
   },
   "outputs": [
    {
     "data": {
      "text/plain": [
       "pandas.core.series.Series"
      ]
     },
     "execution_count": 158,
     "metadata": {},
     "output_type": "execute_result"
    }
   ],
   "source": [
    "# Model mean accuracy score:\n",
    "\n",
    "df_final_model_score = df_score.iloc[6, 0:2]\n",
    "df_final_model_score"
   ]
  },
  {
   "cell_type": "code",
   "execution_count": 160,
   "metadata": {
    "ExecuteTime": {
     "end_time": "2023-01-04T20:16:46.951443Z",
     "start_time": "2023-01-04T20:16:46.933517Z"
    }
   },
   "outputs": [
    {
     "data": {
      "text/plain": [
       "accuracy_train     0.917817\n",
       "accuracy_test      1.000000\n",
       "recall_train       0.917817\n",
       "recall_test        0.957148\n",
       "precision_train    0.917500\n",
       "precision_test     1.000000\n",
       "f1_train           0.917500\n",
       "f1_test            0.956975\n",
       "Name: model7, dtype: float64"
      ]
     },
     "execution_count": 160,
     "metadata": {},
     "output_type": "execute_result"
    }
   ],
   "source": [
    "df_4scores.iloc[6]"
   ]
  },
  {
   "cell_type": "code",
   "execution_count": 174,
   "metadata": {
    "ExecuteTime": {
     "end_time": "2023-01-04T20:28:25.050278Z",
     "start_time": "2023-01-04T20:28:25.035785Z"
    }
   },
   "outputs": [
    {
     "data": {
      "text/html": [
       "<div>\n",
       "<style scoped>\n",
       "    .dataframe tbody tr th:only-of-type {\n",
       "        vertical-align: middle;\n",
       "    }\n",
       "\n",
       "    .dataframe tbody tr th {\n",
       "        vertical-align: top;\n",
       "    }\n",
       "\n",
       "    .dataframe thead th {\n",
       "        text-align: right;\n",
       "    }\n",
       "</style>\n",
       "<table border=\"1\" class=\"dataframe\">\n",
       "  <thead>\n",
       "    <tr style=\"text-align: right;\">\n",
       "      <th></th>\n",
       "      <th>model_score_train</th>\n",
       "      <th>model_score_test</th>\n",
       "      <th>accuracy_train</th>\n",
       "      <th>accuracy_test</th>\n",
       "      <th>recall_train</th>\n",
       "      <th>recall_test</th>\n",
       "      <th>precision_train</th>\n",
       "      <th>precision_test</th>\n",
       "      <th>f1_train</th>\n",
       "      <th>f1_test</th>\n",
       "    </tr>\n",
       "  </thead>\n",
       "  <tbody>\n",
       "    <tr>\n",
       "      <th>tunedRFC</th>\n",
       "      <td>0.917817</td>\n",
       "      <td>0.9175</td>\n",
       "      <td>0.917817</td>\n",
       "      <td>1.0</td>\n",
       "      <td>0.917817</td>\n",
       "      <td>0.957148</td>\n",
       "      <td>0.9175</td>\n",
       "      <td>1.0</td>\n",
       "      <td>0.9175</td>\n",
       "      <td>0.956975</td>\n",
       "    </tr>\n",
       "  </tbody>\n",
       "</table>\n",
       "</div>"
      ],
      "text/plain": [
       "          model_score_train  model_score_test  accuracy_train  accuracy_test  \\\n",
       "tunedRFC           0.917817            0.9175        0.917817            1.0   \n",
       "\n",
       "          recall_train  recall_test  precision_train  precision_test  \\\n",
       "tunedRFC      0.917817     0.957148           0.9175             1.0   \n",
       "\n",
       "          f1_train   f1_test  \n",
       "tunedRFC    0.9175  0.956975  "
      ]
     },
     "execution_count": 174,
     "metadata": {},
     "output_type": "execute_result"
    }
   ],
   "source": [
    "df_FinalModel = pd.DataFrame(df_final_model_score.append(df_4scores.iloc[6])).T\n",
    "df_FinalModel.index = ['tunedRFC']\n",
    "df_FinalModel.rename({'score_train': 'model_score_train',\n",
    "                      'score_test': 'model_score_test'}, axis=1, inplace=True)\n",
    "df_FinalModel"
   ]
  },
  {
   "cell_type": "code",
   "execution_count": 172,
   "metadata": {
    "ExecuteTime": {
     "end_time": "2023-01-04T20:25:39.372466Z",
     "start_time": "2023-01-04T20:25:39.143120Z"
    }
   },
   "outputs": [
    {
     "data": {
      "image/png": "[encoded data removed]",
      "text/plain": [
       "<Figure size 432x288 with 2 Axes>"
      ]
     },
     "metadata": {
      "needs_background": "light"
     },
     "output_type": "display_data"
    },
    {
     "data": {
      "image/png": "[encoded data removed]",
      "text/plain": [
       "<Figure size 432x288 with 2 Axes>"
      ]
     },
     "metadata": {
      "needs_background": "light"
     },
     "output_type": "display_data"
    }
   ],
   "source": [
    "# Confusion matrix for the final model:\n",
    "\n",
    "fig = cf_matrix_train_list[6].plot()\n",
    "title = 'tunedRfc Confusion Matrix-train'\n",
    "plt.title(title)\n",
    "plt.show();\n",
    "\n",
    "fig = cf_matrix_test_list[6].plot()\n",
    "title = 'tunedRfc Confusion Matrix-Test'\n",
    "plt.title(title)\n",
    "plt.show();"
   ]
  },
  {
   "cell_type": "markdown",
   "metadata": {},
   "source": [
    "## Perform prediction on a new observation\n",
    "\n",
    "Set up the final model using the best parameters results from the best model: tunedRfc"
   ]
  },
  {
   "cell_type": "code",
   "execution_count": 255,
   "metadata": {
    "ExecuteTime": {
     "end_time": "2023-01-04T22:13:24.124609Z",
     "start_time": "2023-01-04T22:13:20.902171Z"
    }
   },
   "outputs": [
    {
     "data": {
      "text/plain": [
       "RandomForestClassifier(max_depth=1, random_state=42)"
      ]
     },
     "execution_count": 255,
     "metadata": {},
     "output_type": "execute_result"
    }
   ],
   "source": [
    "# Fit and transform X_train using ColumnTransformer:\n",
    "X_train_CT = CT.fit_transform(X_train)\n",
    "\n",
    "# Final model set up:\n",
    "final_model = RandomForestClassifier(random_state=42, max_depth=1, criterion='gini')\n",
    "\n",
    "# fit training data to the model:\n",
    "final_model.fit(X_train_CT, y_train)"
   ]
  },
  {
   "cell_type": "code",
   "execution_count": 270,
   "metadata": {
    "ExecuteTime": {
     "end_time": "2023-01-04T22:35:21.804911Z",
     "start_time": "2023-01-04T22:35:21.781915Z"
    }
   },
   "outputs": [
    {
     "data": {
      "text/plain": [
       "DEVICE_CONDITION        FUNCTIONING PROPERLY\n",
       "POSTED_SPEED_LIMIT                        35\n",
       "WEATHER_CONDITION                      CLEAR\n",
       "LIGHTING_CONDITION                  DAYLIGHT\n",
       "ROADWAY_SURFACE_COND                     DRY\n",
       "ROAD_DEFECT                       NO DEFECTS\n",
       "ZIPCODE                                60612\n",
       "SEX                                        M\n",
       "AGE                                       31\n",
       "MAKE                               CHEVROLET\n",
       "MODEL                                  TAHOE\n",
       "VEHICLE_YEAR                            2009\n",
       "Name: 70306, dtype: object"
      ]
     },
     "execution_count": 270,
     "metadata": {},
     "output_type": "execute_result"
    }
   ],
   "source": [
    "# Randomly pick a row from X_train as new observation:\n",
    "\n",
    "X_train.iloc[56]"
   ]
  },
  {
   "cell_type": "code",
   "execution_count": 271,
   "metadata": {
    "ExecuteTime": {
     "end_time": "2023-01-04T22:37:20.824376Z",
     "start_time": "2023-01-04T22:37:20.795513Z"
    }
   },
   "outputs": [
    {
     "data": {
      "text/html": [
       "<div>\n",
       "<style scoped>\n",
       "    .dataframe tbody tr th:only-of-type {\n",
       "        vertical-align: middle;\n",
       "    }\n",
       "\n",
       "    .dataframe tbody tr th {\n",
       "        vertical-align: top;\n",
       "    }\n",
       "\n",
       "    .dataframe thead th {\n",
       "        text-align: right;\n",
       "    }\n",
       "</style>\n",
       "<table border=\"1\" class=\"dataframe\">\n",
       "  <thead>\n",
       "    <tr style=\"text-align: right;\">\n",
       "      <th></th>\n",
       "      <th>DEVICE_CONDITION</th>\n",
       "      <th>POSTED_SPEED_LIMIT</th>\n",
       "      <th>WEATHER_CONDITION</th>\n",
       "      <th>LIGHTING_CONDITION</th>\n",
       "      <th>ROADWAY_SURFACE_COND</th>\n",
       "      <th>ROAD_DEFECT</th>\n",
       "      <th>ZIPCODE</th>\n",
       "      <th>SEX</th>\n",
       "      <th>AGE</th>\n",
       "      <th>MAKE</th>\n",
       "      <th>MODEL</th>\n",
       "      <th>VEHICLE_YEAR</th>\n",
       "    </tr>\n",
       "  </thead>\n",
       "  <tbody>\n",
       "    <tr>\n",
       "      <th>70306</th>\n",
       "      <td>FUNCTIONING PROPERLY</td>\n",
       "      <td>35</td>\n",
       "      <td>CLEAR</td>\n",
       "      <td>DAYLIGHT</td>\n",
       "      <td>DRY</td>\n",
       "      <td>NO DEFECTS</td>\n",
       "      <td>60612</td>\n",
       "      <td>M</td>\n",
       "      <td>31</td>\n",
       "      <td>CHEVROLET</td>\n",
       "      <td>TAHOE</td>\n",
       "      <td>2009</td>\n",
       "    </tr>\n",
       "  </tbody>\n",
       "</table>\n",
       "</div>"
      ],
      "text/plain": [
       "           DEVICE_CONDITION POSTED_SPEED_LIMIT WEATHER_CONDITION  \\\n",
       "70306  FUNCTIONING PROPERLY                 35             CLEAR   \n",
       "\n",
       "      LIGHTING_CONDITION ROADWAY_SURFACE_COND ROAD_DEFECT ZIPCODE SEX AGE  \\\n",
       "70306           DAYLIGHT                  DRY  NO DEFECTS   60612   M  31   \n",
       "\n",
       "            MAKE  MODEL VEHICLE_YEAR  \n",
       "70306  CHEVROLET  TAHOE         2009  "
      ]
     },
     "execution_count": 271,
     "metadata": {},
     "output_type": "execute_result"
    }
   ],
   "source": [
    "new_data = pd.DataFrame(X_train.iloc[56]).T\n",
    "new_data"
   ]
  },
  {
   "cell_type": "code",
   "execution_count": 272,
   "metadata": {
    "ExecuteTime": {
     "end_time": "2023-01-04T22:37:21.617380Z",
     "start_time": "2023-01-04T22:37:21.596566Z"
    }
   },
   "outputs": [
    {
     "data": {
      "text/plain": [
       "array(['$501 AND OVER'], dtype=object)"
      ]
     },
     "execution_count": 272,
     "metadata": {},
     "output_type": "execute_result"
    }
   ],
   "source": [
    "final_model.predict(CT.transform(new_data))"
   ]
  },
  {
   "cell_type": "markdown",
   "metadata": {},
   "source": [
    "### For this new observation, a 35 ys Male lives in 60612, driving a 2009 Chevrolet Tahoe during daytime while the speed limit is 35 and the  weather and road conditions are prefect, with all traffic device working functionally, we predict the damage to his car is OVER 501 if he has an car accident."
   ]
  },
  {
   "cell_type": "code",
   "execution_count": 308,
   "metadata": {
    "ExecuteTime": {
     "end_time": "2023-01-04T23:18:26.133819Z",
     "start_time": "2023-01-04T23:18:26.117822Z"
    }
   },
   "outputs": [
    {
     "data": {
      "text/plain": [
       "DEVICE_CONDITION        NO CONTROLS\n",
       "POSTED_SPEED_LIMIT               30\n",
       "WEATHER_CONDITION             CLEAR\n",
       "LIGHTING_CONDITION         DAYLIGHT\n",
       "ROADWAY_SURFACE_COND            DRY\n",
       "ROAD_DEFECT              NO DEFECTS\n",
       "ZIPCODE                       60636\n",
       "SEX                               M\n",
       "AGE                              59\n",
       "MAKE                          HONDA\n",
       "MODEL                        ACCORD\n",
       "VEHICLE_YEAR                   2021\n",
       "Name: 54137, dtype: object"
      ]
     },
     "execution_count": 308,
     "metadata": {},
     "output_type": "execute_result"
    }
   ],
   "source": [
    "X_train.iloc[999]"
   ]
  },
  {
   "cell_type": "code",
   "execution_count": 278,
   "metadata": {
    "ExecuteTime": {
     "end_time": "2023-01-04T22:38:44.938023Z",
     "start_time": "2023-01-04T22:38:44.919162Z"
    }
   },
   "outputs": [
    {
     "data": {
      "text/html": [
       "<div>\n",
       "<style scoped>\n",
       "    .dataframe tbody tr th:only-of-type {\n",
       "        vertical-align: middle;\n",
       "    }\n",
       "\n",
       "    .dataframe tbody tr th {\n",
       "        vertical-align: top;\n",
       "    }\n",
       "\n",
       "    .dataframe thead th {\n",
       "        text-align: right;\n",
       "    }\n",
       "</style>\n",
       "<table border=\"1\" class=\"dataframe\">\n",
       "  <thead>\n",
       "    <tr style=\"text-align: right;\">\n",
       "      <th></th>\n",
       "      <th>DEVICE_CONDITION</th>\n",
       "      <th>POSTED_SPEED_LIMIT</th>\n",
       "      <th>WEATHER_CONDITION</th>\n",
       "      <th>LIGHTING_CONDITION</th>\n",
       "      <th>ROADWAY_SURFACE_COND</th>\n",
       "      <th>ROAD_DEFECT</th>\n",
       "      <th>ZIPCODE</th>\n",
       "      <th>SEX</th>\n",
       "      <th>AGE</th>\n",
       "      <th>MAKE</th>\n",
       "      <th>MODEL</th>\n",
       "      <th>VEHICLE_YEAR</th>\n",
       "    </tr>\n",
       "  </thead>\n",
       "  <tbody>\n",
       "    <tr>\n",
       "      <th>54137</th>\n",
       "      <td>NO CONTROLS</td>\n",
       "      <td>30</td>\n",
       "      <td>CLEAR</td>\n",
       "      <td>DAYLIGHT</td>\n",
       "      <td>DRY</td>\n",
       "      <td>NO DEFECTS</td>\n",
       "      <td>60636</td>\n",
       "      <td>M</td>\n",
       "      <td>59</td>\n",
       "      <td>HONDA</td>\n",
       "      <td>ACCORD</td>\n",
       "      <td>2021</td>\n",
       "    </tr>\n",
       "  </tbody>\n",
       "</table>\n",
       "</div>"
      ],
      "text/plain": [
       "      DEVICE_CONDITION POSTED_SPEED_LIMIT WEATHER_CONDITION  \\\n",
       "54137      NO CONTROLS                 30             CLEAR   \n",
       "\n",
       "      LIGHTING_CONDITION ROADWAY_SURFACE_COND ROAD_DEFECT ZIPCODE SEX AGE  \\\n",
       "54137           DAYLIGHT                  DRY  NO DEFECTS   60636   M  59   \n",
       "\n",
       "        MAKE   MODEL VEHICLE_YEAR  \n",
       "54137  HONDA  ACCORD         2021  "
      ]
     },
     "execution_count": 278,
     "metadata": {},
     "output_type": "execute_result"
    }
   ],
   "source": [
    "new_data2 = pd.DataFrame(X_train.iloc[999]).T\n",
    "new_data2"
   ]
  },
  {
   "cell_type": "code",
   "execution_count": 277,
   "metadata": {
    "ExecuteTime": {
     "end_time": "2023-01-04T22:38:38.313458Z",
     "start_time": "2023-01-04T22:38:38.291649Z"
    }
   },
   "outputs": [
    {
     "data": {
      "text/plain": [
       "array(['$501 AND OVER'], dtype=object)"
      ]
     },
     "execution_count": 277,
     "metadata": {},
     "output_type": "execute_result"
    }
   ],
   "source": [
    "final_model.predict(CT.transform(new_data2))"
   ]
  },
  {
   "cell_type": "code",
   "execution_count": null,
   "metadata": {},
   "outputs": [],
   "source": []
  },
  {
   "cell_type": "code",
   "execution_count": null,
   "metadata": {},
   "outputs": [],
   "source": []
  }
 ],
 "metadata": {
  "kernelspec": {
   "display_name": "Python (learn-env)",
   "language": "python",
   "name": "learn-env"
  },
  "language_info": {
   "codemirror_mode": {
    "name": "ipython",
    "version": 3
   },
   "file_extension": ".py",
   "mimetype": "text/x-python",
   "name": "python",
   "nbconvert_exporter": "python",
   "pygments_lexer": "ipython3",
   "version": "3.8.5"
  },
  "varInspector": {
   "cols": {
    "lenName": 16,
    "lenType": 16,
    "lenVar": 40
   },
   "kernels_config": {
    "python": {
     "delete_cmd_postfix": "",
     "delete_cmd_prefix": "del ",
     "library": "var_list.py",
     "varRefreshCmd": "print(var_dic_list())"
    },
    "r": {
     "delete_cmd_postfix": ") ",
     "delete_cmd_prefix": "rm(",
     "library": "var_list.r",
     "varRefreshCmd": "cat(var_dic_list()) "
    }
   },
   "types_to_exclude": [
    "module",
    "function",
    "builtin_function_or_method",
    "instance",
    "_Feature"
   ],
   "window_display": false
  }
 },
 "nbformat": 4,
 "nbformat_minor": 4
}
