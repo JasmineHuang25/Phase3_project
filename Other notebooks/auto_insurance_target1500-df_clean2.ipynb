{
 "cells": [
  {
   "cell_type": "markdown",
   "metadata": {},
   "source": [
    "# Auto Insurance claim prediction\n",
    "\n",
    "Regoupe target y: 1,500 OR LESS and OVER 1,500"
   ]
  },
  {
   "cell_type": "markdown",
   "metadata": {},
   "source": [
    "## Data preprocessing\n",
    "\n",
    "The large size of the original datasets will fail to upload to GitHub later.  Therefore, data preprocessing has been performed in a separated notebook, and the cleaned DataFrame is saved as 'df.csv' ready for use.\n",
    "\n",
    "### 3 original datasets:\n",
    "- Traffic Crashes - Crashes\n",
    "- Traffic Crashes - Vehicles\n",
    "- Traffic Crashes - People\n",
    "\n",
    "### Preview and inspect all 3 datasets:\n",
    "- Inspecting the datasets.\n",
    "- Based on project assumptions, adjust the DataFrames:\n",
    "    - From df_crash, select ‘INJURIES_TOTAL’ = ‘0’\n",
    "    - From df_people, select ‘PERSON_TYPE’ = ‘DRIVER’\n",
    "    - From df_vehicle, select ‘UNIT_TYPE’ = ‘DRIVER’\n",
    "    - From df_vehicle, select ‘VEHICLE_USE’ = ‘PERSONAL’\n",
    "\n",
    "- Explore each column and decide what to keep.\n",
    "- Merge all 3 DataFrames on column 'CRASH_RECORD_ID' and drop all null.\n",
    "- Convert column 'AGE' and 'VEHICLE_YEAR' Dtype from float64 to int for for smaller data size.\n",
    "- Save the cleaned DataFrame as 'df.csv'>\n"
   ]
  },
  {
   "cell_type": "markdown",
   "metadata": {},
   "source": [
    "## Import libraries and load the cleaned DataFarame"
   ]
  },
  {
   "cell_type": "code",
   "execution_count": 1,
   "metadata": {
    "ExecuteTime": {
     "end_time": "2023-01-04T01:57:38.620459Z",
     "start_time": "2023-01-04T01:57:37.556152Z"
    }
   },
   "outputs": [],
   "source": [
    "# import libraries\n",
    "\n",
    "import pandas as pd\n",
    "import numpy as np\n",
    "from matplotlib import pyplot as plt\n",
    "import seaborn as sns\n",
    "\n",
    "from sklearn.model_selection import train_test_split, GridSearchCV, cross_val_score\n",
    "from sklearn.pipeline import Pipeline\n",
    "from sklearn.preprocessing import StandardScaler, OneHotEncoder, FunctionTransformer\n",
    "from sklearn.impute import SimpleImputer\n",
    "from sklearn.compose import ColumnTransformer,  make_column_selector as selector\n",
    "from sklearn.linear_model import LogisticRegression\n",
    "from sklearn.ensemble import RandomForestClassifier, GradientBoostingClassifier\n",
    "from sklearn.metrics import plot_confusion_matrix, recall_score,\\\n",
    "    accuracy_score, precision_score, f1_score\n",
    "\n",
    "from imblearn.over_sampling import SMOTE\n",
    "from imblearn.pipeline import Pipeline as ImPipeline\n",
    "\n",
    "from sklearn.dummy import DummyClassifier\n",
    "from sklearn.tree import DecisionTreeClassifier"
   ]
  },
  {
   "cell_type": "markdown",
   "metadata": {},
   "source": [
    "## Inspect and adjust DataFrame"
   ]
  },
  {
   "cell_type": "code",
   "execution_count": 2,
   "metadata": {
    "ExecuteTime": {
     "end_time": "2023-01-04T01:57:38.703822Z",
     "start_time": "2023-01-04T01:57:38.620459Z"
    }
   },
   "outputs": [
    {
     "data": {
      "text/html": [
       "<div>\n",
       "<style scoped>\n",
       "    .dataframe tbody tr th:only-of-type {\n",
       "        vertical-align: middle;\n",
       "    }\n",
       "\n",
       "    .dataframe tbody tr th {\n",
       "        vertical-align: top;\n",
       "    }\n",
       "\n",
       "    .dataframe thead th {\n",
       "        text-align: right;\n",
       "    }\n",
       "</style>\n",
       "<table border=\"1\" class=\"dataframe\">\n",
       "  <thead>\n",
       "    <tr style=\"text-align: right;\">\n",
       "      <th></th>\n",
       "      <th>Unnamed: 0</th>\n",
       "      <th>CRASH_DATE</th>\n",
       "      <th>DEVICE_CONDITION</th>\n",
       "      <th>POSTED_SPEED_LIMIT</th>\n",
       "      <th>WEATHER_CONDITION</th>\n",
       "      <th>LIGHTING_CONDITION</th>\n",
       "      <th>ROADWAY_SURFACE_COND</th>\n",
       "      <th>ROAD_DEFECT</th>\n",
       "      <th>DAMAGE</th>\n",
       "      <th>ZIPCODE</th>\n",
       "      <th>SEX</th>\n",
       "      <th>AGE</th>\n",
       "      <th>MAKE</th>\n",
       "      <th>MODEL</th>\n",
       "      <th>VEHICLE_YEAR</th>\n",
       "    </tr>\n",
       "  </thead>\n",
       "  <tbody>\n",
       "    <tr>\n",
       "      <th>0</th>\n",
       "      <td>31495</td>\n",
       "      <td>12/16/2021 03:30:00 PM</td>\n",
       "      <td>FUNCTIONING PROPERLY</td>\n",
       "      <td>30</td>\n",
       "      <td>CLEAR</td>\n",
       "      <td>DAYLIGHT</td>\n",
       "      <td>DRY</td>\n",
       "      <td>NO DEFECTS</td>\n",
       "      <td>$501 - $1,500</td>\n",
       "      <td>60707</td>\n",
       "      <td>F</td>\n",
       "      <td>23</td>\n",
       "      <td>ACURA</td>\n",
       "      <td>TLX</td>\n",
       "      <td>2017</td>\n",
       "    </tr>\n",
       "    <tr>\n",
       "      <th>1</th>\n",
       "      <td>106768</td>\n",
       "      <td>11/13/2021 11:38:00 AM</td>\n",
       "      <td>NO CONTROLS</td>\n",
       "      <td>30</td>\n",
       "      <td>CLEAR</td>\n",
       "      <td>DAYLIGHT</td>\n",
       "      <td>DRY</td>\n",
       "      <td>NO DEFECTS</td>\n",
       "      <td>OVER $1,500</td>\n",
       "      <td>60660</td>\n",
       "      <td>M</td>\n",
       "      <td>52</td>\n",
       "      <td>ACURA</td>\n",
       "      <td>TLX</td>\n",
       "      <td>2006</td>\n",
       "    </tr>\n",
       "    <tr>\n",
       "      <th>2</th>\n",
       "      <td>71904</td>\n",
       "      <td>11/29/2018 09:00:00 AM</td>\n",
       "      <td>FUNCTIONING PROPERLY</td>\n",
       "      <td>30</td>\n",
       "      <td>SNOW</td>\n",
       "      <td>DAYLIGHT</td>\n",
       "      <td>SNOW OR SLUSH</td>\n",
       "      <td>NO DEFECTS</td>\n",
       "      <td>OVER $1,500</td>\n",
       "      <td>60609</td>\n",
       "      <td>M</td>\n",
       "      <td>54</td>\n",
       "      <td>ACURA</td>\n",
       "      <td>ACURA</td>\n",
       "      <td>2010</td>\n",
       "    </tr>\n",
       "    <tr>\n",
       "      <th>3</th>\n",
       "      <td>71906</td>\n",
       "      <td>11/29/2018 09:00:00 AM</td>\n",
       "      <td>FUNCTIONING PROPERLY</td>\n",
       "      <td>30</td>\n",
       "      <td>SNOW</td>\n",
       "      <td>DAYLIGHT</td>\n",
       "      <td>SNOW OR SLUSH</td>\n",
       "      <td>NO DEFECTS</td>\n",
       "      <td>OVER $1,500</td>\n",
       "      <td>60608</td>\n",
       "      <td>M</td>\n",
       "      <td>28</td>\n",
       "      <td>ACURA</td>\n",
       "      <td>ACURA</td>\n",
       "      <td>2010</td>\n",
       "    </tr>\n",
       "    <tr>\n",
       "      <th>4</th>\n",
       "      <td>2814</td>\n",
       "      <td>12/30/2019 01:00:00 PM</td>\n",
       "      <td>NO CONTROLS</td>\n",
       "      <td>30</td>\n",
       "      <td>CLEAR</td>\n",
       "      <td>DAYLIGHT</td>\n",
       "      <td>DRY</td>\n",
       "      <td>NO DEFECTS</td>\n",
       "      <td>$501 - $1,500</td>\n",
       "      <td>60639</td>\n",
       "      <td>F</td>\n",
       "      <td>46</td>\n",
       "      <td>ACURA</td>\n",
       "      <td>ACURA</td>\n",
       "      <td>2003</td>\n",
       "    </tr>\n",
       "  </tbody>\n",
       "</table>\n",
       "</div>"
      ],
      "text/plain": [
       "   Unnamed: 0              CRASH_DATE      DEVICE_CONDITION  \\\n",
       "0       31495  12/16/2021 03:30:00 PM  FUNCTIONING PROPERLY   \n",
       "1      106768  11/13/2021 11:38:00 AM           NO CONTROLS   \n",
       "2       71904  11/29/2018 09:00:00 AM  FUNCTIONING PROPERLY   \n",
       "3       71906  11/29/2018 09:00:00 AM  FUNCTIONING PROPERLY   \n",
       "4        2814  12/30/2019 01:00:00 PM           NO CONTROLS   \n",
       "\n",
       "   POSTED_SPEED_LIMIT WEATHER_CONDITION LIGHTING_CONDITION  \\\n",
       "0                  30             CLEAR           DAYLIGHT   \n",
       "1                  30             CLEAR           DAYLIGHT   \n",
       "2                  30              SNOW           DAYLIGHT   \n",
       "3                  30              SNOW           DAYLIGHT   \n",
       "4                  30             CLEAR           DAYLIGHT   \n",
       "\n",
       "  ROADWAY_SURFACE_COND ROAD_DEFECT         DAMAGE  ZIPCODE SEX  AGE   MAKE  \\\n",
       "0                  DRY  NO DEFECTS  $501 - $1,500    60707   F   23  ACURA   \n",
       "1                  DRY  NO DEFECTS    OVER $1,500    60660   M   52  ACURA   \n",
       "2        SNOW OR SLUSH  NO DEFECTS    OVER $1,500    60609   M   54  ACURA   \n",
       "3        SNOW OR SLUSH  NO DEFECTS    OVER $1,500    60608   M   28  ACURA   \n",
       "4                  DRY  NO DEFECTS  $501 - $1,500    60639   F   46  ACURA   \n",
       "\n",
       "   MODEL  VEHICLE_YEAR  \n",
       "0    TLX          2017  \n",
       "1    TLX          2006  \n",
       "2  ACURA          2010  \n",
       "3  ACURA          2010  \n",
       "4  ACURA          2003  "
      ]
     },
     "execution_count": 2,
     "metadata": {},
     "output_type": "execute_result"
    }
   ],
   "source": [
    "df = pd.read_csv('df_clean.csv')\n",
    "df.head()"
   ]
  },
  {
   "cell_type": "code",
   "execution_count": 3,
   "metadata": {
    "ExecuteTime": {
     "end_time": "2023-01-04T01:57:38.734497Z",
     "start_time": "2023-01-04T01:57:38.704849Z"
    }
   },
   "outputs": [
    {
     "name": "stdout",
     "output_type": "stream",
     "text": [
      "<class 'pandas.core.frame.DataFrame'>\n",
      "RangeIndex: 58057 entries, 0 to 58056\n",
      "Data columns (total 14 columns):\n",
      " #   Column                Non-Null Count  Dtype \n",
      "---  ------                --------------  ----- \n",
      " 0   CRASH_DATE            58057 non-null  object\n",
      " 1   DEVICE_CONDITION      58057 non-null  object\n",
      " 2   POSTED_SPEED_LIMIT    58057 non-null  int64 \n",
      " 3   WEATHER_CONDITION     58057 non-null  object\n",
      " 4   LIGHTING_CONDITION    58057 non-null  object\n",
      " 5   ROADWAY_SURFACE_COND  58057 non-null  object\n",
      " 6   ROAD_DEFECT           58057 non-null  object\n",
      " 7   DAMAGE                58057 non-null  object\n",
      " 8   ZIPCODE               58057 non-null  int64 \n",
      " 9   SEX                   58057 non-null  object\n",
      " 10  AGE                   58057 non-null  int64 \n",
      " 11  MAKE                  58057 non-null  object\n",
      " 12  MODEL                 58057 non-null  object\n",
      " 13  VEHICLE_YEAR          58057 non-null  int64 \n",
      "dtypes: int64(4), object(10)\n",
      "memory usage: 6.2+ MB\n"
     ]
    }
   ],
   "source": [
    "df = df.drop('Unnamed: 0', axis=1)\n",
    "df.info()"
   ]
  },
  {
   "cell_type": "code",
   "execution_count": 4,
   "metadata": {
    "ExecuteTime": {
     "end_time": "2023-01-04T01:57:38.749850Z",
     "start_time": "2023-01-04T01:57:38.734497Z"
    }
   },
   "outputs": [
    {
     "data": {
      "text/plain": [
       "OVER $1,500      0.645366\n",
       "$501 - $1,500    0.272646\n",
       "$500 OR LESS     0.081988\n",
       "Name: DAMAGE, dtype: float64"
      ]
     },
     "execution_count": 4,
     "metadata": {},
     "output_type": "execute_result"
    }
   ],
   "source": [
    "df['DAMAGE'].value_counts(normalize=True)"
   ]
  },
  {
   "cell_type": "markdown",
   "metadata": {},
   "source": [
    "### Reset target df['DAMAGE'] from 3 outcomes to 2 outcomes"
   ]
  },
  {
   "cell_type": "code",
   "execution_count": 5,
   "metadata": {
    "ExecuteTime": {
     "end_time": "2023-01-04T01:57:38.770826Z",
     "start_time": "2023-01-04T01:57:38.750806Z"
    }
   },
   "outputs": [],
   "source": [
    "# In df['DAMAGE'], replace '$501 - $1,500' and 'OVER $1,500' with 'Over $500':\n",
    "df_main = df.copy()\n",
    "df_main['DAMAGE'] = df_main['DAMAGE'].replace(['$500 OR LESS', '$501 - $1,500'], '$1,500 OR LESS')"
   ]
  },
  {
   "cell_type": "code",
   "execution_count": 6,
   "metadata": {
    "ExecuteTime": {
     "end_time": "2023-01-04T01:57:38.787197Z",
     "start_time": "2023-01-04T01:57:38.771857Z"
    }
   },
   "outputs": [
    {
     "data": {
      "text/plain": [
       "OVER $1,500       0.645366\n",
       "$1,500 OR LESS    0.354634\n",
       "Name: DAMAGE, dtype: float64"
      ]
     },
     "execution_count": 6,
     "metadata": {},
     "output_type": "execute_result"
    }
   ],
   "source": [
    "df_main['DAMAGE'].value_counts(normalize=True)"
   ]
  },
  {
   "cell_type": "markdown",
   "metadata": {},
   "source": [
    "### Reset date range for smaller size and drop 'CRASH_DATE' and 'ZIPCODE'"
   ]
  },
  {
   "cell_type": "code",
   "execution_count": 7,
   "metadata": {
    "ExecuteTime": {
     "end_time": "2023-01-04T01:57:38.802787Z",
     "start_time": "2023-01-04T01:57:38.787197Z"
    }
   },
   "outputs": [],
   "source": [
    "# Select date range starting from 12/20/2021:\n",
    "\n",
    "# df_main =df_main[df_main['CRASH_DATE'] >= '12/15/2021']"
   ]
  },
  {
   "cell_type": "code",
   "execution_count": 8,
   "metadata": {
    "ExecuteTime": {
     "end_time": "2023-01-04T01:57:38.849137Z",
     "start_time": "2023-01-04T01:57:38.804793Z"
    }
   },
   "outputs": [
    {
     "name": "stdout",
     "output_type": "stream",
     "text": [
      "<class 'pandas.core.frame.DataFrame'>\n",
      "RangeIndex: 58057 entries, 0 to 58056\n",
      "Data columns (total 13 columns):\n",
      " #   Column                Non-Null Count  Dtype \n",
      "---  ------                --------------  ----- \n",
      " 0   DEVICE_CONDITION      58057 non-null  object\n",
      " 1   POSTED_SPEED_LIMIT    58057 non-null  int64 \n",
      " 2   WEATHER_CONDITION     58057 non-null  object\n",
      " 3   LIGHTING_CONDITION    58057 non-null  object\n",
      " 4   ROADWAY_SURFACE_COND  58057 non-null  object\n",
      " 5   ROAD_DEFECT           58057 non-null  object\n",
      " 6   DAMAGE                58057 non-null  object\n",
      " 7   ZIPCODE               58057 non-null  int64 \n",
      " 8   SEX                   58057 non-null  object\n",
      " 9   AGE                   58057 non-null  int64 \n",
      " 10  MAKE                  58057 non-null  object\n",
      " 11  MODEL                 58057 non-null  object\n",
      " 12  VEHICLE_YEAR          58057 non-null  int64 \n",
      "dtypes: int64(4), object(9)\n",
      "memory usage: 5.8+ MB\n"
     ]
    }
   ],
   "source": [
    "# Take out 'ZIPCODE' and re-run the models\n",
    "\n",
    "df_main = df_main.drop(['CRASH_DATE'], axis=1)\n",
    "df_main.info()"
   ]
  },
  {
   "cell_type": "code",
   "execution_count": 9,
   "metadata": {
    "ExecuteTime": {
     "end_time": "2023-01-04T01:57:38.883451Z",
     "start_time": "2023-01-04T01:57:38.850154Z"
    }
   },
   "outputs": [
    {
     "data": {
      "text/plain": [
       "DEVICE_CONDITION        0\n",
       "POSTED_SPEED_LIMIT      0\n",
       "WEATHER_CONDITION       0\n",
       "LIGHTING_CONDITION      0\n",
       "ROADWAY_SURFACE_COND    0\n",
       "ROAD_DEFECT             0\n",
       "DAMAGE                  0\n",
       "ZIPCODE                 0\n",
       "SEX                     0\n",
       "AGE                     0\n",
       "MAKE                    0\n",
       "MODEL                   0\n",
       "VEHICLE_YEAR            0\n",
       "dtype: int64"
      ]
     },
     "execution_count": 9,
     "metadata": {},
     "output_type": "execute_result"
    }
   ],
   "source": [
    "# Checking Null:\n",
    "\n",
    "df_main.isna().sum()"
   ]
  },
  {
   "cell_type": "code",
   "execution_count": 10,
   "metadata": {
    "ExecuteTime": {
     "end_time": "2023-01-04T01:57:38.931446Z",
     "start_time": "2023-01-04T01:57:38.884435Z"
    }
   },
   "outputs": [
    {
     "data": {
      "text/plain": [
       "Index                       128\n",
       "DEVICE_CONDITION        4194544\n",
       "POSTED_SPEED_LIMIT       464456\n",
       "WEATHER_CONDITION       3617299\n",
       "LIGHTING_CONDITION      4008703\n",
       "ROADWAY_SURFACE_COND    3515450\n",
       "ROAD_DEFECT             3891354\n",
       "DAMAGE                  4627313\n",
       "ZIPCODE                  464456\n",
       "SEX                     3599534\n",
       "AGE                      464456\n",
       "MAKE                    3810691\n",
       "MODEL                   3789598\n",
       "VEHICLE_YEAR             464456\n",
       "dtype: int64"
      ]
     },
     "execution_count": 10,
     "metadata": {},
     "output_type": "execute_result"
    }
   ],
   "source": [
    "# Checking memory usage:\n",
    "\n",
    "df_main.memory_usage(deep=True)"
   ]
  },
  {
   "cell_type": "markdown",
   "metadata": {},
   "source": [
    "## Prepare for modeling\n",
    "\n",
    "### Define X and y, perform train_test_split"
   ]
  },
  {
   "cell_type": "code",
   "execution_count": 11,
   "metadata": {
    "ExecuteTime": {
     "end_time": "2023-01-04T01:57:38.969727Z",
     "start_time": "2023-01-04T01:57:38.932478Z"
    }
   },
   "outputs": [],
   "source": [
    "# define X and y:\n",
    "\n",
    "X = df_main.drop('DAMAGE', axis=1)\n",
    "y = df_main['DAMAGE']\n",
    "\n",
    "# train_test_split:\n",
    "\n",
    "X_train, X_test, y_train, y_test = train_test_split(X, y, random_state=42)"
   ]
  },
  {
   "cell_type": "code",
   "execution_count": 12,
   "metadata": {
    "ExecuteTime": {
     "end_time": "2023-01-04T01:57:38.985659Z",
     "start_time": "2023-01-04T01:57:38.970655Z"
    }
   },
   "outputs": [
    {
     "data": {
      "text/plain": [
       "50250       OVER $1,500\n",
       "33424       OVER $1,500\n",
       "2012        OVER $1,500\n",
       "57176    $1,500 OR LESS\n",
       "7225        OVER $1,500\n",
       "              ...      \n",
       "54343    $1,500 OR LESS\n",
       "38158       OVER $1,500\n",
       "860      $1,500 OR LESS\n",
       "15795       OVER $1,500\n",
       "56422    $1,500 OR LESS\n",
       "Name: DAMAGE, Length: 43542, dtype: object"
      ]
     },
     "execution_count": 12,
     "metadata": {},
     "output_type": "execute_result"
    }
   ],
   "source": [
    "y_train"
   ]
  },
  {
   "cell_type": "markdown",
   "metadata": {},
   "source": [
    "### Using Pipeline and FunctionTransformer"
   ]
  },
  {
   "cell_type": "code",
   "execution_count": 13,
   "metadata": {
    "ExecuteTime": {
     "end_time": "2023-01-04T01:57:39.001227Z",
     "start_time": "2023-01-04T01:57:38.986984Z"
    }
   },
   "outputs": [],
   "source": [
    "def grab_numeric(df):\n",
    "    return df.select_dtypes(include=['float', 'int64'])"
   ]
  },
  {
   "cell_type": "code",
   "execution_count": 14,
   "metadata": {
    "ExecuteTime": {
     "end_time": "2023-01-04T01:57:39.016307Z",
     "start_time": "2023-01-04T01:57:39.001227Z"
    }
   },
   "outputs": [],
   "source": [
    "# The FunctionTransformer will turn my function into a transformer:\n",
    "\n",
    "GrabNumeric = FunctionTransformer(grab_numeric)"
   ]
  },
  {
   "cell_type": "code",
   "execution_count": 15,
   "metadata": {
    "ExecuteTime": {
     "end_time": "2023-01-04T01:57:39.032323Z",
     "start_time": "2023-01-04T01:57:39.016307Z"
    }
   },
   "outputs": [],
   "source": [
    "# Pipe:\n",
    "\n",
    "pipe = Pipeline([\n",
    "    ('num', GrabNumeric),\n",
    "    ('ss', StandardScaler())\n",
    "])"
   ]
  },
  {
   "cell_type": "code",
   "execution_count": 16,
   "metadata": {
    "ExecuteTime": {
     "end_time": "2023-01-04T01:57:39.047935Z",
     "start_time": "2023-01-04T01:57:39.032323Z"
    }
   },
   "outputs": [
    {
     "data": {
      "text/plain": [
       "array([[ 0.16558735,  0.22358076,  1.62495166, -1.39737421],\n",
       "       [ 0.16558735,  0.37908777,  0.49099256,  0.50301663],\n",
       "       [ 0.16558735,  0.61234828,  1.55824819, -0.36079739],\n",
       "       ...,\n",
       "       [ 0.16558735,  0.37908777,  0.3575856 ,  0.67577943],\n",
       "       [ 0.16558735,  0.19766292, -1.17659437,  0.50301663],\n",
       "       [ 0.16558735,  0.74193745, -1.04318741, -0.53356019]])"
      ]
     },
     "execution_count": 16,
     "metadata": {},
     "output_type": "execute_result"
    }
   ],
   "source": [
    "# checking the resualt:\n",
    "\n",
    "pipe.fit_transform(X_train)"
   ]
  },
  {
   "cell_type": "markdown",
   "metadata": {},
   "source": [
    "### Using Pipeline and ColumnTransformer\n",
    "\n",
    "\n",
    "#### We'll throw these mini-pipelines into our ColumnTransformer: numeric and categorical\n",
    "\n",
    "- numbers (AGE, VEHICLE_YEAR)\n",
    " - scale, impute\n",
    "\n",
    "- categorical (all other columuns)\n",
    " - OHE, impute"
   ]
  },
  {
   "cell_type": "code",
   "execution_count": 17,
   "metadata": {
    "ExecuteTime": {
     "end_time": "2023-01-04T01:57:39.054271Z",
     "start_time": "2023-01-04T01:57:39.048945Z"
    }
   },
   "outputs": [],
   "source": [
    "# Numeric pipeline:\n",
    "\n",
    "num_pipe = Pipeline([\n",
    "    ('num_impute', SimpleImputer(strategy='mean')),\n",
    "    ('ss', StandardScaler())\n",
    "])"
   ]
  },
  {
   "cell_type": "code",
   "execution_count": 18,
   "metadata": {
    "ExecuteTime": {
     "end_time": "2023-01-04T01:57:39.068338Z",
     "start_time": "2023-01-04T01:57:39.054271Z"
    }
   },
   "outputs": [],
   "source": [
    "# Categorical pipeline:\n",
    "\n",
    "cat_pipe = Pipeline([\n",
    "    ('cat_impute', SimpleImputer(strategy='most_frequent')),\n",
    "    ('ohe', OneHotEncoder(sparse=False, handle_unknown='ignore'))\n",
    "])"
   ]
  },
  {
   "cell_type": "markdown",
   "metadata": {},
   "source": [
    "### Selector and ColumnTransformer\n",
    "This will return a callable list of columns"
   ]
  },
  {
   "cell_type": "code",
   "execution_count": 19,
   "metadata": {
    "ExecuteTime": {
     "end_time": "2023-01-04T01:57:39.083592Z",
     "start_time": "2023-01-04T01:57:39.068338Z"
    }
   },
   "outputs": [],
   "source": [
    "# The \"remainder='passthrough\" tells the compiler to leave the other df columns unchanged.\n",
    "# The `ColumnTransformer` will take care of our preprocessing, so now we can add our model at the end of the pipeline:\n",
    "\n",
    "CT = ColumnTransformer(transformers=[\n",
    "    ('num_trans', num_pipe, selector(dtype_include='int64')),\n",
    "    ('cat_trans', cat_pipe, selector(dtype_include=object))\n",
    "], remainder='passthrough')"
   ]
  },
  {
   "cell_type": "code",
   "execution_count": 20,
   "metadata": {
    "ExecuteTime": {
     "end_time": "2023-01-04T01:57:39.099126Z",
     "start_time": "2023-01-04T01:57:39.083592Z"
    }
   },
   "outputs": [
    {
     "data": {
      "text/plain": [
       "['POSTED_SPEED_LIMIT', 'ZIPCODE', 'AGE', 'VEHICLE_YEAR']"
      ]
     },
     "execution_count": 20,
     "metadata": {},
     "output_type": "execute_result"
    }
   ],
   "source": [
    "# testing Selector:\n",
    "\n",
    "test = selector(dtype_include='int64')\n",
    "test(X_train)"
   ]
  },
  {
   "cell_type": "markdown",
   "metadata": {},
   "source": [
    "## Bringing in Our Modeling Class from before"
   ]
  },
  {
   "cell_type": "code",
   "execution_count": 21,
   "metadata": {
    "ExecuteTime": {
     "end_time": "2023-01-04T01:57:39.117484Z",
     "start_time": "2023-01-04T01:57:39.100136Z"
    }
   },
   "outputs": [],
   "source": [
    "class ModelWithCV():\n",
    "    '''Structure to save the model and more easily see its crossvalidation'''\n",
    "    \n",
    "    def __init__(self, model, model_name, X, y, cv_now=True):\n",
    "        self.model = model\n",
    "        self.name = model_name\n",
    "        self.X = X\n",
    "        self.y = y\n",
    "        \n",
    "        # For CV results\n",
    "        self.cv_results = None\n",
    "        self.cv_mean = None\n",
    "        self.cv_median = None\n",
    "        self.cv_std = None\n",
    "        #\n",
    "        if cv_now:\n",
    "            self.cross_validate()\n",
    "        \n",
    "    def cross_validate(self, X=None, y=None, kfolds=10):\n",
    "        '''\n",
    "        Perform cross-validation and return results.\n",
    "        \n",
    "        Args: \n",
    "          X:\n",
    "            Optional; Training data to perform CV on. Otherwise use X from object\n",
    "          y:\n",
    "            Optional; Training data to perform CV on. Otherwise use y from object\n",
    "          kfolds:\n",
    "            Optional; Number of folds for CV (default is 10)  \n",
    "        '''\n",
    "        \n",
    "        cv_X = X if X else self.X\n",
    "        cv_y = y if y else self.y\n",
    "\n",
    "        self.cv_results = cross_val_score(self.model, cv_X, cv_y, cv=kfolds)\n",
    "        self.cv_mean = np.mean(self.cv_results)\n",
    "        self.cv_median = np.median(self.cv_results)\n",
    "        self.cv_std = np.std(self.cv_results)\n",
    "        \n",
    "        # Validate score on test data\n",
    "        self.cv_results_test = cross_val_score(self.model, X_test, y_test, cv=kfolds)\n",
    "        self.cv_test_mean = np.mean(self.cv_results_test)\n",
    "        \n",
    "    def print_cv_summary(self):\n",
    "        cv_summary = self.cv_mean\n",
    "        return cv_summary\n",
    "        \n",
    "#         cv_summary = (\n",
    "#         f'''CV Results for `{self.name}` model:\n",
    "#             {self.cv_mean:.5f} ± {self.cv_std:.5f} accuracy\n",
    "#         ''')\n",
    "#         print(cv_summary)\n",
    "\n",
    "\n",
    "    def print_cv_test_summary(self):\n",
    "        cv_test_summary = self.cv_test_mean\n",
    "        return cv_test_summary\n",
    "\n",
    "\n",
    "    def plot_cv(self, ax):\n",
    "        '''\n",
    "        Plot the cross-validation values using the array of results and given \n",
    "        Axis for plotting.\n",
    "        '''\n",
    "        ax.set_title(f'CV Results for `{self.name}` Model')\n",
    "        \n",
    "        # Thinner violinplot with higher bw\n",
    "        sns.violinplot(y=self.cv_results, ax=ax, bw=.4)\n",
    "        sns.swarmplot(\n",
    "                y=self.cv_results,\n",
    "                color='orange',\n",
    "                size=10,\n",
    "                alpha= 0.8,\n",
    "                ax=ax\n",
    "        )\n",
    "\n",
    "        return ax"
   ]
  },
  {
   "cell_type": "markdown",
   "metadata": {},
   "source": [
    "## Models\n",
    "\n",
    "### Model 1: Create Baseline Model - Dummy Classifier Model"
   ]
  },
  {
   "cell_type": "code",
   "execution_count": 22,
   "metadata": {
    "ExecuteTime": {
     "end_time": "2023-01-04T01:57:39.133298Z",
     "start_time": "2023-01-04T01:57:39.117484Z"
    }
   },
   "outputs": [],
   "source": [
    "dummy_model = Pipeline([\n",
    "    ('ct', CT),\n",
    "    ('dummy', DummyClassifier(strategy='most_frequent'))\n",
    "])"
   ]
  },
  {
   "cell_type": "code",
   "execution_count": 23,
   "metadata": {
    "ExecuteTime": {
     "end_time": "2023-01-04T01:57:51.477673Z",
     "start_time": "2023-01-04T01:57:39.133760Z"
    }
   },
   "outputs": [],
   "source": [
    "# Use the class without dummy pipe:\n",
    "\n",
    "dummy_model_pipe =  ModelWithCV(dummy_model, model_name='dummy', X = X_train, y = y_train)"
   ]
  },
  {
   "cell_type": "code",
   "execution_count": 24,
   "metadata": {
    "ExecuteTime": {
     "end_time": "2023-01-04T01:57:51.500583Z",
     "start_time": "2023-01-04T01:57:51.477673Z"
    }
   },
   "outputs": [
    {
     "data": {
      "text/plain": [
       "0.6448256878218006"
      ]
     },
     "execution_count": 24,
     "metadata": {},
     "output_type": "execute_result"
    }
   ],
   "source": [
    "# Score on training data:\n",
    "\n",
    "dummy_score_train = dummy_model_pipe.print_cv_summary()\n",
    "dummy_score_train"
   ]
  },
  {
   "cell_type": "code",
   "execution_count": 25,
   "metadata": {
    "ExecuteTime": {
     "end_time": "2023-01-04T01:57:51.508838Z",
     "start_time": "2023-01-04T01:57:51.500583Z"
    }
   },
   "outputs": [
    {
     "data": {
      "text/plain": [
       "0.6469859297188412"
      ]
     },
     "execution_count": 25,
     "metadata": {},
     "output_type": "execute_result"
    }
   ],
   "source": [
    "# Validate with testing data:\n",
    "\n",
    "dummy_score_test = dummy_model_pipe.print_cv_test_summary()\n",
    "dummy_score_test"
   ]
  },
  {
   "cell_type": "code",
   "execution_count": 26,
   "metadata": {
    "ExecuteTime": {
     "end_time": "2023-01-04T01:57:51.629369Z",
     "start_time": "2023-01-04T01:57:51.508838Z"
    }
   },
   "outputs": [
    {
     "data": {
      "text/plain": [
       "<AxesSubplot:title={'center':'CV Results for `dummy` Model'}>"
      ]
     },
     "execution_count": 26,
     "metadata": {},
     "output_type": "execute_result"
    },
    {
     "data": {
      "image/png": "[encoded data removed]",
      "text/plain": [
       "<Figure size 432x288 with 1 Axes>"
      ]
     },
     "metadata": {
      "needs_background": "light"
     },
     "output_type": "display_data"
    }
   ],
   "source": [
    "fig,ax = plt.subplots()\n",
    "\n",
    "dummy_model_pipe.plot_cv(ax=ax)"
   ]
  },
  {
   "cell_type": "code",
   "execution_count": 89,
   "metadata": {
    "ExecuteTime": {
     "end_time": "2023-01-04T05:51:00.300570Z",
     "start_time": "2023-01-04T05:50:59.955176Z"
    }
   },
   "outputs": [
    {
     "data": {
      "image/png": "[encoded data removed]",
      "text/plain": [
       "<Figure size 432x288 with 2 Axes>"
      ]
     },
     "metadata": {
      "needs_background": "light"
     },
     "output_type": "display_data"
    }
   ],
   "source": [
    "dummy_model.fit(X_train, y_train)\n",
    "plot_confusion_matrix(dummy_model, X_train, y_train);"
   ]
  },
  {
   "cell_type": "code",
   "execution_count": 78,
   "metadata": {
    "ExecuteTime": {
     "end_time": "2023-01-04T05:42:45.741303Z",
     "start_time": "2023-01-04T05:42:44.281931Z"
    }
   },
   "outputs": [],
   "source": [
    "y_hat = dummy_model.predict(X_train)"
   ]
  },
  {
   "cell_type": "code",
   "execution_count": 80,
   "metadata": {
    "ExecuteTime": {
     "end_time": "2023-01-04T05:45:07.168657Z",
     "start_time": "2023-01-04T05:45:07.107430Z"
    }
   },
   "outputs": [
    {
     "data": {
      "text/plain": [
       "0.6448256855449911"
      ]
     },
     "execution_count": 80,
     "metadata": {},
     "output_type": "execute_result"
    }
   ],
   "source": [
    "accuracy_score(y_train, y_hat)"
   ]
  },
  {
   "cell_type": "code",
   "execution_count": 84,
   "metadata": {
    "ExecuteTime": {
     "end_time": "2023-01-04T05:48:56.446090Z",
     "start_time": "2023-01-04T05:48:56.234170Z"
    }
   },
   "outputs": [
    {
     "data": {
      "text/plain": [
       "1.0"
      ]
     },
     "execution_count": 84,
     "metadata": {},
     "output_type": "execute_result"
    }
   ],
   "source": [
    "recall_score(y_train, y_hat, pos_label='OVER $1,500')"
   ]
  },
  {
   "cell_type": "code",
   "execution_count": 86,
   "metadata": {
    "ExecuteTime": {
     "end_time": "2023-01-04T05:49:35.366116Z",
     "start_time": "2023-01-04T05:49:35.154610Z"
    }
   },
   "outputs": [
    {
     "data": {
      "text/plain": [
       "0.6448256855449911"
      ]
     },
     "execution_count": 86,
     "metadata": {},
     "output_type": "execute_result"
    }
   ],
   "source": [
    "precision_score(y_train, y_hat, pos_label='OVER $1,500')"
   ]
  },
  {
   "cell_type": "code",
   "execution_count": 88,
   "metadata": {
    "ExecuteTime": {
     "end_time": "2023-01-04T05:50:02.928530Z",
     "start_time": "2023-01-04T05:50:02.715532Z"
    }
   },
   "outputs": [
    {
     "data": {
      "text/plain": [
       "0.7840656808947347"
      ]
     },
     "execution_count": 88,
     "metadata": {},
     "output_type": "execute_result"
    }
   ],
   "source": [
    "f1_score(y_train, y_hat, pos_label='OVER $1,500')"
   ]
  },
  {
   "cell_type": "markdown",
   "metadata": {},
   "source": [
    "### Model 2: Create FSM (First Simple Model) - Logistic Regression Model"
   ]
  },
  {
   "cell_type": "code",
   "execution_count": 27,
   "metadata": {
    "ExecuteTime": {
     "end_time": "2023-01-04T01:57:51.634290Z",
     "start_time": "2023-01-04T01:57:51.631315Z"
    }
   },
   "outputs": [],
   "source": [
    "# Reset solver from 'lbfgs' to 'saga', and max_iter = 300\n",
    "\n",
    "logreg_fsm = Pipeline([\n",
    "    ('ct',CT),\n",
    "    ('logreg_fsm',LogisticRegression(random_state=42, solver='saga', max_iter=300))\n",
    "])"
   ]
  },
  {
   "cell_type": "code",
   "execution_count": 28,
   "metadata": {
    "ExecuteTime": {
     "end_time": "2023-01-04T02:00:58.775304Z",
     "start_time": "2023-01-04T01:57:51.634290Z"
    }
   },
   "outputs": [
    {
     "name": "stderr",
     "output_type": "stream",
     "text": [
      "C:\\Users\\Chiafeng\\anaconda3\\envs\\learn-env\\lib\\site-packages\\sklearn\\linear_model\\_sag.py:329: ConvergenceWarning: The max_iter was reached which means the coef_ did not converge\n",
      "  warnings.warn(\"The max_iter was reached which means \"\n"
     ]
    }
   ],
   "source": [
    "# Use the class with out logreg pipe\n",
    "\n",
    "fsm_model_pipe =  ModelWithCV(logreg_fsm, model_name='fsm',X=X_train, y=y_train)\n",
    "\n",
    "# Getting ConvergenceWarning. Go back to logreg_fsm above to reset the parameters."
   ]
  },
  {
   "cell_type": "code",
   "execution_count": 29,
   "metadata": {
    "ExecuteTime": {
     "end_time": "2023-01-04T02:00:58.784320Z",
     "start_time": "2023-01-04T02:00:58.775304Z"
    }
   },
   "outputs": [
    {
     "data": {
      "text/plain": [
       "0.6447567118297071"
      ]
     },
     "execution_count": 29,
     "metadata": {},
     "output_type": "execute_result"
    }
   ],
   "source": [
    "# Score on training data:\n",
    "\n",
    "logreg_score_train = fsm_model_pipe.print_cv_summary()\n",
    "logreg_score_train"
   ]
  },
  {
   "cell_type": "code",
   "execution_count": 30,
   "metadata": {
    "ExecuteTime": {
     "end_time": "2023-01-04T02:00:58.800335Z",
     "start_time": "2023-01-04T02:00:58.784320Z"
    }
   },
   "outputs": [
    {
     "data": {
      "text/plain": [
       "0.64305798413937"
      ]
     },
     "execution_count": 30,
     "metadata": {},
     "output_type": "execute_result"
    }
   ],
   "source": [
    "# Validate with testing data:\n",
    "\n",
    "logreg_score_test = fsm_model_pipe.print_cv_test_summary()\n",
    "logreg_score_test"
   ]
  },
  {
   "cell_type": "code",
   "execution_count": 31,
   "metadata": {
    "ExecuteTime": {
     "end_time": "2023-01-04T02:00:58.888801Z",
     "start_time": "2023-01-04T02:00:58.801435Z"
    }
   },
   "outputs": [
    {
     "data": {
      "text/plain": [
       "<AxesSubplot:title={'center':'CV Results for `fsm` Model'}>"
      ]
     },
     "execution_count": 31,
     "metadata": {},
     "output_type": "execute_result"
    },
    {
     "data": {
      "image/png": "[encoded data removed]",
      "text/plain": [
       "<Figure size 432x288 with 1 Axes>"
      ]
     },
     "metadata": {
      "needs_background": "light"
     },
     "output_type": "display_data"
    }
   ],
   "source": [
    "fig,ax = plt.subplots()\n",
    "fsm_model_pipe.plot_cv(ax=ax)"
   ]
  },
  {
   "cell_type": "markdown",
   "metadata": {},
   "source": [
    "### Trying Other Models at the End of the Pipeline\n",
    "### Model 3: Random Forest"
   ]
  },
  {
   "cell_type": "code",
   "execution_count": 32,
   "metadata": {
    "ExecuteTime": {
     "end_time": "2023-01-04T02:02:40.838512Z",
     "start_time": "2023-01-04T02:00:58.889767Z"
    }
   },
   "outputs": [
    {
     "data": {
      "image/png": "[encoded data removed]",
      "text/plain": [
       "<Figure size 432x288 with 1 Axes>"
      ]
     },
     "metadata": {
      "needs_background": "light"
     },
     "output_type": "display_data"
    }
   ],
   "source": [
    "# rfc!\n",
    "rfc = RandomForestClassifier(random_state=42)\n",
    "\n",
    "rfc_model_pipe = Pipeline([('ct', CT), ('rfc', rfc)])\n",
    "\n",
    "forest_pipe = ModelWithCV(model=rfc_model_pipe,\n",
    "                          model_name='forest_pipe',\n",
    "                          X=X_train,\n",
    "                          y=y_train)\n",
    "\n",
    "fig, ax = plt.subplots()\n",
    "\n",
    "forest_pipe.plot_cv(ax=ax);"
   ]
  },
  {
   "cell_type": "code",
   "execution_count": 33,
   "metadata": {
    "ExecuteTime": {
     "end_time": "2023-01-04T02:02:40.855441Z",
     "start_time": "2023-01-04T02:02:40.839693Z"
    }
   },
   "outputs": [
    {
     "data": {
      "text/plain": [
       "0.6597535290931653"
      ]
     },
     "execution_count": 33,
     "metadata": {},
     "output_type": "execute_result"
    }
   ],
   "source": [
    "# Score on training data:\n",
    "\n",
    "rfc_score_train = forest_pipe.print_cv_summary()\n",
    "rfc_score_train"
   ]
  },
  {
   "cell_type": "code",
   "execution_count": 34,
   "metadata": {
    "ExecuteTime": {
     "end_time": "2023-01-04T02:02:40.863795Z",
     "start_time": "2023-01-04T02:02:40.856892Z"
    }
   },
   "outputs": [
    {
     "data": {
      "text/plain": [
       "0.6435418814420757"
      ]
     },
     "execution_count": 34,
     "metadata": {},
     "output_type": "execute_result"
    }
   ],
   "source": [
    "# Validate with testing data:\n",
    "\n",
    "rfc_score_test = forest_pipe.print_cv_test_summary()\n",
    "rfc_score_test"
   ]
  },
  {
   "cell_type": "markdown",
   "metadata": {},
   "source": [
    "### Model 4: Gradient Booster"
   ]
  },
  {
   "cell_type": "code",
   "execution_count": 35,
   "metadata": {
    "ExecuteTime": {
     "end_time": "2023-01-04T02:06:28.524392Z",
     "start_time": "2023-01-04T02:02:40.863795Z"
    }
   },
   "outputs": [
    {
     "data": {
      "image/png": "[encoded data removed]",
      "text/plain": [
       "<Figure size 432x288 with 1 Axes>"
      ]
     },
     "metadata": {
      "needs_background": "light"
     },
     "output_type": "display_data"
    }
   ],
   "source": [
    "# gbc!\n",
    "gbc_model_pipe = Pipeline([('ct', CT), ('gbc', GradientBoostingClassifier(random_state=42))])\n",
    "\n",
    "gbc_pipe = ModelWithCV(model=gbc_model_pipe,\n",
    "                          model_name='gbc_pipe',\n",
    "                          X=X_train,\n",
    "                          y=y_train)\n",
    "\n",
    "fig, ax = plt.subplots()\n",
    "\n",
    "gbc_pipe.plot_cv(ax=ax);"
   ]
  },
  {
   "cell_type": "code",
   "execution_count": 36,
   "metadata": {
    "ExecuteTime": {
     "end_time": "2023-01-04T02:06:28.532570Z",
     "start_time": "2023-01-04T02:06:28.525387Z"
    }
   },
   "outputs": [
    {
     "data": {
      "text/plain": [
       "0.6471911545765747"
      ]
     },
     "execution_count": 36,
     "metadata": {},
     "output_type": "execute_result"
    }
   ],
   "source": [
    "# Score on training data:\n",
    "\n",
    "gbc_score_train = gbc_pipe.print_cv_summary()\n",
    "gbc_score_train"
   ]
  },
  {
   "cell_type": "code",
   "execution_count": 37,
   "metadata": {
    "ExecuteTime": {
     "end_time": "2023-01-04T02:06:28.548333Z",
     "start_time": "2023-01-04T02:06:28.532570Z"
    }
   },
   "outputs": [
    {
     "data": {
      "text/plain": [
       "0.6475367989778115"
      ]
     },
     "execution_count": 37,
     "metadata": {},
     "output_type": "execute_result"
    }
   ],
   "source": [
    "# Validate with testing data:\n",
    "\n",
    "gbc_score_test = gbc_pipe.print_cv_test_summary()\n",
    "gbc_score_test"
   ]
  },
  {
   "cell_type": "code",
   "execution_count": 38,
   "metadata": {
    "ExecuteTime": {
     "end_time": "2023-01-04T02:06:28.558483Z",
     "start_time": "2023-01-04T02:06:28.549821Z"
    }
   },
   "outputs": [],
   "source": [
    "# # Validate with testing data:\n",
    "# gbc_model_pipe.fit(X_train, y_train)\n",
    "# gbc_score_test = gbc_model_pipe.score(X_test, y_test)\n",
    "# gbc_score_test"
   ]
  },
  {
   "cell_type": "markdown",
   "metadata": {},
   "source": [
    "## Take out column 'ZIPCODE' and re-run the models\n",
    "It took 1h 32mins to excute Gradient Booster model.\n",
    "Decided to take out Column 'ZIPCODE' since this dataset is collected in Chicago. Different 'ZIPCODE' might not impact the target much.\n",
    "\n",
    "Before taking out ‘ZIPCODE’:\n",
    "- CV Results for `dummy` model:  0.63879 ± 0.00009 accuracy\n",
    "- CV Results for `forest_pipe` model:  0.62870 ± 0.00595 accuracy\n",
    "- CV Results for `gbc_pipe` model:  0.63943 ± 0.00072 accuracy\n"
   ]
  },
  {
   "cell_type": "markdown",
   "metadata": {},
   "source": [
    "### Model 5: Decision Tree"
   ]
  },
  {
   "cell_type": "code",
   "execution_count": 39,
   "metadata": {
    "ExecuteTime": {
     "end_time": "2023-01-04T02:06:52.845593Z",
     "start_time": "2023-01-04T02:06:28.558483Z"
    }
   },
   "outputs": [
    {
     "data": {
      "image/png": "[encoded data removed]",
      "text/plain": [
       "<Figure size 432x288 with 1 Axes>"
      ]
     },
     "metadata": {
      "needs_background": "light"
     },
     "output_type": "display_data"
    }
   ],
   "source": [
    "dtc_model_pipe = Pipeline([('ct', CT), ('dtc', DecisionTreeClassifier(random_state=42))])\n",
    "\n",
    "dtc_pipe = ModelWithCV(model=dtc_model_pipe,\n",
    "                          model_name='dtc_pipe',\n",
    "                          X=X_train,\n",
    "                          y=y_train)\n",
    "\n",
    "fig, ax = plt.subplots()\n",
    "\n",
    "dtc_pipe.plot_cv(ax=ax);"
   ]
  },
  {
   "cell_type": "code",
   "execution_count": 40,
   "metadata": {
    "ExecuteTime": {
     "end_time": "2023-01-04T02:06:52.851948Z",
     "start_time": "2023-01-04T02:06:52.846531Z"
    }
   },
   "outputs": [
    {
     "data": {
      "text/plain": [
       "0.5938633306032643"
      ]
     },
     "execution_count": 40,
     "metadata": {},
     "output_type": "execute_result"
    }
   ],
   "source": [
    "# Score on training data:\n",
    "\n",
    "dtc_score_train = dtc_pipe.print_cv_summary()\n",
    "dtc_score_train"
   ]
  },
  {
   "cell_type": "code",
   "execution_count": 41,
   "metadata": {
    "ExecuteTime": {
     "end_time": "2023-01-04T02:06:52.873730Z",
     "start_time": "2023-01-04T02:06:52.853833Z"
    }
   },
   "outputs": [
    {
     "data": {
      "text/plain": [
       "0.5725115005705194"
      ]
     },
     "execution_count": 41,
     "metadata": {},
     "output_type": "execute_result"
    }
   ],
   "source": [
    "# Validate with testing data:\n",
    "\n",
    "dtc_score_test = dtc_pipe.print_cv_test_summary()\n",
    "dtc_score_test"
   ]
  },
  {
   "cell_type": "code",
   "execution_count": 42,
   "metadata": {
    "ExecuteTime": {
     "end_time": "2023-01-04T02:06:52.889029Z",
     "start_time": "2023-01-04T02:06:52.873730Z"
    }
   },
   "outputs": [],
   "source": [
    "# # Validate with testing data:\n",
    "# dtc_model_pipe.fit(X_train, y_train)\n",
    "# dtc_score_test = dtc_model_pipe.score(X_test, y_test)\n",
    "# dtc_score_test"
   ]
  },
  {
   "cell_type": "markdown",
   "metadata": {},
   "source": [
    "### Model 6: Tuning and Cross-Validating - Logistic Regression Model\n",
    "\n",
    "As a result, Logistic Regression Model has the best accuracy. Tune the Logreg Model and perform GridSearch:"
   ]
  },
  {
   "cell_type": "code",
   "execution_count": 43,
   "metadata": {
    "ExecuteTime": {
     "end_time": "2023-01-04T02:06:52.949732Z",
     "start_time": "2023-01-04T02:06:52.889675Z"
    }
   },
   "outputs": [
    {
     "data": {
      "text/plain": [
       "Pipeline(steps=[('ct',\n",
       "                 ColumnTransformer(remainder='passthrough',\n",
       "                                   transformers=[('num_trans',\n",
       "                                                  Pipeline(steps=[('num_impute',\n",
       "                                                                   SimpleImputer()),\n",
       "                                                                  ('ss',\n",
       "                                                                   StandardScaler())]),\n",
       "                                                  <sklearn.compose._column_transformer.make_column_selector object at 0x000001E1730C56D0>),\n",
       "                                                 ('cat_trans',\n",
       "                                                  Pipeline(steps=[('cat_impute',\n",
       "                                                                   SimpleImputer(strategy='most_frequent')),\n",
       "                                                                  ('ohe',\n",
       "                                                                   OneHotEncoder(handle_unknown='ignore',\n",
       "                                                                                 sparse=False))]),\n",
       "                                                  <sklearn.compose._column_transformer.make_column_selector object at 0x000001E1730C59A0>)])),\n",
       "                ('logreg_fsm',\n",
       "                 LogisticRegression(max_iter=300, random_state=42,\n",
       "                                    solver='saga'))])"
      ]
     },
     "execution_count": 43,
     "metadata": {},
     "output_type": "execute_result"
    }
   ],
   "source": [
    "# Checking logreg Pipeline:\n",
    "\n",
    "logreg_fsm"
   ]
  },
  {
   "cell_type": "code",
   "execution_count": 44,
   "metadata": {
    "ExecuteTime": {
     "end_time": "2023-01-04T02:24:50.215808Z",
     "start_time": "2023-01-04T02:06:52.951737Z"
    }
   },
   "outputs": [
    {
     "name": "stdout",
     "output_type": "stream",
     "text": [
      "Fitting 10 folds for each of 8 candidates, totalling 80 fits\n",
      "[CV] ct__num_trans__num_impute__strategy=mean, logreg_fsm__class_weight=None, logreg_fsm__max_iter=500 \n"
     ]
    },
    {
     "name": "stderr",
     "output_type": "stream",
     "text": [
      "[Parallel(n_jobs=1)]: Using backend SequentialBackend with 1 concurrent workers.\n"
     ]
    },
    {
     "name": "stdout",
     "output_type": "stream",
     "text": [
      "[CV]  ct__num_trans__num_impute__strategy=mean, logreg_fsm__class_weight=None, logreg_fsm__max_iter=500, total=  14.9s\n",
      "[CV] ct__num_trans__num_impute__strategy=mean, logreg_fsm__class_weight=None, logreg_fsm__max_iter=500 \n"
     ]
    },
    {
     "name": "stderr",
     "output_type": "stream",
     "text": [
      "[Parallel(n_jobs=1)]: Done   1 out of   1 | elapsed:   14.8s remaining:    0.0s\n"
     ]
    },
    {
     "name": "stdout",
     "output_type": "stream",
     "text": [
      "[CV]  ct__num_trans__num_impute__strategy=mean, logreg_fsm__class_weight=None, logreg_fsm__max_iter=500, total=  14.6s\n",
      "[CV] ct__num_trans__num_impute__strategy=mean, logreg_fsm__class_weight=None, logreg_fsm__max_iter=500 \n",
      "[CV]  ct__num_trans__num_impute__strategy=mean, logreg_fsm__class_weight=None, logreg_fsm__max_iter=500, total=  14.7s\n",
      "[CV] ct__num_trans__num_impute__strategy=mean, logreg_fsm__class_weight=None, logreg_fsm__max_iter=500 \n",
      "[CV]  ct__num_trans__num_impute__strategy=mean, logreg_fsm__class_weight=None, logreg_fsm__max_iter=500, total=  15.1s\n",
      "[CV] ct__num_trans__num_impute__strategy=mean, logreg_fsm__class_weight=None, logreg_fsm__max_iter=500 \n",
      "[CV]  ct__num_trans__num_impute__strategy=mean, logreg_fsm__class_weight=None, logreg_fsm__max_iter=500, total=  15.0s\n",
      "[CV] ct__num_trans__num_impute__strategy=mean, logreg_fsm__class_weight=None, logreg_fsm__max_iter=500 \n",
      "[CV]  ct__num_trans__num_impute__strategy=mean, logreg_fsm__class_weight=None, logreg_fsm__max_iter=500, total=  14.6s\n",
      "[CV] ct__num_trans__num_impute__strategy=mean, logreg_fsm__class_weight=None, logreg_fsm__max_iter=500 \n",
      "[CV]  ct__num_trans__num_impute__strategy=mean, logreg_fsm__class_weight=None, logreg_fsm__max_iter=500, total=  14.7s\n",
      "[CV] ct__num_trans__num_impute__strategy=mean, logreg_fsm__class_weight=None, logreg_fsm__max_iter=500 \n",
      "[CV]  ct__num_trans__num_impute__strategy=mean, logreg_fsm__class_weight=None, logreg_fsm__max_iter=500, total=  14.5s\n",
      "[CV] ct__num_trans__num_impute__strategy=mean, logreg_fsm__class_weight=None, logreg_fsm__max_iter=500 \n",
      "[CV]  ct__num_trans__num_impute__strategy=mean, logreg_fsm__class_weight=None, logreg_fsm__max_iter=500, total=  13.9s\n",
      "[CV] ct__num_trans__num_impute__strategy=mean, logreg_fsm__class_weight=None, logreg_fsm__max_iter=500 \n",
      "[CV]  ct__num_trans__num_impute__strategy=mean, logreg_fsm__class_weight=None, logreg_fsm__max_iter=500, total=  15.3s\n",
      "[CV] ct__num_trans__num_impute__strategy=mean, logreg_fsm__class_weight=None, logreg_fsm__max_iter=600 \n",
      "[CV]  ct__num_trans__num_impute__strategy=mean, logreg_fsm__class_weight=None, logreg_fsm__max_iter=600, total=  14.7s\n",
      "[CV] ct__num_trans__num_impute__strategy=mean, logreg_fsm__class_weight=None, logreg_fsm__max_iter=600 \n",
      "[CV]  ct__num_trans__num_impute__strategy=mean, logreg_fsm__class_weight=None, logreg_fsm__max_iter=600, total=  14.8s\n",
      "[CV] ct__num_trans__num_impute__strategy=mean, logreg_fsm__class_weight=None, logreg_fsm__max_iter=600 \n",
      "[CV]  ct__num_trans__num_impute__strategy=mean, logreg_fsm__class_weight=None, logreg_fsm__max_iter=600, total=  15.2s\n",
      "[CV] ct__num_trans__num_impute__strategy=mean, logreg_fsm__class_weight=None, logreg_fsm__max_iter=600 \n",
      "[CV]  ct__num_trans__num_impute__strategy=mean, logreg_fsm__class_weight=None, logreg_fsm__max_iter=600, total=  15.0s\n",
      "[CV] ct__num_trans__num_impute__strategy=mean, logreg_fsm__class_weight=None, logreg_fsm__max_iter=600 \n",
      "[CV]  ct__num_trans__num_impute__strategy=mean, logreg_fsm__class_weight=None, logreg_fsm__max_iter=600, total=  15.0s\n",
      "[CV] ct__num_trans__num_impute__strategy=mean, logreg_fsm__class_weight=None, logreg_fsm__max_iter=600 \n",
      "[CV]  ct__num_trans__num_impute__strategy=mean, logreg_fsm__class_weight=None, logreg_fsm__max_iter=600, total=  14.6s\n",
      "[CV] ct__num_trans__num_impute__strategy=mean, logreg_fsm__class_weight=None, logreg_fsm__max_iter=600 \n",
      "[CV]  ct__num_trans__num_impute__strategy=mean, logreg_fsm__class_weight=None, logreg_fsm__max_iter=600, total=  14.5s\n",
      "[CV] ct__num_trans__num_impute__strategy=mean, logreg_fsm__class_weight=None, logreg_fsm__max_iter=600 \n",
      "[CV]  ct__num_trans__num_impute__strategy=mean, logreg_fsm__class_weight=None, logreg_fsm__max_iter=600, total=  14.8s\n",
      "[CV] ct__num_trans__num_impute__strategy=mean, logreg_fsm__class_weight=None, logreg_fsm__max_iter=600 \n",
      "[CV]  ct__num_trans__num_impute__strategy=mean, logreg_fsm__class_weight=None, logreg_fsm__max_iter=600, total=  14.2s\n",
      "[CV] ct__num_trans__num_impute__strategy=mean, logreg_fsm__class_weight=None, logreg_fsm__max_iter=600 \n",
      "[CV]  ct__num_trans__num_impute__strategy=mean, logreg_fsm__class_weight=None, logreg_fsm__max_iter=600, total=  15.7s\n",
      "[CV] ct__num_trans__num_impute__strategy=mean, logreg_fsm__class_weight=balanced, logreg_fsm__max_iter=500 \n",
      "[CV]  ct__num_trans__num_impute__strategy=mean, logreg_fsm__class_weight=balanced, logreg_fsm__max_iter=500, total=  11.1s\n",
      "[CV] ct__num_trans__num_impute__strategy=mean, logreg_fsm__class_weight=balanced, logreg_fsm__max_iter=500 \n",
      "[CV]  ct__num_trans__num_impute__strategy=mean, logreg_fsm__class_weight=balanced, logreg_fsm__max_iter=500, total=  11.6s\n",
      "[CV] ct__num_trans__num_impute__strategy=mean, logreg_fsm__class_weight=balanced, logreg_fsm__max_iter=500 \n",
      "[CV]  ct__num_trans__num_impute__strategy=mean, logreg_fsm__class_weight=balanced, logreg_fsm__max_iter=500, total=  11.5s\n",
      "[CV] ct__num_trans__num_impute__strategy=mean, logreg_fsm__class_weight=balanced, logreg_fsm__max_iter=500 \n",
      "[CV]  ct__num_trans__num_impute__strategy=mean, logreg_fsm__class_weight=balanced, logreg_fsm__max_iter=500, total=  11.9s\n",
      "[CV] ct__num_trans__num_impute__strategy=mean, logreg_fsm__class_weight=balanced, logreg_fsm__max_iter=500 \n",
      "[CV]  ct__num_trans__num_impute__strategy=mean, logreg_fsm__class_weight=balanced, logreg_fsm__max_iter=500, total=  11.9s\n",
      "[CV] ct__num_trans__num_impute__strategy=mean, logreg_fsm__class_weight=balanced, logreg_fsm__max_iter=500 \n",
      "[CV]  ct__num_trans__num_impute__strategy=mean, logreg_fsm__class_weight=balanced, logreg_fsm__max_iter=500, total=  11.2s\n",
      "[CV] ct__num_trans__num_impute__strategy=mean, logreg_fsm__class_weight=balanced, logreg_fsm__max_iter=500 \n",
      "[CV]  ct__num_trans__num_impute__strategy=mean, logreg_fsm__class_weight=balanced, logreg_fsm__max_iter=500, total=  10.8s\n",
      "[CV] ct__num_trans__num_impute__strategy=mean, logreg_fsm__class_weight=balanced, logreg_fsm__max_iter=500 \n",
      "[CV]  ct__num_trans__num_impute__strategy=mean, logreg_fsm__class_weight=balanced, logreg_fsm__max_iter=500, total=  11.0s\n",
      "[CV] ct__num_trans__num_impute__strategy=mean, logreg_fsm__class_weight=balanced, logreg_fsm__max_iter=500 \n",
      "[CV]  ct__num_trans__num_impute__strategy=mean, logreg_fsm__class_weight=balanced, logreg_fsm__max_iter=500, total=  10.9s\n",
      "[CV] ct__num_trans__num_impute__strategy=mean, logreg_fsm__class_weight=balanced, logreg_fsm__max_iter=500 \n",
      "[CV]  ct__num_trans__num_impute__strategy=mean, logreg_fsm__class_weight=balanced, logreg_fsm__max_iter=500, total=  12.8s\n",
      "[CV] ct__num_trans__num_impute__strategy=mean, logreg_fsm__class_weight=balanced, logreg_fsm__max_iter=600 \n",
      "[CV]  ct__num_trans__num_impute__strategy=mean, logreg_fsm__class_weight=balanced, logreg_fsm__max_iter=600, total=  11.1s\n",
      "[CV] ct__num_trans__num_impute__strategy=mean, logreg_fsm__class_weight=balanced, logreg_fsm__max_iter=600 \n",
      "[CV]  ct__num_trans__num_impute__strategy=mean, logreg_fsm__class_weight=balanced, logreg_fsm__max_iter=600, total=  11.7s\n",
      "[CV] ct__num_trans__num_impute__strategy=mean, logreg_fsm__class_weight=balanced, logreg_fsm__max_iter=600 \n",
      "[CV]  ct__num_trans__num_impute__strategy=mean, logreg_fsm__class_weight=balanced, logreg_fsm__max_iter=600, total=  11.5s\n",
      "[CV] ct__num_trans__num_impute__strategy=mean, logreg_fsm__class_weight=balanced, logreg_fsm__max_iter=600 \n",
      "[CV]  ct__num_trans__num_impute__strategy=mean, logreg_fsm__class_weight=balanced, logreg_fsm__max_iter=600, total=  11.8s\n",
      "[CV] ct__num_trans__num_impute__strategy=mean, logreg_fsm__class_weight=balanced, logreg_fsm__max_iter=600 \n",
      "[CV]  ct__num_trans__num_impute__strategy=mean, logreg_fsm__class_weight=balanced, logreg_fsm__max_iter=600, total=  12.0s\n",
      "[CV] ct__num_trans__num_impute__strategy=mean, logreg_fsm__class_weight=balanced, logreg_fsm__max_iter=600 \n",
      "[CV]  ct__num_trans__num_impute__strategy=mean, logreg_fsm__class_weight=balanced, logreg_fsm__max_iter=600, total=  11.3s\n",
      "[CV] ct__num_trans__num_impute__strategy=mean, logreg_fsm__class_weight=balanced, logreg_fsm__max_iter=600 \n",
      "[CV]  ct__num_trans__num_impute__strategy=mean, logreg_fsm__class_weight=balanced, logreg_fsm__max_iter=600, total=  10.9s\n",
      "[CV] ct__num_trans__num_impute__strategy=mean, logreg_fsm__class_weight=balanced, logreg_fsm__max_iter=600 \n",
      "[CV]  ct__num_trans__num_impute__strategy=mean, logreg_fsm__class_weight=balanced, logreg_fsm__max_iter=600, total=  11.0s\n",
      "[CV] ct__num_trans__num_impute__strategy=mean, logreg_fsm__class_weight=balanced, logreg_fsm__max_iter=600 \n"
     ]
    },
    {
     "name": "stdout",
     "output_type": "stream",
     "text": [
      "[CV]  ct__num_trans__num_impute__strategy=mean, logreg_fsm__class_weight=balanced, logreg_fsm__max_iter=600, total=  11.3s\n",
      "[CV] ct__num_trans__num_impute__strategy=mean, logreg_fsm__class_weight=balanced, logreg_fsm__max_iter=600 \n",
      "[CV]  ct__num_trans__num_impute__strategy=mean, logreg_fsm__class_weight=balanced, logreg_fsm__max_iter=600, total=  12.8s\n",
      "[CV] ct__num_trans__num_impute__strategy=median, logreg_fsm__class_weight=None, logreg_fsm__max_iter=500 \n",
      "[CV]  ct__num_trans__num_impute__strategy=median, logreg_fsm__class_weight=None, logreg_fsm__max_iter=500, total=  15.0s\n",
      "[CV] ct__num_trans__num_impute__strategy=median, logreg_fsm__class_weight=None, logreg_fsm__max_iter=500 \n",
      "[CV]  ct__num_trans__num_impute__strategy=median, logreg_fsm__class_weight=None, logreg_fsm__max_iter=500, total=  14.8s\n",
      "[CV] ct__num_trans__num_impute__strategy=median, logreg_fsm__class_weight=None, logreg_fsm__max_iter=500 \n",
      "[CV]  ct__num_trans__num_impute__strategy=median, logreg_fsm__class_weight=None, logreg_fsm__max_iter=500, total=  14.9s\n",
      "[CV] ct__num_trans__num_impute__strategy=median, logreg_fsm__class_weight=None, logreg_fsm__max_iter=500 \n",
      "[CV]  ct__num_trans__num_impute__strategy=median, logreg_fsm__class_weight=None, logreg_fsm__max_iter=500, total=  15.2s\n",
      "[CV] ct__num_trans__num_impute__strategy=median, logreg_fsm__class_weight=None, logreg_fsm__max_iter=500 \n",
      "[CV]  ct__num_trans__num_impute__strategy=median, logreg_fsm__class_weight=None, logreg_fsm__max_iter=500, total=  15.1s\n",
      "[CV] ct__num_trans__num_impute__strategy=median, logreg_fsm__class_weight=None, logreg_fsm__max_iter=500 \n",
      "[CV]  ct__num_trans__num_impute__strategy=median, logreg_fsm__class_weight=None, logreg_fsm__max_iter=500, total=  16.1s\n",
      "[CV] ct__num_trans__num_impute__strategy=median, logreg_fsm__class_weight=None, logreg_fsm__max_iter=500 \n",
      "[CV]  ct__num_trans__num_impute__strategy=median, logreg_fsm__class_weight=None, logreg_fsm__max_iter=500, total=  15.1s\n",
      "[CV] ct__num_trans__num_impute__strategy=median, logreg_fsm__class_weight=None, logreg_fsm__max_iter=500 \n",
      "[CV]  ct__num_trans__num_impute__strategy=median, logreg_fsm__class_weight=None, logreg_fsm__max_iter=500, total=  15.5s\n",
      "[CV] ct__num_trans__num_impute__strategy=median, logreg_fsm__class_weight=None, logreg_fsm__max_iter=500 \n",
      "[CV]  ct__num_trans__num_impute__strategy=median, logreg_fsm__class_weight=None, logreg_fsm__max_iter=500, total=  14.2s\n",
      "[CV] ct__num_trans__num_impute__strategy=median, logreg_fsm__class_weight=None, logreg_fsm__max_iter=500 \n",
      "[CV]  ct__num_trans__num_impute__strategy=median, logreg_fsm__class_weight=None, logreg_fsm__max_iter=500, total=  15.8s\n",
      "[CV] ct__num_trans__num_impute__strategy=median, logreg_fsm__class_weight=None, logreg_fsm__max_iter=600 \n",
      "[CV]  ct__num_trans__num_impute__strategy=median, logreg_fsm__class_weight=None, logreg_fsm__max_iter=600, total=  14.9s\n",
      "[CV] ct__num_trans__num_impute__strategy=median, logreg_fsm__class_weight=None, logreg_fsm__max_iter=600 \n",
      "[CV]  ct__num_trans__num_impute__strategy=median, logreg_fsm__class_weight=None, logreg_fsm__max_iter=600, total=  15.3s\n",
      "[CV] ct__num_trans__num_impute__strategy=median, logreg_fsm__class_weight=None, logreg_fsm__max_iter=600 \n",
      "[CV]  ct__num_trans__num_impute__strategy=median, logreg_fsm__class_weight=None, logreg_fsm__max_iter=600, total=  15.2s\n",
      "[CV] ct__num_trans__num_impute__strategy=median, logreg_fsm__class_weight=None, logreg_fsm__max_iter=600 \n",
      "[CV]  ct__num_trans__num_impute__strategy=median, logreg_fsm__class_weight=None, logreg_fsm__max_iter=600, total=  15.5s\n",
      "[CV] ct__num_trans__num_impute__strategy=median, logreg_fsm__class_weight=None, logreg_fsm__max_iter=600 \n",
      "[CV]  ct__num_trans__num_impute__strategy=median, logreg_fsm__class_weight=None, logreg_fsm__max_iter=600, total=  15.4s\n",
      "[CV] ct__num_trans__num_impute__strategy=median, logreg_fsm__class_weight=None, logreg_fsm__max_iter=600 \n",
      "[CV]  ct__num_trans__num_impute__strategy=median, logreg_fsm__class_weight=None, logreg_fsm__max_iter=600, total=  15.1s\n",
      "[CV] ct__num_trans__num_impute__strategy=median, logreg_fsm__class_weight=None, logreg_fsm__max_iter=600 \n",
      "[CV]  ct__num_trans__num_impute__strategy=median, logreg_fsm__class_weight=None, logreg_fsm__max_iter=600, total=  15.2s\n",
      "[CV] ct__num_trans__num_impute__strategy=median, logreg_fsm__class_weight=None, logreg_fsm__max_iter=600 \n",
      "[CV]  ct__num_trans__num_impute__strategy=median, logreg_fsm__class_weight=None, logreg_fsm__max_iter=600, total=  14.9s\n",
      "[CV] ct__num_trans__num_impute__strategy=median, logreg_fsm__class_weight=None, logreg_fsm__max_iter=600 \n",
      "[CV]  ct__num_trans__num_impute__strategy=median, logreg_fsm__class_weight=None, logreg_fsm__max_iter=600, total=  14.2s\n",
      "[CV] ct__num_trans__num_impute__strategy=median, logreg_fsm__class_weight=None, logreg_fsm__max_iter=600 \n",
      "[CV]  ct__num_trans__num_impute__strategy=median, logreg_fsm__class_weight=None, logreg_fsm__max_iter=600, total=  15.8s\n",
      "[CV] ct__num_trans__num_impute__strategy=median, logreg_fsm__class_weight=balanced, logreg_fsm__max_iter=500 \n",
      "[CV]  ct__num_trans__num_impute__strategy=median, logreg_fsm__class_weight=balanced, logreg_fsm__max_iter=500, total=  11.2s\n",
      "[CV] ct__num_trans__num_impute__strategy=median, logreg_fsm__class_weight=balanced, logreg_fsm__max_iter=500 \n",
      "[CV]  ct__num_trans__num_impute__strategy=median, logreg_fsm__class_weight=balanced, logreg_fsm__max_iter=500, total=  12.0s\n",
      "[CV] ct__num_trans__num_impute__strategy=median, logreg_fsm__class_weight=balanced, logreg_fsm__max_iter=500 \n",
      "[CV]  ct__num_trans__num_impute__strategy=median, logreg_fsm__class_weight=balanced, logreg_fsm__max_iter=500, total=  11.4s\n",
      "[CV] ct__num_trans__num_impute__strategy=median, logreg_fsm__class_weight=balanced, logreg_fsm__max_iter=500 \n",
      "[CV]  ct__num_trans__num_impute__strategy=median, logreg_fsm__class_weight=balanced, logreg_fsm__max_iter=500, total=  11.9s\n",
      "[CV] ct__num_trans__num_impute__strategy=median, logreg_fsm__class_weight=balanced, logreg_fsm__max_iter=500 \n",
      "[CV]  ct__num_trans__num_impute__strategy=median, logreg_fsm__class_weight=balanced, logreg_fsm__max_iter=500, total=  12.0s\n",
      "[CV] ct__num_trans__num_impute__strategy=median, logreg_fsm__class_weight=balanced, logreg_fsm__max_iter=500 \n",
      "[CV]  ct__num_trans__num_impute__strategy=median, logreg_fsm__class_weight=balanced, logreg_fsm__max_iter=500, total=  11.2s\n",
      "[CV] ct__num_trans__num_impute__strategy=median, logreg_fsm__class_weight=balanced, logreg_fsm__max_iter=500 \n",
      "[CV]  ct__num_trans__num_impute__strategy=median, logreg_fsm__class_weight=balanced, logreg_fsm__max_iter=500, total=  11.3s\n",
      "[CV] ct__num_trans__num_impute__strategy=median, logreg_fsm__class_weight=balanced, logreg_fsm__max_iter=500 \n",
      "[CV]  ct__num_trans__num_impute__strategy=median, logreg_fsm__class_weight=balanced, logreg_fsm__max_iter=500, total=  11.0s\n",
      "[CV] ct__num_trans__num_impute__strategy=median, logreg_fsm__class_weight=balanced, logreg_fsm__max_iter=500 \n",
      "[CV]  ct__num_trans__num_impute__strategy=median, logreg_fsm__class_weight=balanced, logreg_fsm__max_iter=500, total=  10.9s\n",
      "[CV] ct__num_trans__num_impute__strategy=median, logreg_fsm__class_weight=balanced, logreg_fsm__max_iter=500 \n",
      "[CV]  ct__num_trans__num_impute__strategy=median, logreg_fsm__class_weight=balanced, logreg_fsm__max_iter=500, total=  12.7s\n",
      "[CV] ct__num_trans__num_impute__strategy=median, logreg_fsm__class_weight=balanced, logreg_fsm__max_iter=600 \n",
      "[CV]  ct__num_trans__num_impute__strategy=median, logreg_fsm__class_weight=balanced, logreg_fsm__max_iter=600, total=  11.1s\n",
      "[CV] ct__num_trans__num_impute__strategy=median, logreg_fsm__class_weight=balanced, logreg_fsm__max_iter=600 \n",
      "[CV]  ct__num_trans__num_impute__strategy=median, logreg_fsm__class_weight=balanced, logreg_fsm__max_iter=600, total=  11.7s\n",
      "[CV] ct__num_trans__num_impute__strategy=median, logreg_fsm__class_weight=balanced, logreg_fsm__max_iter=600 \n",
      "[CV]  ct__num_trans__num_impute__strategy=median, logreg_fsm__class_weight=balanced, logreg_fsm__max_iter=600, total=  11.4s\n",
      "[CV] ct__num_trans__num_impute__strategy=median, logreg_fsm__class_weight=balanced, logreg_fsm__max_iter=600 \n",
      "[CV]  ct__num_trans__num_impute__strategy=median, logreg_fsm__class_weight=balanced, logreg_fsm__max_iter=600, total=  11.8s\n",
      "[CV] ct__num_trans__num_impute__strategy=median, logreg_fsm__class_weight=balanced, logreg_fsm__max_iter=600 \n"
     ]
    },
    {
     "name": "stdout",
     "output_type": "stream",
     "text": [
      "[CV]  ct__num_trans__num_impute__strategy=median, logreg_fsm__class_weight=balanced, logreg_fsm__max_iter=600, total=  12.3s\n",
      "[CV] ct__num_trans__num_impute__strategy=median, logreg_fsm__class_weight=balanced, logreg_fsm__max_iter=600 \n",
      "[CV]  ct__num_trans__num_impute__strategy=median, logreg_fsm__class_weight=balanced, logreg_fsm__max_iter=600, total=  11.2s\n",
      "[CV] ct__num_trans__num_impute__strategy=median, logreg_fsm__class_weight=balanced, logreg_fsm__max_iter=600 \n",
      "[CV]  ct__num_trans__num_impute__strategy=median, logreg_fsm__class_weight=balanced, logreg_fsm__max_iter=600, total=  10.9s\n",
      "[CV] ct__num_trans__num_impute__strategy=median, logreg_fsm__class_weight=balanced, logreg_fsm__max_iter=600 \n",
      "[CV]  ct__num_trans__num_impute__strategy=median, logreg_fsm__class_weight=balanced, logreg_fsm__max_iter=600, total=  11.0s\n",
      "[CV] ct__num_trans__num_impute__strategy=median, logreg_fsm__class_weight=balanced, logreg_fsm__max_iter=600 \n",
      "[CV]  ct__num_trans__num_impute__strategy=median, logreg_fsm__class_weight=balanced, logreg_fsm__max_iter=600, total=  11.0s\n",
      "[CV] ct__num_trans__num_impute__strategy=median, logreg_fsm__class_weight=balanced, logreg_fsm__max_iter=600 \n",
      "[CV]  ct__num_trans__num_impute__strategy=median, logreg_fsm__class_weight=balanced, logreg_fsm__max_iter=600, total=  13.1s\n"
     ]
    },
    {
     "name": "stderr",
     "output_type": "stream",
     "text": [
      "[Parallel(n_jobs=1)]: Done  80 out of  80 | elapsed: 17.7min finished\n"
     ]
    },
    {
     "data": {
      "text/plain": [
       "GridSearchCV(cv=10,\n",
       "             estimator=Pipeline(steps=[('ct',\n",
       "                                        ColumnTransformer(remainder='passthrough',\n",
       "                                                          transformers=[('num_trans',\n",
       "                                                                         Pipeline(steps=[('num_impute',\n",
       "                                                                                          SimpleImputer()),\n",
       "                                                                                         ('ss',\n",
       "                                                                                          StandardScaler())]),\n",
       "                                                                         <sklearn.compose._column_transformer.make_column_selector object at 0x000001E1730C56D0>),\n",
       "                                                                        ('cat_trans',\n",
       "                                                                         Pipeline(steps=[('cat_impute',\n",
       "                                                                                          SimpleImputer(strategy='most...\n",
       "                                                                                          OneHotEncoder(handle_unknown='ignore',\n",
       "                                                                                                        sparse=False))]),\n",
       "                                                                         <sklearn.compose._column_transformer.make_column_selector object at 0x000001E1730C59A0>)])),\n",
       "                                       ('logreg_fsm',\n",
       "                                        LogisticRegression(max_iter=300,\n",
       "                                                           random_state=42,\n",
       "                                                           solver='saga'))]),\n",
       "             param_grid={'ct__num_trans__num_impute__strategy': ['mean',\n",
       "                                                                 'median'],\n",
       "                         'logreg_fsm__class_weight': [None, 'balanced'],\n",
       "                         'logreg_fsm__max_iter': [500, 600]},\n",
       "             verbose=2)"
      ]
     },
     "execution_count": 44,
     "metadata": {},
     "output_type": "execute_result"
    }
   ],
   "source": [
    "# Set up parameters:\n",
    "params = {\n",
    "    'ct__num_trans__num_impute__strategy':['mean','median'],\n",
    "    'logreg_fsm__max_iter':[500, 600],\n",
    "    'logreg_fsm__class_weight':[None, 'balanced']\n",
    "}\n",
    "\n",
    "# Set up GridSearchCV and fit training data:\n",
    "gs_logreg = GridSearchCV(estimator=logreg_fsm, param_grid=params, cv=10, verbose=2)\n",
    "\n",
    "gs_logreg.fit(X_train, y_train)"
   ]
  },
  {
   "cell_type": "code",
   "execution_count": 45,
   "metadata": {
    "ExecuteTime": {
     "end_time": "2023-01-04T02:24:50.221005Z",
     "start_time": "2023-01-04T02:24:50.216940Z"
    }
   },
   "outputs": [
    {
     "data": {
      "text/plain": [
       "{'ct__num_trans__num_impute__strategy': 'mean',\n",
       " 'logreg_fsm__class_weight': None,\n",
       " 'logreg_fsm__max_iter': 500}"
      ]
     },
     "execution_count": 45,
     "metadata": {},
     "output_type": "execute_result"
    }
   ],
   "source": [
    "gs_logreg.best_params_"
   ]
  },
  {
   "cell_type": "code",
   "execution_count": 46,
   "metadata": {
    "ExecuteTime": {
     "end_time": "2023-01-04T02:24:50.236814Z",
     "start_time": "2023-01-04T02:24:50.221005Z"
    }
   },
   "outputs": [
    {
     "data": {
      "text/plain": [
       "0.6447567118297071"
      ]
     },
     "execution_count": 46,
     "metadata": {},
     "output_type": "execute_result"
    }
   ],
   "source": [
    "tunedLogreg_score_train = gs_logreg.best_score_\n",
    "tunedLogreg_score_train"
   ]
  },
  {
   "cell_type": "code",
   "execution_count": 47,
   "metadata": {
    "ExecuteTime": {
     "end_time": "2023-01-04T02:24:50.308528Z",
     "start_time": "2023-01-04T02:24:50.238290Z"
    }
   },
   "outputs": [
    {
     "data": {
      "text/plain": [
       "0.6451946262487083"
      ]
     },
     "execution_count": 47,
     "metadata": {},
     "output_type": "execute_result"
    }
   ],
   "source": [
    "# Validate with testing data:\n",
    "tunedLogreg_score_test = gs_logreg.best_estimator_.score(X_test, y_test)\n",
    "tunedLogreg_score_test"
   ]
  },
  {
   "cell_type": "markdown",
   "metadata": {
    "ExecuteTime": {
     "end_time": "2022-12-31T09:27:05.537511Z",
     "start_time": "2022-12-31T08:12:10.829Z"
    }
   },
   "source": [
    "### Model 7: Tuning and Cross-Validating - Random Forest Model"
   ]
  },
  {
   "cell_type": "code",
   "execution_count": 48,
   "metadata": {
    "ExecuteTime": {
     "end_time": "2023-01-04T02:29:16.090225Z",
     "start_time": "2023-01-04T02:24:50.309487Z"
    }
   },
   "outputs": [
    {
     "name": "stdout",
     "output_type": "stream",
     "text": [
      "Fitting 10 folds for each of 12 candidates, totalling 120 fits\n",
      "[CV] ct__num_trans__num_impute__strategy=mean, rfc__criterion=gini, rfc__max_depth=1 \n"
     ]
    },
    {
     "name": "stderr",
     "output_type": "stream",
     "text": [
      "[Parallel(n_jobs=1)]: Using backend SequentialBackend with 1 concurrent workers.\n"
     ]
    },
    {
     "name": "stdout",
     "output_type": "stream",
     "text": [
      "[CV]  ct__num_trans__num_impute__strategy=mean, rfc__criterion=gini, rfc__max_depth=1, total=   1.7s\n",
      "[CV] ct__num_trans__num_impute__strategy=mean, rfc__criterion=gini, rfc__max_depth=1 \n"
     ]
    },
    {
     "name": "stderr",
     "output_type": "stream",
     "text": [
      "[Parallel(n_jobs=1)]: Done   1 out of   1 | elapsed:    1.6s remaining:    0.0s\n"
     ]
    },
    {
     "name": "stdout",
     "output_type": "stream",
     "text": [
      "[CV]  ct__num_trans__num_impute__strategy=mean, rfc__criterion=gini, rfc__max_depth=1, total=   1.7s\n",
      "[CV] ct__num_trans__num_impute__strategy=mean, rfc__criterion=gini, rfc__max_depth=1 \n",
      "[CV]  ct__num_trans__num_impute__strategy=mean, rfc__criterion=gini, rfc__max_depth=1, total=   1.7s\n",
      "[CV] ct__num_trans__num_impute__strategy=mean, rfc__criterion=gini, rfc__max_depth=1 \n",
      "[CV]  ct__num_trans__num_impute__strategy=mean, rfc__criterion=gini, rfc__max_depth=1, total=   1.7s\n",
      "[CV] ct__num_trans__num_impute__strategy=mean, rfc__criterion=gini, rfc__max_depth=1 \n",
      "[CV]  ct__num_trans__num_impute__strategy=mean, rfc__criterion=gini, rfc__max_depth=1, total=   1.8s\n",
      "[CV] ct__num_trans__num_impute__strategy=mean, rfc__criterion=gini, rfc__max_depth=1 \n",
      "[CV]  ct__num_trans__num_impute__strategy=mean, rfc__criterion=gini, rfc__max_depth=1, total=   1.7s\n",
      "[CV] ct__num_trans__num_impute__strategy=mean, rfc__criterion=gini, rfc__max_depth=1 \n",
      "[CV]  ct__num_trans__num_impute__strategy=mean, rfc__criterion=gini, rfc__max_depth=1, total=   1.7s\n",
      "[CV] ct__num_trans__num_impute__strategy=mean, rfc__criterion=gini, rfc__max_depth=1 \n",
      "[CV]  ct__num_trans__num_impute__strategy=mean, rfc__criterion=gini, rfc__max_depth=1, total=   1.7s\n",
      "[CV] ct__num_trans__num_impute__strategy=mean, rfc__criterion=gini, rfc__max_depth=1 \n",
      "[CV]  ct__num_trans__num_impute__strategy=mean, rfc__criterion=gini, rfc__max_depth=1, total=   1.7s\n",
      "[CV] ct__num_trans__num_impute__strategy=mean, rfc__criterion=gini, rfc__max_depth=1 \n",
      "[CV]  ct__num_trans__num_impute__strategy=mean, rfc__criterion=gini, rfc__max_depth=1, total=   1.7s\n",
      "[CV] ct__num_trans__num_impute__strategy=mean, rfc__criterion=gini, rfc__max_depth=3 \n",
      "[CV]  ct__num_trans__num_impute__strategy=mean, rfc__criterion=gini, rfc__max_depth=3, total=   2.2s\n",
      "[CV] ct__num_trans__num_impute__strategy=mean, rfc__criterion=gini, rfc__max_depth=3 \n",
      "[CV]  ct__num_trans__num_impute__strategy=mean, rfc__criterion=gini, rfc__max_depth=3, total=   2.2s\n",
      "[CV] ct__num_trans__num_impute__strategy=mean, rfc__criterion=gini, rfc__max_depth=3 \n",
      "[CV]  ct__num_trans__num_impute__strategy=mean, rfc__criterion=gini, rfc__max_depth=3, total=   2.2s\n",
      "[CV] ct__num_trans__num_impute__strategy=mean, rfc__criterion=gini, rfc__max_depth=3 \n",
      "[CV]  ct__num_trans__num_impute__strategy=mean, rfc__criterion=gini, rfc__max_depth=3, total=   2.2s\n",
      "[CV] ct__num_trans__num_impute__strategy=mean, rfc__criterion=gini, rfc__max_depth=3 \n",
      "[CV]  ct__num_trans__num_impute__strategy=mean, rfc__criterion=gini, rfc__max_depth=3, total=   2.3s\n",
      "[CV] ct__num_trans__num_impute__strategy=mean, rfc__criterion=gini, rfc__max_depth=3 \n",
      "[CV]  ct__num_trans__num_impute__strategy=mean, rfc__criterion=gini, rfc__max_depth=3, total=   2.2s\n",
      "[CV] ct__num_trans__num_impute__strategy=mean, rfc__criterion=gini, rfc__max_depth=3 \n",
      "[CV]  ct__num_trans__num_impute__strategy=mean, rfc__criterion=gini, rfc__max_depth=3, total=   2.2s\n",
      "[CV] ct__num_trans__num_impute__strategy=mean, rfc__criterion=gini, rfc__max_depth=3 \n",
      "[CV]  ct__num_trans__num_impute__strategy=mean, rfc__criterion=gini, rfc__max_depth=3, total=   2.2s\n",
      "[CV] ct__num_trans__num_impute__strategy=mean, rfc__criterion=gini, rfc__max_depth=3 \n",
      "[CV]  ct__num_trans__num_impute__strategy=mean, rfc__criterion=gini, rfc__max_depth=3, total=   2.2s\n",
      "[CV] ct__num_trans__num_impute__strategy=mean, rfc__criterion=gini, rfc__max_depth=3 \n",
      "[CV]  ct__num_trans__num_impute__strategy=mean, rfc__criterion=gini, rfc__max_depth=3, total=   2.2s\n",
      "[CV] ct__num_trans__num_impute__strategy=mean, rfc__criterion=gini, rfc__max_depth=5 \n",
      "[CV]  ct__num_trans__num_impute__strategy=mean, rfc__criterion=gini, rfc__max_depth=5, total=   2.6s\n",
      "[CV] ct__num_trans__num_impute__strategy=mean, rfc__criterion=gini, rfc__max_depth=5 \n",
      "[CV]  ct__num_trans__num_impute__strategy=mean, rfc__criterion=gini, rfc__max_depth=5, total=   2.6s\n",
      "[CV] ct__num_trans__num_impute__strategy=mean, rfc__criterion=gini, rfc__max_depth=5 \n",
      "[CV]  ct__num_trans__num_impute__strategy=mean, rfc__criterion=gini, rfc__max_depth=5, total=   2.6s\n",
      "[CV] ct__num_trans__num_impute__strategy=mean, rfc__criterion=gini, rfc__max_depth=5 \n",
      "[CV]  ct__num_trans__num_impute__strategy=mean, rfc__criterion=gini, rfc__max_depth=5, total=   2.7s\n",
      "[CV] ct__num_trans__num_impute__strategy=mean, rfc__criterion=gini, rfc__max_depth=5 \n",
      "[CV]  ct__num_trans__num_impute__strategy=mean, rfc__criterion=gini, rfc__max_depth=5, total=   2.6s\n",
      "[CV] ct__num_trans__num_impute__strategy=mean, rfc__criterion=gini, rfc__max_depth=5 \n",
      "[CV]  ct__num_trans__num_impute__strategy=mean, rfc__criterion=gini, rfc__max_depth=5, total=   2.6s\n",
      "[CV] ct__num_trans__num_impute__strategy=mean, rfc__criterion=gini, rfc__max_depth=5 \n",
      "[CV]  ct__num_trans__num_impute__strategy=mean, rfc__criterion=gini, rfc__max_depth=5, total=   2.6s\n",
      "[CV] ct__num_trans__num_impute__strategy=mean, rfc__criterion=gini, rfc__max_depth=5 \n",
      "[CV]  ct__num_trans__num_impute__strategy=mean, rfc__criterion=gini, rfc__max_depth=5, total=   2.6s\n",
      "[CV] ct__num_trans__num_impute__strategy=mean, rfc__criterion=gini, rfc__max_depth=5 \n",
      "[CV]  ct__num_trans__num_impute__strategy=mean, rfc__criterion=gini, rfc__max_depth=5, total=   2.6s\n",
      "[CV] ct__num_trans__num_impute__strategy=mean, rfc__criterion=gini, rfc__max_depth=5 \n",
      "[CV]  ct__num_trans__num_impute__strategy=mean, rfc__criterion=gini, rfc__max_depth=5, total=   2.6s\n",
      "[CV] ct__num_trans__num_impute__strategy=mean, rfc__criterion=entropy, rfc__max_depth=1 \n",
      "[CV]  ct__num_trans__num_impute__strategy=mean, rfc__criterion=entropy, rfc__max_depth=1, total=   1.7s\n",
      "[CV] ct__num_trans__num_impute__strategy=mean, rfc__criterion=entropy, rfc__max_depth=1 \n",
      "[CV]  ct__num_trans__num_impute__strategy=mean, rfc__criterion=entropy, rfc__max_depth=1, total=   1.7s\n",
      "[CV] ct__num_trans__num_impute__strategy=mean, rfc__criterion=entropy, rfc__max_depth=1 \n",
      "[CV]  ct__num_trans__num_impute__strategy=mean, rfc__criterion=entropy, rfc__max_depth=1, total=   1.7s\n",
      "[CV] ct__num_trans__num_impute__strategy=mean, rfc__criterion=entropy, rfc__max_depth=1 \n",
      "[CV]  ct__num_trans__num_impute__strategy=mean, rfc__criterion=entropy, rfc__max_depth=1, total=   1.7s\n",
      "[CV] ct__num_trans__num_impute__strategy=mean, rfc__criterion=entropy, rfc__max_depth=1 \n",
      "[CV]  ct__num_trans__num_impute__strategy=mean, rfc__criterion=entropy, rfc__max_depth=1, total=   1.7s\n",
      "[CV] ct__num_trans__num_impute__strategy=mean, rfc__criterion=entropy, rfc__max_depth=1 \n",
      "[CV]  ct__num_trans__num_impute__strategy=mean, rfc__criterion=entropy, rfc__max_depth=1, total=   1.7s\n",
      "[CV] ct__num_trans__num_impute__strategy=mean, rfc__criterion=entropy, rfc__max_depth=1 \n",
      "[CV]  ct__num_trans__num_impute__strategy=mean, rfc__criterion=entropy, rfc__max_depth=1, total=   1.7s\n",
      "[CV] ct__num_trans__num_impute__strategy=mean, rfc__criterion=entropy, rfc__max_depth=1 \n",
      "[CV]  ct__num_trans__num_impute__strategy=mean, rfc__criterion=entropy, rfc__max_depth=1, total=   1.7s\n",
      "[CV] ct__num_trans__num_impute__strategy=mean, rfc__criterion=entropy, rfc__max_depth=1 \n",
      "[CV]  ct__num_trans__num_impute__strategy=mean, rfc__criterion=entropy, rfc__max_depth=1, total=   1.7s\n",
      "[CV] ct__num_trans__num_impute__strategy=mean, rfc__criterion=entropy, rfc__max_depth=1 \n",
      "[CV]  ct__num_trans__num_impute__strategy=mean, rfc__criterion=entropy, rfc__max_depth=1, total=   1.7s\n",
      "[CV] ct__num_trans__num_impute__strategy=mean, rfc__criterion=entropy, rfc__max_depth=3 \n",
      "[CV]  ct__num_trans__num_impute__strategy=mean, rfc__criterion=entropy, rfc__max_depth=3, total=   2.2s\n",
      "[CV] ct__num_trans__num_impute__strategy=mean, rfc__criterion=entropy, rfc__max_depth=3 \n",
      "[CV]  ct__num_trans__num_impute__strategy=mean, rfc__criterion=entropy, rfc__max_depth=3, total=   2.2s\n",
      "[CV] ct__num_trans__num_impute__strategy=mean, rfc__criterion=entropy, rfc__max_depth=3 \n",
      "[CV]  ct__num_trans__num_impute__strategy=mean, rfc__criterion=entropy, rfc__max_depth=3, total=   2.2s\n",
      "[CV] ct__num_trans__num_impute__strategy=mean, rfc__criterion=entropy, rfc__max_depth=3 \n",
      "[CV]  ct__num_trans__num_impute__strategy=mean, rfc__criterion=entropy, rfc__max_depth=3, total=   2.2s\n",
      "[CV] ct__num_trans__num_impute__strategy=mean, rfc__criterion=entropy, rfc__max_depth=3 \n",
      "[CV]  ct__num_trans__num_impute__strategy=mean, rfc__criterion=entropy, rfc__max_depth=3, total=   2.2s\n",
      "[CV] ct__num_trans__num_impute__strategy=mean, rfc__criterion=entropy, rfc__max_depth=3 \n"
     ]
    },
    {
     "name": "stdout",
     "output_type": "stream",
     "text": [
      "[CV]  ct__num_trans__num_impute__strategy=mean, rfc__criterion=entropy, rfc__max_depth=3, total=   2.2s\n",
      "[CV] ct__num_trans__num_impute__strategy=mean, rfc__criterion=entropy, rfc__max_depth=3 \n",
      "[CV]  ct__num_trans__num_impute__strategy=mean, rfc__criterion=entropy, rfc__max_depth=3, total=   2.3s\n",
      "[CV] ct__num_trans__num_impute__strategy=mean, rfc__criterion=entropy, rfc__max_depth=3 \n",
      "[CV]  ct__num_trans__num_impute__strategy=mean, rfc__criterion=entropy, rfc__max_depth=3, total=   2.2s\n",
      "[CV] ct__num_trans__num_impute__strategy=mean, rfc__criterion=entropy, rfc__max_depth=3 \n",
      "[CV]  ct__num_trans__num_impute__strategy=mean, rfc__criterion=entropy, rfc__max_depth=3, total=   2.4s\n",
      "[CV] ct__num_trans__num_impute__strategy=mean, rfc__criterion=entropy, rfc__max_depth=3 \n",
      "[CV]  ct__num_trans__num_impute__strategy=mean, rfc__criterion=entropy, rfc__max_depth=3, total=   2.2s\n",
      "[CV] ct__num_trans__num_impute__strategy=mean, rfc__criterion=entropy, rfc__max_depth=5 \n",
      "[CV]  ct__num_trans__num_impute__strategy=mean, rfc__criterion=entropy, rfc__max_depth=5, total=   2.6s\n",
      "[CV] ct__num_trans__num_impute__strategy=mean, rfc__criterion=entropy, rfc__max_depth=5 \n",
      "[CV]  ct__num_trans__num_impute__strategy=mean, rfc__criterion=entropy, rfc__max_depth=5, total=   2.6s\n",
      "[CV] ct__num_trans__num_impute__strategy=mean, rfc__criterion=entropy, rfc__max_depth=5 \n",
      "[CV]  ct__num_trans__num_impute__strategy=mean, rfc__criterion=entropy, rfc__max_depth=5, total=   2.6s\n",
      "[CV] ct__num_trans__num_impute__strategy=mean, rfc__criterion=entropy, rfc__max_depth=5 \n",
      "[CV]  ct__num_trans__num_impute__strategy=mean, rfc__criterion=entropy, rfc__max_depth=5, total=   2.6s\n",
      "[CV] ct__num_trans__num_impute__strategy=mean, rfc__criterion=entropy, rfc__max_depth=5 \n",
      "[CV]  ct__num_trans__num_impute__strategy=mean, rfc__criterion=entropy, rfc__max_depth=5, total=   2.6s\n",
      "[CV] ct__num_trans__num_impute__strategy=mean, rfc__criterion=entropy, rfc__max_depth=5 \n",
      "[CV]  ct__num_trans__num_impute__strategy=mean, rfc__criterion=entropy, rfc__max_depth=5, total=   2.7s\n",
      "[CV] ct__num_trans__num_impute__strategy=mean, rfc__criterion=entropy, rfc__max_depth=5 \n",
      "[CV]  ct__num_trans__num_impute__strategy=mean, rfc__criterion=entropy, rfc__max_depth=5, total=   2.6s\n",
      "[CV] ct__num_trans__num_impute__strategy=mean, rfc__criterion=entropy, rfc__max_depth=5 \n",
      "[CV]  ct__num_trans__num_impute__strategy=mean, rfc__criterion=entropy, rfc__max_depth=5, total=   2.6s\n",
      "[CV] ct__num_trans__num_impute__strategy=mean, rfc__criterion=entropy, rfc__max_depth=5 \n",
      "[CV]  ct__num_trans__num_impute__strategy=mean, rfc__criterion=entropy, rfc__max_depth=5, total=   2.6s\n",
      "[CV] ct__num_trans__num_impute__strategy=mean, rfc__criterion=entropy, rfc__max_depth=5 \n",
      "[CV]  ct__num_trans__num_impute__strategy=mean, rfc__criterion=entropy, rfc__max_depth=5, total=   2.7s\n",
      "[CV] ct__num_trans__num_impute__strategy=median, rfc__criterion=gini, rfc__max_depth=1 \n",
      "[CV]  ct__num_trans__num_impute__strategy=median, rfc__criterion=gini, rfc__max_depth=1, total=   1.7s\n",
      "[CV] ct__num_trans__num_impute__strategy=median, rfc__criterion=gini, rfc__max_depth=1 \n",
      "[CV]  ct__num_trans__num_impute__strategy=median, rfc__criterion=gini, rfc__max_depth=1, total=   1.7s\n",
      "[CV] ct__num_trans__num_impute__strategy=median, rfc__criterion=gini, rfc__max_depth=1 \n",
      "[CV]  ct__num_trans__num_impute__strategy=median, rfc__criterion=gini, rfc__max_depth=1, total=   1.7s\n",
      "[CV] ct__num_trans__num_impute__strategy=median, rfc__criterion=gini, rfc__max_depth=1 \n",
      "[CV]  ct__num_trans__num_impute__strategy=median, rfc__criterion=gini, rfc__max_depth=1, total=   1.7s\n",
      "[CV] ct__num_trans__num_impute__strategy=median, rfc__criterion=gini, rfc__max_depth=1 \n",
      "[CV]  ct__num_trans__num_impute__strategy=median, rfc__criterion=gini, rfc__max_depth=1, total=   1.7s\n",
      "[CV] ct__num_trans__num_impute__strategy=median, rfc__criterion=gini, rfc__max_depth=1 \n",
      "[CV]  ct__num_trans__num_impute__strategy=median, rfc__criterion=gini, rfc__max_depth=1, total=   1.7s\n",
      "[CV] ct__num_trans__num_impute__strategy=median, rfc__criterion=gini, rfc__max_depth=1 \n",
      "[CV]  ct__num_trans__num_impute__strategy=median, rfc__criterion=gini, rfc__max_depth=1, total=   1.7s\n",
      "[CV] ct__num_trans__num_impute__strategy=median, rfc__criterion=gini, rfc__max_depth=1 \n",
      "[CV]  ct__num_trans__num_impute__strategy=median, rfc__criterion=gini, rfc__max_depth=1, total=   1.7s\n",
      "[CV] ct__num_trans__num_impute__strategy=median, rfc__criterion=gini, rfc__max_depth=1 \n",
      "[CV]  ct__num_trans__num_impute__strategy=median, rfc__criterion=gini, rfc__max_depth=1, total=   1.7s\n",
      "[CV] ct__num_trans__num_impute__strategy=median, rfc__criterion=gini, rfc__max_depth=1 \n",
      "[CV]  ct__num_trans__num_impute__strategy=median, rfc__criterion=gini, rfc__max_depth=1, total=   1.7s\n",
      "[CV] ct__num_trans__num_impute__strategy=median, rfc__criterion=gini, rfc__max_depth=3 \n",
      "[CV]  ct__num_trans__num_impute__strategy=median, rfc__criterion=gini, rfc__max_depth=3, total=   2.2s\n",
      "[CV] ct__num_trans__num_impute__strategy=median, rfc__criterion=gini, rfc__max_depth=3 \n",
      "[CV]  ct__num_trans__num_impute__strategy=median, rfc__criterion=gini, rfc__max_depth=3, total=   2.2s\n",
      "[CV] ct__num_trans__num_impute__strategy=median, rfc__criterion=gini, rfc__max_depth=3 \n",
      "[CV]  ct__num_trans__num_impute__strategy=median, rfc__criterion=gini, rfc__max_depth=3, total=   2.2s\n",
      "[CV] ct__num_trans__num_impute__strategy=median, rfc__criterion=gini, rfc__max_depth=3 \n",
      "[CV]  ct__num_trans__num_impute__strategy=median, rfc__criterion=gini, rfc__max_depth=3, total=   2.2s\n",
      "[CV] ct__num_trans__num_impute__strategy=median, rfc__criterion=gini, rfc__max_depth=3 \n",
      "[CV]  ct__num_trans__num_impute__strategy=median, rfc__criterion=gini, rfc__max_depth=3, total=   2.2s\n",
      "[CV] ct__num_trans__num_impute__strategy=median, rfc__criterion=gini, rfc__max_depth=3 \n",
      "[CV]  ct__num_trans__num_impute__strategy=median, rfc__criterion=gini, rfc__max_depth=3, total=   2.2s\n",
      "[CV] ct__num_trans__num_impute__strategy=median, rfc__criterion=gini, rfc__max_depth=3 \n",
      "[CV]  ct__num_trans__num_impute__strategy=median, rfc__criterion=gini, rfc__max_depth=3, total=   2.2s\n",
      "[CV] ct__num_trans__num_impute__strategy=median, rfc__criterion=gini, rfc__max_depth=3 \n",
      "[CV]  ct__num_trans__num_impute__strategy=median, rfc__criterion=gini, rfc__max_depth=3, total=   2.2s\n",
      "[CV] ct__num_trans__num_impute__strategy=median, rfc__criterion=gini, rfc__max_depth=3 \n",
      "[CV]  ct__num_trans__num_impute__strategy=median, rfc__criterion=gini, rfc__max_depth=3, total=   2.2s\n",
      "[CV] ct__num_trans__num_impute__strategy=median, rfc__criterion=gini, rfc__max_depth=3 \n",
      "[CV]  ct__num_trans__num_impute__strategy=median, rfc__criterion=gini, rfc__max_depth=3, total=   2.2s\n",
      "[CV] ct__num_trans__num_impute__strategy=median, rfc__criterion=gini, rfc__max_depth=5 \n",
      "[CV]  ct__num_trans__num_impute__strategy=median, rfc__criterion=gini, rfc__max_depth=5, total=   2.6s\n",
      "[CV] ct__num_trans__num_impute__strategy=median, rfc__criterion=gini, rfc__max_depth=5 \n",
      "[CV]  ct__num_trans__num_impute__strategy=median, rfc__criterion=gini, rfc__max_depth=5, total=   2.6s\n",
      "[CV] ct__num_trans__num_impute__strategy=median, rfc__criterion=gini, rfc__max_depth=5 \n",
      "[CV]  ct__num_trans__num_impute__strategy=median, rfc__criterion=gini, rfc__max_depth=5, total=   2.6s\n",
      "[CV] ct__num_trans__num_impute__strategy=median, rfc__criterion=gini, rfc__max_depth=5 \n",
      "[CV]  ct__num_trans__num_impute__strategy=median, rfc__criterion=gini, rfc__max_depth=5, total=   2.6s\n",
      "[CV] ct__num_trans__num_impute__strategy=median, rfc__criterion=gini, rfc__max_depth=5 \n",
      "[CV]  ct__num_trans__num_impute__strategy=median, rfc__criterion=gini, rfc__max_depth=5, total=   2.6s\n",
      "[CV] ct__num_trans__num_impute__strategy=median, rfc__criterion=gini, rfc__max_depth=5 \n",
      "[CV]  ct__num_trans__num_impute__strategy=median, rfc__criterion=gini, rfc__max_depth=5, total=   2.6s\n",
      "[CV] ct__num_trans__num_impute__strategy=median, rfc__criterion=gini, rfc__max_depth=5 \n",
      "[CV]  ct__num_trans__num_impute__strategy=median, rfc__criterion=gini, rfc__max_depth=5, total=   2.6s\n",
      "[CV] ct__num_trans__num_impute__strategy=median, rfc__criterion=gini, rfc__max_depth=5 \n",
      "[CV]  ct__num_trans__num_impute__strategy=median, rfc__criterion=gini, rfc__max_depth=5, total=   2.6s\n",
      "[CV] ct__num_trans__num_impute__strategy=median, rfc__criterion=gini, rfc__max_depth=5 \n"
     ]
    },
    {
     "name": "stdout",
     "output_type": "stream",
     "text": [
      "[CV]  ct__num_trans__num_impute__strategy=median, rfc__criterion=gini, rfc__max_depth=5, total=   2.6s\n",
      "[CV] ct__num_trans__num_impute__strategy=median, rfc__criterion=gini, rfc__max_depth=5 \n",
      "[CV]  ct__num_trans__num_impute__strategy=median, rfc__criterion=gini, rfc__max_depth=5, total=   2.6s\n",
      "[CV] ct__num_trans__num_impute__strategy=median, rfc__criterion=entropy, rfc__max_depth=1 \n",
      "[CV]  ct__num_trans__num_impute__strategy=median, rfc__criterion=entropy, rfc__max_depth=1, total=   1.7s\n",
      "[CV] ct__num_trans__num_impute__strategy=median, rfc__criterion=entropy, rfc__max_depth=1 \n",
      "[CV]  ct__num_trans__num_impute__strategy=median, rfc__criterion=entropy, rfc__max_depth=1, total=   1.7s\n",
      "[CV] ct__num_trans__num_impute__strategy=median, rfc__criterion=entropy, rfc__max_depth=1 \n",
      "[CV]  ct__num_trans__num_impute__strategy=median, rfc__criterion=entropy, rfc__max_depth=1, total=   1.7s\n",
      "[CV] ct__num_trans__num_impute__strategy=median, rfc__criterion=entropy, rfc__max_depth=1 \n",
      "[CV]  ct__num_trans__num_impute__strategy=median, rfc__criterion=entropy, rfc__max_depth=1, total=   1.7s\n",
      "[CV] ct__num_trans__num_impute__strategy=median, rfc__criterion=entropy, rfc__max_depth=1 \n",
      "[CV]  ct__num_trans__num_impute__strategy=median, rfc__criterion=entropy, rfc__max_depth=1, total=   1.7s\n",
      "[CV] ct__num_trans__num_impute__strategy=median, rfc__criterion=entropy, rfc__max_depth=1 \n",
      "[CV]  ct__num_trans__num_impute__strategy=median, rfc__criterion=entropy, rfc__max_depth=1, total=   1.7s\n",
      "[CV] ct__num_trans__num_impute__strategy=median, rfc__criterion=entropy, rfc__max_depth=1 \n",
      "[CV]  ct__num_trans__num_impute__strategy=median, rfc__criterion=entropy, rfc__max_depth=1, total=   1.7s\n",
      "[CV] ct__num_trans__num_impute__strategy=median, rfc__criterion=entropy, rfc__max_depth=1 \n",
      "[CV]  ct__num_trans__num_impute__strategy=median, rfc__criterion=entropy, rfc__max_depth=1, total=   1.7s\n",
      "[CV] ct__num_trans__num_impute__strategy=median, rfc__criterion=entropy, rfc__max_depth=1 \n",
      "[CV]  ct__num_trans__num_impute__strategy=median, rfc__criterion=entropy, rfc__max_depth=1, total=   1.7s\n",
      "[CV] ct__num_trans__num_impute__strategy=median, rfc__criterion=entropy, rfc__max_depth=1 \n",
      "[CV]  ct__num_trans__num_impute__strategy=median, rfc__criterion=entropy, rfc__max_depth=1, total=   1.7s\n",
      "[CV] ct__num_trans__num_impute__strategy=median, rfc__criterion=entropy, rfc__max_depth=3 \n",
      "[CV]  ct__num_trans__num_impute__strategy=median, rfc__criterion=entropy, rfc__max_depth=3, total=   2.2s\n",
      "[CV] ct__num_trans__num_impute__strategy=median, rfc__criterion=entropy, rfc__max_depth=3 \n",
      "[CV]  ct__num_trans__num_impute__strategy=median, rfc__criterion=entropy, rfc__max_depth=3, total=   2.2s\n",
      "[CV] ct__num_trans__num_impute__strategy=median, rfc__criterion=entropy, rfc__max_depth=3 \n",
      "[CV]  ct__num_trans__num_impute__strategy=median, rfc__criterion=entropy, rfc__max_depth=3, total=   2.2s\n",
      "[CV] ct__num_trans__num_impute__strategy=median, rfc__criterion=entropy, rfc__max_depth=3 \n",
      "[CV]  ct__num_trans__num_impute__strategy=median, rfc__criterion=entropy, rfc__max_depth=3, total=   2.3s\n",
      "[CV] ct__num_trans__num_impute__strategy=median, rfc__criterion=entropy, rfc__max_depth=3 \n",
      "[CV]  ct__num_trans__num_impute__strategy=median, rfc__criterion=entropy, rfc__max_depth=3, total=   2.2s\n",
      "[CV] ct__num_trans__num_impute__strategy=median, rfc__criterion=entropy, rfc__max_depth=3 \n",
      "[CV]  ct__num_trans__num_impute__strategy=median, rfc__criterion=entropy, rfc__max_depth=3, total=   2.2s\n",
      "[CV] ct__num_trans__num_impute__strategy=median, rfc__criterion=entropy, rfc__max_depth=3 \n",
      "[CV]  ct__num_trans__num_impute__strategy=median, rfc__criterion=entropy, rfc__max_depth=3, total=   2.2s\n",
      "[CV] ct__num_trans__num_impute__strategy=median, rfc__criterion=entropy, rfc__max_depth=3 \n",
      "[CV]  ct__num_trans__num_impute__strategy=median, rfc__criterion=entropy, rfc__max_depth=3, total=   2.2s\n",
      "[CV] ct__num_trans__num_impute__strategy=median, rfc__criterion=entropy, rfc__max_depth=3 \n",
      "[CV]  ct__num_trans__num_impute__strategy=median, rfc__criterion=entropy, rfc__max_depth=3, total=   2.2s\n",
      "[CV] ct__num_trans__num_impute__strategy=median, rfc__criterion=entropy, rfc__max_depth=3 \n",
      "[CV]  ct__num_trans__num_impute__strategy=median, rfc__criterion=entropy, rfc__max_depth=3, total=   2.2s\n",
      "[CV] ct__num_trans__num_impute__strategy=median, rfc__criterion=entropy, rfc__max_depth=5 \n",
      "[CV]  ct__num_trans__num_impute__strategy=median, rfc__criterion=entropy, rfc__max_depth=5, total=   2.6s\n",
      "[CV] ct__num_trans__num_impute__strategy=median, rfc__criterion=entropy, rfc__max_depth=5 \n",
      "[CV]  ct__num_trans__num_impute__strategy=median, rfc__criterion=entropy, rfc__max_depth=5, total=   2.6s\n",
      "[CV] ct__num_trans__num_impute__strategy=median, rfc__criterion=entropy, rfc__max_depth=5 \n",
      "[CV]  ct__num_trans__num_impute__strategy=median, rfc__criterion=entropy, rfc__max_depth=5, total=   2.6s\n",
      "[CV] ct__num_trans__num_impute__strategy=median, rfc__criterion=entropy, rfc__max_depth=5 \n",
      "[CV]  ct__num_trans__num_impute__strategy=median, rfc__criterion=entropy, rfc__max_depth=5, total=   2.6s\n",
      "[CV] ct__num_trans__num_impute__strategy=median, rfc__criterion=entropy, rfc__max_depth=5 \n",
      "[CV]  ct__num_trans__num_impute__strategy=median, rfc__criterion=entropy, rfc__max_depth=5, total=   2.6s\n",
      "[CV] ct__num_trans__num_impute__strategy=median, rfc__criterion=entropy, rfc__max_depth=5 \n",
      "[CV]  ct__num_trans__num_impute__strategy=median, rfc__criterion=entropy, rfc__max_depth=5, total=   2.6s\n",
      "[CV] ct__num_trans__num_impute__strategy=median, rfc__criterion=entropy, rfc__max_depth=5 \n",
      "[CV]  ct__num_trans__num_impute__strategy=median, rfc__criterion=entropy, rfc__max_depth=5, total=   2.6s\n",
      "[CV] ct__num_trans__num_impute__strategy=median, rfc__criterion=entropy, rfc__max_depth=5 \n",
      "[CV]  ct__num_trans__num_impute__strategy=median, rfc__criterion=entropy, rfc__max_depth=5, total=   2.6s\n",
      "[CV] ct__num_trans__num_impute__strategy=median, rfc__criterion=entropy, rfc__max_depth=5 \n",
      "[CV]  ct__num_trans__num_impute__strategy=median, rfc__criterion=entropy, rfc__max_depth=5, total=   2.6s\n",
      "[CV] ct__num_trans__num_impute__strategy=median, rfc__criterion=entropy, rfc__max_depth=5 \n",
      "[CV]  ct__num_trans__num_impute__strategy=median, rfc__criterion=entropy, rfc__max_depth=5, total=   2.7s\n"
     ]
    },
    {
     "name": "stderr",
     "output_type": "stream",
     "text": [
      "[Parallel(n_jobs=1)]: Done 120 out of 120 | elapsed:  4.4min finished\n"
     ]
    },
    {
     "data": {
      "text/plain": [
       "GridSearchCV(cv=10,\n",
       "             estimator=Pipeline(steps=[('ct',\n",
       "                                        ColumnTransformer(remainder='passthrough',\n",
       "                                                          transformers=[('num_trans',\n",
       "                                                                         Pipeline(steps=[('num_impute',\n",
       "                                                                                          SimpleImputer()),\n",
       "                                                                                         ('ss',\n",
       "                                                                                          StandardScaler())]),\n",
       "                                                                         <sklearn.compose._column_transformer.make_column_selector object at 0x000001E1730C56D0>),\n",
       "                                                                        ('cat_trans',\n",
       "                                                                         Pipeline(steps=[('cat_impute',\n",
       "                                                                                          SimpleImputer(strategy='most...quent')),\n",
       "                                                                                         ('ohe',\n",
       "                                                                                          OneHotEncoder(handle_unknown='ignore',\n",
       "                                                                                                        sparse=False))]),\n",
       "                                                                         <sklearn.compose._column_transformer.make_column_selector object at 0x000001E1730C59A0>)])),\n",
       "                                       ('rfc',\n",
       "                                        RandomForestClassifier(random_state=42))]),\n",
       "             param_grid={'ct__num_trans__num_impute__strategy': ['mean',\n",
       "                                                                 'median'],\n",
       "                         'rfc__criterion': ['gini', 'entropy'],\n",
       "                         'rfc__max_depth': [1, 3, 5]},\n",
       "             verbose=2)"
      ]
     },
     "execution_count": 48,
     "metadata": {},
     "output_type": "execute_result"
    }
   ],
   "source": [
    "# Set up parameters:\n",
    "params = {\n",
    "    'ct__num_trans__num_impute__strategy':['mean','median'],\n",
    "    'rfc__criterion':['gini','entropy'],\n",
    "    'rfc__max_depth':[1,3,5]\n",
    "}\n",
    "\n",
    "# Set up GridSearchCV and fit training data:\n",
    "gs_rfc = GridSearchCV(estimator=rfc_model_pipe, param_grid=params, cv=10, verbose=2)\n",
    "\n",
    "gs_rfc.fit(X_train, y_train)"
   ]
  },
  {
   "cell_type": "code",
   "execution_count": 49,
   "metadata": {
    "ExecuteTime": {
     "end_time": "2023-01-04T02:29:16.098535Z",
     "start_time": "2023-01-04T02:29:16.090225Z"
    }
   },
   "outputs": [
    {
     "data": {
      "text/plain": [
       "{'ct__num_trans__num_impute__strategy': 'mean',\n",
       " 'rfc__criterion': 'gini',\n",
       " 'rfc__max_depth': 1}"
      ]
     },
     "execution_count": 49,
     "metadata": {},
     "output_type": "execute_result"
    }
   ],
   "source": [
    "gs_rfc.best_params_"
   ]
  },
  {
   "cell_type": "code",
   "execution_count": 50,
   "metadata": {
    "ExecuteTime": {
     "end_time": "2023-01-04T02:29:16.114185Z",
     "start_time": "2023-01-04T02:29:16.098535Z"
    }
   },
   "outputs": [
    {
     "data": {
      "text/plain": [
       "0.6448256878218006"
      ]
     },
     "execution_count": 50,
     "metadata": {},
     "output_type": "execute_result"
    }
   ],
   "source": [
    "tunedRfc_score_train = gs_rfc.best_score_\n",
    "tunedRfc_score_train"
   ]
  },
  {
   "cell_type": "code",
   "execution_count": 51,
   "metadata": {
    "ExecuteTime": {
     "end_time": "2023-01-04T02:29:16.227612Z",
     "start_time": "2023-01-04T02:29:16.116134Z"
    }
   },
   "outputs": [
    {
     "data": {
      "text/plain": [
       "0.6469858766792973"
      ]
     },
     "execution_count": 51,
     "metadata": {},
     "output_type": "execute_result"
    }
   ],
   "source": [
    "# Validate with testing data:\n",
    "tunedRfc_score_test = gs_rfc.best_estimator_.score(X_test, y_test)\n",
    "tunedRfc_score_test"
   ]
  },
  {
   "cell_type": "markdown",
   "metadata": {},
   "source": [
    "## Imblearn Pipelines\n",
    "Dealing with the Target Imbalance, let's use SMOTE."
   ]
  },
  {
   "cell_type": "code",
   "execution_count": 52,
   "metadata": {
    "ExecuteTime": {
     "end_time": "2023-01-04T02:29:16.232283Z",
     "start_time": "2023-01-04T02:29:16.228627Z"
    }
   },
   "outputs": [],
   "source": [
    "sm = SMOTE(sampling_strategy='auto', random_state=42)"
   ]
  },
  {
   "cell_type": "code",
   "execution_count": 53,
   "metadata": {
    "ExecuteTime": {
     "end_time": "2023-01-04T02:29:16.263313Z",
     "start_time": "2023-01-04T02:29:16.232283Z"
    }
   },
   "outputs": [],
   "source": [
    "# To make things simple (and avoid errors!), let's just grab the numeric types and eliminate the NaNs from X_train:\n",
    "\n",
    "X_train_clean = X_train.select_dtypes('int64').dropna()\n",
    "y_train_clean = y_train[X_train_clean.index]"
   ]
  },
  {
   "cell_type": "code",
   "execution_count": 54,
   "metadata": {
    "ExecuteTime": {
     "end_time": "2023-01-04T02:29:16.278503Z",
     "start_time": "2023-01-04T02:29:16.264320Z"
    }
   },
   "outputs": [
    {
     "data": {
      "text/plain": [
       "50250       OVER $1,500\n",
       "33424       OVER $1,500\n",
       "2012        OVER $1,500\n",
       "57176    $1,500 OR LESS\n",
       "7225        OVER $1,500\n",
       "              ...      \n",
       "54343    $1,500 OR LESS\n",
       "38158       OVER $1,500\n",
       "860      $1,500 OR LESS\n",
       "15795       OVER $1,500\n",
       "56422    $1,500 OR LESS\n",
       "Name: DAMAGE, Length: 43542, dtype: object"
      ]
     },
     "execution_count": 54,
     "metadata": {},
     "output_type": "execute_result"
    }
   ],
   "source": [
    "y_train_clean"
   ]
  },
  {
   "cell_type": "code",
   "execution_count": 55,
   "metadata": {
    "ExecuteTime": {
     "end_time": "2023-01-04T02:29:16.424334Z",
     "start_time": "2023-01-04T02:29:16.279507Z"
    }
   },
   "outputs": [
    {
     "data": {
      "text/plain": [
       "OVER $1,500       28077\n",
       "$1,500 OR LESS    28077\n",
       "Name: DAMAGE, dtype: int64"
      ]
     },
     "execution_count": 55,
     "metadata": {},
     "output_type": "execute_result"
    }
   ],
   "source": [
    "# Even distribution\n",
    "\n",
    "X_clean_resmp, y_clean_resmp = sm.fit_resample(X_train_clean, y_train_clean)\n",
    "\n",
    "y_clean_resmp.value_counts()"
   ]
  },
  {
   "cell_type": "markdown",
   "metadata": {},
   "source": [
    "### Model 8-1: ImPipleline with SMOTE (sampling_strategy='auto') and Random Forest Model"
   ]
  },
  {
   "cell_type": "code",
   "execution_count": 56,
   "metadata": {
    "ExecuteTime": {
     "end_time": "2023-01-04T02:29:53.034876Z",
     "start_time": "2023-01-04T02:29:16.425295Z"
    }
   },
   "outputs": [
    {
     "data": {
      "text/plain": [
       "Pipeline(steps=[('ct',\n",
       "                 ColumnTransformer(remainder='passthrough',\n",
       "                                   transformers=[('num_trans',\n",
       "                                                  Pipeline(steps=[('num_impute',\n",
       "                                                                   SimpleImputer()),\n",
       "                                                                  ('ss',\n",
       "                                                                   StandardScaler())]),\n",
       "                                                  <sklearn.compose._column_transformer.make_column_selector object at 0x000001E1730C56D0>),\n",
       "                                                 ('cat_trans',\n",
       "                                                  Pipeline(steps=[('cat_impute',\n",
       "                                                                   SimpleImputer(strategy='most_frequent')),\n",
       "                                                                  ('ohe',\n",
       "                                                                   OneHotEncoder(handle_unknown='ignore',\n",
       "                                                                                 sparse=False))]),\n",
       "                                                  <sklearn.compose._column_transformer.make_column_selector object at 0x000001E1730C59A0>)])),\n",
       "                ('sm', SMOTE(random_state=42)),\n",
       "                ('rfc', RandomForestClassifier(random_state=42))])"
      ]
     },
     "execution_count": 56,
     "metadata": {},
     "output_type": "execute_result"
    }
   ],
   "source": [
    "# imbpipe!\n",
    "\n",
    "imb_pipe= ImPipeline(steps=[\n",
    "    ('ct',CT),\n",
    "    ('sm',SMOTE(random_state=42)),\n",
    "    ('rfc',RandomForestClassifier(random_state=42)),\n",
    "])\n",
    "\n",
    "imb_pipe.fit(X_train, y_train)"
   ]
  },
  {
   "cell_type": "code",
   "execution_count": 57,
   "metadata": {
    "ExecuteTime": {
     "end_time": "2023-01-04T02:29:54.325994Z",
     "start_time": "2023-01-04T02:29:53.034876Z"
    }
   },
   "outputs": [
    {
     "data": {
      "text/plain": [
       "0.9995406733728355"
      ]
     },
     "execution_count": 57,
     "metadata": {},
     "output_type": "execute_result"
    }
   ],
   "source": [
    "imbRfc_score_train = imb_pipe.score(X_train, y_train)\n",
    "imbRfc_score_train"
   ]
  },
  {
   "cell_type": "code",
   "execution_count": 58,
   "metadata": {
    "ExecuteTime": {
     "end_time": "2023-01-04T02:29:54.804581Z",
     "start_time": "2023-01-04T02:29:54.326989Z"
    }
   },
   "outputs": [
    {
     "data": {
      "text/plain": [
       "0.6564243885635549"
      ]
     },
     "execution_count": 58,
     "metadata": {},
     "output_type": "execute_result"
    }
   ],
   "source": [
    "# Validate with testing data:\n",
    "imbRfc_score_test = imb_pipe.score(X_test, y_test)\n",
    "imbRfc_score_test"
   ]
  },
  {
   "cell_type": "markdown",
   "metadata": {},
   "source": [
    "### Model 8-2: ImPipleline with SMOTE (sampling_strategy=0.8) and Random Forest Model"
   ]
  },
  {
   "cell_type": "code",
   "execution_count": 59,
   "metadata": {
    "ExecuteTime": {
     "end_time": "2023-01-04T02:30:30.898463Z",
     "start_time": "2023-01-04T02:29:54.804581Z"
    }
   },
   "outputs": [
    {
     "data": {
      "text/plain": [
       "Pipeline(steps=[('ct',\n",
       "                 ColumnTransformer(remainder='passthrough',\n",
       "                                   transformers=[('num_trans',\n",
       "                                                  Pipeline(steps=[('num_impute',\n",
       "                                                                   SimpleImputer()),\n",
       "                                                                  ('ss',\n",
       "                                                                   StandardScaler())]),\n",
       "                                                  <sklearn.compose._column_transformer.make_column_selector object at 0x000001E1730C56D0>),\n",
       "                                                 ('cat_trans',\n",
       "                                                  Pipeline(steps=[('cat_impute',\n",
       "                                                                   SimpleImputer(strategy='most_frequent')),\n",
       "                                                                  ('ohe',\n",
       "                                                                   OneHotEncoder(handle_unknown='ignore',\n",
       "                                                                                 sparse=False))]),\n",
       "                                                  <sklearn.compose._column_transformer.make_column_selector object at 0x000001E1730C59A0>)])),\n",
       "                ('sm', SMOTE(random_state=42, sampling_strategy=0.8)),\n",
       "                ('rfc', RandomForestClassifier(random_state=42))])"
      ]
     },
     "execution_count": 59,
     "metadata": {},
     "output_type": "execute_result"
    }
   ],
   "source": [
    "imb_pipe80= ImPipeline(steps=[\n",
    "    ('ct',CT),\n",
    "    ('sm',SMOTE(sampling_strategy=0.8, random_state=42)),\n",
    "    ('rfc',RandomForestClassifier(random_state=42)),\n",
    "])\n",
    "\n",
    "imb_pipe80.fit(X_train, y_train)"
   ]
  },
  {
   "cell_type": "code",
   "execution_count": 60,
   "metadata": {
    "ExecuteTime": {
     "end_time": "2023-01-04T02:30:32.158258Z",
     "start_time": "2023-01-04T02:30:30.899463Z"
    }
   },
   "outputs": [
    {
     "data": {
      "text/plain": [
       "0.9995406733728355"
      ]
     },
     "execution_count": 60,
     "metadata": {},
     "output_type": "execute_result"
    }
   ],
   "source": [
    "imbRfc80_score_train = imb_pipe.score(X_train, y_train)\n",
    "imbRfc80_score_train"
   ]
  },
  {
   "cell_type": "code",
   "execution_count": 61,
   "metadata": {
    "ExecuteTime": {
     "end_time": "2023-01-04T02:30:32.595478Z",
     "start_time": "2023-01-04T02:30:32.158258Z"
    }
   },
   "outputs": [
    {
     "data": {
      "text/plain": [
       "0.6564243885635549"
      ]
     },
     "execution_count": 61,
     "metadata": {},
     "output_type": "execute_result"
    }
   ],
   "source": [
    "# Validate with testing data:\n",
    "imbRfc80_score_test = imb_pipe.score(X_test, y_test)\n",
    "imbRfc80_score_test"
   ]
  },
  {
   "cell_type": "markdown",
   "metadata": {},
   "source": [
    "### Model 9: Gridsearching with SMOTE and Random Forest Model"
   ]
  },
  {
   "cell_type": "code",
   "execution_count": 62,
   "metadata": {
    "ExecuteTime": {
     "end_time": "2023-01-04T03:11:14.783820Z",
     "start_time": "2023-01-04T02:30:32.596377Z"
    }
   },
   "outputs": [
    {
     "name": "stdout",
     "output_type": "stream",
     "text": [
      "Fitting 10 folds for each of 8 candidates, totalling 80 fits\n",
      "[CV] rfc__criterion=gini, rfc__min_samples_leaf=1, sm__k_neighbors=3 .\n"
     ]
    },
    {
     "name": "stderr",
     "output_type": "stream",
     "text": [
      "[Parallel(n_jobs=1)]: Using backend SequentialBackend with 1 concurrent workers.\n"
     ]
    },
    {
     "name": "stdout",
     "output_type": "stream",
     "text": [
      "[CV]  rfc__criterion=gini, rfc__min_samples_leaf=1, sm__k_neighbors=3, total=  28.2s\n",
      "[CV] rfc__criterion=gini, rfc__min_samples_leaf=1, sm__k_neighbors=3 .\n"
     ]
    },
    {
     "name": "stderr",
     "output_type": "stream",
     "text": [
      "[Parallel(n_jobs=1)]: Done   1 out of   1 | elapsed:   28.1s remaining:    0.0s\n"
     ]
    },
    {
     "name": "stdout",
     "output_type": "stream",
     "text": [
      "[CV]  rfc__criterion=gini, rfc__min_samples_leaf=1, sm__k_neighbors=3, total=  28.4s\n",
      "[CV] rfc__criterion=gini, rfc__min_samples_leaf=1, sm__k_neighbors=3 .\n",
      "[CV]  rfc__criterion=gini, rfc__min_samples_leaf=1, sm__k_neighbors=3, total=  28.8s\n",
      "[CV] rfc__criterion=gini, rfc__min_samples_leaf=1, sm__k_neighbors=3 .\n",
      "[CV]  rfc__criterion=gini, rfc__min_samples_leaf=1, sm__k_neighbors=3, total=  28.7s\n",
      "[CV] rfc__criterion=gini, rfc__min_samples_leaf=1, sm__k_neighbors=3 .\n",
      "[CV]  rfc__criterion=gini, rfc__min_samples_leaf=1, sm__k_neighbors=3, total=  28.1s\n",
      "[CV] rfc__criterion=gini, rfc__min_samples_leaf=1, sm__k_neighbors=3 .\n",
      "[CV]  rfc__criterion=gini, rfc__min_samples_leaf=1, sm__k_neighbors=3, total=  28.0s\n",
      "[CV] rfc__criterion=gini, rfc__min_samples_leaf=1, sm__k_neighbors=3 .\n",
      "[CV]  rfc__criterion=gini, rfc__min_samples_leaf=1, sm__k_neighbors=3, total=  27.7s\n",
      "[CV] rfc__criterion=gini, rfc__min_samples_leaf=1, sm__k_neighbors=3 .\n",
      "[CV]  rfc__criterion=gini, rfc__min_samples_leaf=1, sm__k_neighbors=3, total=  28.9s\n",
      "[CV] rfc__criterion=gini, rfc__min_samples_leaf=1, sm__k_neighbors=3 .\n",
      "[CV]  rfc__criterion=gini, rfc__min_samples_leaf=1, sm__k_neighbors=3, total=  27.8s\n",
      "[CV] rfc__criterion=gini, rfc__min_samples_leaf=1, sm__k_neighbors=3 .\n",
      "[CV]  rfc__criterion=gini, rfc__min_samples_leaf=1, sm__k_neighbors=3, total=  28.5s\n",
      "[CV] rfc__criterion=gini, rfc__min_samples_leaf=1, sm__k_neighbors=5 .\n",
      "[CV]  rfc__criterion=gini, rfc__min_samples_leaf=1, sm__k_neighbors=5, total=  29.8s\n",
      "[CV] rfc__criterion=gini, rfc__min_samples_leaf=1, sm__k_neighbors=5 .\n",
      "[CV]  rfc__criterion=gini, rfc__min_samples_leaf=1, sm__k_neighbors=5, total=  30.4s\n",
      "[CV] rfc__criterion=gini, rfc__min_samples_leaf=1, sm__k_neighbors=5 .\n",
      "[CV]  rfc__criterion=gini, rfc__min_samples_leaf=1, sm__k_neighbors=5, total=  29.9s\n",
      "[CV] rfc__criterion=gini, rfc__min_samples_leaf=1, sm__k_neighbors=5 .\n",
      "[CV]  rfc__criterion=gini, rfc__min_samples_leaf=1, sm__k_neighbors=5, total=  30.1s\n",
      "[CV] rfc__criterion=gini, rfc__min_samples_leaf=1, sm__k_neighbors=5 .\n",
      "[CV]  rfc__criterion=gini, rfc__min_samples_leaf=1, sm__k_neighbors=5, total=  29.1s\n",
      "[CV] rfc__criterion=gini, rfc__min_samples_leaf=1, sm__k_neighbors=5 .\n",
      "[CV]  rfc__criterion=gini, rfc__min_samples_leaf=1, sm__k_neighbors=5, total=  29.7s\n",
      "[CV] rfc__criterion=gini, rfc__min_samples_leaf=1, sm__k_neighbors=5 .\n",
      "[CV]  rfc__criterion=gini, rfc__min_samples_leaf=1, sm__k_neighbors=5, total=  29.5s\n",
      "[CV] rfc__criterion=gini, rfc__min_samples_leaf=1, sm__k_neighbors=5 .\n",
      "[CV]  rfc__criterion=gini, rfc__min_samples_leaf=1, sm__k_neighbors=5, total=  29.5s\n",
      "[CV] rfc__criterion=gini, rfc__min_samples_leaf=1, sm__k_neighbors=5 .\n",
      "[CV]  rfc__criterion=gini, rfc__min_samples_leaf=1, sm__k_neighbors=5, total=  29.7s\n",
      "[CV] rfc__criterion=gini, rfc__min_samples_leaf=1, sm__k_neighbors=5 .\n",
      "[CV]  rfc__criterion=gini, rfc__min_samples_leaf=1, sm__k_neighbors=5, total=  30.5s\n",
      "[CV] rfc__criterion=gini, rfc__min_samples_leaf=3, sm__k_neighbors=3 .\n",
      "[CV]  rfc__criterion=gini, rfc__min_samples_leaf=3, sm__k_neighbors=3, total=  26.1s\n",
      "[CV] rfc__criterion=gini, rfc__min_samples_leaf=3, sm__k_neighbors=3 .\n",
      "[CV]  rfc__criterion=gini, rfc__min_samples_leaf=3, sm__k_neighbors=3, total=  26.1s\n",
      "[CV] rfc__criterion=gini, rfc__min_samples_leaf=3, sm__k_neighbors=3 .\n",
      "[CV]  rfc__criterion=gini, rfc__min_samples_leaf=3, sm__k_neighbors=3, total=  25.6s\n",
      "[CV] rfc__criterion=gini, rfc__min_samples_leaf=3, sm__k_neighbors=3 .\n",
      "[CV]  rfc__criterion=gini, rfc__min_samples_leaf=3, sm__k_neighbors=3, total=  26.6s\n",
      "[CV] rfc__criterion=gini, rfc__min_samples_leaf=3, sm__k_neighbors=3 .\n",
      "[CV]  rfc__criterion=gini, rfc__min_samples_leaf=3, sm__k_neighbors=3, total=  26.0s\n",
      "[CV] rfc__criterion=gini, rfc__min_samples_leaf=3, sm__k_neighbors=3 .\n",
      "[CV]  rfc__criterion=gini, rfc__min_samples_leaf=3, sm__k_neighbors=3, total=  26.2s\n",
      "[CV] rfc__criterion=gini, rfc__min_samples_leaf=3, sm__k_neighbors=3 .\n",
      "[CV]  rfc__criterion=gini, rfc__min_samples_leaf=3, sm__k_neighbors=3, total=  25.3s\n",
      "[CV] rfc__criterion=gini, rfc__min_samples_leaf=3, sm__k_neighbors=3 .\n",
      "[CV]  rfc__criterion=gini, rfc__min_samples_leaf=3, sm__k_neighbors=3, total=  25.6s\n",
      "[CV] rfc__criterion=gini, rfc__min_samples_leaf=3, sm__k_neighbors=3 .\n",
      "[CV]  rfc__criterion=gini, rfc__min_samples_leaf=3, sm__k_neighbors=3, total=  25.7s\n",
      "[CV] rfc__criterion=gini, rfc__min_samples_leaf=3, sm__k_neighbors=3 .\n",
      "[CV]  rfc__criterion=gini, rfc__min_samples_leaf=3, sm__k_neighbors=3, total=  26.6s\n",
      "[CV] rfc__criterion=gini, rfc__min_samples_leaf=3, sm__k_neighbors=5 .\n",
      "[CV]  rfc__criterion=gini, rfc__min_samples_leaf=3, sm__k_neighbors=5, total=  27.8s\n",
      "[CV] rfc__criterion=gini, rfc__min_samples_leaf=3, sm__k_neighbors=5 .\n",
      "[CV]  rfc__criterion=gini, rfc__min_samples_leaf=3, sm__k_neighbors=5, total=  27.7s\n",
      "[CV] rfc__criterion=gini, rfc__min_samples_leaf=3, sm__k_neighbors=5 .\n",
      "[CV]  rfc__criterion=gini, rfc__min_samples_leaf=3, sm__k_neighbors=5, total=  27.7s\n",
      "[CV] rfc__criterion=gini, rfc__min_samples_leaf=3, sm__k_neighbors=5 .\n",
      "[CV]  rfc__criterion=gini, rfc__min_samples_leaf=3, sm__k_neighbors=5, total=  27.9s\n",
      "[CV] rfc__criterion=gini, rfc__min_samples_leaf=3, sm__k_neighbors=5 .\n",
      "[CV]  rfc__criterion=gini, rfc__min_samples_leaf=3, sm__k_neighbors=5, total=  27.7s\n",
      "[CV] rfc__criterion=gini, rfc__min_samples_leaf=3, sm__k_neighbors=5 .\n",
      "[CV]  rfc__criterion=gini, rfc__min_samples_leaf=3, sm__k_neighbors=5, total=  28.2s\n",
      "[CV] rfc__criterion=gini, rfc__min_samples_leaf=3, sm__k_neighbors=5 .\n",
      "[CV]  rfc__criterion=gini, rfc__min_samples_leaf=3, sm__k_neighbors=5, total=  27.7s\n",
      "[CV] rfc__criterion=gini, rfc__min_samples_leaf=3, sm__k_neighbors=5 .\n",
      "[CV]  rfc__criterion=gini, rfc__min_samples_leaf=3, sm__k_neighbors=5, total=  28.0s\n",
      "[CV] rfc__criterion=gini, rfc__min_samples_leaf=3, sm__k_neighbors=5 .\n",
      "[CV]  rfc__criterion=gini, rfc__min_samples_leaf=3, sm__k_neighbors=5, total=  28.8s\n",
      "[CV] rfc__criterion=gini, rfc__min_samples_leaf=3, sm__k_neighbors=5 .\n",
      "[CV]  rfc__criterion=gini, rfc__min_samples_leaf=3, sm__k_neighbors=5, total=  28.2s\n",
      "[CV] rfc__criterion=entropy, rfc__min_samples_leaf=1, sm__k_neighbors=3 \n",
      "[CV]  rfc__criterion=entropy, rfc__min_samples_leaf=1, sm__k_neighbors=3, total=  29.5s\n",
      "[CV] rfc__criterion=entropy, rfc__min_samples_leaf=1, sm__k_neighbors=3 \n",
      "[CV]  rfc__criterion=entropy, rfc__min_samples_leaf=1, sm__k_neighbors=3, total=  28.9s\n",
      "[CV] rfc__criterion=entropy, rfc__min_samples_leaf=1, sm__k_neighbors=3 \n",
      "[CV]  rfc__criterion=entropy, rfc__min_samples_leaf=1, sm__k_neighbors=3, total=  28.7s\n",
      "[CV] rfc__criterion=entropy, rfc__min_samples_leaf=1, sm__k_neighbors=3 \n",
      "[CV]  rfc__criterion=entropy, rfc__min_samples_leaf=1, sm__k_neighbors=3, total=  29.1s\n",
      "[CV] rfc__criterion=entropy, rfc__min_samples_leaf=1, sm__k_neighbors=3 \n",
      "[CV]  rfc__criterion=entropy, rfc__min_samples_leaf=1, sm__k_neighbors=3, total=  30.5s\n",
      "[CV] rfc__criterion=entropy, rfc__min_samples_leaf=1, sm__k_neighbors=3 \n",
      "[CV]  rfc__criterion=entropy, rfc__min_samples_leaf=1, sm__k_neighbors=3, total=  32.0s\n",
      "[CV] rfc__criterion=entropy, rfc__min_samples_leaf=1, sm__k_neighbors=3 \n",
      "[CV]  rfc__criterion=entropy, rfc__min_samples_leaf=1, sm__k_neighbors=3, total=  31.8s\n",
      "[CV] rfc__criterion=entropy, rfc__min_samples_leaf=1, sm__k_neighbors=3 \n",
      "[CV]  rfc__criterion=entropy, rfc__min_samples_leaf=1, sm__k_neighbors=3, total=  32.3s\n",
      "[CV] rfc__criterion=entropy, rfc__min_samples_leaf=1, sm__k_neighbors=3 \n",
      "[CV]  rfc__criterion=entropy, rfc__min_samples_leaf=1, sm__k_neighbors=3, total=  32.1s\n",
      "[CV] rfc__criterion=entropy, rfc__min_samples_leaf=1, sm__k_neighbors=3 \n",
      "[CV]  rfc__criterion=entropy, rfc__min_samples_leaf=1, sm__k_neighbors=3, total=  32.9s\n",
      "[CV] rfc__criterion=entropy, rfc__min_samples_leaf=1, sm__k_neighbors=5 \n",
      "[CV]  rfc__criterion=entropy, rfc__min_samples_leaf=1, sm__k_neighbors=5, total=  34.4s\n",
      "[CV] rfc__criterion=entropy, rfc__min_samples_leaf=1, sm__k_neighbors=5 \n",
      "[CV]  rfc__criterion=entropy, rfc__min_samples_leaf=1, sm__k_neighbors=5, total=  34.6s\n",
      "[CV] rfc__criterion=entropy, rfc__min_samples_leaf=1, sm__k_neighbors=5 \n",
      "[CV]  rfc__criterion=entropy, rfc__min_samples_leaf=1, sm__k_neighbors=5, total=  34.1s\n",
      "[CV] rfc__criterion=entropy, rfc__min_samples_leaf=1, sm__k_neighbors=5 \n",
      "[CV]  rfc__criterion=entropy, rfc__min_samples_leaf=1, sm__k_neighbors=5, total=  34.8s\n",
      "[CV] rfc__criterion=entropy, rfc__min_samples_leaf=1, sm__k_neighbors=5 \n"
     ]
    },
    {
     "name": "stdout",
     "output_type": "stream",
     "text": [
      "[CV]  rfc__criterion=entropy, rfc__min_samples_leaf=1, sm__k_neighbors=5, total=  34.2s\n",
      "[CV] rfc__criterion=entropy, rfc__min_samples_leaf=1, sm__k_neighbors=5 \n",
      "[CV]  rfc__criterion=entropy, rfc__min_samples_leaf=1, sm__k_neighbors=5, total=  34.5s\n",
      "[CV] rfc__criterion=entropy, rfc__min_samples_leaf=1, sm__k_neighbors=5 \n",
      "[CV]  rfc__criterion=entropy, rfc__min_samples_leaf=1, sm__k_neighbors=5, total=  34.4s\n",
      "[CV] rfc__criterion=entropy, rfc__min_samples_leaf=1, sm__k_neighbors=5 \n",
      "[CV]  rfc__criterion=entropy, rfc__min_samples_leaf=1, sm__k_neighbors=5, total=  35.0s\n",
      "[CV] rfc__criterion=entropy, rfc__min_samples_leaf=1, sm__k_neighbors=5 \n",
      "[CV]  rfc__criterion=entropy, rfc__min_samples_leaf=1, sm__k_neighbors=5, total=  35.1s\n",
      "[CV] rfc__criterion=entropy, rfc__min_samples_leaf=1, sm__k_neighbors=5 \n",
      "[CV]  rfc__criterion=entropy, rfc__min_samples_leaf=1, sm__k_neighbors=5, total=  36.0s\n",
      "[CV] rfc__criterion=entropy, rfc__min_samples_leaf=3, sm__k_neighbors=3 \n",
      "[CV]  rfc__criterion=entropy, rfc__min_samples_leaf=3, sm__k_neighbors=3, total=  30.4s\n",
      "[CV] rfc__criterion=entropy, rfc__min_samples_leaf=3, sm__k_neighbors=3 \n",
      "[CV]  rfc__criterion=entropy, rfc__min_samples_leaf=3, sm__k_neighbors=3, total=  30.5s\n",
      "[CV] rfc__criterion=entropy, rfc__min_samples_leaf=3, sm__k_neighbors=3 \n",
      "[CV]  rfc__criterion=entropy, rfc__min_samples_leaf=3, sm__k_neighbors=3, total=  30.1s\n",
      "[CV] rfc__criterion=entropy, rfc__min_samples_leaf=3, sm__k_neighbors=3 \n",
      "[CV]  rfc__criterion=entropy, rfc__min_samples_leaf=3, sm__k_neighbors=3, total=  30.2s\n",
      "[CV] rfc__criterion=entropy, rfc__min_samples_leaf=3, sm__k_neighbors=3 \n",
      "[CV]  rfc__criterion=entropy, rfc__min_samples_leaf=3, sm__k_neighbors=3, total=  30.0s\n",
      "[CV] rfc__criterion=entropy, rfc__min_samples_leaf=3, sm__k_neighbors=3 \n",
      "[CV]  rfc__criterion=entropy, rfc__min_samples_leaf=3, sm__k_neighbors=3, total=  30.3s\n",
      "[CV] rfc__criterion=entropy, rfc__min_samples_leaf=3, sm__k_neighbors=3 \n",
      "[CV]  rfc__criterion=entropy, rfc__min_samples_leaf=3, sm__k_neighbors=3, total=  29.7s\n",
      "[CV] rfc__criterion=entropy, rfc__min_samples_leaf=3, sm__k_neighbors=3 \n",
      "[CV]  rfc__criterion=entropy, rfc__min_samples_leaf=3, sm__k_neighbors=3, total=  30.2s\n",
      "[CV] rfc__criterion=entropy, rfc__min_samples_leaf=3, sm__k_neighbors=3 \n",
      "[CV]  rfc__criterion=entropy, rfc__min_samples_leaf=3, sm__k_neighbors=3, total=  30.3s\n",
      "[CV] rfc__criterion=entropy, rfc__min_samples_leaf=3, sm__k_neighbors=3 \n",
      "[CV]  rfc__criterion=entropy, rfc__min_samples_leaf=3, sm__k_neighbors=3, total=  31.0s\n",
      "[CV] rfc__criterion=entropy, rfc__min_samples_leaf=3, sm__k_neighbors=5 \n",
      "[CV]  rfc__criterion=entropy, rfc__min_samples_leaf=3, sm__k_neighbors=5, total=  32.6s\n",
      "[CV] rfc__criterion=entropy, rfc__min_samples_leaf=3, sm__k_neighbors=5 \n",
      "[CV]  rfc__criterion=entropy, rfc__min_samples_leaf=3, sm__k_neighbors=5, total=  32.1s\n",
      "[CV] rfc__criterion=entropy, rfc__min_samples_leaf=3, sm__k_neighbors=5 \n",
      "[CV]  rfc__criterion=entropy, rfc__min_samples_leaf=3, sm__k_neighbors=5, total=  32.0s\n",
      "[CV] rfc__criterion=entropy, rfc__min_samples_leaf=3, sm__k_neighbors=5 \n",
      "[CV]  rfc__criterion=entropy, rfc__min_samples_leaf=3, sm__k_neighbors=5, total=  32.6s\n",
      "[CV] rfc__criterion=entropy, rfc__min_samples_leaf=3, sm__k_neighbors=5 \n",
      "[CV]  rfc__criterion=entropy, rfc__min_samples_leaf=3, sm__k_neighbors=5, total=  32.5s\n",
      "[CV] rfc__criterion=entropy, rfc__min_samples_leaf=3, sm__k_neighbors=5 \n",
      "[CV]  rfc__criterion=entropy, rfc__min_samples_leaf=3, sm__k_neighbors=5, total=  32.3s\n",
      "[CV] rfc__criterion=entropy, rfc__min_samples_leaf=3, sm__k_neighbors=5 \n",
      "[CV]  rfc__criterion=entropy, rfc__min_samples_leaf=3, sm__k_neighbors=5, total=  32.1s\n",
      "[CV] rfc__criterion=entropy, rfc__min_samples_leaf=3, sm__k_neighbors=5 \n",
      "[CV]  rfc__criterion=entropy, rfc__min_samples_leaf=3, sm__k_neighbors=5, total=  32.8s\n",
      "[CV] rfc__criterion=entropy, rfc__min_samples_leaf=3, sm__k_neighbors=5 \n",
      "[CV]  rfc__criterion=entropy, rfc__min_samples_leaf=3, sm__k_neighbors=5, total=  32.8s\n",
      "[CV] rfc__criterion=entropy, rfc__min_samples_leaf=3, sm__k_neighbors=5 \n",
      "[CV]  rfc__criterion=entropy, rfc__min_samples_leaf=3, sm__k_neighbors=5, total=  32.9s\n"
     ]
    },
    {
     "name": "stderr",
     "output_type": "stream",
     "text": [
      "[Parallel(n_jobs=1)]: Done  80 out of  80 | elapsed: 40.1min finished\n"
     ]
    },
    {
     "data": {
      "text/plain": [
       "GridSearchCV(cv=10,\n",
       "             estimator=Pipeline(steps=[('ct',\n",
       "                                        ColumnTransformer(remainder='passthrough',\n",
       "                                                          transformers=[('num_trans',\n",
       "                                                                         Pipeline(steps=[('num_impute',\n",
       "                                                                                          SimpleImputer()),\n",
       "                                                                                         ('ss',\n",
       "                                                                                          StandardScaler())]),\n",
       "                                                                         <sklearn.compose._column_transformer.make_column_selector object at 0x000001E1730C56D0>),\n",
       "                                                                        ('cat_trans',\n",
       "                                                                         Pipeline(steps=[('cat_impute',\n",
       "                                                                                          SimpleImputer(strategy='most...nt')),\n",
       "                                                                                         ('ohe',\n",
       "                                                                                          OneHotEncoder(handle_unknown='ignore',\n",
       "                                                                                                        sparse=False))]),\n",
       "                                                                         <sklearn.compose._column_transformer.make_column_selector object at 0x000001E1730C59A0>)])),\n",
       "                                       ('sm', SMOTE(random_state=42)),\n",
       "                                       ('rfc',\n",
       "                                        RandomForestClassifier(random_state=42))]),\n",
       "             param_grid={'rfc__criterion': ['gini', 'entropy'],\n",
       "                         'rfc__min_samples_leaf': [1, 3],\n",
       "                         'sm__k_neighbors': [3, 5]},\n",
       "             verbose=2)"
      ]
     },
     "execution_count": 62,
     "metadata": {},
     "output_type": "execute_result"
    }
   ],
   "source": [
    "parameters = {'rfc__criterion': ['gini', 'entropy'],\n",
    "          'rfc__min_samples_leaf': [1, 3],\n",
    "          'sm__k_neighbors': [3, 5]}\n",
    "\n",
    "gs_smote_rfc = GridSearchCV(estimator=imb_pipe,\n",
    "                 param_grid=parameters,\n",
    "                 cv=10, verbose=2)\n",
    "\n",
    "gs_smote_rfc.fit(X_train, y_train)"
   ]
  },
  {
   "cell_type": "code",
   "execution_count": 63,
   "metadata": {
    "ExecuteTime": {
     "end_time": "2023-01-04T03:11:14.792944Z",
     "start_time": "2023-01-04T03:11:14.784487Z"
    }
   },
   "outputs": [
    {
     "data": {
      "text/plain": [
       "{'rfc__criterion': 'entropy', 'rfc__min_samples_leaf': 1, 'sm__k_neighbors': 3}"
      ]
     },
     "execution_count": 63,
     "metadata": {},
     "output_type": "execute_result"
    }
   ],
   "source": [
    "gs_smote_rfc.best_params_"
   ]
  },
  {
   "cell_type": "code",
   "execution_count": 64,
   "metadata": {
    "ExecuteTime": {
     "end_time": "2023-01-04T03:11:16.207730Z",
     "start_time": "2023-01-04T03:11:14.792944Z"
    }
   },
   "outputs": [
    {
     "data": {
      "text/plain": [
       "0.9995406733728355"
      ]
     },
     "execution_count": 64,
     "metadata": {},
     "output_type": "execute_result"
    }
   ],
   "source": [
    "gsRfc_score_train = gs_smote_rfc.score(X_train, y_train)\n",
    "gsRfc_score_train"
   ]
  },
  {
   "cell_type": "code",
   "execution_count": 65,
   "metadata": {
    "ExecuteTime": {
     "end_time": "2023-01-04T03:11:16.709678Z",
     "start_time": "2023-01-04T03:11:16.208726Z"
    }
   },
   "outputs": [
    {
     "data": {
      "text/plain": [
       "0.6579400620048226"
      ]
     },
     "execution_count": 65,
     "metadata": {},
     "output_type": "execute_result"
    }
   ],
   "source": [
    "# Validate with testing data:\n",
    "gsRfc_score_test = gs_smote_rfc.score(X_test, y_test)\n",
    "gsRfc_score_test"
   ]
  },
  {
   "cell_type": "markdown",
   "metadata": {},
   "source": [
    "## Evaluation and Final Model\n",
    "\n",
    "### Bring the scores together from all models:"
   ]
  },
  {
   "cell_type": "code",
   "execution_count": 66,
   "metadata": {
    "ExecuteTime": {
     "end_time": "2023-01-04T03:11:16.719791Z",
     "start_time": "2023-01-04T03:11:16.709678Z"
    }
   },
   "outputs": [],
   "source": [
    "model_list = ['dummy', 'logreg', 'rfc', 'gbc', 'dtc', 'tunedLogreg', 'tunedRfc', 'imbRfc', 'gsRfc']\n",
    "\n",
    "score_train_list = [] \n",
    "score_test_list = []\n",
    "\n",
    "for i in model_list:\n",
    "    score_train_list.append(eval(i+'_score_train'))\n",
    "    score_test_list.append(eval(i+'_score_test'))\n"
   ]
  },
  {
   "cell_type": "code",
   "execution_count": 67,
   "metadata": {
    "ExecuteTime": {
     "end_time": "2023-01-04T03:11:16.750501Z",
     "start_time": "2023-01-04T03:11:16.726516Z"
    }
   },
   "outputs": [
    {
     "data": {
      "text/html": [
       "<div>\n",
       "<style scoped>\n",
       "    .dataframe tbody tr th:only-of-type {\n",
       "        vertical-align: middle;\n",
       "    }\n",
       "\n",
       "    .dataframe tbody tr th {\n",
       "        vertical-align: top;\n",
       "    }\n",
       "\n",
       "    .dataframe thead th {\n",
       "        text-align: right;\n",
       "    }\n",
       "</style>\n",
       "<table border=\"1\" class=\"dataframe\">\n",
       "  <thead>\n",
       "    <tr style=\"text-align: right;\">\n",
       "      <th></th>\n",
       "      <th>score_train</th>\n",
       "      <th>score_test</th>\n",
       "    </tr>\n",
       "  </thead>\n",
       "  <tbody>\n",
       "    <tr>\n",
       "      <th>dummy</th>\n",
       "      <td>0.644826</td>\n",
       "      <td>0.646986</td>\n",
       "    </tr>\n",
       "    <tr>\n",
       "      <th>logreg</th>\n",
       "      <td>0.644757</td>\n",
       "      <td>0.643058</td>\n",
       "    </tr>\n",
       "    <tr>\n",
       "      <th>rfc</th>\n",
       "      <td>0.659754</td>\n",
       "      <td>0.643542</td>\n",
       "    </tr>\n",
       "    <tr>\n",
       "      <th>gbc</th>\n",
       "      <td>0.647191</td>\n",
       "      <td>0.647537</td>\n",
       "    </tr>\n",
       "    <tr>\n",
       "      <th>dtc</th>\n",
       "      <td>0.593863</td>\n",
       "      <td>0.572512</td>\n",
       "    </tr>\n",
       "    <tr>\n",
       "      <th>tunedLogreg</th>\n",
       "      <td>0.644757</td>\n",
       "      <td>0.645195</td>\n",
       "    </tr>\n",
       "    <tr>\n",
       "      <th>tunedRfc</th>\n",
       "      <td>0.644826</td>\n",
       "      <td>0.646986</td>\n",
       "    </tr>\n",
       "    <tr>\n",
       "      <th>imbRfc</th>\n",
       "      <td>0.999541</td>\n",
       "      <td>0.656424</td>\n",
       "    </tr>\n",
       "    <tr>\n",
       "      <th>gsRfc</th>\n",
       "      <td>0.999541</td>\n",
       "      <td>0.657940</td>\n",
       "    </tr>\n",
       "  </tbody>\n",
       "</table>\n",
       "</div>"
      ],
      "text/plain": [
       "             score_train  score_test\n",
       "dummy           0.644826    0.646986\n",
       "logreg          0.644757    0.643058\n",
       "rfc             0.659754    0.643542\n",
       "gbc             0.647191    0.647537\n",
       "dtc             0.593863    0.572512\n",
       "tunedLogreg     0.644757    0.645195\n",
       "tunedRfc        0.644826    0.646986\n",
       "imbRfc          0.999541    0.656424\n",
       "gsRfc           0.999541    0.657940"
      ]
     },
     "execution_count": 67,
     "metadata": {},
     "output_type": "execute_result"
    }
   ],
   "source": [
    "df_score_train = pd.DataFrame (score_train_list, columns = ['score_train'], index=model_list)\n",
    "df_score_test = pd.DataFrame (score_test_list, columns = ['score_test'], index=model_list)\n",
    "df_score = pd.concat([df_score_train, df_score_test], axis=1)\n",
    "\n",
    "\n",
    "df_score"
   ]
  },
  {
   "cell_type": "code",
   "execution_count": 68,
   "metadata": {
    "ExecuteTime": {
     "end_time": "2023-01-04T03:11:16.765399Z",
     "start_time": "2023-01-04T03:11:16.750501Z"
    }
   },
   "outputs": [
    {
     "data": {
      "text/html": [
       "<div>\n",
       "<style scoped>\n",
       "    .dataframe tbody tr th:only-of-type {\n",
       "        vertical-align: middle;\n",
       "    }\n",
       "\n",
       "    .dataframe tbody tr th {\n",
       "        vertical-align: top;\n",
       "    }\n",
       "\n",
       "    .dataframe thead th {\n",
       "        text-align: right;\n",
       "    }\n",
       "</style>\n",
       "<table border=\"1\" class=\"dataframe\">\n",
       "  <thead>\n",
       "    <tr style=\"text-align: right;\">\n",
       "      <th></th>\n",
       "      <th>score_train</th>\n",
       "      <th>score_test</th>\n",
       "      <th>difference</th>\n",
       "    </tr>\n",
       "  </thead>\n",
       "  <tbody>\n",
       "    <tr>\n",
       "      <th>dummy</th>\n",
       "      <td>0.644826</td>\n",
       "      <td>0.646986</td>\n",
       "      <td>0.002160</td>\n",
       "    </tr>\n",
       "    <tr>\n",
       "      <th>logreg</th>\n",
       "      <td>0.644757</td>\n",
       "      <td>0.643058</td>\n",
       "      <td>-0.001699</td>\n",
       "    </tr>\n",
       "    <tr>\n",
       "      <th>rfc</th>\n",
       "      <td>0.659754</td>\n",
       "      <td>0.643542</td>\n",
       "      <td>-0.016212</td>\n",
       "    </tr>\n",
       "    <tr>\n",
       "      <th>gbc</th>\n",
       "      <td>0.647191</td>\n",
       "      <td>0.647537</td>\n",
       "      <td>0.000346</td>\n",
       "    </tr>\n",
       "    <tr>\n",
       "      <th>dtc</th>\n",
       "      <td>0.593863</td>\n",
       "      <td>0.572512</td>\n",
       "      <td>-0.021352</td>\n",
       "    </tr>\n",
       "    <tr>\n",
       "      <th>tunedLogreg</th>\n",
       "      <td>0.644757</td>\n",
       "      <td>0.645195</td>\n",
       "      <td>0.000438</td>\n",
       "    </tr>\n",
       "    <tr>\n",
       "      <th>tunedRfc</th>\n",
       "      <td>0.644826</td>\n",
       "      <td>0.646986</td>\n",
       "      <td>0.002160</td>\n",
       "    </tr>\n",
       "    <tr>\n",
       "      <th>imbRfc</th>\n",
       "      <td>0.999541</td>\n",
       "      <td>0.656424</td>\n",
       "      <td>-0.343116</td>\n",
       "    </tr>\n",
       "    <tr>\n",
       "      <th>gsRfc</th>\n",
       "      <td>0.999541</td>\n",
       "      <td>0.657940</td>\n",
       "      <td>-0.341601</td>\n",
       "    </tr>\n",
       "  </tbody>\n",
       "</table>\n",
       "</div>"
      ],
      "text/plain": [
       "             score_train  score_test  difference\n",
       "dummy           0.644826    0.646986    0.002160\n",
       "logreg          0.644757    0.643058   -0.001699\n",
       "rfc             0.659754    0.643542   -0.016212\n",
       "gbc             0.647191    0.647537    0.000346\n",
       "dtc             0.593863    0.572512   -0.021352\n",
       "tunedLogreg     0.644757    0.645195    0.000438\n",
       "tunedRfc        0.644826    0.646986    0.002160\n",
       "imbRfc          0.999541    0.656424   -0.343116\n",
       "gsRfc           0.999541    0.657940   -0.341601"
      ]
     },
     "execution_count": 68,
     "metadata": {},
     "output_type": "execute_result"
    }
   ],
   "source": [
    "df_score['difference'] = df_score['score_test']-df_score['score_train']\n",
    "df_score"
   ]
  },
  {
   "cell_type": "markdown",
   "metadata": {
    "ExecuteTime": {
     "end_time": "2022-12-31T20:33:34.283596Z",
     "start_time": "2022-12-31T20:33:34.268596Z"
    }
   },
   "source": [
    "### Score DataFrame:"
   ]
  },
  {
   "cell_type": "code",
   "execution_count": 69,
   "metadata": {
    "ExecuteTime": {
     "end_time": "2023-01-04T03:11:16.780704Z",
     "start_time": "2023-01-04T03:11:16.765399Z"
    }
   },
   "outputs": [
    {
     "data": {
      "text/html": [
       "<div>\n",
       "<style scoped>\n",
       "    .dataframe tbody tr th:only-of-type {\n",
       "        vertical-align: middle;\n",
       "    }\n",
       "\n",
       "    .dataframe tbody tr th {\n",
       "        vertical-align: top;\n",
       "    }\n",
       "\n",
       "    .dataframe thead th {\n",
       "        text-align: right;\n",
       "    }\n",
       "</style>\n",
       "<table border=\"1\" class=\"dataframe\">\n",
       "  <thead>\n",
       "    <tr style=\"text-align: right;\">\n",
       "      <th></th>\n",
       "      <th>score_train</th>\n",
       "      <th>score_test</th>\n",
       "      <th>difference</th>\n",
       "      <th>fitting</th>\n",
       "    </tr>\n",
       "  </thead>\n",
       "  <tbody>\n",
       "    <tr>\n",
       "      <th>dummy</th>\n",
       "      <td>0.644826</td>\n",
       "      <td>0.646986</td>\n",
       "      <td>0.002160</td>\n",
       "      <td>under fitting</td>\n",
       "    </tr>\n",
       "    <tr>\n",
       "      <th>logreg</th>\n",
       "      <td>0.644757</td>\n",
       "      <td>0.643058</td>\n",
       "      <td>-0.001699</td>\n",
       "      <td>over fitting</td>\n",
       "    </tr>\n",
       "    <tr>\n",
       "      <th>rfc</th>\n",
       "      <td>0.659754</td>\n",
       "      <td>0.643542</td>\n",
       "      <td>-0.016212</td>\n",
       "      <td>over fitting</td>\n",
       "    </tr>\n",
       "    <tr>\n",
       "      <th>gbc</th>\n",
       "      <td>0.647191</td>\n",
       "      <td>0.647537</td>\n",
       "      <td>0.000346</td>\n",
       "      <td>under fitting</td>\n",
       "    </tr>\n",
       "    <tr>\n",
       "      <th>dtc</th>\n",
       "      <td>0.593863</td>\n",
       "      <td>0.572512</td>\n",
       "      <td>-0.021352</td>\n",
       "      <td>over fitting</td>\n",
       "    </tr>\n",
       "    <tr>\n",
       "      <th>tunedLogreg</th>\n",
       "      <td>0.644757</td>\n",
       "      <td>0.645195</td>\n",
       "      <td>0.000438</td>\n",
       "      <td>under fitting</td>\n",
       "    </tr>\n",
       "    <tr>\n",
       "      <th>tunedRfc</th>\n",
       "      <td>0.644826</td>\n",
       "      <td>0.646986</td>\n",
       "      <td>0.002160</td>\n",
       "      <td>under fitting</td>\n",
       "    </tr>\n",
       "    <tr>\n",
       "      <th>imbRfc</th>\n",
       "      <td>0.999541</td>\n",
       "      <td>0.656424</td>\n",
       "      <td>-0.343116</td>\n",
       "      <td>over fitting</td>\n",
       "    </tr>\n",
       "    <tr>\n",
       "      <th>gsRfc</th>\n",
       "      <td>0.999541</td>\n",
       "      <td>0.657940</td>\n",
       "      <td>-0.341601</td>\n",
       "      <td>over fitting</td>\n",
       "    </tr>\n",
       "  </tbody>\n",
       "</table>\n",
       "</div>"
      ],
      "text/plain": [
       "             score_train  score_test  difference        fitting\n",
       "dummy           0.644826    0.646986    0.002160  under fitting\n",
       "logreg          0.644757    0.643058   -0.001699   over fitting\n",
       "rfc             0.659754    0.643542   -0.016212   over fitting\n",
       "gbc             0.647191    0.647537    0.000346  under fitting\n",
       "dtc             0.593863    0.572512   -0.021352   over fitting\n",
       "tunedLogreg     0.644757    0.645195    0.000438  under fitting\n",
       "tunedRfc        0.644826    0.646986    0.002160  under fitting\n",
       "imbRfc          0.999541    0.656424   -0.343116   over fitting\n",
       "gsRfc           0.999541    0.657940   -0.341601   over fitting"
      ]
     },
     "execution_count": 69,
     "metadata": {},
     "output_type": "execute_result"
    }
   ],
   "source": [
    "df_score['fitting'] = np.where(df_score['difference'] < 0, \"over fitting\", \"under fitting\")\n",
    "df_score"
   ]
  },
  {
   "cell_type": "markdown",
   "metadata": {},
   "source": [
    "## Final Model!"
   ]
  },
  {
   "cell_type": "code",
   "execution_count": 75,
   "metadata": {
    "ExecuteTime": {
     "end_time": "2023-01-04T05:39:46.367346Z",
     "start_time": "2023-01-04T05:39:46.363348Z"
    }
   },
   "outputs": [],
   "source": [
    "final_model = gs_logreg"
   ]
  },
  {
   "cell_type": "code",
   "execution_count": 76,
   "metadata": {
    "ExecuteTime": {
     "end_time": "2023-01-04T05:39:47.842479Z",
     "start_time": "2023-01-04T05:39:47.522339Z"
    }
   },
   "outputs": [
    {
     "data": {
      "image/png": "[encoded data removed]",
      "text/plain": [
       "<Figure size 432x288 with 2 Axes>"
      ]
     },
     "metadata": {
      "needs_background": "light"
     },
     "output_type": "display_data"
    }
   ],
   "source": [
    "plot_confusion_matrix(final_model, X_train, y_train);"
   ]
  },
  {
   "cell_type": "code",
   "execution_count": 72,
   "metadata": {
    "ExecuteTime": {
     "end_time": "2023-01-04T03:11:19.634546Z",
     "start_time": "2023-01-04T03:11:18.318744Z"
    }
   },
   "outputs": [],
   "source": [
    "y_hat = final_model.predict(X_train)"
   ]
  },
  {
   "cell_type": "code",
   "execution_count": 73,
   "metadata": {
    "ExecuteTime": {
     "end_time": "2023-01-04T03:11:19.966502Z",
     "start_time": "2023-01-04T03:11:19.634546Z"
    }
   },
   "outputs": [
    {
     "name": "stderr",
     "output_type": "stream",
     "text": [
      "C:\\Users\\Chiafeng\\anaconda3\\envs\\learn-env\\lib\\site-packages\\sklearn\\metrics\\_classification.py:1254: FutureWarning: elementwise comparison failed; returning scalar instead, but in the future will perform elementwise comparison\n",
      "  if pos_label not in present_labels:\n"
     ]
    },
    {
     "ename": "ValueError",
     "evalue": "pos_label=1 is not a valid label: array(['$1,500 OR LESS', 'OVER $1,500'], dtype='<U14')",
     "output_type": "error",
     "traceback": [
      "\u001b[1;31m---------------------------------------------------------------------------\u001b[0m",
      "\u001b[1;31mValueError\u001b[0m                                Traceback (most recent call last)",
      "\u001b[1;32m<ipython-input-73-fa04b41c69d7>\u001b[0m in \u001b[0;36m<module>\u001b[1;34m\u001b[0m\n\u001b[0;32m      1\u001b[0m print(f\"\"\"\n\u001b[0;32m      2\u001b[0m \u001b[0mOur\u001b[0m \u001b[0mfinal\u001b[0m \u001b[0mmodel\u001b[0m\u001b[0;31m'\u001b[0m\u001b[0ms\u001b[0m \u001b[0maccuracy\u001b[0m \u001b[0mon\u001b[0m \u001b[0mthe\u001b[0m \u001b[0mtest\u001b[0m \u001b[0mset\u001b[0m \u001b[1;32mis\u001b[0m \u001b[1;33m{\u001b[0m\u001b[0mround\u001b[0m\u001b[1;33m(\u001b[0m\u001b[0maccuracy_score\u001b[0m\u001b[1;33m(\u001b[0m\u001b[0my_train\u001b[0m\u001b[1;33m,\u001b[0m \u001b[0my_hat\u001b[0m\u001b[1;33m)\u001b[0m\u001b[1;33m,\u001b[0m \u001b[1;36m2\u001b[0m\u001b[1;33m)\u001b[0m\u001b[1;33m}\u001b[0m\u001b[1;33m.\u001b[0m\u001b[0;31m \u001b[0m\u001b[0;31m\\\u001b[0m\u001b[0mn\u001b[0m\u001b[1;33m\u001b[0m\u001b[1;33m\u001b[0m\u001b[0m\n\u001b[1;32m----> 3\u001b[1;33m \u001b[0mOur\u001b[0m \u001b[0mfinal\u001b[0m \u001b[0mmodel\u001b[0m\u001b[0;31m'\u001b[0m\u001b[0ms\u001b[0m \u001b[0mrecall\u001b[0m \u001b[0mon\u001b[0m \u001b[0mthe\u001b[0m \u001b[0mtest\u001b[0m \u001b[0mset\u001b[0m \u001b[1;32mis\u001b[0m \u001b[1;33m{\u001b[0m\u001b[0mround\u001b[0m\u001b[1;33m(\u001b[0m\u001b[0mrecall_score\u001b[0m\u001b[1;33m(\u001b[0m\u001b[0my_train\u001b[0m\u001b[1;33m,\u001b[0m \u001b[0my_hat\u001b[0m\u001b[1;33m)\u001b[0m\u001b[1;33m,\u001b[0m \u001b[1;36m2\u001b[0m\u001b[1;33m)\u001b[0m\u001b[1;33m}\u001b[0m\u001b[0;31m \u001b[0m\u001b[0;31m\\\u001b[0m\u001b[0mn\u001b[0m\u001b[1;33m\u001b[0m\u001b[1;33m\u001b[0m\u001b[0m\n\u001b[0m\u001b[0;32m      4\u001b[0m \u001b[0mOur\u001b[0m \u001b[0mfinal\u001b[0m \u001b[0mmodel\u001b[0m\u001b[0;31m'\u001b[0m\u001b[0ms\u001b[0m \u001b[0mprecision\u001b[0m \u001b[0mon\u001b[0m \u001b[0mthe\u001b[0m \u001b[0mtest\u001b[0m \u001b[0mset\u001b[0m \u001b[1;32mis\u001b[0m \u001b[1;33m{\u001b[0m\u001b[0mround\u001b[0m\u001b[1;33m(\u001b[0m\u001b[0mprecision_score\u001b[0m\u001b[1;33m(\u001b[0m\u001b[0my_train\u001b[0m\u001b[1;33m,\u001b[0m \u001b[0my_hat\u001b[0m\u001b[1;33m)\u001b[0m\u001b[1;33m,\u001b[0m \u001b[1;36m2\u001b[0m\u001b[1;33m)\u001b[0m\u001b[1;33m}\u001b[0m\u001b[0;31m \u001b[0m\u001b[0;31m\\\u001b[0m\u001b[0mn\u001b[0m\u001b[1;33m\u001b[0m\u001b[1;33m\u001b[0m\u001b[0m\n\u001b[0;32m      5\u001b[0m \u001b[0mOur\u001b[0m \u001b[0mfinal\u001b[0m \u001b[0mmodel\u001b[0m\u001b[0;31m'\u001b[0m\u001b[0ms\u001b[0m \u001b[0mf1\u001b[0m\u001b[1;33m-\u001b[0m\u001b[0mscore\u001b[0m \u001b[0mon\u001b[0m \u001b[0mthe\u001b[0m \u001b[0mtest\u001b[0m \u001b[1;32mis\u001b[0m \u001b[1;33m{\u001b[0m\u001b[0mround\u001b[0m\u001b[1;33m(\u001b[0m\u001b[0mf1_score\u001b[0m\u001b[1;33m(\u001b[0m\u001b[0my_train\u001b[0m\u001b[1;33m,\u001b[0m \u001b[0my_hat\u001b[0m\u001b[1;33m)\u001b[0m\u001b[1;33m,\u001b[0m \u001b[1;36m2\u001b[0m\u001b[1;33m)\u001b[0m\u001b[1;33m}\u001b[0m\u001b[1;33m.\u001b[0m\u001b[1;33m\u001b[0m\u001b[1;33m\u001b[0m\u001b[0m\n",
      "\u001b[1;32m~\\anaconda3\\envs\\learn-env\\lib\\site-packages\\sklearn\\utils\\validation.py\u001b[0m in \u001b[0;36minner_f\u001b[1;34m(*args, **kwargs)\u001b[0m\n\u001b[0;32m     70\u001b[0m                           FutureWarning)\n\u001b[0;32m     71\u001b[0m         \u001b[0mkwargs\u001b[0m\u001b[1;33m.\u001b[0m\u001b[0mupdate\u001b[0m\u001b[1;33m(\u001b[0m\u001b[1;33m{\u001b[0m\u001b[0mk\u001b[0m\u001b[1;33m:\u001b[0m \u001b[0marg\u001b[0m \u001b[1;32mfor\u001b[0m \u001b[0mk\u001b[0m\u001b[1;33m,\u001b[0m \u001b[0marg\u001b[0m \u001b[1;32min\u001b[0m \u001b[0mzip\u001b[0m\u001b[1;33m(\u001b[0m\u001b[0msig\u001b[0m\u001b[1;33m.\u001b[0m\u001b[0mparameters\u001b[0m\u001b[1;33m,\u001b[0m \u001b[0margs\u001b[0m\u001b[1;33m)\u001b[0m\u001b[1;33m}\u001b[0m\u001b[1;33m)\u001b[0m\u001b[1;33m\u001b[0m\u001b[1;33m\u001b[0m\u001b[0m\n\u001b[1;32m---> 72\u001b[1;33m         \u001b[1;32mreturn\u001b[0m \u001b[0mf\u001b[0m\u001b[1;33m(\u001b[0m\u001b[1;33m**\u001b[0m\u001b[0mkwargs\u001b[0m\u001b[1;33m)\u001b[0m\u001b[1;33m\u001b[0m\u001b[1;33m\u001b[0m\u001b[0m\n\u001b[0m\u001b[0;32m     73\u001b[0m     \u001b[1;32mreturn\u001b[0m \u001b[0minner_f\u001b[0m\u001b[1;33m\u001b[0m\u001b[1;33m\u001b[0m\u001b[0m\n\u001b[0;32m     74\u001b[0m \u001b[1;33m\u001b[0m\u001b[0m\n",
      "\u001b[1;32m~\\anaconda3\\envs\\learn-env\\lib\\site-packages\\sklearn\\metrics\\_classification.py\u001b[0m in \u001b[0;36mrecall_score\u001b[1;34m(y_true, y_pred, labels, pos_label, average, sample_weight, zero_division)\u001b[0m\n\u001b[0;32m   1733\u001b[0m     \u001b[0;31m`\u001b[0m\u001b[0;31m`\u001b[0m\u001b[0mzero_division\u001b[0m\u001b[0;31m`\u001b[0m\u001b[0;31m`\u001b[0m\u001b[1;33m.\u001b[0m\u001b[1;33m\u001b[0m\u001b[1;33m\u001b[0m\u001b[0m\n\u001b[0;32m   1734\u001b[0m     \"\"\"\n\u001b[1;32m-> 1735\u001b[1;33m     _, r, _, _ = precision_recall_fscore_support(y_true, y_pred,\n\u001b[0m\u001b[0;32m   1736\u001b[0m                                                  \u001b[0mlabels\u001b[0m\u001b[1;33m=\u001b[0m\u001b[0mlabels\u001b[0m\u001b[1;33m,\u001b[0m\u001b[1;33m\u001b[0m\u001b[1;33m\u001b[0m\u001b[0m\n\u001b[0;32m   1737\u001b[0m                                                  \u001b[0mpos_label\u001b[0m\u001b[1;33m=\u001b[0m\u001b[0mpos_label\u001b[0m\u001b[1;33m,\u001b[0m\u001b[1;33m\u001b[0m\u001b[1;33m\u001b[0m\u001b[0m\n",
      "\u001b[1;32m~\\anaconda3\\envs\\learn-env\\lib\\site-packages\\sklearn\\utils\\validation.py\u001b[0m in \u001b[0;36minner_f\u001b[1;34m(*args, **kwargs)\u001b[0m\n\u001b[0;32m     70\u001b[0m                           FutureWarning)\n\u001b[0;32m     71\u001b[0m         \u001b[0mkwargs\u001b[0m\u001b[1;33m.\u001b[0m\u001b[0mupdate\u001b[0m\u001b[1;33m(\u001b[0m\u001b[1;33m{\u001b[0m\u001b[0mk\u001b[0m\u001b[1;33m:\u001b[0m \u001b[0marg\u001b[0m \u001b[1;32mfor\u001b[0m \u001b[0mk\u001b[0m\u001b[1;33m,\u001b[0m \u001b[0marg\u001b[0m \u001b[1;32min\u001b[0m \u001b[0mzip\u001b[0m\u001b[1;33m(\u001b[0m\u001b[0msig\u001b[0m\u001b[1;33m.\u001b[0m\u001b[0mparameters\u001b[0m\u001b[1;33m,\u001b[0m \u001b[0margs\u001b[0m\u001b[1;33m)\u001b[0m\u001b[1;33m}\u001b[0m\u001b[1;33m)\u001b[0m\u001b[1;33m\u001b[0m\u001b[1;33m\u001b[0m\u001b[0m\n\u001b[1;32m---> 72\u001b[1;33m         \u001b[1;32mreturn\u001b[0m \u001b[0mf\u001b[0m\u001b[1;33m(\u001b[0m\u001b[1;33m**\u001b[0m\u001b[0mkwargs\u001b[0m\u001b[1;33m)\u001b[0m\u001b[1;33m\u001b[0m\u001b[1;33m\u001b[0m\u001b[0m\n\u001b[0m\u001b[0;32m     73\u001b[0m     \u001b[1;32mreturn\u001b[0m \u001b[0minner_f\u001b[0m\u001b[1;33m\u001b[0m\u001b[1;33m\u001b[0m\u001b[0m\n\u001b[0;32m     74\u001b[0m \u001b[1;33m\u001b[0m\u001b[0m\n",
      "\u001b[1;32m~\\anaconda3\\envs\\learn-env\\lib\\site-packages\\sklearn\\metrics\\_classification.py\u001b[0m in \u001b[0;36mprecision_recall_fscore_support\u001b[1;34m(y_true, y_pred, beta, labels, pos_label, average, warn_for, sample_weight, zero_division)\u001b[0m\n\u001b[0;32m   1431\u001b[0m     \u001b[1;32mif\u001b[0m \u001b[0mbeta\u001b[0m \u001b[1;33m<\u001b[0m \u001b[1;36m0\u001b[0m\u001b[1;33m:\u001b[0m\u001b[1;33m\u001b[0m\u001b[1;33m\u001b[0m\u001b[0m\n\u001b[0;32m   1432\u001b[0m         \u001b[1;32mraise\u001b[0m \u001b[0mValueError\u001b[0m\u001b[1;33m(\u001b[0m\u001b[1;34m\"beta should be >=0 in the F-beta score\"\u001b[0m\u001b[1;33m)\u001b[0m\u001b[1;33m\u001b[0m\u001b[1;33m\u001b[0m\u001b[0m\n\u001b[1;32m-> 1433\u001b[1;33m     labels = _check_set_wise_labels(y_true, y_pred, average, labels,\n\u001b[0m\u001b[0;32m   1434\u001b[0m                                     pos_label)\n\u001b[0;32m   1435\u001b[0m \u001b[1;33m\u001b[0m\u001b[0m\n",
      "\u001b[1;32m~\\anaconda3\\envs\\learn-env\\lib\\site-packages\\sklearn\\metrics\\_classification.py\u001b[0m in \u001b[0;36m_check_set_wise_labels\u001b[1;34m(y_true, y_pred, average, labels, pos_label)\u001b[0m\n\u001b[0;32m   1254\u001b[0m             \u001b[1;32mif\u001b[0m \u001b[0mpos_label\u001b[0m \u001b[1;32mnot\u001b[0m \u001b[1;32min\u001b[0m \u001b[0mpresent_labels\u001b[0m\u001b[1;33m:\u001b[0m\u001b[1;33m\u001b[0m\u001b[1;33m\u001b[0m\u001b[0m\n\u001b[0;32m   1255\u001b[0m                 \u001b[1;32mif\u001b[0m \u001b[0mlen\u001b[0m\u001b[1;33m(\u001b[0m\u001b[0mpresent_labels\u001b[0m\u001b[1;33m)\u001b[0m \u001b[1;33m>=\u001b[0m \u001b[1;36m2\u001b[0m\u001b[1;33m:\u001b[0m\u001b[1;33m\u001b[0m\u001b[1;33m\u001b[0m\u001b[0m\n\u001b[1;32m-> 1256\u001b[1;33m                     raise ValueError(\"pos_label=%r is not a valid label: \"\n\u001b[0m\u001b[0;32m   1257\u001b[0m                                      \"%r\" % (pos_label, present_labels))\n\u001b[0;32m   1258\u001b[0m             \u001b[0mlabels\u001b[0m \u001b[1;33m=\u001b[0m \u001b[1;33m[\u001b[0m\u001b[0mpos_label\u001b[0m\u001b[1;33m]\u001b[0m\u001b[1;33m\u001b[0m\u001b[1;33m\u001b[0m\u001b[0m\n",
      "\u001b[1;31mValueError\u001b[0m: pos_label=1 is not a valid label: array(['$1,500 OR LESS', 'OVER $1,500'], dtype='<U14')"
     ]
    }
   ],
   "source": [
    "print(f\"\"\"\n",
    "Our final model's accuracy on the test set is {round(accuracy_score(y_train, y_hat), 2)}. \\n\n",
    "Our final model's recall on the test set is {round(recall_score(y_train, y_hat), 2)} \\n\n",
    "Our final model's precision on the test set is {round(precision_score(y_train, y_hat), 2)} \\n\n",
    "Our final model's f1-score on the test is {round(f1_score(y_train, y_hat), 2)}.\n",
    "\"\"\")"
   ]
  },
  {
   "cell_type": "code",
   "execution_count": null,
   "metadata": {
    "ExecuteTime": {
     "end_time": "2023-01-04T03:11:19.969503Z",
     "start_time": "2023-01-04T01:57:37.585Z"
    }
   },
   "outputs": [],
   "source": [
    "plot_confusion_matrix(final_model, X_test, y_test);"
   ]
  },
  {
   "cell_type": "code",
   "execution_count": null,
   "metadata": {},
   "outputs": [],
   "source": []
  },
  {
   "cell_type": "code",
   "execution_count": null,
   "metadata": {
    "ExecuteTime": {
     "end_time": "2023-01-04T03:11:19.969503Z",
     "start_time": "2023-01-04T01:57:37.586Z"
    }
   },
   "outputs": [],
   "source": [
    "y_hat = final_model.predict(X_test)"
   ]
  },
  {
   "cell_type": "code",
   "execution_count": null,
   "metadata": {},
   "outputs": [],
   "source": []
  }
 ],
 "metadata": {
  "kernelspec": {
   "display_name": "Python (learn-env)",
   "language": "python",
   "name": "learn-env"
  },
  "language_info": {
   "codemirror_mode": {
    "name": "ipython",
    "version": 3
   },
   "file_extension": ".py",
   "mimetype": "text/x-python",
   "name": "python",
   "nbconvert_exporter": "python",
   "pygments_lexer": "ipython3",
   "version": "3.8.5"
  },
  "varInspector": {
   "cols": {
    "lenName": 16,
    "lenType": 16,
    "lenVar": 40
   },
   "kernels_config": {
    "python": {
     "delete_cmd_postfix": "",
     "delete_cmd_prefix": "del ",
     "library": "var_list.py",
     "varRefreshCmd": "print(var_dic_list())"
    },
    "r": {
     "delete_cmd_postfix": ") ",
     "delete_cmd_prefix": "rm(",
     "library": "var_list.r",
     "varRefreshCmd": "cat(var_dic_list()) "
    }
   },
   "types_to_exclude": [
    "module",
    "function",
    "builtin_function_or_method",
    "instance",
    "_Feature"
   ],
   "window_display": false
  }
 },
 "nbformat": 4,
 "nbformat_minor": 4
}
